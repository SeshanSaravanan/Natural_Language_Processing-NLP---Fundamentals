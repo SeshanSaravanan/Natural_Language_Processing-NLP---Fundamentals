{
  "cells": [
    {
      "cell_type": "markdown",
      "metadata": {
        "id": "dStMNPDboGa_"
      },
      "source": [
        "# Introduction to NLP Fundamentals in TensorFlow\n",
        "\n",
        "NLP has the goal of deriving information out of natural language (could be sequences text or speech).\n",
        "\n",
        "Another common term for NLP problems is sequence to sequence problems (seq2seq)."
      ]
    },
    {
      "cell_type": "markdown",
      "metadata": {
        "id": "WjwBQHM2oeCk"
      },
      "source": [
        "## Check for GPU"
      ]
    },
    {
      "cell_type": "code",
      "execution_count": 1,
      "metadata": {
        "colab": {
          "base_uri": "https://localhost:8080/"
        },
        "id": "HHZA2EPyoifZ",
        "outputId": "9e2a5d69-c3aa-486c-eece-e58464b79f4f"
      },
      "outputs": [
        {
          "output_type": "stream",
          "name": "stdout",
          "text": [
            "GPU 0: Tesla T4 (UUID: GPU-ace9262e-5e2a-3536-27aa-01f797b9912f)\n"
          ]
        }
      ],
      "source": [
        "!nvidia-smi -L"
      ]
    },
    {
      "cell_type": "markdown",
      "metadata": {
        "id": "iVE04d84okre"
      },
      "source": [
        "## Get helper functions"
      ]
    },
    {
      "cell_type": "code",
      "execution_count": 2,
      "metadata": {
        "colab": {
          "base_uri": "https://localhost:8080/"
        },
        "id": "PjuRE7Vjo0ds",
        "outputId": "55cc3049-636e-43ad-a97a-82b6fa83dcb0"
      },
      "outputs": [
        {
          "output_type": "stream",
          "name": "stdout",
          "text": [
            "--2023-11-20 13:40:56--  https://raw.githubusercontent.com/mrdbourke/tensorflow-deep-learning/main/extras/helper_functions.py\n",
            "Resolving raw.githubusercontent.com (raw.githubusercontent.com)... 185.199.110.133, 185.199.111.133, 185.199.109.133, ...\n",
            "Connecting to raw.githubusercontent.com (raw.githubusercontent.com)|185.199.110.133|:443... connected.\n",
            "HTTP request sent, awaiting response... 200 OK\n",
            "Length: 10246 (10K) [text/plain]\n",
            "Saving to: ‘helper_functions.py’\n",
            "\n",
            "helper_functions.py 100%[===================>]  10.01K  --.-KB/s    in 0s      \n",
            "\n",
            "2023-11-20 13:40:56 (109 MB/s) - ‘helper_functions.py’ saved [10246/10246]\n",
            "\n"
          ]
        }
      ],
      "source": [
        "!wget https://raw.githubusercontent.com/mrdbourke/tensorflow-deep-learning/main/extras/helper_functions.py"
      ]
    },
    {
      "cell_type": "code",
      "execution_count": 3,
      "metadata": {
        "id": "2YIhzlGQo6tF"
      },
      "outputs": [],
      "source": [
        "# Import series of helper functions for the notebook\n",
        "from helper_functions import unzip_data, create_tensorboard_callback, plot_loss_curves, compare_historys"
      ]
    },
    {
      "cell_type": "markdown",
      "metadata": {
        "id": "rcRAY7AupMc-"
      },
      "source": [
        "## Get a text dataset\n",
        "\n",
        "The dataset we're going to be using in this notebook, is Kaggle's Introduction to NLP dataset (text samples of Tweets labelled as disaster or not disaster).\n",
        "\n",
        "See the original source here: https://www.kaggle.com/competitions/nlp-getting-started"
      ]
    },
    {
      "cell_type": "code",
      "execution_count": 4,
      "metadata": {
        "colab": {
          "base_uri": "https://localhost:8080/"
        },
        "id": "_mvx0Gl-spdS",
        "outputId": "16aa209f-fb11-4e56-d96b-8fc2fb0e3f71"
      },
      "outputs": [
        {
          "output_type": "stream",
          "name": "stdout",
          "text": [
            "--2023-11-20 13:41:00--  https://storage.googleapis.com/ztm_tf_course/nlp_getting_started.zip\n",
            "Resolving storage.googleapis.com (storage.googleapis.com)... 142.251.2.207, 2607:f8b0:4023:c0d::cf\n",
            "Connecting to storage.googleapis.com (storage.googleapis.com)|142.251.2.207|:443... connected.\n",
            "HTTP request sent, awaiting response... 200 OK\n",
            "Length: 607343 (593K) [application/zip]\n",
            "Saving to: ‘nlp_getting_started.zip’\n",
            "\n",
            "\rnlp_getting_started   0%[                    ]       0  --.-KB/s               \rnlp_getting_started 100%[===================>] 593.11K  --.-KB/s    in 0.003s  \n",
            "\n",
            "2023-11-20 13:41:00 (168 MB/s) - ‘nlp_getting_started.zip’ saved [607343/607343]\n",
            "\n"
          ]
        }
      ],
      "source": [
        "!wget https://storage.googleapis.com/ztm_tf_course/nlp_getting_started.zip"
      ]
    },
    {
      "cell_type": "code",
      "execution_count": 5,
      "metadata": {
        "id": "qOI_ZIC2t8Pa"
      },
      "outputs": [],
      "source": [
        "# Unzip data\n",
        "unzip_data(\"nlp_getting_started.zip\")"
      ]
    },
    {
      "cell_type": "markdown",
      "metadata": {
        "id": "0OpGxV3OuEtT"
      },
      "source": [
        "## Visualizing a text dataset\n",
        "\n",
        "To visualize our text samples, we first have to read them in, one way to do so would be to use Python: https://realpython.com/read-write-files-python/\n",
        "\n",
        "But I prefer to get visual straight way.\n",
        "\n",
        "So another way to do this is to use pandas...."
      ]
    },
    {
      "cell_type": "code",
      "execution_count": 6,
      "metadata": {
        "id": "I--bdcy5up-F"
      },
      "outputs": [],
      "source": [
        "import pandas as pd\n",
        "train_df = pd.read_csv(\"train.csv\")\n",
        "test_df = pd.read_csv(\"test.csv\")"
      ]
    },
    {
      "cell_type": "code",
      "execution_count": 7,
      "metadata": {
        "colab": {
          "base_uri": "https://localhost:8080/",
          "height": 206
        },
        "id": "qIPcE7xCvXyN",
        "outputId": "ed66a01c-ed0a-4a65-c7cd-d80741092819"
      },
      "outputs": [
        {
          "output_type": "execute_result",
          "data": {
            "text/plain": [
              "   id keyword location                                               text  \\\n",
              "0   1     NaN      NaN  Our Deeds are the Reason of this #earthquake M...   \n",
              "1   4     NaN      NaN             Forest fire near La Ronge Sask. Canada   \n",
              "2   5     NaN      NaN  All residents asked to 'shelter in place' are ...   \n",
              "3   6     NaN      NaN  13,000 people receive #wildfires evacuation or...   \n",
              "4   7     NaN      NaN  Just got sent this photo from Ruby #Alaska as ...   \n",
              "\n",
              "   target  \n",
              "0       1  \n",
              "1       1  \n",
              "2       1  \n",
              "3       1  \n",
              "4       1  "
            ],
            "text/html": [
              "\n",
              "  <div id=\"df-f5938dc5-ebee-4f83-844d-3cf5b7279078\" class=\"colab-df-container\">\n",
              "    <div>\n",
              "<style scoped>\n",
              "    .dataframe tbody tr th:only-of-type {\n",
              "        vertical-align: middle;\n",
              "    }\n",
              "\n",
              "    .dataframe tbody tr th {\n",
              "        vertical-align: top;\n",
              "    }\n",
              "\n",
              "    .dataframe thead th {\n",
              "        text-align: right;\n",
              "    }\n",
              "</style>\n",
              "<table border=\"1\" class=\"dataframe\">\n",
              "  <thead>\n",
              "    <tr style=\"text-align: right;\">\n",
              "      <th></th>\n",
              "      <th>id</th>\n",
              "      <th>keyword</th>\n",
              "      <th>location</th>\n",
              "      <th>text</th>\n",
              "      <th>target</th>\n",
              "    </tr>\n",
              "  </thead>\n",
              "  <tbody>\n",
              "    <tr>\n",
              "      <th>0</th>\n",
              "      <td>1</td>\n",
              "      <td>NaN</td>\n",
              "      <td>NaN</td>\n",
              "      <td>Our Deeds are the Reason of this #earthquake M...</td>\n",
              "      <td>1</td>\n",
              "    </tr>\n",
              "    <tr>\n",
              "      <th>1</th>\n",
              "      <td>4</td>\n",
              "      <td>NaN</td>\n",
              "      <td>NaN</td>\n",
              "      <td>Forest fire near La Ronge Sask. Canada</td>\n",
              "      <td>1</td>\n",
              "    </tr>\n",
              "    <tr>\n",
              "      <th>2</th>\n",
              "      <td>5</td>\n",
              "      <td>NaN</td>\n",
              "      <td>NaN</td>\n",
              "      <td>All residents asked to 'shelter in place' are ...</td>\n",
              "      <td>1</td>\n",
              "    </tr>\n",
              "    <tr>\n",
              "      <th>3</th>\n",
              "      <td>6</td>\n",
              "      <td>NaN</td>\n",
              "      <td>NaN</td>\n",
              "      <td>13,000 people receive #wildfires evacuation or...</td>\n",
              "      <td>1</td>\n",
              "    </tr>\n",
              "    <tr>\n",
              "      <th>4</th>\n",
              "      <td>7</td>\n",
              "      <td>NaN</td>\n",
              "      <td>NaN</td>\n",
              "      <td>Just got sent this photo from Ruby #Alaska as ...</td>\n",
              "      <td>1</td>\n",
              "    </tr>\n",
              "  </tbody>\n",
              "</table>\n",
              "</div>\n",
              "    <div class=\"colab-df-buttons\">\n",
              "\n",
              "  <div class=\"colab-df-container\">\n",
              "    <button class=\"colab-df-convert\" onclick=\"convertToInteractive('df-f5938dc5-ebee-4f83-844d-3cf5b7279078')\"\n",
              "            title=\"Convert this dataframe to an interactive table.\"\n",
              "            style=\"display:none;\">\n",
              "\n",
              "  <svg xmlns=\"http://www.w3.org/2000/svg\" height=\"24px\" viewBox=\"0 -960 960 960\">\n",
              "    <path d=\"M120-120v-720h720v720H120Zm60-500h600v-160H180v160Zm220 220h160v-160H400v160Zm0 220h160v-160H400v160ZM180-400h160v-160H180v160Zm440 0h160v-160H620v160ZM180-180h160v-160H180v160Zm440 0h160v-160H620v160Z\"/>\n",
              "  </svg>\n",
              "    </button>\n",
              "\n",
              "  <style>\n",
              "    .colab-df-container {\n",
              "      display:flex;\n",
              "      gap: 12px;\n",
              "    }\n",
              "\n",
              "    .colab-df-convert {\n",
              "      background-color: #E8F0FE;\n",
              "      border: none;\n",
              "      border-radius: 50%;\n",
              "      cursor: pointer;\n",
              "      display: none;\n",
              "      fill: #1967D2;\n",
              "      height: 32px;\n",
              "      padding: 0 0 0 0;\n",
              "      width: 32px;\n",
              "    }\n",
              "\n",
              "    .colab-df-convert:hover {\n",
              "      background-color: #E2EBFA;\n",
              "      box-shadow: 0px 1px 2px rgba(60, 64, 67, 0.3), 0px 1px 3px 1px rgba(60, 64, 67, 0.15);\n",
              "      fill: #174EA6;\n",
              "    }\n",
              "\n",
              "    .colab-df-buttons div {\n",
              "      margin-bottom: 4px;\n",
              "    }\n",
              "\n",
              "    [theme=dark] .colab-df-convert {\n",
              "      background-color: #3B4455;\n",
              "      fill: #D2E3FC;\n",
              "    }\n",
              "\n",
              "    [theme=dark] .colab-df-convert:hover {\n",
              "      background-color: #434B5C;\n",
              "      box-shadow: 0px 1px 3px 1px rgba(0, 0, 0, 0.15);\n",
              "      filter: drop-shadow(0px 1px 2px rgba(0, 0, 0, 0.3));\n",
              "      fill: #FFFFFF;\n",
              "    }\n",
              "  </style>\n",
              "\n",
              "    <script>\n",
              "      const buttonEl =\n",
              "        document.querySelector('#df-f5938dc5-ebee-4f83-844d-3cf5b7279078 button.colab-df-convert');\n",
              "      buttonEl.style.display =\n",
              "        google.colab.kernel.accessAllowed ? 'block' : 'none';\n",
              "\n",
              "      async function convertToInteractive(key) {\n",
              "        const element = document.querySelector('#df-f5938dc5-ebee-4f83-844d-3cf5b7279078');\n",
              "        const dataTable =\n",
              "          await google.colab.kernel.invokeFunction('convertToInteractive',\n",
              "                                                    [key], {});\n",
              "        if (!dataTable) return;\n",
              "\n",
              "        const docLinkHtml = 'Like what you see? Visit the ' +\n",
              "          '<a target=\"_blank\" href=https://colab.research.google.com/notebooks/data_table.ipynb>data table notebook</a>'\n",
              "          + ' to learn more about interactive tables.';\n",
              "        element.innerHTML = '';\n",
              "        dataTable['output_type'] = 'display_data';\n",
              "        await google.colab.output.renderOutput(dataTable, element);\n",
              "        const docLink = document.createElement('div');\n",
              "        docLink.innerHTML = docLinkHtml;\n",
              "        element.appendChild(docLink);\n",
              "      }\n",
              "    </script>\n",
              "  </div>\n",
              "\n",
              "\n",
              "<div id=\"df-6d7d7562-2145-4c12-b390-977d9bccbbb4\">\n",
              "  <button class=\"colab-df-quickchart\" onclick=\"quickchart('df-6d7d7562-2145-4c12-b390-977d9bccbbb4')\"\n",
              "            title=\"Suggest charts\"\n",
              "            style=\"display:none;\">\n",
              "\n",
              "<svg xmlns=\"http://www.w3.org/2000/svg\" height=\"24px\"viewBox=\"0 0 24 24\"\n",
              "     width=\"24px\">\n",
              "    <g>\n",
              "        <path d=\"M19 3H5c-1.1 0-2 .9-2 2v14c0 1.1.9 2 2 2h14c1.1 0 2-.9 2-2V5c0-1.1-.9-2-2-2zM9 17H7v-7h2v7zm4 0h-2V7h2v10zm4 0h-2v-4h2v4z\"/>\n",
              "    </g>\n",
              "</svg>\n",
              "  </button>\n",
              "\n",
              "<style>\n",
              "  .colab-df-quickchart {\n",
              "      --bg-color: #E8F0FE;\n",
              "      --fill-color: #1967D2;\n",
              "      --hover-bg-color: #E2EBFA;\n",
              "      --hover-fill-color: #174EA6;\n",
              "      --disabled-fill-color: #AAA;\n",
              "      --disabled-bg-color: #DDD;\n",
              "  }\n",
              "\n",
              "  [theme=dark] .colab-df-quickchart {\n",
              "      --bg-color: #3B4455;\n",
              "      --fill-color: #D2E3FC;\n",
              "      --hover-bg-color: #434B5C;\n",
              "      --hover-fill-color: #FFFFFF;\n",
              "      --disabled-bg-color: #3B4455;\n",
              "      --disabled-fill-color: #666;\n",
              "  }\n",
              "\n",
              "  .colab-df-quickchart {\n",
              "    background-color: var(--bg-color);\n",
              "    border: none;\n",
              "    border-radius: 50%;\n",
              "    cursor: pointer;\n",
              "    display: none;\n",
              "    fill: var(--fill-color);\n",
              "    height: 32px;\n",
              "    padding: 0;\n",
              "    width: 32px;\n",
              "  }\n",
              "\n",
              "  .colab-df-quickchart:hover {\n",
              "    background-color: var(--hover-bg-color);\n",
              "    box-shadow: 0 1px 2px rgba(60, 64, 67, 0.3), 0 1px 3px 1px rgba(60, 64, 67, 0.15);\n",
              "    fill: var(--button-hover-fill-color);\n",
              "  }\n",
              "\n",
              "  .colab-df-quickchart-complete:disabled,\n",
              "  .colab-df-quickchart-complete:disabled:hover {\n",
              "    background-color: var(--disabled-bg-color);\n",
              "    fill: var(--disabled-fill-color);\n",
              "    box-shadow: none;\n",
              "  }\n",
              "\n",
              "  .colab-df-spinner {\n",
              "    border: 2px solid var(--fill-color);\n",
              "    border-color: transparent;\n",
              "    border-bottom-color: var(--fill-color);\n",
              "    animation:\n",
              "      spin 1s steps(1) infinite;\n",
              "  }\n",
              "\n",
              "  @keyframes spin {\n",
              "    0% {\n",
              "      border-color: transparent;\n",
              "      border-bottom-color: var(--fill-color);\n",
              "      border-left-color: var(--fill-color);\n",
              "    }\n",
              "    20% {\n",
              "      border-color: transparent;\n",
              "      border-left-color: var(--fill-color);\n",
              "      border-top-color: var(--fill-color);\n",
              "    }\n",
              "    30% {\n",
              "      border-color: transparent;\n",
              "      border-left-color: var(--fill-color);\n",
              "      border-top-color: var(--fill-color);\n",
              "      border-right-color: var(--fill-color);\n",
              "    }\n",
              "    40% {\n",
              "      border-color: transparent;\n",
              "      border-right-color: var(--fill-color);\n",
              "      border-top-color: var(--fill-color);\n",
              "    }\n",
              "    60% {\n",
              "      border-color: transparent;\n",
              "      border-right-color: var(--fill-color);\n",
              "    }\n",
              "    80% {\n",
              "      border-color: transparent;\n",
              "      border-right-color: var(--fill-color);\n",
              "      border-bottom-color: var(--fill-color);\n",
              "    }\n",
              "    90% {\n",
              "      border-color: transparent;\n",
              "      border-bottom-color: var(--fill-color);\n",
              "    }\n",
              "  }\n",
              "</style>\n",
              "\n",
              "  <script>\n",
              "    async function quickchart(key) {\n",
              "      const quickchartButtonEl =\n",
              "        document.querySelector('#' + key + ' button');\n",
              "      quickchartButtonEl.disabled = true;  // To prevent multiple clicks.\n",
              "      quickchartButtonEl.classList.add('colab-df-spinner');\n",
              "      try {\n",
              "        const charts = await google.colab.kernel.invokeFunction(\n",
              "            'suggestCharts', [key], {});\n",
              "      } catch (error) {\n",
              "        console.error('Error during call to suggestCharts:', error);\n",
              "      }\n",
              "      quickchartButtonEl.classList.remove('colab-df-spinner');\n",
              "      quickchartButtonEl.classList.add('colab-df-quickchart-complete');\n",
              "    }\n",
              "    (() => {\n",
              "      let quickchartButtonEl =\n",
              "        document.querySelector('#df-6d7d7562-2145-4c12-b390-977d9bccbbb4 button');\n",
              "      quickchartButtonEl.style.display =\n",
              "        google.colab.kernel.accessAllowed ? 'block' : 'none';\n",
              "    })();\n",
              "  </script>\n",
              "</div>\n",
              "    </div>\n",
              "  </div>\n"
            ]
          },
          "metadata": {},
          "execution_count": 7
        }
      ],
      "source": [
        "train_df.head()"
      ]
    },
    {
      "cell_type": "code",
      "execution_count": 8,
      "metadata": {
        "colab": {
          "base_uri": "https://localhost:8080/",
          "height": 35
        },
        "id": "nYyHiruSvZUN",
        "outputId": "ee9fff6a-31fe-496a-be85-e3c021c41dda"
      },
      "outputs": [
        {
          "output_type": "execute_result",
          "data": {
            "text/plain": [
              "'Our Deeds are the Reason of this #earthquake May ALLAH Forgive us all'"
            ],
            "application/vnd.google.colaboratory.intrinsic+json": {
              "type": "string"
            }
          },
          "metadata": {},
          "execution_count": 8
        }
      ],
      "source": [
        "train_df[\"text\"][0]"
      ]
    },
    {
      "cell_type": "code",
      "execution_count": 9,
      "metadata": {
        "id": "jppzGxqXvgTO"
      },
      "outputs": [],
      "source": [
        "# Shuffle training dataset\n",
        "train_df_shuffled = train_df.sample(frac=1, random_state=42) # frac=1 is shuffling 100%"
      ]
    },
    {
      "cell_type": "code",
      "execution_count": 10,
      "metadata": {
        "colab": {
          "base_uri": "https://localhost:8080/",
          "height": 206
        },
        "id": "uBf4mP36v6wE",
        "outputId": "1ccbd581-9e51-4ea1-8308-40ac6fa00a38"
      },
      "outputs": [
        {
          "output_type": "execute_result",
          "data": {
            "text/plain": [
              "        id      keyword               location  \\\n",
              "2644  3796  destruction                    NaN   \n",
              "2227  3185       deluge                    NaN   \n",
              "5448  7769       police                     UK   \n",
              "132    191   aftershock                    NaN   \n",
              "6845  9810       trauma  Montgomery County, MD   \n",
              "\n",
              "                                                   text  target  \n",
              "2644  So you have a new weapon that can cause un-ima...       1  \n",
              "2227  The f$&amp;@ing things I do for #GISHWHES Just...       0  \n",
              "5448  DT @georgegalloway: RT @Galloway4Mayor: ÛÏThe...       1  \n",
              "132   Aftershock back to school kick off was great. ...       0  \n",
              "6845  in response to trauma Children of Addicts deve...       0  "
            ],
            "text/html": [
              "\n",
              "  <div id=\"df-23d3f9a2-066c-474d-a4fd-67f49fd5a6c5\" class=\"colab-df-container\">\n",
              "    <div>\n",
              "<style scoped>\n",
              "    .dataframe tbody tr th:only-of-type {\n",
              "        vertical-align: middle;\n",
              "    }\n",
              "\n",
              "    .dataframe tbody tr th {\n",
              "        vertical-align: top;\n",
              "    }\n",
              "\n",
              "    .dataframe thead th {\n",
              "        text-align: right;\n",
              "    }\n",
              "</style>\n",
              "<table border=\"1\" class=\"dataframe\">\n",
              "  <thead>\n",
              "    <tr style=\"text-align: right;\">\n",
              "      <th></th>\n",
              "      <th>id</th>\n",
              "      <th>keyword</th>\n",
              "      <th>location</th>\n",
              "      <th>text</th>\n",
              "      <th>target</th>\n",
              "    </tr>\n",
              "  </thead>\n",
              "  <tbody>\n",
              "    <tr>\n",
              "      <th>2644</th>\n",
              "      <td>3796</td>\n",
              "      <td>destruction</td>\n",
              "      <td>NaN</td>\n",
              "      <td>So you have a new weapon that can cause un-ima...</td>\n",
              "      <td>1</td>\n",
              "    </tr>\n",
              "    <tr>\n",
              "      <th>2227</th>\n",
              "      <td>3185</td>\n",
              "      <td>deluge</td>\n",
              "      <td>NaN</td>\n",
              "      <td>The f$&amp;amp;@ing things I do for #GISHWHES Just...</td>\n",
              "      <td>0</td>\n",
              "    </tr>\n",
              "    <tr>\n",
              "      <th>5448</th>\n",
              "      <td>7769</td>\n",
              "      <td>police</td>\n",
              "      <td>UK</td>\n",
              "      <td>DT @georgegalloway: RT @Galloway4Mayor: ÛÏThe...</td>\n",
              "      <td>1</td>\n",
              "    </tr>\n",
              "    <tr>\n",
              "      <th>132</th>\n",
              "      <td>191</td>\n",
              "      <td>aftershock</td>\n",
              "      <td>NaN</td>\n",
              "      <td>Aftershock back to school kick off was great. ...</td>\n",
              "      <td>0</td>\n",
              "    </tr>\n",
              "    <tr>\n",
              "      <th>6845</th>\n",
              "      <td>9810</td>\n",
              "      <td>trauma</td>\n",
              "      <td>Montgomery County, MD</td>\n",
              "      <td>in response to trauma Children of Addicts deve...</td>\n",
              "      <td>0</td>\n",
              "    </tr>\n",
              "  </tbody>\n",
              "</table>\n",
              "</div>\n",
              "    <div class=\"colab-df-buttons\">\n",
              "\n",
              "  <div class=\"colab-df-container\">\n",
              "    <button class=\"colab-df-convert\" onclick=\"convertToInteractive('df-23d3f9a2-066c-474d-a4fd-67f49fd5a6c5')\"\n",
              "            title=\"Convert this dataframe to an interactive table.\"\n",
              "            style=\"display:none;\">\n",
              "\n",
              "  <svg xmlns=\"http://www.w3.org/2000/svg\" height=\"24px\" viewBox=\"0 -960 960 960\">\n",
              "    <path d=\"M120-120v-720h720v720H120Zm60-500h600v-160H180v160Zm220 220h160v-160H400v160Zm0 220h160v-160H400v160ZM180-400h160v-160H180v160Zm440 0h160v-160H620v160ZM180-180h160v-160H180v160Zm440 0h160v-160H620v160Z\"/>\n",
              "  </svg>\n",
              "    </button>\n",
              "\n",
              "  <style>\n",
              "    .colab-df-container {\n",
              "      display:flex;\n",
              "      gap: 12px;\n",
              "    }\n",
              "\n",
              "    .colab-df-convert {\n",
              "      background-color: #E8F0FE;\n",
              "      border: none;\n",
              "      border-radius: 50%;\n",
              "      cursor: pointer;\n",
              "      display: none;\n",
              "      fill: #1967D2;\n",
              "      height: 32px;\n",
              "      padding: 0 0 0 0;\n",
              "      width: 32px;\n",
              "    }\n",
              "\n",
              "    .colab-df-convert:hover {\n",
              "      background-color: #E2EBFA;\n",
              "      box-shadow: 0px 1px 2px rgba(60, 64, 67, 0.3), 0px 1px 3px 1px rgba(60, 64, 67, 0.15);\n",
              "      fill: #174EA6;\n",
              "    }\n",
              "\n",
              "    .colab-df-buttons div {\n",
              "      margin-bottom: 4px;\n",
              "    }\n",
              "\n",
              "    [theme=dark] .colab-df-convert {\n",
              "      background-color: #3B4455;\n",
              "      fill: #D2E3FC;\n",
              "    }\n",
              "\n",
              "    [theme=dark] .colab-df-convert:hover {\n",
              "      background-color: #434B5C;\n",
              "      box-shadow: 0px 1px 3px 1px rgba(0, 0, 0, 0.15);\n",
              "      filter: drop-shadow(0px 1px 2px rgba(0, 0, 0, 0.3));\n",
              "      fill: #FFFFFF;\n",
              "    }\n",
              "  </style>\n",
              "\n",
              "    <script>\n",
              "      const buttonEl =\n",
              "        document.querySelector('#df-23d3f9a2-066c-474d-a4fd-67f49fd5a6c5 button.colab-df-convert');\n",
              "      buttonEl.style.display =\n",
              "        google.colab.kernel.accessAllowed ? 'block' : 'none';\n",
              "\n",
              "      async function convertToInteractive(key) {\n",
              "        const element = document.querySelector('#df-23d3f9a2-066c-474d-a4fd-67f49fd5a6c5');\n",
              "        const dataTable =\n",
              "          await google.colab.kernel.invokeFunction('convertToInteractive',\n",
              "                                                    [key], {});\n",
              "        if (!dataTable) return;\n",
              "\n",
              "        const docLinkHtml = 'Like what you see? Visit the ' +\n",
              "          '<a target=\"_blank\" href=https://colab.research.google.com/notebooks/data_table.ipynb>data table notebook</a>'\n",
              "          + ' to learn more about interactive tables.';\n",
              "        element.innerHTML = '';\n",
              "        dataTable['output_type'] = 'display_data';\n",
              "        await google.colab.output.renderOutput(dataTable, element);\n",
              "        const docLink = document.createElement('div');\n",
              "        docLink.innerHTML = docLinkHtml;\n",
              "        element.appendChild(docLink);\n",
              "      }\n",
              "    </script>\n",
              "  </div>\n",
              "\n",
              "\n",
              "<div id=\"df-923fccea-a0ef-43ab-a54e-34e772443882\">\n",
              "  <button class=\"colab-df-quickchart\" onclick=\"quickchart('df-923fccea-a0ef-43ab-a54e-34e772443882')\"\n",
              "            title=\"Suggest charts\"\n",
              "            style=\"display:none;\">\n",
              "\n",
              "<svg xmlns=\"http://www.w3.org/2000/svg\" height=\"24px\"viewBox=\"0 0 24 24\"\n",
              "     width=\"24px\">\n",
              "    <g>\n",
              "        <path d=\"M19 3H5c-1.1 0-2 .9-2 2v14c0 1.1.9 2 2 2h14c1.1 0 2-.9 2-2V5c0-1.1-.9-2-2-2zM9 17H7v-7h2v7zm4 0h-2V7h2v10zm4 0h-2v-4h2v4z\"/>\n",
              "    </g>\n",
              "</svg>\n",
              "  </button>\n",
              "\n",
              "<style>\n",
              "  .colab-df-quickchart {\n",
              "      --bg-color: #E8F0FE;\n",
              "      --fill-color: #1967D2;\n",
              "      --hover-bg-color: #E2EBFA;\n",
              "      --hover-fill-color: #174EA6;\n",
              "      --disabled-fill-color: #AAA;\n",
              "      --disabled-bg-color: #DDD;\n",
              "  }\n",
              "\n",
              "  [theme=dark] .colab-df-quickchart {\n",
              "      --bg-color: #3B4455;\n",
              "      --fill-color: #D2E3FC;\n",
              "      --hover-bg-color: #434B5C;\n",
              "      --hover-fill-color: #FFFFFF;\n",
              "      --disabled-bg-color: #3B4455;\n",
              "      --disabled-fill-color: #666;\n",
              "  }\n",
              "\n",
              "  .colab-df-quickchart {\n",
              "    background-color: var(--bg-color);\n",
              "    border: none;\n",
              "    border-radius: 50%;\n",
              "    cursor: pointer;\n",
              "    display: none;\n",
              "    fill: var(--fill-color);\n",
              "    height: 32px;\n",
              "    padding: 0;\n",
              "    width: 32px;\n",
              "  }\n",
              "\n",
              "  .colab-df-quickchart:hover {\n",
              "    background-color: var(--hover-bg-color);\n",
              "    box-shadow: 0 1px 2px rgba(60, 64, 67, 0.3), 0 1px 3px 1px rgba(60, 64, 67, 0.15);\n",
              "    fill: var(--button-hover-fill-color);\n",
              "  }\n",
              "\n",
              "  .colab-df-quickchart-complete:disabled,\n",
              "  .colab-df-quickchart-complete:disabled:hover {\n",
              "    background-color: var(--disabled-bg-color);\n",
              "    fill: var(--disabled-fill-color);\n",
              "    box-shadow: none;\n",
              "  }\n",
              "\n",
              "  .colab-df-spinner {\n",
              "    border: 2px solid var(--fill-color);\n",
              "    border-color: transparent;\n",
              "    border-bottom-color: var(--fill-color);\n",
              "    animation:\n",
              "      spin 1s steps(1) infinite;\n",
              "  }\n",
              "\n",
              "  @keyframes spin {\n",
              "    0% {\n",
              "      border-color: transparent;\n",
              "      border-bottom-color: var(--fill-color);\n",
              "      border-left-color: var(--fill-color);\n",
              "    }\n",
              "    20% {\n",
              "      border-color: transparent;\n",
              "      border-left-color: var(--fill-color);\n",
              "      border-top-color: var(--fill-color);\n",
              "    }\n",
              "    30% {\n",
              "      border-color: transparent;\n",
              "      border-left-color: var(--fill-color);\n",
              "      border-top-color: var(--fill-color);\n",
              "      border-right-color: var(--fill-color);\n",
              "    }\n",
              "    40% {\n",
              "      border-color: transparent;\n",
              "      border-right-color: var(--fill-color);\n",
              "      border-top-color: var(--fill-color);\n",
              "    }\n",
              "    60% {\n",
              "      border-color: transparent;\n",
              "      border-right-color: var(--fill-color);\n",
              "    }\n",
              "    80% {\n",
              "      border-color: transparent;\n",
              "      border-right-color: var(--fill-color);\n",
              "      border-bottom-color: var(--fill-color);\n",
              "    }\n",
              "    90% {\n",
              "      border-color: transparent;\n",
              "      border-bottom-color: var(--fill-color);\n",
              "    }\n",
              "  }\n",
              "</style>\n",
              "\n",
              "  <script>\n",
              "    async function quickchart(key) {\n",
              "      const quickchartButtonEl =\n",
              "        document.querySelector('#' + key + ' button');\n",
              "      quickchartButtonEl.disabled = true;  // To prevent multiple clicks.\n",
              "      quickchartButtonEl.classList.add('colab-df-spinner');\n",
              "      try {\n",
              "        const charts = await google.colab.kernel.invokeFunction(\n",
              "            'suggestCharts', [key], {});\n",
              "      } catch (error) {\n",
              "        console.error('Error during call to suggestCharts:', error);\n",
              "      }\n",
              "      quickchartButtonEl.classList.remove('colab-df-spinner');\n",
              "      quickchartButtonEl.classList.add('colab-df-quickchart-complete');\n",
              "    }\n",
              "    (() => {\n",
              "      let quickchartButtonEl =\n",
              "        document.querySelector('#df-923fccea-a0ef-43ab-a54e-34e772443882 button');\n",
              "      quickchartButtonEl.style.display =\n",
              "        google.colab.kernel.accessAllowed ? 'block' : 'none';\n",
              "    })();\n",
              "  </script>\n",
              "</div>\n",
              "    </div>\n",
              "  </div>\n"
            ]
          },
          "metadata": {},
          "execution_count": 10
        }
      ],
      "source": [
        "train_df_shuffled.head()"
      ]
    },
    {
      "cell_type": "code",
      "execution_count": 11,
      "metadata": {
        "colab": {
          "base_uri": "https://localhost:8080/",
          "height": 206
        },
        "id": "hF4vlNvzv-ue",
        "outputId": "6fbdad21-2753-4ac1-c063-eabbbb49f328"
      },
      "outputs": [
        {
          "output_type": "execute_result",
          "data": {
            "text/plain": [
              "   id keyword location                                               text\n",
              "0   0     NaN      NaN                 Just happened a terrible car crash\n",
              "1   2     NaN      NaN  Heard about #earthquake is different cities, s...\n",
              "2   3     NaN      NaN  there is a forest fire at spot pond, geese are...\n",
              "3   9     NaN      NaN           Apocalypse lighting. #Spokane #wildfires\n",
              "4  11     NaN      NaN      Typhoon Soudelor kills 28 in China and Taiwan"
            ],
            "text/html": [
              "\n",
              "  <div id=\"df-cb828439-3ffd-4958-a293-744a2abf7393\" class=\"colab-df-container\">\n",
              "    <div>\n",
              "<style scoped>\n",
              "    .dataframe tbody tr th:only-of-type {\n",
              "        vertical-align: middle;\n",
              "    }\n",
              "\n",
              "    .dataframe tbody tr th {\n",
              "        vertical-align: top;\n",
              "    }\n",
              "\n",
              "    .dataframe thead th {\n",
              "        text-align: right;\n",
              "    }\n",
              "</style>\n",
              "<table border=\"1\" class=\"dataframe\">\n",
              "  <thead>\n",
              "    <tr style=\"text-align: right;\">\n",
              "      <th></th>\n",
              "      <th>id</th>\n",
              "      <th>keyword</th>\n",
              "      <th>location</th>\n",
              "      <th>text</th>\n",
              "    </tr>\n",
              "  </thead>\n",
              "  <tbody>\n",
              "    <tr>\n",
              "      <th>0</th>\n",
              "      <td>0</td>\n",
              "      <td>NaN</td>\n",
              "      <td>NaN</td>\n",
              "      <td>Just happened a terrible car crash</td>\n",
              "    </tr>\n",
              "    <tr>\n",
              "      <th>1</th>\n",
              "      <td>2</td>\n",
              "      <td>NaN</td>\n",
              "      <td>NaN</td>\n",
              "      <td>Heard about #earthquake is different cities, s...</td>\n",
              "    </tr>\n",
              "    <tr>\n",
              "      <th>2</th>\n",
              "      <td>3</td>\n",
              "      <td>NaN</td>\n",
              "      <td>NaN</td>\n",
              "      <td>there is a forest fire at spot pond, geese are...</td>\n",
              "    </tr>\n",
              "    <tr>\n",
              "      <th>3</th>\n",
              "      <td>9</td>\n",
              "      <td>NaN</td>\n",
              "      <td>NaN</td>\n",
              "      <td>Apocalypse lighting. #Spokane #wildfires</td>\n",
              "    </tr>\n",
              "    <tr>\n",
              "      <th>4</th>\n",
              "      <td>11</td>\n",
              "      <td>NaN</td>\n",
              "      <td>NaN</td>\n",
              "      <td>Typhoon Soudelor kills 28 in China and Taiwan</td>\n",
              "    </tr>\n",
              "  </tbody>\n",
              "</table>\n",
              "</div>\n",
              "    <div class=\"colab-df-buttons\">\n",
              "\n",
              "  <div class=\"colab-df-container\">\n",
              "    <button class=\"colab-df-convert\" onclick=\"convertToInteractive('df-cb828439-3ffd-4958-a293-744a2abf7393')\"\n",
              "            title=\"Convert this dataframe to an interactive table.\"\n",
              "            style=\"display:none;\">\n",
              "\n",
              "  <svg xmlns=\"http://www.w3.org/2000/svg\" height=\"24px\" viewBox=\"0 -960 960 960\">\n",
              "    <path d=\"M120-120v-720h720v720H120Zm60-500h600v-160H180v160Zm220 220h160v-160H400v160Zm0 220h160v-160H400v160ZM180-400h160v-160H180v160Zm440 0h160v-160H620v160ZM180-180h160v-160H180v160Zm440 0h160v-160H620v160Z\"/>\n",
              "  </svg>\n",
              "    </button>\n",
              "\n",
              "  <style>\n",
              "    .colab-df-container {\n",
              "      display:flex;\n",
              "      gap: 12px;\n",
              "    }\n",
              "\n",
              "    .colab-df-convert {\n",
              "      background-color: #E8F0FE;\n",
              "      border: none;\n",
              "      border-radius: 50%;\n",
              "      cursor: pointer;\n",
              "      display: none;\n",
              "      fill: #1967D2;\n",
              "      height: 32px;\n",
              "      padding: 0 0 0 0;\n",
              "      width: 32px;\n",
              "    }\n",
              "\n",
              "    .colab-df-convert:hover {\n",
              "      background-color: #E2EBFA;\n",
              "      box-shadow: 0px 1px 2px rgba(60, 64, 67, 0.3), 0px 1px 3px 1px rgba(60, 64, 67, 0.15);\n",
              "      fill: #174EA6;\n",
              "    }\n",
              "\n",
              "    .colab-df-buttons div {\n",
              "      margin-bottom: 4px;\n",
              "    }\n",
              "\n",
              "    [theme=dark] .colab-df-convert {\n",
              "      background-color: #3B4455;\n",
              "      fill: #D2E3FC;\n",
              "    }\n",
              "\n",
              "    [theme=dark] .colab-df-convert:hover {\n",
              "      background-color: #434B5C;\n",
              "      box-shadow: 0px 1px 3px 1px rgba(0, 0, 0, 0.15);\n",
              "      filter: drop-shadow(0px 1px 2px rgba(0, 0, 0, 0.3));\n",
              "      fill: #FFFFFF;\n",
              "    }\n",
              "  </style>\n",
              "\n",
              "    <script>\n",
              "      const buttonEl =\n",
              "        document.querySelector('#df-cb828439-3ffd-4958-a293-744a2abf7393 button.colab-df-convert');\n",
              "      buttonEl.style.display =\n",
              "        google.colab.kernel.accessAllowed ? 'block' : 'none';\n",
              "\n",
              "      async function convertToInteractive(key) {\n",
              "        const element = document.querySelector('#df-cb828439-3ffd-4958-a293-744a2abf7393');\n",
              "        const dataTable =\n",
              "          await google.colab.kernel.invokeFunction('convertToInteractive',\n",
              "                                                    [key], {});\n",
              "        if (!dataTable) return;\n",
              "\n",
              "        const docLinkHtml = 'Like what you see? Visit the ' +\n",
              "          '<a target=\"_blank\" href=https://colab.research.google.com/notebooks/data_table.ipynb>data table notebook</a>'\n",
              "          + ' to learn more about interactive tables.';\n",
              "        element.innerHTML = '';\n",
              "        dataTable['output_type'] = 'display_data';\n",
              "        await google.colab.output.renderOutput(dataTable, element);\n",
              "        const docLink = document.createElement('div');\n",
              "        docLink.innerHTML = docLinkHtml;\n",
              "        element.appendChild(docLink);\n",
              "      }\n",
              "    </script>\n",
              "  </div>\n",
              "\n",
              "\n",
              "<div id=\"df-ee8ff32c-4482-44bc-bb17-e1bba76eec89\">\n",
              "  <button class=\"colab-df-quickchart\" onclick=\"quickchart('df-ee8ff32c-4482-44bc-bb17-e1bba76eec89')\"\n",
              "            title=\"Suggest charts\"\n",
              "            style=\"display:none;\">\n",
              "\n",
              "<svg xmlns=\"http://www.w3.org/2000/svg\" height=\"24px\"viewBox=\"0 0 24 24\"\n",
              "     width=\"24px\">\n",
              "    <g>\n",
              "        <path d=\"M19 3H5c-1.1 0-2 .9-2 2v14c0 1.1.9 2 2 2h14c1.1 0 2-.9 2-2V5c0-1.1-.9-2-2-2zM9 17H7v-7h2v7zm4 0h-2V7h2v10zm4 0h-2v-4h2v4z\"/>\n",
              "    </g>\n",
              "</svg>\n",
              "  </button>\n",
              "\n",
              "<style>\n",
              "  .colab-df-quickchart {\n",
              "      --bg-color: #E8F0FE;\n",
              "      --fill-color: #1967D2;\n",
              "      --hover-bg-color: #E2EBFA;\n",
              "      --hover-fill-color: #174EA6;\n",
              "      --disabled-fill-color: #AAA;\n",
              "      --disabled-bg-color: #DDD;\n",
              "  }\n",
              "\n",
              "  [theme=dark] .colab-df-quickchart {\n",
              "      --bg-color: #3B4455;\n",
              "      --fill-color: #D2E3FC;\n",
              "      --hover-bg-color: #434B5C;\n",
              "      --hover-fill-color: #FFFFFF;\n",
              "      --disabled-bg-color: #3B4455;\n",
              "      --disabled-fill-color: #666;\n",
              "  }\n",
              "\n",
              "  .colab-df-quickchart {\n",
              "    background-color: var(--bg-color);\n",
              "    border: none;\n",
              "    border-radius: 50%;\n",
              "    cursor: pointer;\n",
              "    display: none;\n",
              "    fill: var(--fill-color);\n",
              "    height: 32px;\n",
              "    padding: 0;\n",
              "    width: 32px;\n",
              "  }\n",
              "\n",
              "  .colab-df-quickchart:hover {\n",
              "    background-color: var(--hover-bg-color);\n",
              "    box-shadow: 0 1px 2px rgba(60, 64, 67, 0.3), 0 1px 3px 1px rgba(60, 64, 67, 0.15);\n",
              "    fill: var(--button-hover-fill-color);\n",
              "  }\n",
              "\n",
              "  .colab-df-quickchart-complete:disabled,\n",
              "  .colab-df-quickchart-complete:disabled:hover {\n",
              "    background-color: var(--disabled-bg-color);\n",
              "    fill: var(--disabled-fill-color);\n",
              "    box-shadow: none;\n",
              "  }\n",
              "\n",
              "  .colab-df-spinner {\n",
              "    border: 2px solid var(--fill-color);\n",
              "    border-color: transparent;\n",
              "    border-bottom-color: var(--fill-color);\n",
              "    animation:\n",
              "      spin 1s steps(1) infinite;\n",
              "  }\n",
              "\n",
              "  @keyframes spin {\n",
              "    0% {\n",
              "      border-color: transparent;\n",
              "      border-bottom-color: var(--fill-color);\n",
              "      border-left-color: var(--fill-color);\n",
              "    }\n",
              "    20% {\n",
              "      border-color: transparent;\n",
              "      border-left-color: var(--fill-color);\n",
              "      border-top-color: var(--fill-color);\n",
              "    }\n",
              "    30% {\n",
              "      border-color: transparent;\n",
              "      border-left-color: var(--fill-color);\n",
              "      border-top-color: var(--fill-color);\n",
              "      border-right-color: var(--fill-color);\n",
              "    }\n",
              "    40% {\n",
              "      border-color: transparent;\n",
              "      border-right-color: var(--fill-color);\n",
              "      border-top-color: var(--fill-color);\n",
              "    }\n",
              "    60% {\n",
              "      border-color: transparent;\n",
              "      border-right-color: var(--fill-color);\n",
              "    }\n",
              "    80% {\n",
              "      border-color: transparent;\n",
              "      border-right-color: var(--fill-color);\n",
              "      border-bottom-color: var(--fill-color);\n",
              "    }\n",
              "    90% {\n",
              "      border-color: transparent;\n",
              "      border-bottom-color: var(--fill-color);\n",
              "    }\n",
              "  }\n",
              "</style>\n",
              "\n",
              "  <script>\n",
              "    async function quickchart(key) {\n",
              "      const quickchartButtonEl =\n",
              "        document.querySelector('#' + key + ' button');\n",
              "      quickchartButtonEl.disabled = true;  // To prevent multiple clicks.\n",
              "      quickchartButtonEl.classList.add('colab-df-spinner');\n",
              "      try {\n",
              "        const charts = await google.colab.kernel.invokeFunction(\n",
              "            'suggestCharts', [key], {});\n",
              "      } catch (error) {\n",
              "        console.error('Error during call to suggestCharts:', error);\n",
              "      }\n",
              "      quickchartButtonEl.classList.remove('colab-df-spinner');\n",
              "      quickchartButtonEl.classList.add('colab-df-quickchart-complete');\n",
              "    }\n",
              "    (() => {\n",
              "      let quickchartButtonEl =\n",
              "        document.querySelector('#df-ee8ff32c-4482-44bc-bb17-e1bba76eec89 button');\n",
              "      quickchartButtonEl.style.display =\n",
              "        google.colab.kernel.accessAllowed ? 'block' : 'none';\n",
              "    })();\n",
              "  </script>\n",
              "</div>\n",
              "    </div>\n",
              "  </div>\n"
            ]
          },
          "metadata": {},
          "execution_count": 11
        }
      ],
      "source": [
        "# What does the test dataframe look like?\n",
        "test_df.head()"
      ]
    },
    {
      "cell_type": "markdown",
      "metadata": {
        "id": "KxcrzjLNwEs3"
      },
      "source": [
        "### Split data into training and validation sets"
      ]
    },
    {
      "cell_type": "code",
      "execution_count": 12,
      "metadata": {
        "id": "8yAcnm2jccgs"
      },
      "outputs": [],
      "source": [
        "from sklearn.model_selection import train_test_split"
      ]
    },
    {
      "cell_type": "code",
      "execution_count": 13,
      "metadata": {
        "id": "9ArFA0Nwcyi6"
      },
      "outputs": [],
      "source": [
        "# Use train_test_split to split training data into training and validation sets\n",
        "train_sentences, val_sentences, train_labels, val_labels = train_test_split(train_df_shuffled[\"text\"].to_numpy(),\n",
        "                                                                            train_df_shuffled[\"target\"].to_numpy(),\n",
        "                                                                            test_size=0.1, #use 10% of training data for validation\n",
        "                                                                            random_state=42)"
      ]
    },
    {
      "cell_type": "code",
      "execution_count": 14,
      "metadata": {
        "colab": {
          "base_uri": "https://localhost:8080/"
        },
        "id": "fKvebsrseNbj",
        "outputId": "e3eb1b32-51c3-4183-947e-3bfbed188d6f"
      },
      "outputs": [
        {
          "output_type": "execute_result",
          "data": {
            "text/plain": [
              "(6851, 6851, 762, 762)"
            ]
          },
          "metadata": {},
          "execution_count": 14
        }
      ],
      "source": [
        "# Check the lengths\n",
        "len(train_sentences), len(train_labels), len(val_sentences), len(val_labels)"
      ]
    },
    {
      "cell_type": "code",
      "execution_count": 15,
      "metadata": {
        "colab": {
          "base_uri": "https://localhost:8080/"
        },
        "id": "-Dwb-KBReaYh",
        "outputId": "f2780855-7d08-47cb-9205-541308123050"
      },
      "outputs": [
        {
          "output_type": "execute_result",
          "data": {
            "text/plain": [
              "(array(['@mogacola @zamtriossu i screamed after hitting tweet',\n",
              "        'Imagine getting flattened by Kurt Zouma',\n",
              "        '@Gurmeetramrahim #MSGDoing111WelfareWorks Green S welfare force ke appx 65000 members har time disaster victim ki help ke liye tyar hai....',\n",
              "        \"@shakjn @C7 @Magnums im shaking in fear he's gonna hack the planet\",\n",
              "        'Somehow find you and I collide http://t.co/Ee8RpOahPk',\n",
              "        '@EvaHanderek @MarleyKnysh great times until the bus driver held us hostage in the mall parking lot lmfao',\n",
              "        'destroy the free fandom honestly',\n",
              "        'Weapons stolen from National Guard Armory in New Albany still missing #Gunsense http://t.co/lKNU8902JE',\n",
              "        '@wfaaweather Pete when will the heat wave pass? Is it really going to be mid month? Frisco Boy Scouts have a canoe trip in Okla.',\n",
              "        'Patient-reported outcomes in long-term survivors of metastatic colorectal cancer - British Journal of Surgery http://t.co/5Yl4DC1Tqt'],\n",
              "       dtype=object),\n",
              " array([0, 0, 1, 0, 0, 1, 1, 0, 1, 1]))"
            ]
          },
          "metadata": {},
          "execution_count": 15
        }
      ],
      "source": [
        "# Check the first 10 samples\n",
        "train_sentences[:10], train_labels[:10]"
      ]
    },
    {
      "cell_type": "markdown",
      "metadata": {
        "id": "2zZvAv5Ke6EE"
      },
      "source": [
        "## Converting text into numbers\n",
        "\n",
        "When dealing with a text problem, one of the first things you'll have to do before you can build a model is to convert text to numbers.\n",
        "\n",
        "There are a few ways to do this, namely:\n",
        "* Tokenization - direct apping of token (a token could be a word or character) to number.\n",
        "* Embedding - create a matrix of feature vector for each token (the size of the feature vector can be defined and this embedding can be learned)."
      ]
    },
    {
      "cell_type": "markdown",
      "metadata": {
        "id": "Lp_3tL5XBGis"
      },
      "source": [
        "### Text Vectorization (tokenization)"
      ]
    },
    {
      "cell_type": "code",
      "execution_count": 16,
      "metadata": {
        "colab": {
          "base_uri": "https://localhost:8080/"
        },
        "id": "z3sUWRWHC2Y9",
        "outputId": "3967fd55-0de9-4ba7-cb7e-fa258c1ea89f"
      },
      "outputs": [
        {
          "output_type": "execute_result",
          "data": {
            "text/plain": [
              "array(['@mogacola @zamtriossu i screamed after hitting tweet',\n",
              "       'Imagine getting flattened by Kurt Zouma',\n",
              "       '@Gurmeetramrahim #MSGDoing111WelfareWorks Green S welfare force ke appx 65000 members har time disaster victim ki help ke liye tyar hai....',\n",
              "       \"@shakjn @C7 @Magnums im shaking in fear he's gonna hack the planet\",\n",
              "       'Somehow find you and I collide http://t.co/Ee8RpOahPk'],\n",
              "      dtype=object)"
            ]
          },
          "metadata": {},
          "execution_count": 16
        }
      ],
      "source": [
        "train_sentences[:5]"
      ]
    },
    {
      "cell_type": "code",
      "execution_count": 17,
      "metadata": {
        "id": "Ay1hJg76C7EB"
      },
      "outputs": [],
      "source": [
        "import tensorflow as tf\n",
        "from tensorflow.keras.layers.experimental.preprocessing import TextVectorization\n",
        "\n",
        "# Use the default TextVectorization parameters\n",
        "text_vectorizer = TextVectorization(max_tokens=None, # how many words in the vocabulary (automatically add <OOV>)\n",
        "                                    standardize=\"lower_and_strip_punctuation\",\n",
        "                                    split=\"whitespace\",\n",
        "                                    ngrams=None, # create groups of n-words\n",
        "                                    output_mode = \"int\", # how to map tokens to numbers\n",
        "                                    output_sequence_length=None, # how long do we want our sequence to be?\n",
        "                                    pad_to_max_tokens=False)"
      ]
    },
    {
      "cell_type": "code",
      "execution_count": 18,
      "metadata": {
        "colab": {
          "base_uri": "https://localhost:8080/"
        },
        "id": "eN5iL7x_GpxK",
        "outputId": "33d07e4f-926c-4cb4-ecfb-645be3b1177f"
      },
      "outputs": [
        {
          "output_type": "execute_result",
          "data": {
            "text/plain": [
              "6"
            ]
          },
          "metadata": {},
          "execution_count": 18
        }
      ],
      "source": [
        "len(train_sentences[1].split())"
      ]
    },
    {
      "cell_type": "code",
      "execution_count": 19,
      "metadata": {
        "colab": {
          "base_uri": "https://localhost:8080/"
        },
        "id": "Rtcz4yyuDDrm",
        "outputId": "ba49c8ae-daf3-43d0-d777-f08572a22c41"
      },
      "outputs": [
        {
          "output_type": "execute_result",
          "data": {
            "text/plain": [
              "102087"
            ]
          },
          "metadata": {},
          "execution_count": 19
        }
      ],
      "source": [
        "# Find the average number of words (tokens) in the training tweets\n",
        "round(sum([len(i.split()) for i in train_sentences]))"
      ]
    },
    {
      "cell_type": "code",
      "execution_count": 20,
      "metadata": {
        "colab": {
          "base_uri": "https://localhost:8080/"
        },
        "id": "F6b8E1QtGiw_",
        "outputId": "9a75648e-6232-40c7-b48c-01eced642424"
      },
      "outputs": [
        {
          "output_type": "execute_result",
          "data": {
            "text/plain": [
              "15"
            ]
          },
          "metadata": {},
          "execution_count": 20
        }
      ],
      "source": [
        "round(sum([len(i.split()) for i in train_sentences]) / len(train_sentences))"
      ]
    },
    {
      "cell_type": "code",
      "execution_count": 21,
      "metadata": {
        "id": "Mcz_igCMG6Ot"
      },
      "outputs": [],
      "source": [
        "# Setup text vectorization variables\n",
        "max_vocab_length = 10000 # max number of words to have in our vocabulary\n",
        "max_length = 15 # max length our sequences will be (e.g. how many words from a Tweet does a model see?)\n",
        "\n",
        "text_vectorizer = TextVectorization(max_tokens=max_vocab_length,\n",
        "                                    output_mode=\"int\",\n",
        "                                    output_sequence_length=max_length)"
      ]
    },
    {
      "cell_type": "code",
      "execution_count": 22,
      "metadata": {
        "id": "lM4My4UcHgrc"
      },
      "outputs": [],
      "source": [
        "# Fit the text vectorizer to the training text\n",
        "text_vectorizer.adapt(train_sentences)"
      ]
    },
    {
      "cell_type": "code",
      "execution_count": 23,
      "metadata": {
        "colab": {
          "base_uri": "https://localhost:8080/"
        },
        "id": "CKFb5pzyITAm",
        "outputId": "efc550f2-4dd4-4e7d-c832-185f51048398"
      },
      "outputs": [
        {
          "output_type": "execute_result",
          "data": {
            "text/plain": [
              "<tf.Tensor: shape=(1, 15), dtype=int64, numpy=\n",
              "array([[264,   3, 232,   4,  13, 698,   0,   0,   0,   0,   0,   0,   0,\n",
              "          0,   0]])>"
            ]
          },
          "metadata": {},
          "execution_count": 23
        }
      ],
      "source": [
        "# Create a sample senetence and tokenize it\n",
        "sample_sentence = \"There's a flood in my street!\"\n",
        "text_vectorizer([sample_sentence])"
      ]
    },
    {
      "cell_type": "code",
      "execution_count": 24,
      "metadata": {
        "colab": {
          "base_uri": "https://localhost:8080/"
        },
        "id": "0OafnQQyIiNh",
        "outputId": "11f43256-ec4d-4167-e252-3a13513ef2fe"
      },
      "outputs": [
        {
          "output_type": "stream",
          "name": "stdout",
          "text": [
            "Original text:\n",
            " Zayn Malik &amp; Perrie Edwards End Engagement: SheÛªs Û÷DevastatedÛª http://t.co/GedOxSPpL9 http://t.co/ACZRUOrYtD      \n",
            "\n",
            "Vectorized version: \n"
          ]
        },
        {
          "output_type": "execute_result",
          "data": {
            "text/plain": [
              "<tf.Tensor: shape=(1, 15), dtype=int64, numpy=\n",
              "array([[3230, 5173,   35, 9849,    1,  304,    1, 8572, 6423,    1,    1,\n",
              "           0,    0,    0,    0]])>"
            ]
          },
          "metadata": {},
          "execution_count": 24
        }
      ],
      "source": [
        "# Choose a random sentence from the training dataset and tokenize it.\n",
        "import random\n",
        "random_sentence = random.choice(train_sentences)\n",
        "print(f\"Original text:\\n {random_sentence}\\\n",
        "      \\n\\nVectorized version: \")\n",
        "text_vectorizer([random_sentence])"
      ]
    },
    {
      "cell_type": "code",
      "execution_count": 25,
      "metadata": {
        "id": "qmxDXBmvJEQG"
      },
      "outputs": [],
      "source": [
        "# Get the unique words in the vocabulary\n",
        "words_in_vocab = text_vectorizer.get_vocabulary() # get all of the unique words in our training data\n",
        "top_5_words = words_in_vocab[:5] #get the most common words\n",
        "bottom_5_words = words_in_vocab[-5:] # get the least common words"
      ]
    },
    {
      "cell_type": "code",
      "execution_count": 26,
      "metadata": {
        "colab": {
          "base_uri": "https://localhost:8080/"
        },
        "id": "zK199u5fKV9c",
        "outputId": "f11bbdad-e58f-440f-9543-21c33c318af2"
      },
      "outputs": [
        {
          "output_type": "stream",
          "name": "stdout",
          "text": [
            "Number of words in vocab: 10000\n",
            "5 most common words: ['', '[UNK]', 'the', 'a', 'in']\n",
            "5 least common words: ['pages', 'paeds', 'pads', 'padres', 'paddytomlinson1']\n"
          ]
        }
      ],
      "source": [
        "print(f\"Number of words in vocab: {len(words_in_vocab)}\")\n",
        "print(f\"5 most common words: {top_5_words}\")\n",
        "print(f\"5 least common words: {bottom_5_words}\")"
      ]
    },
    {
      "cell_type": "markdown",
      "metadata": {
        "id": "gjGOPGUlKxQb"
      },
      "source": [
        "## Creating an Embedding using Embedding layer\n",
        "\n",
        "To make our embedding, we're going to use TensorFlow's embedding layer : https://www.tensorflow.org/api_docs/python/tf/keras/layers/Embedding\n",
        "\n",
        "The parameters we care most about for our embedding layer:\n",
        "* `input_dim` = the size of our vocabulary\n",
        "* `output_dim` = the size of the output embedding vector, for example, a value of 100 would mean each token gets represented by a vector 100 long.\n",
        "* `input_length` = length of the sentences being passed to the embedding layer."
      ]
    },
    {
      "cell_type": "code",
      "execution_count": 27,
      "metadata": {
        "colab": {
          "base_uri": "https://localhost:8080/"
        },
        "id": "rrQJkmDiAvHp",
        "outputId": "a8e6e51e-8dfd-4764-8b2f-2cda5d98607c"
      },
      "outputs": [
        {
          "output_type": "execute_result",
          "data": {
            "text/plain": [
              "<keras.src.layers.core.embedding.Embedding at 0x7e34249f5ff0>"
            ]
          },
          "metadata": {},
          "execution_count": 27
        }
      ],
      "source": [
        "from tensorflow.keras import layers\n",
        "\n",
        "embedding = layers.Embedding(input_dim = max_vocab_length, # set input shape\n",
        "                             output_dim=128, # output shape\n",
        "                             input_length = max_length # how long is each input\n",
        "                             )\n",
        "\n",
        "embedding"
      ]
    },
    {
      "cell_type": "code",
      "execution_count": 28,
      "metadata": {
        "colab": {
          "base_uri": "https://localhost:8080/"
        },
        "id": "tvkaLoGSCjAr",
        "outputId": "ffdc8743-c85c-4f86-af55-9ff09ff44b72"
      },
      "outputs": [
        {
          "output_type": "stream",
          "name": "stdout",
          "text": [
            "Original text: \n",
            " Families to sue over Legionnaires: More than 40 families affected by the fatal outbreak of Legio... http://t.co/uCBfgIBFOR #MuhamadJabal       \n",
            "\n",
            " Embedded version: \n"
          ]
        },
        {
          "output_type": "execute_result",
          "data": {
            "text/plain": [
              "<tf.Tensor: shape=(1, 15, 128), dtype=float32, numpy=\n",
              "array([[[ 0.02917558, -0.04694281, -0.04944259, ..., -0.00036592,\n",
              "         -0.02945708, -0.0271945 ],\n",
              "        [-0.00846394, -0.03602319,  0.0003636 , ..., -0.01997635,\n",
              "         -0.02951889,  0.00766075],\n",
              "        [-0.02169952,  0.03489472,  0.00690813, ...,  0.03572326,\n",
              "          0.01659352, -0.04300064],\n",
              "        ...,\n",
              "        [ 0.0033248 ,  0.04950842,  0.00646136, ..., -0.00882249,\n",
              "         -0.03952559,  0.03568829],\n",
              "        [ 0.02844142,  0.0285404 ,  0.04258939, ..., -0.02516418,\n",
              "          0.01561911, -0.02093213],\n",
              "        [ 0.00772732, -0.0447969 ,  0.03025478, ..., -0.03765295,\n",
              "         -0.03519323,  0.00086402]]], dtype=float32)>"
            ]
          },
          "metadata": {},
          "execution_count": 28
        }
      ],
      "source": [
        "# Get a random sentence from the training set\n",
        "random_sentence = random.choice(train_sentences)\n",
        "print(f\"Original text: \\n {random_sentence}\\\n",
        "       \\n\\n Embedded version: \")\n",
        "\n",
        "# Embed the random sentence (turn it into dense vectors of fixed size)\n",
        "sample_embed = embedding(text_vectorizer([random_sentence]))\n",
        "sample_embed"
      ]
    },
    {
      "cell_type": "code",
      "execution_count": 29,
      "metadata": {
        "colab": {
          "base_uri": "https://localhost:8080/"
        },
        "id": "t0uXssSZDSm6",
        "outputId": "0d96107a-4d2c-430c-8d75-0fe109d13673"
      },
      "outputs": [
        {
          "output_type": "execute_result",
          "data": {
            "text/plain": [
              "(<tf.Tensor: shape=(128,), dtype=float32, numpy=\n",
              " array([ 0.02917558, -0.04694281, -0.04944259,  0.04692408,  0.01024957,\n",
              "        -0.03249384, -0.03671961, -0.04274262,  0.00388576, -0.02976656,\n",
              "        -0.03607794,  0.01297151,  0.04621219, -0.01084413,  0.01576817,\n",
              "        -0.01592088, -0.00215199,  0.0143428 , -0.0456642 , -0.01035929,\n",
              "         0.04172916,  0.03858645, -0.02371678, -0.03803816, -0.02466629,\n",
              "        -0.03742697,  0.01182135,  0.0053717 , -0.00302056, -0.02758706,\n",
              "         0.04999972, -0.02078712,  0.00659292,  0.00315901,  0.02626983,\n",
              "        -0.00842618,  0.03992431, -0.03171267,  0.01286821, -0.01775295,\n",
              "         0.02904152, -0.02136466,  0.00902603,  0.03272657, -0.01016916,\n",
              "        -0.04622567,  0.0152805 ,  0.0115416 ,  0.00237207, -0.01486189,\n",
              "        -0.01713593,  0.0110152 ,  0.00352254, -0.00217445,  0.02506411,\n",
              "         0.02400327, -0.00772502,  0.02792254,  0.0340413 , -0.01871364,\n",
              "         0.04955146,  0.00273776, -0.0353179 ,  0.03190262, -0.03462044,\n",
              "        -0.00780481, -0.01673689,  0.04038243,  0.00581468, -0.03619369,\n",
              "        -0.03867611,  0.00950845,  0.02425612, -0.04832774,  0.0293684 ,\n",
              "        -0.00581914,  0.01967682, -0.02419596, -0.01435332,  0.04594636,\n",
              "        -0.03795903, -0.03095855,  0.03429342, -0.02076522,  0.00176864,\n",
              "         0.04349733,  0.03402307,  0.02265997,  0.01063632,  0.04961875,\n",
              "         0.04034188, -0.0412331 , -0.02822057, -0.02957354,  0.00472149,\n",
              "        -0.01565928,  0.02399233,  0.0092347 ,  0.00389796,  0.01060538,\n",
              "         0.00051546,  0.01702929, -0.02045372, -0.02625188,  0.01995214,\n",
              "         0.0175118 ,  0.0382047 , -0.0123135 , -0.04193747, -0.00202733,\n",
              "         0.00230105,  0.03230169,  0.02581539,  0.0073786 ,  0.03535802,\n",
              "        -0.03229505,  0.03221956,  0.03028009, -0.03483567, -0.0490669 ,\n",
              "        -0.03791092,  0.03253214,  0.01873815, -0.00936564,  0.03649045,\n",
              "        -0.00036592, -0.02945708, -0.0271945 ], dtype=float32)>,\n",
              " TensorShape([128]),\n",
              " 'Families to sue over Legionnaires: More than 40 families affected by the fatal outbreak of Legio... http://t.co/uCBfgIBFOR #MuhamadJabal')"
            ]
          },
          "metadata": {},
          "execution_count": 29
        }
      ],
      "source": [
        "# Check out a single token's embedding\n",
        "sample_embed[0][0], sample_embed[0][0].shape, random_sentence"
      ]
    },
    {
      "cell_type": "markdown",
      "metadata": {
        "id": "ggiegMICDy0R"
      },
      "source": [
        "## Modelling a text dataset (running a series of experiments)\n",
        "\n",
        "Now we've got way to run to turn our text sequences into numbers, it's time to start building a series of modelling experiments.\n",
        "\n",
        "We'll start with a baseline and move on from there.\n",
        "\n",
        "* Model 0: Naive Bayes (baseline), this is from Sklearn ML map: https://scikit-learn.org/stable/tutorial/machine_learning_map/index.html\n",
        "* Model 1: Feed-forward neural network (dense model)\n",
        "* Model 2: LSTM model (RNN)\n",
        "* Model 3: GRU model (RNN)\n",
        "* Model 4: Bidirectional-LSTM model (RNN)\n",
        "* Model 5: 1D Convolutional Neural Network (CNN)\n",
        "* Model 6: TensorFlow Hub Pretrained Feature Extractor (using tranfer learning for NLP)\n",
        "* Model 7: Same as model 6 with 10% of training data.\n",
        "\n",
        "How are we going to approach all of these?\n",
        "\n",
        "Use the standard steps in modelling with tensorflow:\n",
        "* Create a model\n",
        "* Build a model\n",
        "* Fit a model\n",
        "* Evaluate our model"
      ]
    },
    {
      "cell_type": "markdown",
      "metadata": {
        "id": "qtpzPE5wFMM4"
      },
      "source": [
        "### Model 0: Getting a baseline\n",
        "\n",
        "As with all machine learning modelling experiments, it's important to create a baseline model so you've go a benchmark for future experients to build upon.\n",
        "\n",
        "To create our baseline, we'll use Sklearn's Mutlinomial Bayes using the TF-IDF formula to convert our words to numbers.\n",
        "\n",
        "> **Note:** It's common practice to use non-DL algorithms as a baseline of their speed and then later using DL to see if you can improve upon them."
      ]
    },
    {
      "cell_type": "code",
      "execution_count": 30,
      "metadata": {
        "colab": {
          "base_uri": "https://localhost:8080/",
          "height": 124
        },
        "id": "xojIMhgPZ_TR",
        "outputId": "e6f5c889-537c-407f-a455-edfb01f99be4"
      },
      "outputs": [
        {
          "output_type": "execute_result",
          "data": {
            "text/plain": [
              "Pipeline(steps=[('tfidf', TfidfVectorizer()), ('clf', MultinomialNB())])"
            ],
            "text/html": [
              "<style>#sk-container-id-1 {color: black;background-color: white;}#sk-container-id-1 pre{padding: 0;}#sk-container-id-1 div.sk-toggleable {background-color: white;}#sk-container-id-1 label.sk-toggleable__label {cursor: pointer;display: block;width: 100%;margin-bottom: 0;padding: 0.3em;box-sizing: border-box;text-align: center;}#sk-container-id-1 label.sk-toggleable__label-arrow:before {content: \"▸\";float: left;margin-right: 0.25em;color: #696969;}#sk-container-id-1 label.sk-toggleable__label-arrow:hover:before {color: black;}#sk-container-id-1 div.sk-estimator:hover label.sk-toggleable__label-arrow:before {color: black;}#sk-container-id-1 div.sk-toggleable__content {max-height: 0;max-width: 0;overflow: hidden;text-align: left;background-color: #f0f8ff;}#sk-container-id-1 div.sk-toggleable__content pre {margin: 0.2em;color: black;border-radius: 0.25em;background-color: #f0f8ff;}#sk-container-id-1 input.sk-toggleable__control:checked~div.sk-toggleable__content {max-height: 200px;max-width: 100%;overflow: auto;}#sk-container-id-1 input.sk-toggleable__control:checked~label.sk-toggleable__label-arrow:before {content: \"▾\";}#sk-container-id-1 div.sk-estimator input.sk-toggleable__control:checked~label.sk-toggleable__label {background-color: #d4ebff;}#sk-container-id-1 div.sk-label input.sk-toggleable__control:checked~label.sk-toggleable__label {background-color: #d4ebff;}#sk-container-id-1 input.sk-hidden--visually {border: 0;clip: rect(1px 1px 1px 1px);clip: rect(1px, 1px, 1px, 1px);height: 1px;margin: -1px;overflow: hidden;padding: 0;position: absolute;width: 1px;}#sk-container-id-1 div.sk-estimator {font-family: monospace;background-color: #f0f8ff;border: 1px dotted black;border-radius: 0.25em;box-sizing: border-box;margin-bottom: 0.5em;}#sk-container-id-1 div.sk-estimator:hover {background-color: #d4ebff;}#sk-container-id-1 div.sk-parallel-item::after {content: \"\";width: 100%;border-bottom: 1px solid gray;flex-grow: 1;}#sk-container-id-1 div.sk-label:hover label.sk-toggleable__label {background-color: #d4ebff;}#sk-container-id-1 div.sk-serial::before {content: \"\";position: absolute;border-left: 1px solid gray;box-sizing: border-box;top: 0;bottom: 0;left: 50%;z-index: 0;}#sk-container-id-1 div.sk-serial {display: flex;flex-direction: column;align-items: center;background-color: white;padding-right: 0.2em;padding-left: 0.2em;position: relative;}#sk-container-id-1 div.sk-item {position: relative;z-index: 1;}#sk-container-id-1 div.sk-parallel {display: flex;align-items: stretch;justify-content: center;background-color: white;position: relative;}#sk-container-id-1 div.sk-item::before, #sk-container-id-1 div.sk-parallel-item::before {content: \"\";position: absolute;border-left: 1px solid gray;box-sizing: border-box;top: 0;bottom: 0;left: 50%;z-index: -1;}#sk-container-id-1 div.sk-parallel-item {display: flex;flex-direction: column;z-index: 1;position: relative;background-color: white;}#sk-container-id-1 div.sk-parallel-item:first-child::after {align-self: flex-end;width: 50%;}#sk-container-id-1 div.sk-parallel-item:last-child::after {align-self: flex-start;width: 50%;}#sk-container-id-1 div.sk-parallel-item:only-child::after {width: 0;}#sk-container-id-1 div.sk-dashed-wrapped {border: 1px dashed gray;margin: 0 0.4em 0.5em 0.4em;box-sizing: border-box;padding-bottom: 0.4em;background-color: white;}#sk-container-id-1 div.sk-label label {font-family: monospace;font-weight: bold;display: inline-block;line-height: 1.2em;}#sk-container-id-1 div.sk-label-container {text-align: center;}#sk-container-id-1 div.sk-container {/* jupyter's `normalize.less` sets `[hidden] { display: none; }` but bootstrap.min.css set `[hidden] { display: none !important; }` so we also need the `!important` here to be able to override the default hidden behavior on the sphinx rendered scikit-learn.org. See: https://github.com/scikit-learn/scikit-learn/issues/21755 */display: inline-block !important;position: relative;}#sk-container-id-1 div.sk-text-repr-fallback {display: none;}</style><div id=\"sk-container-id-1\" class=\"sk-top-container\"><div class=\"sk-text-repr-fallback\"><pre>Pipeline(steps=[(&#x27;tfidf&#x27;, TfidfVectorizer()), (&#x27;clf&#x27;, MultinomialNB())])</pre><b>In a Jupyter environment, please rerun this cell to show the HTML representation or trust the notebook. <br />On GitHub, the HTML representation is unable to render, please try loading this page with nbviewer.org.</b></div><div class=\"sk-container\" hidden><div class=\"sk-item sk-dashed-wrapped\"><div class=\"sk-label-container\"><div class=\"sk-label sk-toggleable\"><input class=\"sk-toggleable__control sk-hidden--visually\" id=\"sk-estimator-id-1\" type=\"checkbox\" ><label for=\"sk-estimator-id-1\" class=\"sk-toggleable__label sk-toggleable__label-arrow\">Pipeline</label><div class=\"sk-toggleable__content\"><pre>Pipeline(steps=[(&#x27;tfidf&#x27;, TfidfVectorizer()), (&#x27;clf&#x27;, MultinomialNB())])</pre></div></div></div><div class=\"sk-serial\"><div class=\"sk-item\"><div class=\"sk-estimator sk-toggleable\"><input class=\"sk-toggleable__control sk-hidden--visually\" id=\"sk-estimator-id-2\" type=\"checkbox\" ><label for=\"sk-estimator-id-2\" class=\"sk-toggleable__label sk-toggleable__label-arrow\">TfidfVectorizer</label><div class=\"sk-toggleable__content\"><pre>TfidfVectorizer()</pre></div></div></div><div class=\"sk-item\"><div class=\"sk-estimator sk-toggleable\"><input class=\"sk-toggleable__control sk-hidden--visually\" id=\"sk-estimator-id-3\" type=\"checkbox\" ><label for=\"sk-estimator-id-3\" class=\"sk-toggleable__label sk-toggleable__label-arrow\">MultinomialNB</label><div class=\"sk-toggleable__content\"><pre>MultinomialNB()</pre></div></div></div></div></div></div></div>"
            ]
          },
          "metadata": {},
          "execution_count": 30
        }
      ],
      "source": [
        "from sklearn.feature_extraction.text import TfidfVectorizer\n",
        "from sklearn.naive_bayes import MultinomialNB\n",
        "from sklearn.pipeline import Pipeline\n",
        "\n",
        "\n",
        "# Create tokenisation and modelling pipeline\n",
        "model_0 = Pipeline([\n",
        "    (\"tfidf\", TfidfVectorizer()), # convert words into numbers using tfidf\n",
        "    (\"clf\", MultinomialNB()) # model the text\n",
        "])\n",
        "\n",
        "# Fit the pipeline to the training data\n",
        "model_0.fit(train_sentences, train_labels)"
      ]
    },
    {
      "cell_type": "code",
      "execution_count": 31,
      "metadata": {
        "colab": {
          "base_uri": "https://localhost:8080/"
        },
        "id": "YtPLz_oma5Sx",
        "outputId": "0850f906-9165-4495-e602-04cccd1cbbe9"
      },
      "outputs": [
        {
          "output_type": "stream",
          "name": "stdout",
          "text": [
            "Our baseline model achieves an accuracy of : 79.27%\n"
          ]
        }
      ],
      "source": [
        "# Evaluate our baseline model\n",
        "baseline_score = model_0.score(val_sentences, val_labels)\n",
        "print(f\"Our baseline model achieves an accuracy of : {baseline_score*100:.2f}%\")"
      ]
    },
    {
      "cell_type": "code",
      "execution_count": 32,
      "metadata": {
        "colab": {
          "base_uri": "https://localhost:8080/"
        },
        "id": "Z_7mwWfqbOq8",
        "outputId": "51ca1fca-b7b4-4dc8-e7c3-3efb1396170a"
      },
      "outputs": [
        {
          "output_type": "execute_result",
          "data": {
            "text/plain": [
              "array([1, 1, 1, 0, 0, 1, 1, 1, 1, 0, 0, 1, 0, 0, 0, 0, 0, 0, 0, 1])"
            ]
          },
          "metadata": {},
          "execution_count": 32
        }
      ],
      "source": [
        "# Make Predictions\n",
        "baseline_preds = model_0.predict(val_sentences)\n",
        "baseline_preds[:20]"
      ]
    },
    {
      "cell_type": "code",
      "execution_count": 33,
      "metadata": {
        "colab": {
          "base_uri": "https://localhost:8080/"
        },
        "id": "z4EenuoJbafy",
        "outputId": "bc1ceae8-8212-448a-caab-3eea9c3c947b"
      },
      "outputs": [
        {
          "output_type": "execute_result",
          "data": {
            "text/plain": [
              "array([0, 0, 1, ..., 1, 1, 0])"
            ]
          },
          "metadata": {},
          "execution_count": 33
        }
      ],
      "source": [
        "train_labels"
      ]
    },
    {
      "cell_type": "markdown",
      "metadata": {
        "id": "H0-b4p51Qi4I"
      },
      "source": [
        "### Creating an evaluation function for our model experiments\n",
        "\n",
        "We could evaluate all of our model's predictions with different metrics every time, however, this will be cumbersome and could easily be fixed with a function.\n",
        "\n",
        "Let's create one to compare our model's predictions with the truth labels using the following metrics:\n",
        "* Accuracy\n",
        "* Precision\n",
        "* Recall\n",
        "* F1-score\n",
        "\n",
        "> For a deep overview of many different evaluation methods, see the Sklearn documentation: https://scikit-learn.org/stable/modules/model_evaluation.html"
      ]
    },
    {
      "cell_type": "code",
      "execution_count": 34,
      "metadata": {
        "id": "4B-z4eRaUAi2"
      },
      "outputs": [],
      "source": [
        "# Function to evaluate: accuracy, precision, recall and f1-score\n",
        "from sklearn.metrics import accuracy_score, precision_recall_fscore_support\n",
        "\n",
        "def calculate_results(y_true, y_pred):\n",
        "  \"\"\"\n",
        "  Calculates model accuracy, precision, recall and f1 score of a binary classification model.\n",
        "  \"\"\"\n",
        "  # calculate model accuracy\n",
        "  model_accuracy = accuracy_score(y_true, y_pred) * 100\n",
        "  # Calculate model precision, recall, f1-score using \"weighted\" average\n",
        "  model_precision, model_recall, model_f1, _ = precision_recall_fscore_support(y_true, y_pred, average=\"weighted\")\n",
        "  model_results = {\"accuracy\": model_accuracy,\n",
        "                   \"precision\": model_precision,\n",
        "                   \"recall\": model_recall,\n",
        "                   \"f1\": model_f1}\n",
        "  return model_results\n"
      ]
    },
    {
      "cell_type": "code",
      "execution_count": 35,
      "metadata": {
        "colab": {
          "base_uri": "https://localhost:8080/"
        },
        "id": "dgx5VR4mZOne",
        "outputId": "98b818b1-6169-484d-9052-1856559aad86"
      },
      "outputs": [
        {
          "output_type": "execute_result",
          "data": {
            "text/plain": [
              "{'accuracy': 79.26509186351706,\n",
              " 'precision': 0.8111390004213173,\n",
              " 'recall': 0.7926509186351706,\n",
              " 'f1': 0.7862189758049549}"
            ]
          },
          "metadata": {},
          "execution_count": 35
        }
      ],
      "source": [
        "# Get baseline results\n",
        "baseline_results = calculate_results(y_true=val_labels,\n",
        "                                     y_pred=baseline_preds)\n",
        "baseline_results"
      ]
    },
    {
      "cell_type": "markdown",
      "metadata": {
        "id": "imgCx7FpZX3k"
      },
      "source": [
        "### Model 1: A simple dense model"
      ]
    },
    {
      "cell_type": "code",
      "execution_count": 36,
      "metadata": {
        "id": "hYbEE07Rw0DA"
      },
      "outputs": [],
      "source": [
        "# Create a tensorboard callback (need to create a new one for each model)\n",
        "from helper_functions import create_tensorboard_callback\n",
        "\n",
        "# Create a directory to save TensorBoard logs\n",
        "SAVE_DIR = \"model_logs\""
      ]
    },
    {
      "cell_type": "code",
      "execution_count": 37,
      "metadata": {
        "id": "CMSMkqVLxGbH"
      },
      "outputs": [],
      "source": [
        "# Build model with the Functional API\n",
        "from tensorflow.keras import layers\n",
        "inputs = layers.Input(shape=(1,), dtype=tf.string) # inputs are 1-dimensional strings\n",
        "x = text_vectorizer(inputs) # turn the input text into numbers\n",
        "x = embedding(x) # create an embedding of the numberized inputs\n",
        "x = layers.GlobalAveragePooling1D()(x)  #lower the dimensionality of the embedding (try running the model without this layer and see what happens)\n",
        "outputs = layers.Dense(1, activation=\"sigmoid\")(x) # Create the output layer, want binary outputs so use sigmoid activation function\n",
        "model_1 = tf.keras.Model(inputs, outputs, name=\"model_1_dense\")"
      ]
    },
    {
      "cell_type": "code",
      "execution_count": 38,
      "metadata": {
        "colab": {
          "base_uri": "https://localhost:8080/"
        },
        "id": "n-owkHXEyKRz",
        "outputId": "b906fba9-b7fa-424e-dead-b0664b7b99ba"
      },
      "outputs": [
        {
          "output_type": "stream",
          "name": "stdout",
          "text": [
            "Model: \"model_1_dense\"\n",
            "_________________________________________________________________\n",
            " Layer (type)                Output Shape              Param #   \n",
            "=================================================================\n",
            " input_1 (InputLayer)        [(None, 1)]               0         \n",
            "                                                                 \n",
            " text_vectorization_1 (Text  (None, 15)                0         \n",
            " Vectorization)                                                  \n",
            "                                                                 \n",
            " embedding (Embedding)       (None, 15, 128)           1280000   \n",
            "                                                                 \n",
            " global_average_pooling1d (  (None, 128)               0         \n",
            " GlobalAveragePooling1D)                                         \n",
            "                                                                 \n",
            " dense (Dense)               (None, 1)                 129       \n",
            "                                                                 \n",
            "=================================================================\n",
            "Total params: 1280129 (4.88 MB)\n",
            "Trainable params: 1280129 (4.88 MB)\n",
            "Non-trainable params: 0 (0.00 Byte)\n",
            "_________________________________________________________________\n"
          ]
        }
      ],
      "source": [
        "model_1.summary()"
      ]
    },
    {
      "cell_type": "code",
      "execution_count": 39,
      "metadata": {
        "id": "pHKMW3OyyOLY"
      },
      "outputs": [],
      "source": [
        "# Compile Model\n",
        "model_1.compile(loss=\"binary_crossentropy\",\n",
        "                optimizer=tf.keras.optimizers.Adam(),\n",
        "                metrics=[\"accuracy\"])"
      ]
    },
    {
      "cell_type": "code",
      "execution_count": 40,
      "metadata": {
        "id": "bIDh7ywW0VT2"
      },
      "outputs": [],
      "source": [
        "# Define and preprocess train_sentences, train_labels, val_sentences, val_labels"
      ]
    },
    {
      "cell_type": "code",
      "execution_count": 41,
      "metadata": {
        "colab": {
          "base_uri": "https://localhost:8080/"
        },
        "id": "HabuloIE2lmn",
        "outputId": "04f7a7d9-12e9-4078-8e95-7d686f053b10"
      },
      "outputs": [
        {
          "output_type": "execute_result",
          "data": {
            "text/plain": [
              "(6851, 6851)"
            ]
          },
          "metadata": {},
          "execution_count": 41
        }
      ],
      "source": [
        "len(train_sentences), len(train_labels\n",
        "\n",
        "                          )"
      ]
    },
    {
      "cell_type": "code",
      "execution_count": 42,
      "metadata": {
        "colab": {
          "base_uri": "https://localhost:8080/"
        },
        "id": "Lqq-ioCnyqV6",
        "outputId": "62162e54-adc2-4dc0-8429-b29f1f37dae9"
      },
      "outputs": [
        {
          "output_type": "stream",
          "name": "stdout",
          "text": [
            "Saving TensorBoard log files to: model_logs/model_1_dense/20231120-134110\n",
            "Epoch 1/5\n",
            "215/215 [==============================] - 24s 69ms/step - loss: 0.6098 - accuracy: 0.6993 - val_loss: 0.5345 - val_accuracy: 0.7520\n",
            "Epoch 2/5\n",
            "215/215 [==============================] - 2s 10ms/step - loss: 0.4389 - accuracy: 0.8200 - val_loss: 0.4702 - val_accuracy: 0.7861\n",
            "Epoch 3/5\n",
            "215/215 [==============================] - 2s 9ms/step - loss: 0.3450 - accuracy: 0.8596 - val_loss: 0.4618 - val_accuracy: 0.7900\n",
            "Epoch 4/5\n",
            "215/215 [==============================] - 2s 7ms/step - loss: 0.2832 - accuracy: 0.8913 - val_loss: 0.4632 - val_accuracy: 0.7900\n",
            "Epoch 5/5\n",
            "215/215 [==============================] - 1s 6ms/step - loss: 0.2357 - accuracy: 0.9133 - val_loss: 0.4788 - val_accuracy: 0.7861\n"
          ]
        }
      ],
      "source": [
        "# Fit the model\n",
        "model_1_history = model_1.fit(x=train_sentences,\n",
        "                              y=train_labels,\n",
        "                              epochs=5,\n",
        "                              validation_data=(val_sentences, val_labels),\n",
        "                              callbacks=[create_tensorboard_callback(dir_name=SAVE_DIR,\n",
        "                                                                     experiment_name=\"model_1_dense\")])"
      ]
    },
    {
      "cell_type": "code",
      "execution_count": 43,
      "metadata": {
        "id": "EJi3dDirzGuP",
        "colab": {
          "base_uri": "https://localhost:8080/"
        },
        "outputId": "7be650a5-70fb-4ccf-94db-074d70b9cb45"
      },
      "outputs": [
        {
          "output_type": "stream",
          "name": "stdout",
          "text": [
            "24/24 [==============================] - 0s 3ms/step - loss: 0.4788 - accuracy: 0.7861\n"
          ]
        },
        {
          "output_type": "execute_result",
          "data": {
            "text/plain": [
              "[0.47880658507347107, 0.7860892415046692]"
            ]
          },
          "metadata": {},
          "execution_count": 43
        }
      ],
      "source": [
        "# Check the results\n",
        "model_1.evaluate(val_sentences, val_labels)"
      ]
    },
    {
      "cell_type": "code",
      "execution_count": 44,
      "metadata": {
        "id": "gRvtA37C4zo2",
        "colab": {
          "base_uri": "https://localhost:8080/"
        },
        "outputId": "3368897f-6eb5-4627-987b-3ea0c3be56dc"
      },
      "outputs": [
        {
          "output_type": "stream",
          "name": "stdout",
          "text": [
            "24/24 [==============================] - 0s 3ms/step\n"
          ]
        },
        {
          "output_type": "execute_result",
          "data": {
            "text/plain": [
              "(762, 1)"
            ]
          },
          "metadata": {},
          "execution_count": 44
        }
      ],
      "source": [
        "# Make some prediction and evaluate those\n",
        "model_1_pred_probs = model_1.predict(val_sentences)\n",
        "model_1_pred_probs.shape"
      ]
    },
    {
      "cell_type": "code",
      "execution_count": 45,
      "metadata": {
        "id": "2RaLQmw35DYP",
        "colab": {
          "base_uri": "https://localhost:8080/"
        },
        "outputId": "ceb85d81-1534-46e2-9d54-b9a06ba808d9"
      },
      "outputs": [
        {
          "output_type": "execute_result",
          "data": {
            "text/plain": [
              "array([0.38953814], dtype=float32)"
            ]
          },
          "metadata": {},
          "execution_count": 45
        }
      ],
      "source": [
        "model_1_pred_probs[0]"
      ]
    },
    {
      "cell_type": "code",
      "execution_count": 46,
      "metadata": {
        "id": "m-Efrqqn5OXc",
        "colab": {
          "base_uri": "https://localhost:8080/"
        },
        "outputId": "fc900a9c-969f-4a06-890e-49b5ceaa39a6"
      },
      "outputs": [
        {
          "output_type": "execute_result",
          "data": {
            "text/plain": [
              "<tf.Tensor: shape=(762,), dtype=float32, numpy=\n",
              "array([0., 1., 1., 0., 0., 1., 1., 1., 1., 0., 0., 1., 0., 0., 0., 0., 0.,\n",
              "       0., 0., 0., 1., 0., 0., 0., 1., 1., 0., 0., 0., 0., 1., 0., 0., 0.,\n",
              "       0., 0., 1., 0., 0., 1., 0., 0., 0., 0., 1., 1., 0., 1., 0., 1., 0.,\n",
              "       1., 0., 0., 0., 0., 0., 1., 0., 0., 0., 1., 1., 0., 1., 1., 1., 0.,\n",
              "       0., 0., 0., 0., 1., 0., 0., 0., 0., 1., 0., 1., 0., 0., 1., 0., 0.,\n",
              "       0., 0., 0., 1., 1., 1., 0., 1., 0., 1., 1., 1., 1., 1., 1., 1., 0.,\n",
              "       0., 1., 1., 0., 1., 1., 0., 0., 1., 0., 0., 0., 0., 0., 0., 1., 1.,\n",
              "       0., 1., 0., 0., 1., 0., 0., 1., 0., 0., 1., 0., 1., 1., 1., 1., 0.,\n",
              "       1., 0., 0., 0., 1., 0., 0., 1., 0., 1., 0., 0., 0., 1., 0., 0., 0.,\n",
              "       0., 0., 1., 1., 0., 1., 0., 1., 0., 0., 1., 0., 0., 1., 0., 1., 0.,\n",
              "       1., 1., 1., 0., 1., 0., 0., 0., 1., 1., 0., 1., 1., 1., 1., 0., 0.,\n",
              "       1., 0., 0., 0., 1., 0., 0., 0., 0., 0., 0., 1., 0., 0., 1., 1., 0.,\n",
              "       0., 1., 1., 1., 1., 1., 0., 1., 0., 0., 0., 0., 1., 1., 1., 0., 1.,\n",
              "       0., 0., 0., 1., 0., 1., 1., 1., 1., 0., 0., 1., 0., 1., 0., 1., 0.,\n",
              "       0., 0., 0., 0., 1., 1., 0., 0., 1., 0., 0., 0., 0., 1., 0., 0., 1.,\n",
              "       0., 1., 1., 0., 0., 0., 0., 0., 1., 1., 1., 1., 0., 0., 0., 0., 0.,\n",
              "       1., 0., 0., 1., 0., 0., 1., 0., 0., 0., 1., 1., 1., 1., 1., 0., 1.,\n",
              "       0., 1., 0., 0., 0., 0., 1., 0., 1., 0., 1., 0., 0., 0., 1., 0., 0.,\n",
              "       0., 0., 0., 0., 0., 1., 0., 0., 1., 0., 1., 0., 0., 0., 0., 0., 1.,\n",
              "       0., 1., 0., 0., 1., 0., 1., 0., 0., 1., 0., 0., 1., 0., 0., 1., 1.,\n",
              "       0., 0., 1., 1., 1., 0., 1., 0., 0., 0., 0., 1., 0., 0., 0., 0., 1.,\n",
              "       1., 1., 0., 0., 0., 0., 1., 0., 0., 0., 0., 1., 0., 0., 0., 0., 0.,\n",
              "       0., 0., 0., 0., 0., 1., 1., 0., 1., 0., 0., 1., 1., 0., 1., 0., 1.,\n",
              "       0., 0., 1., 0., 1., 0., 0., 0., 0., 1., 0., 1., 1., 0., 1., 0., 0.,\n",
              "       0., 1., 1., 0., 0., 0., 1., 1., 0., 0., 1., 0., 1., 1., 1., 1., 0.,\n",
              "       0., 0., 1., 1., 0., 0., 0., 0., 0., 0., 0., 1., 0., 1., 1., 0., 1.,\n",
              "       0., 0., 0., 1., 0., 0., 0., 1., 0., 1., 1., 1., 1., 1., 0., 0., 1.,\n",
              "       1., 1., 0., 0., 0., 1., 1., 0., 0., 1., 0., 0., 1., 0., 0., 1., 0.,\n",
              "       0., 1., 0., 0., 0., 0., 0., 1., 0., 0., 0., 0., 0., 0., 0., 1., 1.,\n",
              "       0., 0., 0., 0., 1., 0., 1., 1., 1., 1., 1., 0., 0., 0., 1., 0., 0.,\n",
              "       0., 0., 0., 0., 1., 0., 1., 1., 1., 1., 0., 0., 1., 0., 0., 0., 0.,\n",
              "       0., 1., 1., 1., 1., 0., 0., 1., 0., 0., 0., 1., 1., 0., 0., 0., 0.,\n",
              "       0., 0., 0., 1., 1., 0., 1., 1., 0., 1., 0., 0., 0., 0., 0., 0., 0.,\n",
              "       0., 1., 0., 1., 0., 1., 1., 0., 0., 1., 1., 1., 0., 0., 0., 0., 0.,\n",
              "       1., 0., 0., 0., 1., 0., 0., 1., 0., 0., 0., 0., 0., 0., 0., 0., 0.,\n",
              "       0., 0., 1., 1., 1., 0., 0., 1., 1., 1., 0., 1., 0., 1., 1., 0., 1.,\n",
              "       0., 1., 1., 0., 0., 0., 0., 0., 1., 0., 1., 0., 1., 0., 0., 0., 1.,\n",
              "       0., 0., 1., 1., 1., 1., 0., 0., 0., 0., 0., 1., 0., 1., 1., 0., 0.,\n",
              "       0., 0., 0., 1., 1., 0., 0., 0., 0., 0., 0., 1., 0., 0., 0., 0., 1.,\n",
              "       0., 0., 0., 0., 0., 1., 1., 0., 0., 0., 0., 1., 0., 1., 0., 0., 1.,\n",
              "       0., 0., 1., 0., 0., 1., 0., 0., 0., 0., 1., 1., 1., 0., 1., 0., 1.,\n",
              "       0., 1., 0., 0., 0., 1., 0., 0., 0., 0., 0., 0., 0., 0., 0., 1., 0.,\n",
              "       0., 0., 0., 0., 1., 0., 1., 0., 0., 1., 0., 0., 0., 0., 1., 0., 0.,\n",
              "       1., 1., 1., 1., 1., 0., 0., 0., 1., 1., 1., 0., 1., 1., 0., 0., 0.,\n",
              "       0., 0., 0., 0., 1., 0., 1., 1., 0., 0., 0., 1., 0., 0.],\n",
              "      dtype=float32)>"
            ]
          },
          "metadata": {},
          "execution_count": 46
        }
      ],
      "source": [
        "# Convert model prediction probabilities to label format\n",
        "model_1_preds = tf.squeeze(tf.round(model_1_pred_probs))\n",
        "model_1_preds"
      ]
    },
    {
      "cell_type": "code",
      "execution_count": 47,
      "metadata": {
        "id": "QajB93G652x1",
        "colab": {
          "base_uri": "https://localhost:8080/"
        },
        "outputId": "20eb4ce1-15c8-4b92-fd63-3bead9fa4c03"
      },
      "outputs": [
        {
          "output_type": "execute_result",
          "data": {
            "text/plain": [
              "{'accuracy': 78.60892388451444,\n",
              " 'precision': 0.7907394181632303,\n",
              " 'recall': 0.7860892388451444,\n",
              " 'f1': 0.7831536805930754}"
            ]
          },
          "metadata": {},
          "execution_count": 47
        }
      ],
      "source": [
        "# Calculate our model-1 results\n",
        "model_1_results = calculate_results(y_true=val_labels,\n",
        "                                    y_pred=model_1_preds)\n",
        "model_1_results"
      ]
    },
    {
      "cell_type": "code",
      "execution_count": 48,
      "metadata": {
        "id": "G0TWyDlX6Foz",
        "colab": {
          "base_uri": "https://localhost:8080/"
        },
        "outputId": "acca2e8e-1644-49a1-eee0-9c6c867731b7"
      },
      "outputs": [
        {
          "output_type": "execute_result",
          "data": {
            "text/plain": [
              "{'accuracy': 79.26509186351706,\n",
              " 'precision': 0.8111390004213173,\n",
              " 'recall': 0.7926509186351706,\n",
              " 'f1': 0.7862189758049549}"
            ]
          },
          "metadata": {},
          "execution_count": 48
        }
      ],
      "source": [
        "baseline_results"
      ]
    },
    {
      "cell_type": "markdown",
      "metadata": {
        "id": "7S9EJ9nh6bXM"
      },
      "source": [
        "## Visulizing learned embeddings"
      ]
    },
    {
      "cell_type": "code",
      "execution_count": 49,
      "metadata": {
        "id": "SvixHGbo7rR-",
        "colab": {
          "base_uri": "https://localhost:8080/"
        },
        "outputId": "f942b1c5-c7e5-42ee-8b6a-16ada4439f79"
      },
      "outputs": [
        {
          "output_type": "execute_result",
          "data": {
            "text/plain": [
              "(10000, ['', '[UNK]', 'the', 'a', 'in', 'to', 'of', 'and', 'i', 'is'])"
            ]
          },
          "metadata": {},
          "execution_count": 49
        }
      ],
      "source": [
        "# Get the vocabulary from the text vectorization layer\n",
        "words_in_vocab = text_vectorizer.get_vocabulary()\n",
        "len(words_in_vocab), words_in_vocab[:10]"
      ]
    },
    {
      "cell_type": "code",
      "execution_count": 50,
      "metadata": {
        "id": "I61Q3ou1K1iy",
        "colab": {
          "base_uri": "https://localhost:8080/"
        },
        "outputId": "10eba171-c163-4d4c-d91e-c7f62241493c"
      },
      "outputs": [
        {
          "output_type": "stream",
          "name": "stdout",
          "text": [
            "Model: \"model_1_dense\"\n",
            "_________________________________________________________________\n",
            " Layer (type)                Output Shape              Param #   \n",
            "=================================================================\n",
            " input_1 (InputLayer)        [(None, 1)]               0         \n",
            "                                                                 \n",
            " text_vectorization_1 (Text  (None, 15)                0         \n",
            " Vectorization)                                                  \n",
            "                                                                 \n",
            " embedding (Embedding)       (None, 15, 128)           1280000   \n",
            "                                                                 \n",
            " global_average_pooling1d (  (None, 128)               0         \n",
            " GlobalAveragePooling1D)                                         \n",
            "                                                                 \n",
            " dense (Dense)               (None, 1)                 129       \n",
            "                                                                 \n",
            "=================================================================\n",
            "Total params: 1280129 (4.88 MB)\n",
            "Trainable params: 1280129 (4.88 MB)\n",
            "Non-trainable params: 0 (0.00 Byte)\n",
            "_________________________________________________________________\n"
          ]
        }
      ],
      "source": [
        "# Model 1 - summary\n",
        "model_1.summary()"
      ]
    },
    {
      "cell_type": "code",
      "execution_count": 51,
      "metadata": {
        "id": "GRtOz9iFLLLJ",
        "colab": {
          "base_uri": "https://localhost:8080/"
        },
        "outputId": "6c9ac82a-e59f-4124-e339-13568243736d"
      },
      "outputs": [
        {
          "output_type": "stream",
          "name": "stdout",
          "text": [
            "(10000, 128)\n"
          ]
        }
      ],
      "source": [
        "# Get the weight matrix of embedding layer\n",
        "# These are the numerical representation of each token in our training data.\n",
        "\n",
        "embed_weights = model_1.get_layer(\"embedding\").get_weights()[0]\n",
        "print(embed_weights.shape) # same size as vocab size and embedding dim (output shape)"
      ]
    },
    {
      "cell_type": "markdown",
      "metadata": {
        "id": "VDcZT0KnOIkT"
      },
      "source": [
        "Now we've got the embedding matrix our model has learned to represent our tokens, let's see how we can visualize it.\n",
        "\n",
        "To do so, TensorFlow has a handy tool called projector: https://projector.tensorflow.org/\n",
        "\n",
        "And TensorFlow also has an incredible guide on word embeddings themselves: https://www.tensorflow.org/text/guide/word_embeddings"
      ]
    },
    {
      "cell_type": "code",
      "execution_count": 52,
      "metadata": {
        "id": "0Et8CeZbQaYK"
      },
      "outputs": [],
      "source": [
        "# Create embedding files (we got this from TensorFlow's word embeddings documentation)\n",
        "import io\n",
        "out_v = io.open('vectors.tsv', 'w', encoding='utf-8')\n",
        "out_m = io.open('metadata.tsv', 'w', encoding='utf-8')\n",
        "\n",
        "for index, word in enumerate(words_in_vocab):\n",
        "  if index == 0:\n",
        "    continue  # skip 0, it's padding.\n",
        "  vec = embed_weights[index]\n",
        "  out_v.write('\\t'.join([str(x) for x in vec]) + \"\\n\")\n",
        "  out_m.write(word + \"\\n\")\n",
        "out_v.close()\n",
        "out_m.close()"
      ]
    },
    {
      "cell_type": "code",
      "execution_count": 53,
      "metadata": {
        "id": "ACSZEJmeOGSs",
        "colab": {
          "base_uri": "https://localhost:8080/",
          "height": 17
        },
        "outputId": "32f88cda-43a6-4412-fbf2-4f43a51c7ed2"
      },
      "outputs": [
        {
          "output_type": "display_data",
          "data": {
            "text/plain": [
              "<IPython.core.display.Javascript object>"
            ],
            "application/javascript": [
              "\n",
              "    async function download(id, filename, size) {\n",
              "      if (!google.colab.kernel.accessAllowed) {\n",
              "        return;\n",
              "      }\n",
              "      const div = document.createElement('div');\n",
              "      const label = document.createElement('label');\n",
              "      label.textContent = `Downloading \"${filename}\": `;\n",
              "      div.appendChild(label);\n",
              "      const progress = document.createElement('progress');\n",
              "      progress.max = size;\n",
              "      div.appendChild(progress);\n",
              "      document.body.appendChild(div);\n",
              "\n",
              "      const buffers = [];\n",
              "      let downloaded = 0;\n",
              "\n",
              "      const channel = await google.colab.kernel.comms.open(id);\n",
              "      // Send a message to notify the kernel that we're ready.\n",
              "      channel.send({})\n",
              "\n",
              "      for await (const message of channel.messages) {\n",
              "        // Send a message to notify the kernel that we're ready.\n",
              "        channel.send({})\n",
              "        if (message.buffers) {\n",
              "          for (const buffer of message.buffers) {\n",
              "            buffers.push(buffer);\n",
              "            downloaded += buffer.byteLength;\n",
              "            progress.value = downloaded;\n",
              "          }\n",
              "        }\n",
              "      }\n",
              "      const blob = new Blob(buffers, {type: 'application/binary'});\n",
              "      const a = document.createElement('a');\n",
              "      a.href = window.URL.createObjectURL(blob);\n",
              "      a.download = filename;\n",
              "      div.appendChild(a);\n",
              "      a.click();\n",
              "      div.remove();\n",
              "    }\n",
              "  "
            ]
          },
          "metadata": {}
        },
        {
          "output_type": "display_data",
          "data": {
            "text/plain": [
              "<IPython.core.display.Javascript object>"
            ],
            "application/javascript": [
              "download(\"download_dfcea14e-8429-45b6-8255-25a881422576\", \"vectors.tsv\", 15374720)"
            ]
          },
          "metadata": {}
        },
        {
          "output_type": "display_data",
          "data": {
            "text/plain": [
              "<IPython.core.display.Javascript object>"
            ],
            "application/javascript": [
              "\n",
              "    async function download(id, filename, size) {\n",
              "      if (!google.colab.kernel.accessAllowed) {\n",
              "        return;\n",
              "      }\n",
              "      const div = document.createElement('div');\n",
              "      const label = document.createElement('label');\n",
              "      label.textContent = `Downloading \"${filename}\": `;\n",
              "      div.appendChild(label);\n",
              "      const progress = document.createElement('progress');\n",
              "      progress.max = size;\n",
              "      div.appendChild(progress);\n",
              "      document.body.appendChild(div);\n",
              "\n",
              "      const buffers = [];\n",
              "      let downloaded = 0;\n",
              "\n",
              "      const channel = await google.colab.kernel.comms.open(id);\n",
              "      // Send a message to notify the kernel that we're ready.\n",
              "      channel.send({})\n",
              "\n",
              "      for await (const message of channel.messages) {\n",
              "        // Send a message to notify the kernel that we're ready.\n",
              "        channel.send({})\n",
              "        if (message.buffers) {\n",
              "          for (const buffer of message.buffers) {\n",
              "            buffers.push(buffer);\n",
              "            downloaded += buffer.byteLength;\n",
              "            progress.value = downloaded;\n",
              "          }\n",
              "        }\n",
              "      }\n",
              "      const blob = new Blob(buffers, {type: 'application/binary'});\n",
              "      const a = document.createElement('a');\n",
              "      a.href = window.URL.createObjectURL(blob);\n",
              "      a.download = filename;\n",
              "      div.appendChild(a);\n",
              "      a.click();\n",
              "      div.remove();\n",
              "    }\n",
              "  "
            ]
          },
          "metadata": {}
        },
        {
          "output_type": "display_data",
          "data": {
            "text/plain": [
              "<IPython.core.display.Javascript object>"
            ],
            "application/javascript": [
              "download(\"download_c406e355-d6b3-4d2a-8f8f-f13cc464e33d\", \"metadata.tsv\", 80388)"
            ]
          },
          "metadata": {}
        }
      ],
      "source": [
        "# Download files from colab to upload to projector\n",
        "try:\n",
        "  from google.colab import files\n",
        "  files.download('vectors.tsv')\n",
        "  files.download('metadata.tsv')\n",
        "except Exception:\n",
        "  pass"
      ]
    },
    {
      "cell_type": "markdown",
      "metadata": {
        "id": "iq3aI0jE6yV9"
      },
      "source": [
        "To Learn more about the embeddings, follow\n",
        "* Jay Alammar's visualized word2vec post: https://jalammar.github.io/illustrated-word2vec/\n",
        "* TensorFlow's Word Embeddings guide: https://www.tensorflow.org/text/guide/word_embeddings"
      ]
    },
    {
      "cell_type": "markdown",
      "metadata": {
        "id": "cg5Xjog981hc"
      },
      "source": [
        "## Recurrent Neural Networks (RNN's)\n",
        "\n",
        "RNN's are useful for sequence data.\n",
        "\n",
        "The premise of a recurrent neural network is to use the representation of a previous input to aid the representation of a later input.\n",
        "\n",
        "If you want an overview of the internals of a recurrent neural network, see the following:\n",
        "- MIT's sequence modelling lecture:  https://youtu.be/ySEx_Bqxvvo?si=Tbxca56GiMsOGFse\n",
        "- Chris Olah's intro to LSTMs: https://colah.github.io/posts/2015-08-Understanding-LSTMs/\n",
        "- Andrej karpathy's The unreasonable effectiveness of RNNs: https://karpathy.github.io/2015/05/21/rnn-effectiveness/\n"
      ]
    },
    {
      "cell_type": "markdown",
      "metadata": {
        "id": "nm51SSjn8rgJ"
      },
      "source": [
        "### Model 2: LSTM\n",
        "\n",
        "LSTM - long short term memory (one of the most popular LSTM cells)\n",
        "\n",
        "Our structure of an RNN typically looks this:\n",
        "```\n",
        "Input (text) -> Tokenize -> Embedding -> Layers (RNNs/dense) -> Output (label probability)\n",
        "```"
      ]
    },
    {
      "cell_type": "code",
      "execution_count": 54,
      "metadata": {
        "id": "gyPVfboN_ACK",
        "colab": {
          "base_uri": "https://localhost:8080/"
        },
        "outputId": "74fd1e54-aa30-4b92-d63d-a90430d0f20c"
      },
      "outputs": [
        {
          "output_type": "stream",
          "name": "stdout",
          "text": [
            "(None, 15, 128)\n"
          ]
        },
        {
          "output_type": "stream",
          "name": "stderr",
          "text": [
            "WARNING:tensorflow:Layer lstm_1 will not use cuDNN kernels since it doesn't meet the criteria. It will use a generic GPU kernel as fallback when running on GPU.\n"
          ]
        },
        {
          "output_type": "stream",
          "name": "stdout",
          "text": [
            "(None, 15, 64)\n",
            "(None, 64)\n",
            "(None, 64)\n"
          ]
        }
      ],
      "source": [
        "# Create an LSTM model\n",
        "from tensorflow.keras import layers\n",
        "inputs = layers.Input(shape=(1,), dtype=\"string\")\n",
        "x = text_vectorizer(inputs)\n",
        "x = embedding(x)\n",
        "print(x.shape)\n",
        "x = layers.LSTM(units=64, return_sequences=True)(x) # when you're stacking RNN cells together, you need to set the return_sequences = True\n",
        "print(x.shape)\n",
        "x = layers.LSTM(64, activation=\"relu\")(x)\n",
        "print(x.shape)\n",
        "x = layers.Dense (64, activation=\"relu\")(x)\n",
        "print(x.shape)\n",
        "outputs = layers.Dense(1, activation=\"sigmoid\")(x)\n",
        "model_2 = tf.keras.Model(inputs, outputs, name=\"model_2_LSTM\")"
      ]
    },
    {
      "cell_type": "code",
      "execution_count": 55,
      "metadata": {
        "id": "3u0jkHTLAQov",
        "colab": {
          "base_uri": "https://localhost:8080/"
        },
        "outputId": "63575062-8eb7-4c4c-9e7c-d4433a2835a3"
      },
      "outputs": [
        {
          "output_type": "stream",
          "name": "stdout",
          "text": [
            "Model: \"model_2_LSTM\"\n",
            "_________________________________________________________________\n",
            " Layer (type)                Output Shape              Param #   \n",
            "=================================================================\n",
            " input_2 (InputLayer)        [(None, 1)]               0         \n",
            "                                                                 \n",
            " text_vectorization_1 (Text  (None, 15)                0         \n",
            " Vectorization)                                                  \n",
            "                                                                 \n",
            " embedding (Embedding)       (None, 15, 128)           1280000   \n",
            "                                                                 \n",
            " lstm (LSTM)                 (None, 15, 64)            49408     \n",
            "                                                                 \n",
            " lstm_1 (LSTM)               (None, 64)                33024     \n",
            "                                                                 \n",
            " dense_1 (Dense)             (None, 64)                4160      \n",
            "                                                                 \n",
            " dense_2 (Dense)             (None, 1)                 65        \n",
            "                                                                 \n",
            "=================================================================\n",
            "Total params: 1366657 (5.21 MB)\n",
            "Trainable params: 1366657 (5.21 MB)\n",
            "Non-trainable params: 0 (0.00 Byte)\n",
            "_________________________________________________________________\n"
          ]
        }
      ],
      "source": [
        "# Get a summary\n",
        "model_2.summary()"
      ]
    },
    {
      "cell_type": "code",
      "execution_count": 56,
      "metadata": {
        "id": "ZoD37djzBWEo"
      },
      "outputs": [],
      "source": [
        "# Compile the model\n",
        "model_2.compile(loss=\"binary_crossentropy\",\n",
        "                optimizer = tf.keras.optimizers.Adam(),\n",
        "                metrics=[\"Accuracy\"])"
      ]
    },
    {
      "cell_type": "code",
      "execution_count": 57,
      "metadata": {
        "colab": {
          "base_uri": "https://localhost:8080/"
        },
        "id": "G9-McxgCBiCM",
        "outputId": "b725ea33-d078-438b-aac6-452e0b6d4511"
      },
      "outputs": [
        {
          "output_type": "stream",
          "name": "stdout",
          "text": [
            "Saving TensorBoard log files to: model_logs/model_2_LSTM/20231120-134156\n",
            "Epoch 1/5\n",
            "215/215 [==============================] - 22s 73ms/step - loss: 0.2312 - Accuracy: 0.9240 - val_loss: 0.5430 - val_Accuracy: 0.7913\n",
            "Epoch 2/5\n",
            "215/215 [==============================] - 9s 42ms/step - loss: 0.1598 - Accuracy: 0.9393 - val_loss: 0.6484 - val_Accuracy: 0.7848\n",
            "Epoch 3/5\n",
            "215/215 [==============================] - 9s 40ms/step - loss: 0.1351 - Accuracy: 0.9470 - val_loss: 0.7914 - val_Accuracy: 0.7887\n",
            "Epoch 4/5\n",
            "215/215 [==============================] - 10s 46ms/step - loss: 0.1075 - Accuracy: 0.9600 - val_loss: 0.8897 - val_Accuracy: 0.7717\n",
            "Epoch 5/5\n",
            "215/215 [==============================] - 8s 37ms/step - loss: 0.0920 - Accuracy: 0.9650 - val_loss: 1.3659 - val_Accuracy: 0.7756\n"
          ]
        }
      ],
      "source": [
        "# Fit the model\n",
        "model_2_history = model_2.fit(train_sentences,\n",
        "                              train_labels,\n",
        "                              epochs=5,\n",
        "                              validation_data=(val_sentences, val_labels),\n",
        "                              callbacks=[create_tensorboard_callback(SAVE_DIR,\n",
        "                                                                     \"model_2_LSTM\")])"
      ]
    },
    {
      "cell_type": "code",
      "execution_count": 58,
      "metadata": {
        "colab": {
          "base_uri": "https://localhost:8080/"
        },
        "id": "uWXSOoW0Bzza",
        "outputId": "868cbbbc-a3b1-4a9c-ec05-d703189ca31f"
      },
      "outputs": [
        {
          "output_type": "stream",
          "name": "stdout",
          "text": [
            "24/24 [==============================] - 1s 6ms/step\n"
          ]
        },
        {
          "output_type": "execute_result",
          "data": {
            "text/plain": [
              "array([[1.4525758e-03],\n",
              "       [6.9415510e-01],\n",
              "       [9.9999714e-01],\n",
              "       [6.8727937e-03],\n",
              "       [4.8899159e-07],\n",
              "       [9.9839920e-01],\n",
              "       [5.6137508e-01],\n",
              "       [9.9999976e-01],\n",
              "       [9.9998713e-01],\n",
              "       [1.9922067e-01]], dtype=float32)"
            ]
          },
          "metadata": {},
          "execution_count": 58
        }
      ],
      "source": [
        "# Make predictions with LSTM model\n",
        "model_2_pred_probs = model_2.predict(val_sentences)\n",
        "model_2_pred_probs[:10]"
      ]
    },
    {
      "cell_type": "code",
      "execution_count": 59,
      "metadata": {
        "colab": {
          "base_uri": "https://localhost:8080/"
        },
        "id": "q12F_peLCCnL",
        "outputId": "e7bb3a03-d2d2-4fe3-8efe-6e9d9b8318f4"
      },
      "outputs": [
        {
          "output_type": "execute_result",
          "data": {
            "text/plain": [
              "<tf.Tensor: shape=(10,), dtype=float32, numpy=array([0., 1., 1., 0., 0., 1., 1., 1., 1., 0.], dtype=float32)>"
            ]
          },
          "metadata": {},
          "execution_count": 59
        }
      ],
      "source": [
        "# Convert model 2 pred probs to labels\n",
        "model_2_preds = tf.squeeze(tf.round(model_2_pred_probs))\n",
        "model_2_preds[:10]"
      ]
    },
    {
      "cell_type": "code",
      "execution_count": 60,
      "metadata": {
        "colab": {
          "base_uri": "https://localhost:8080/"
        },
        "id": "2TXyJ7sGCUSb",
        "outputId": "3d844b0c-b4e6-46b0-85cf-ef8684dafe73"
      },
      "outputs": [
        {
          "output_type": "execute_result",
          "data": {
            "text/plain": [
              "{'accuracy': 77.55905511811024,\n",
              " 'precision': 0.785966232035941,\n",
              " 'recall': 0.7755905511811023,\n",
              " 'f1': 0.7704272789421559}"
            ]
          },
          "metadata": {},
          "execution_count": 60
        }
      ],
      "source": [
        "# Calculate model 2 results\n",
        "model_2_results = calculate_results(y_true=val_labels,\n",
        "                                    y_pred=model_2_preds)\n",
        "model_2_results"
      ]
    },
    {
      "cell_type": "code",
      "execution_count": 61,
      "metadata": {
        "colab": {
          "base_uri": "https://localhost:8080/"
        },
        "id": "c6dPQHRFCfxH",
        "outputId": "c4c570ca-4feb-4ebc-c029-82e88d08d78f"
      },
      "outputs": [
        {
          "output_type": "execute_result",
          "data": {
            "text/plain": [
              "{'accuracy': 79.26509186351706,\n",
              " 'precision': 0.8111390004213173,\n",
              " 'recall': 0.7926509186351706,\n",
              " 'f1': 0.7862189758049549}"
            ]
          },
          "metadata": {},
          "execution_count": 61
        }
      ],
      "source": [
        "# Baseline results\n",
        "baseline_results"
      ]
    },
    {
      "cell_type": "markdown",
      "metadata": {
        "id": "hBIpPBM7CkbP"
      },
      "source": [
        "### Model 3: GRU\n",
        "\n",
        "Another popular and effective RNN component is the GRU or gated recurrent unit.\n",
        "\n",
        "The GRU cell has similar features to an LSTM cell but has less parameters.\n",
        "\n",
        "For Reference:\n",
        "* https://en.wikipedia.org/wiki/Gated_recurrent_unit\n",
        "* https://towardsdatascience.com/understanding-gru-networks-2ef37df6c9be"
      ]
    },
    {
      "cell_type": "code",
      "execution_count": 62,
      "metadata": {
        "id": "HOUbK4azg6tA"
      },
      "outputs": [],
      "source": [
        "# Build an RNN using the GRU cell\n",
        "from tensorflow.keras import layers\n",
        "inputs = layers.Input(shape=(1,), dtype=tf.string)\n",
        "x = text_vectorizer(inputs)\n",
        "x = embedding(x)\n",
        "x = layers.GRU(64)(x)\n",
        "# x = layers.GRU(64, return_sequences=True)(x) # if you want to stack recurrent layers on top of each other, you need return sequences.\n",
        "# x = layers.LSTM(42, return_sequences=True)(x)\n",
        "# x = layers.GRU(99)(x)\n",
        "# x = layers.Dense(64, activation=\"relu\")\n",
        "outputs = layers.Dense(1, activation=\"sigmoid\")(x)\n",
        "model_3 = tf.keras.Model(inputs, outputs, name =\"model_3_GRU\")"
      ]
    },
    {
      "cell_type": "code",
      "execution_count": 63,
      "metadata": {
        "colab": {
          "base_uri": "https://localhost:8080/"
        },
        "id": "uv66yrOQoEwV",
        "outputId": "62d068e7-4666-446d-cd72-87845fb3a329"
      },
      "outputs": [
        {
          "output_type": "stream",
          "name": "stdout",
          "text": [
            "Model: \"model_3_GRU\"\n",
            "_________________________________________________________________\n",
            " Layer (type)                Output Shape              Param #   \n",
            "=================================================================\n",
            " input_3 (InputLayer)        [(None, 1)]               0         \n",
            "                                                                 \n",
            " text_vectorization_1 (Text  (None, 15)                0         \n",
            " Vectorization)                                                  \n",
            "                                                                 \n",
            " embedding (Embedding)       (None, 15, 128)           1280000   \n",
            "                                                                 \n",
            " gru (GRU)                   (None, 64)                37248     \n",
            "                                                                 \n",
            " dense_3 (Dense)             (None, 1)                 65        \n",
            "                                                                 \n",
            "=================================================================\n",
            "Total params: 1317313 (5.03 MB)\n",
            "Trainable params: 1317313 (5.03 MB)\n",
            "Non-trainable params: 0 (0.00 Byte)\n",
            "_________________________________________________________________\n"
          ]
        }
      ],
      "source": [
        "# Get a summary\n",
        "model_3.summary()"
      ]
    },
    {
      "cell_type": "code",
      "execution_count": 64,
      "metadata": {
        "id": "m2EdFdq_p0_V"
      },
      "outputs": [],
      "source": [
        "# Compile the model\n",
        "model_3.compile(loss=\"binary_crossentropy\",\n",
        "                optimizer=tf.keras.optimizers.Adam(),\n",
        "                metrics=[\"accuracy\"])"
      ]
    },
    {
      "cell_type": "code",
      "execution_count": 65,
      "metadata": {
        "colab": {
          "base_uri": "https://localhost:8080/"
        },
        "id": "52gGf8VLH02d",
        "outputId": "fb75b95e-29ae-45f9-a043-e016b00fb3dd"
      },
      "outputs": [
        {
          "output_type": "stream",
          "name": "stdout",
          "text": [
            "Saving TensorBoard log files to: model_logs/model_3_GRU/20231120-134323\n",
            "Epoch 1/5\n",
            "215/215 [==============================] - 12s 45ms/step - loss: 0.1578 - accuracy: 0.9404 - val_loss: 0.7608 - val_accuracy: 0.7743\n",
            "Epoch 2/5\n",
            "215/215 [==============================] - 3s 13ms/step - loss: 0.0827 - accuracy: 0.9679 - val_loss: 0.8284 - val_accuracy: 0.7782\n",
            "Epoch 3/5\n",
            "215/215 [==============================] - 3s 12ms/step - loss: 0.0735 - accuracy: 0.9721 - val_loss: 0.8848 - val_accuracy: 0.7782\n",
            "Epoch 4/5\n",
            "215/215 [==============================] - 2s 9ms/step - loss: 0.0625 - accuracy: 0.9736 - val_loss: 0.9938 - val_accuracy: 0.7703\n",
            "Epoch 5/5\n",
            "215/215 [==============================] - 2s 11ms/step - loss: 0.0554 - accuracy: 0.9781 - val_loss: 1.0286 - val_accuracy: 0.7717\n"
          ]
        }
      ],
      "source": [
        "# Fit the model\n",
        "model_3_history = model_3.fit(train_sentences,\n",
        "                              train_labels,\n",
        "                              epochs=5,\n",
        "                              validation_data=(val_sentences, val_labels),\n",
        "                              callbacks=[create_tensorboard_callback(SAVE_DIR,\n",
        "                                                                     \"model_3_GRU\")])"
      ]
    },
    {
      "cell_type": "code",
      "execution_count": 66,
      "metadata": {
        "colab": {
          "base_uri": "https://localhost:8080/"
        },
        "id": "BYnTnH44INUZ",
        "outputId": "07f031ed-c103-40f8-cd48-0e3db8cddff0"
      },
      "outputs": [
        {
          "output_type": "stream",
          "name": "stdout",
          "text": [
            "24/24 [==============================] - 0s 3ms/step\n"
          ]
        },
        {
          "output_type": "execute_result",
          "data": {
            "text/plain": [
              "array([[2.48537562e-03],\n",
              "       [6.23965144e-01],\n",
              "       [9.99436200e-01],\n",
              "       [7.26148635e-02],\n",
              "       [1.67730599e-04],\n",
              "       [9.98975873e-01],\n",
              "       [3.77722502e-01],\n",
              "       [9.99883771e-01],\n",
              "       [9.99713123e-01],\n",
              "       [6.08956516e-01],\n",
              "       [9.91062378e-04],\n",
              "       [5.70813537e-01],\n",
              "       [2.87266244e-04],\n",
              "       [2.54409999e-01],\n",
              "       [1.44100253e-04],\n",
              "       [2.97396630e-03],\n",
              "       [2.41525564e-03],\n",
              "       [7.00748176e-04],\n",
              "       [4.53295857e-02],\n",
              "       [9.99283969e-01],\n",
              "       [9.99830842e-01],\n",
              "       [9.85414590e-05],\n",
              "       [9.99574721e-01],\n",
              "       [3.12771229e-03],\n",
              "       [9.99678731e-01],\n",
              "       [9.99774396e-01],\n",
              "       [1.60937489e-03],\n",
              "       [7.59274699e-04],\n",
              "       [1.23116421e-03],\n",
              "       [6.65229857e-01],\n",
              "       [8.38325083e-01],\n",
              "       [1.13365811e-03],\n",
              "       [1.70160577e-01],\n",
              "       [1.13171358e-02],\n",
              "       [4.56255913e-01],\n",
              "       [2.26245657e-01],\n",
              "       [9.99221921e-01],\n",
              "       [1.41496301e-01],\n",
              "       [5.96775711e-02],\n",
              "       [9.99784052e-01],\n",
              "       [3.92378271e-01],\n",
              "       [8.20887799e-05],\n",
              "       [3.27548273e-02],\n",
              "       [6.39236532e-04],\n",
              "       [9.83373404e-01],\n",
              "       [9.99222279e-01],\n",
              "       [9.96175170e-01],\n",
              "       [9.70702946e-01],\n",
              "       [1.88093986e-02],\n",
              "       [1.17134199e-01],\n",
              "       [6.75838161e-03],\n",
              "       [4.41655904e-01],\n",
              "       [4.62624989e-02],\n",
              "       [2.08201632e-02],\n",
              "       [7.04757333e-01],\n",
              "       [2.04634350e-02],\n",
              "       [5.07180113e-03],\n",
              "       [9.99684453e-01],\n",
              "       [5.82210370e-04],\n",
              "       [4.16671421e-04],\n",
              "       [7.41066188e-02],\n",
              "       [9.99584734e-01],\n",
              "       [9.82865512e-01],\n",
              "       [8.30473192e-03],\n",
              "       [9.99871612e-01],\n",
              "       [9.99846220e-01],\n",
              "       [9.72611606e-01],\n",
              "       [8.80096201e-03],\n",
              "       [9.90308940e-01],\n",
              "       [1.02923281e-01],\n",
              "       [4.17527445e-02],\n",
              "       [4.64795381e-02],\n",
              "       [9.99508262e-01],\n",
              "       [1.02879293e-03],\n",
              "       [7.28015721e-01],\n",
              "       [9.88826513e-01],\n",
              "       [9.04738978e-02],\n",
              "       [9.99056160e-01],\n",
              "       [1.82478845e-01],\n",
              "       [2.63546109e-01],\n",
              "       [7.72397360e-03],\n",
              "       [1.22195929e-01],\n",
              "       [9.99781907e-01],\n",
              "       [9.30742593e-04],\n",
              "       [7.03207031e-03],\n",
              "       [4.93103825e-03],\n",
              "       [8.34089005e-04],\n",
              "       [7.87891157e-04],\n",
              "       [1.03849620e-02],\n",
              "       [9.99451458e-01],\n",
              "       [9.99447167e-01],\n",
              "       [2.40574736e-04],\n",
              "       [9.37825799e-01],\n",
              "       [3.65187851e-04],\n",
              "       [9.99729812e-01],\n",
              "       [7.09301770e-01],\n",
              "       [7.71445632e-01],\n",
              "       [9.99822915e-01],\n",
              "       [9.98940051e-01],\n",
              "       [9.94350016e-01],\n",
              "       [9.99940634e-01],\n",
              "       [6.93720253e-03],\n",
              "       [9.47709996e-05],\n",
              "       [9.53259587e-01],\n",
              "       [9.99205649e-01],\n",
              "       [6.31030500e-02],\n",
              "       [9.57411826e-01],\n",
              "       [9.93078649e-01],\n",
              "       [1.16091163e-03],\n",
              "       [9.98814702e-01],\n",
              "       [9.90603268e-01],\n",
              "       [3.01417895e-04],\n",
              "       [9.78412211e-01],\n",
              "       [1.11995533e-03],\n",
              "       [3.75352713e-04],\n",
              "       [1.83017440e-02],\n",
              "       [6.49180293e-01],\n",
              "       [9.96285677e-01],\n",
              "       [2.03920025e-02],\n",
              "       [7.46304169e-04],\n",
              "       [9.99862790e-01],\n",
              "       [3.71589791e-04],\n",
              "       [2.48543889e-04],\n",
              "       [7.88890123e-01],\n",
              "       [6.78047491e-03],\n",
              "       [6.24740450e-03],\n",
              "       [9.99545395e-01],\n",
              "       [1.97349596e-04],\n",
              "       [1.36865862e-03],\n",
              "       [9.81027603e-01],\n",
              "       [9.20190290e-03],\n",
              "       [9.99862790e-01],\n",
              "       [9.99868393e-01],\n",
              "       [9.99774396e-01],\n",
              "       [9.99359190e-01],\n",
              "       [3.34593304e-03],\n",
              "       [9.99534130e-01],\n",
              "       [9.10505652e-02],\n",
              "       [8.31449684e-03],\n",
              "       [8.39747896e-04],\n",
              "       [9.99849319e-01],\n",
              "       [8.69596422e-01],\n",
              "       [2.54409999e-01],\n",
              "       [9.98208761e-01],\n",
              "       [1.31464079e-01],\n",
              "       [5.30746318e-02],\n",
              "       [5.55126113e-04],\n",
              "       [1.36088114e-04],\n",
              "       [4.09704536e-01],\n",
              "       [9.99375761e-01],\n",
              "       [2.29189848e-03],\n",
              "       [2.57624257e-02],\n",
              "       [2.77072508e-02],\n",
              "       [2.85950809e-04],\n",
              "       [5.11113647e-03],\n",
              "       [9.98900056e-01],\n",
              "       [9.42314088e-01],\n",
              "       [2.49924008e-02],\n",
              "       [9.90942299e-01],\n",
              "       [2.48747761e-04],\n",
              "       [9.99523044e-01],\n",
              "       [2.42893491e-02],\n",
              "       [1.33037388e-01],\n",
              "       [9.95559216e-01],\n",
              "       [1.00951008e-01],\n",
              "       [1.77629758e-04],\n",
              "       [9.99728143e-01],\n",
              "       [1.00707904e-01],\n",
              "       [9.99785483e-01],\n",
              "       [9.10016716e-01],\n",
              "       [9.99598205e-01],\n",
              "       [9.95799959e-01],\n",
              "       [9.99131382e-01],\n",
              "       [4.20856726e-04],\n",
              "       [9.99946117e-01],\n",
              "       [3.78919230e-03],\n",
              "       [2.94949450e-02],\n",
              "       [6.01483472e-02],\n",
              "       [7.13124037e-01],\n",
              "       [9.99515891e-01],\n",
              "       [1.42075343e-03],\n",
              "       [9.95272100e-01],\n",
              "       [9.99502063e-01],\n",
              "       [9.99788821e-01],\n",
              "       [9.99764860e-01],\n",
              "       [1.72094116e-03],\n",
              "       [7.39152601e-04],\n",
              "       [9.99913692e-01],\n",
              "       [2.04334428e-04],\n",
              "       [9.41351245e-05],\n",
              "       [6.38358574e-03],\n",
              "       [9.52526152e-01],\n",
              "       [2.02100934e-03],\n",
              "       [3.95266077e-04],\n",
              "       [2.43818198e-04],\n",
              "       [2.05950579e-03],\n",
              "       [6.61035301e-04],\n",
              "       [2.43316055e-03],\n",
              "       [9.99265373e-01],\n",
              "       [8.86247866e-03],\n",
              "       [2.60695219e-02],\n",
              "       [9.99738634e-01],\n",
              "       [9.99383211e-01],\n",
              "       [7.62946950e-03],\n",
              "       [6.20755600e-04],\n",
              "       [9.99624133e-01],\n",
              "       [9.99531269e-01],\n",
              "       [9.99515772e-01],\n",
              "       [9.99489546e-01],\n",
              "       [9.93930340e-01],\n",
              "       [3.14899713e-01],\n",
              "       [9.99566019e-01],\n",
              "       [4.39134485e-04],\n",
              "       [4.38259495e-03],\n",
              "       [3.46578570e-04],\n",
              "       [1.20032513e-04],\n",
              "       [9.99796212e-01],\n",
              "       [9.29658473e-01],\n",
              "       [9.95954990e-01],\n",
              "       [2.01850697e-01],\n",
              "       [3.62294078e-01],\n",
              "       [1.16325950e-03],\n",
              "       [2.36602239e-02],\n",
              "       [9.62942280e-03],\n",
              "       [9.99500275e-01],\n",
              "       [1.03511833e-01],\n",
              "       [1.16704874e-01],\n",
              "       [9.99919295e-01],\n",
              "       [9.86360192e-01],\n",
              "       [9.38457608e-01],\n",
              "       [2.83544970e-04],\n",
              "       [3.37230321e-03],\n",
              "       [9.79564786e-01],\n",
              "       [3.16700429e-01],\n",
              "       [2.40195364e-01],\n",
              "       [4.99865040e-02],\n",
              "       [5.65172374e-01],\n",
              "       [2.03717444e-02],\n",
              "       [1.49109762e-03],\n",
              "       [2.34005018e-03],\n",
              "       [9.79645312e-01],\n",
              "       [1.12895640e-02],\n",
              "       [9.99626875e-01],\n",
              "       [9.99444067e-01],\n",
              "       [9.06314817e-04],\n",
              "       [2.93439138e-04],\n",
              "       [9.99424696e-01],\n",
              "       [3.31499148e-04],\n",
              "       [1.63147785e-02],\n",
              "       [2.40341157e-01],\n",
              "       [7.46062724e-04],\n",
              "       [9.98773277e-01],\n",
              "       [6.47045890e-05],\n",
              "       [1.40314912e-02],\n",
              "       [9.99523997e-01],\n",
              "       [1.14387900e-01],\n",
              "       [9.98924911e-01],\n",
              "       [9.99883056e-01],\n",
              "       [2.44793184e-02],\n",
              "       [4.09361965e-04],\n",
              "       [1.97978364e-03],\n",
              "       [6.94721122e-04],\n",
              "       [6.81613965e-05],\n",
              "       [9.98828828e-01],\n",
              "       [9.99735177e-01],\n",
              "       [3.23712602e-02],\n",
              "       [9.98960495e-01],\n",
              "       [1.48546335e-03],\n",
              "       [6.23210100e-03],\n",
              "       [6.88975677e-04],\n",
              "       [6.52949966e-04],\n",
              "       [2.40858441e-04],\n",
              "       [9.99324918e-01],\n",
              "       [4.92482120e-03],\n",
              "       [1.76450441e-04],\n",
              "       [9.99229789e-01],\n",
              "       [7.38261035e-04],\n",
              "       [6.55572861e-04],\n",
              "       [9.98923719e-01],\n",
              "       [4.96806577e-04],\n",
              "       [1.11752436e-01],\n",
              "       [2.46469601e-04],\n",
              "       [9.99532819e-01],\n",
              "       [7.87091792e-01],\n",
              "       [4.26619411e-01],\n",
              "       [1.16469376e-01],\n",
              "       [9.86401498e-01],\n",
              "       [2.38868059e-03],\n",
              "       [9.97809827e-01],\n",
              "       [3.23090330e-02],\n",
              "       [9.71345961e-01],\n",
              "       [9.86235917e-01],\n",
              "       [8.92338157e-01],\n",
              "       [1.19748442e-02],\n",
              "       [8.32895748e-04],\n",
              "       [5.83356321e-01],\n",
              "       [5.16509525e-02],\n",
              "       [1.14163477e-02],\n",
              "       [3.34125827e-03],\n",
              "       [6.77157938e-02],\n",
              "       [5.55422921e-05],\n",
              "       [2.32809922e-03],\n",
              "       [1.76803358e-02],\n",
              "       [9.99715507e-01],\n",
              "       [7.34697422e-03],\n",
              "       [3.90753746e-02],\n",
              "       [3.50119442e-01],\n",
              "       [1.33640856e-01],\n",
              "       [7.56007135e-02],\n",
              "       [8.22463131e-04],\n",
              "       [2.68857344e-04],\n",
              "       [9.98581290e-01],\n",
              "       [1.61910549e-01],\n",
              "       [2.67980367e-01],\n",
              "       [9.99904633e-01],\n",
              "       [8.14680650e-04],\n",
              "       [8.62199485e-01],\n",
              "       [9.61483270e-02],\n",
              "       [5.91398356e-03],\n",
              "       [1.02101386e-01],\n",
              "       [1.17321755e-03],\n",
              "       [3.00159287e-02],\n",
              "       [9.96621013e-01],\n",
              "       [2.01067433e-01],\n",
              "       [9.99540210e-01],\n",
              "       [3.05691779e-01],\n",
              "       [2.70508812e-04],\n",
              "       [9.99632359e-01],\n",
              "       [3.81970051e-04],\n",
              "       [9.99688029e-01],\n",
              "       [7.55542517e-03],\n",
              "       [7.71659054e-03],\n",
              "       [9.99637127e-01],\n",
              "       [9.81668942e-04],\n",
              "       [9.23624088e-04],\n",
              "       [9.99041855e-01],\n",
              "       [1.58855249e-03],\n",
              "       [1.01133510e-02],\n",
              "       [9.84630764e-01],\n",
              "       [9.96798992e-01],\n",
              "       [1.09806795e-04],\n",
              "       [4.71837446e-02],\n",
              "       [9.99439657e-01],\n",
              "       [9.99866605e-01],\n",
              "       [9.97846365e-01],\n",
              "       [1.08977355e-01],\n",
              "       [9.74681497e-01],\n",
              "       [9.97276247e-01],\n",
              "       [1.15002859e-02],\n",
              "       [8.47621879e-04],\n",
              "       [6.10644929e-02],\n",
              "       [1.72716573e-01],\n",
              "       [2.44503550e-04],\n",
              "       [1.16884060e-01],\n",
              "       [6.46502912e-01],\n",
              "       [1.70645639e-04],\n",
              "       [9.99378204e-01],\n",
              "       [9.99774396e-01],\n",
              "       [9.99788225e-01],\n",
              "       [1.28478534e-03],\n",
              "       [2.07772031e-01],\n",
              "       [1.31084546e-01],\n",
              "       [1.94004178e-01],\n",
              "       [9.91607308e-01],\n",
              "       [2.77139068e-01],\n",
              "       [3.08154675e-04],\n",
              "       [7.11195054e-04],\n",
              "       [1.15350296e-03],\n",
              "       [9.93204594e-01],\n",
              "       [1.05425098e-03],\n",
              "       [1.06776375e-02],\n",
              "       [8.08382872e-04],\n",
              "       [3.81208141e-03],\n",
              "       [1.66315377e-01],\n",
              "       [9.92043972e-01],\n",
              "       [9.10812318e-02],\n",
              "       [3.54018266e-04],\n",
              "       [4.80023846e-02],\n",
              "       [1.93104183e-03],\n",
              "       [9.99779284e-01],\n",
              "       [9.99102354e-01],\n",
              "       [4.85133141e-01],\n",
              "       [9.20179129e-01],\n",
              "       [1.64649027e-04],\n",
              "       [8.44015360e-01],\n",
              "       [9.99734223e-01],\n",
              "       [9.13130045e-01],\n",
              "       [1.08341493e-01],\n",
              "       [9.96227622e-01],\n",
              "       [2.17759609e-02],\n",
              "       [9.99826610e-01],\n",
              "       [1.75595004e-02],\n",
              "       [8.18846002e-03],\n",
              "       [6.67862833e-01],\n",
              "       [1.11101558e-02],\n",
              "       [9.99539971e-01],\n",
              "       [1.01729318e-01],\n",
              "       [2.11884530e-04],\n",
              "       [9.79332021e-04],\n",
              "       [2.77139068e-01],\n",
              "       [9.99963522e-01],\n",
              "       [1.11718473e-04],\n",
              "       [2.13199958e-01],\n",
              "       [9.99886632e-01],\n",
              "       [9.46637883e-05],\n",
              "       [9.99862790e-01],\n",
              "       [3.15631158e-03],\n",
              "       [6.31467905e-03],\n",
              "       [4.24246915e-04],\n",
              "       [9.98534322e-01],\n",
              "       [9.96715426e-01],\n",
              "       [2.97777914e-03],\n",
              "       [3.91105976e-04],\n",
              "       [9.94411647e-01],\n",
              "       [9.99648094e-01],\n",
              "       [6.13307893e-01],\n",
              "       [3.97769589e-04],\n",
              "       [5.84605196e-03],\n",
              "       [4.67869528e-02],\n",
              "       [9.45718610e-04],\n",
              "       [9.99712050e-01],\n",
              "       [5.70117056e-01],\n",
              "       [9.99839187e-01],\n",
              "       [9.99587834e-01],\n",
              "       [4.36057933e-02],\n",
              "       [4.15843353e-02],\n",
              "       [2.11823382e-03],\n",
              "       [9.97870445e-01],\n",
              "       [9.92698967e-01],\n",
              "       [9.83145893e-01],\n",
              "       [1.54063301e-02],\n",
              "       [6.69795694e-03],\n",
              "       [2.77111190e-03],\n",
              "       [2.87977833e-04],\n",
              "       [4.95588267e-03],\n",
              "       [3.04812547e-02],\n",
              "       [9.76964295e-01],\n",
              "       [2.45990907e-03],\n",
              "       [9.99842405e-01],\n",
              "       [9.99763310e-01],\n",
              "       [8.21948331e-03],\n",
              "       [6.23965144e-01],\n",
              "       [3.46248690e-03],\n",
              "       [1.72718486e-03],\n",
              "       [2.43630171e-01],\n",
              "       [9.96294916e-01],\n",
              "       [5.26910787e-03],\n",
              "       [7.32121393e-02],\n",
              "       [3.00868647e-04],\n",
              "       [9.22402646e-03],\n",
              "       [4.64029690e-05],\n",
              "       [9.99572217e-01],\n",
              "       [9.92788255e-01],\n",
              "       [9.99662995e-01],\n",
              "       [9.44077134e-01],\n",
              "       [7.56360531e-01],\n",
              "       [6.32941397e-03],\n",
              "       [1.61079588e-04],\n",
              "       [9.74496245e-01],\n",
              "       [9.98025894e-01],\n",
              "       [9.99664426e-01],\n",
              "       [5.62760921e-04],\n",
              "       [1.76009592e-02],\n",
              "       [1.01528794e-03],\n",
              "       [9.99731243e-01],\n",
              "       [9.99629498e-01],\n",
              "       [1.00325630e-03],\n",
              "       [4.53140121e-03],\n",
              "       [9.99916434e-01],\n",
              "       [6.82510901e-03],\n",
              "       [1.12129962e-02],\n",
              "       [9.87413645e-01],\n",
              "       [1.29882991e-03],\n",
              "       [2.60334485e-03],\n",
              "       [9.90640163e-01],\n",
              "       [3.46964002e-01],\n",
              "       [1.00278452e-01],\n",
              "       [9.99914885e-01],\n",
              "       [3.55730823e-04],\n",
              "       [3.86079517e-03],\n",
              "       [1.43210418e-04],\n",
              "       [1.15167051e-04],\n",
              "       [2.25484790e-03],\n",
              "       [9.99650002e-01],\n",
              "       [4.80280083e-04],\n",
              "       [5.77430546e-01],\n",
              "       [9.69267726e-01],\n",
              "       [7.49825910e-02],\n",
              "       [9.84660760e-02],\n",
              "       [1.93608925e-04],\n",
              "       [2.88207270e-03],\n",
              "       [9.99800503e-01],\n",
              "       [9.99545038e-01],\n",
              "       [2.08325274e-02],\n",
              "       [7.57154718e-04],\n",
              "       [4.77162469e-03],\n",
              "       [4.37693496e-04],\n",
              "       [9.97860730e-01],\n",
              "       [7.42007396e-04],\n",
              "       [9.96402264e-01],\n",
              "       [9.85907853e-01],\n",
              "       [4.63124126e-01],\n",
              "       [9.35447216e-01],\n",
              "       [4.60166298e-02],\n",
              "       [1.81104448e-02],\n",
              "       [5.19727869e-03],\n",
              "       [3.82532060e-01],\n",
              "       [8.22548091e-01],\n",
              "       [5.26001632e-01],\n",
              "       [1.17160901e-01],\n",
              "       [1.38800754e-03],\n",
              "       [1.04738756e-04],\n",
              "       [8.07951204e-04],\n",
              "       [7.09134340e-02],\n",
              "       [1.26259580e-01],\n",
              "       [8.13843980e-02],\n",
              "       [9.99802053e-01],\n",
              "       [9.98983681e-01],\n",
              "       [7.09301770e-01],\n",
              "       [9.99511838e-01],\n",
              "       [5.78380972e-02],\n",
              "       [6.54086936e-03],\n",
              "       [9.98822987e-01],\n",
              "       [5.56726055e-03],\n",
              "       [2.28823116e-03],\n",
              "       [3.46996367e-01],\n",
              "       [9.88050282e-01],\n",
              "       [9.77501695e-05],\n",
              "       [9.75505650e-01],\n",
              "       [9.73433733e-01],\n",
              "       [9.99053061e-01],\n",
              "       [9.99006093e-01],\n",
              "       [2.84970901e-03],\n",
              "       [6.41615763e-02],\n",
              "       [8.87350023e-01],\n",
              "       [2.46706128e-04],\n",
              "       [3.86702269e-02],\n",
              "       [4.32646632e-01],\n",
              "       [9.97937083e-01],\n",
              "       [9.21478868e-01],\n",
              "       [8.50502774e-03],\n",
              "       [4.72648675e-03],\n",
              "       [8.97051275e-01],\n",
              "       [1.10048556e-03],\n",
              "       [1.31420596e-02],\n",
              "       [1.53880479e-04],\n",
              "       [2.63262361e-01],\n",
              "       [9.99782979e-01],\n",
              "       [9.96808350e-01],\n",
              "       [5.85448788e-03],\n",
              "       [9.99821007e-01],\n",
              "       [9.99687314e-01],\n",
              "       [7.42558768e-05],\n",
              "       [9.99570549e-01],\n",
              "       [6.24812245e-02],\n",
              "       [9.60785866e-01],\n",
              "       [1.53725386e-01],\n",
              "       [4.67039738e-03],\n",
              "       [5.95206220e-04],\n",
              "       [2.58628046e-04],\n",
              "       [2.26961961e-03],\n",
              "       [1.06726024e-04],\n",
              "       [8.58648539e-01],\n",
              "       [1.81130564e-03],\n",
              "       [9.99612272e-01],\n",
              "       [4.17922437e-03],\n",
              "       [9.91376877e-01],\n",
              "       [2.38591775e-01],\n",
              "       [4.63371677e-03],\n",
              "       [7.68760568e-04],\n",
              "       [9.99901295e-01],\n",
              "       [4.93864389e-03],\n",
              "       [9.99587595e-01],\n",
              "       [2.90463895e-01],\n",
              "       [2.91252695e-02],\n",
              "       [2.84324020e-01],\n",
              "       [1.51013152e-03],\n",
              "       [8.82090405e-02],\n",
              "       [9.99687314e-01],\n",
              "       [1.82268908e-04],\n",
              "       [9.90516855e-04],\n",
              "       [4.99813147e-02],\n",
              "       [9.99740303e-01],\n",
              "       [2.26146504e-02],\n",
              "       [7.76086992e-04],\n",
              "       [9.94712472e-01],\n",
              "       [9.67312881e-05],\n",
              "       [5.49930846e-04],\n",
              "       [1.23750418e-03],\n",
              "       [1.34321645e-01],\n",
              "       [8.64426699e-03],\n",
              "       [3.64360392e-01],\n",
              "       [8.78410935e-02],\n",
              "       [3.14759165e-02],\n",
              "       [2.31209327e-04],\n",
              "       [1.63551718e-02],\n",
              "       [2.02428972e-04],\n",
              "       [9.99163389e-01],\n",
              "       [9.96029615e-01],\n",
              "       [2.15865731e-01],\n",
              "       [2.79677159e-04],\n",
              "       [1.52933151e-02],\n",
              "       [9.99738634e-01],\n",
              "       [9.19357538e-01],\n",
              "       [9.99909878e-01],\n",
              "       [8.97190254e-03],\n",
              "       [9.91610229e-01],\n",
              "       [2.40895874e-03],\n",
              "       [9.92051840e-01],\n",
              "       [9.47587430e-01],\n",
              "       [2.77574873e-04],\n",
              "       [9.99457657e-01],\n",
              "       [3.58128957e-02],\n",
              "       [9.97619450e-01],\n",
              "       [9.99916792e-01],\n",
              "       [8.40192139e-02],\n",
              "       [5.51108329e-04],\n",
              "       [2.98810244e-01],\n",
              "       [2.39477624e-04],\n",
              "       [5.67044877e-03],\n",
              "       [9.99624133e-01],\n",
              "       [2.49674097e-01],\n",
              "       [9.98576641e-01],\n",
              "       [1.01879075e-01],\n",
              "       [9.99472797e-01],\n",
              "       [9.68978167e-01],\n",
              "       [4.27912101e-02],\n",
              "       [3.83817940e-04],\n",
              "       [9.09761727e-01],\n",
              "       [3.50519636e-04],\n",
              "       [1.48572996e-01],\n",
              "       [9.99782741e-01],\n",
              "       [9.97336805e-01],\n",
              "       [9.99818623e-01],\n",
              "       [9.99081492e-01],\n",
              "       [8.43385085e-02],\n",
              "       [9.76491630e-01],\n",
              "       [4.40881471e-04],\n",
              "       [3.82972002e-01],\n",
              "       [9.96944010e-01],\n",
              "       [9.99011278e-01],\n",
              "       [7.07376981e-04],\n",
              "       [9.77451742e-01],\n",
              "       [9.99693990e-01],\n",
              "       [7.76230218e-03],\n",
              "       [2.27967612e-02],\n",
              "       [1.17160901e-01],\n",
              "       [2.23802123e-03],\n",
              "       [6.90664828e-01],\n",
              "       [9.96703327e-01],\n",
              "       [9.99640822e-01],\n",
              "       [9.46151267e-04],\n",
              "       [3.75880161e-04],\n",
              "       [3.45955137e-04],\n",
              "       [8.90502334e-02],\n",
              "       [2.15599150e-03],\n",
              "       [5.23032509e-02],\n",
              "       [9.76154149e-01],\n",
              "       [2.61263282e-04],\n",
              "       [2.04678252e-01],\n",
              "       [1.17510654e-01],\n",
              "       [4.48415801e-02],\n",
              "       [9.99125779e-01],\n",
              "       [5.07975975e-03],\n",
              "       [9.65093791e-01],\n",
              "       [1.56787876e-02],\n",
              "       [5.26635195e-05],\n",
              "       [8.73034063e-04],\n",
              "       [9.99789536e-01],\n",
              "       [4.75355923e-01],\n",
              "       [1.55402930e-04],\n",
              "       [4.05748338e-01],\n",
              "       [3.31417233e-01],\n",
              "       [1.53218105e-04],\n",
              "       [9.99476969e-01],\n",
              "       [6.07390283e-03],\n",
              "       [8.03507149e-01],\n",
              "       [3.02278578e-01],\n",
              "       [5.95385116e-03],\n",
              "       [4.68678385e-01],\n",
              "       [9.17434245e-02],\n",
              "       [2.58893277e-02],\n",
              "       [9.99468029e-01],\n",
              "       [4.93206419e-02],\n",
              "       [1.17270388e-01],\n",
              "       [9.99747694e-01],\n",
              "       [4.54664052e-01],\n",
              "       [1.51189283e-01],\n",
              "       [9.77501695e-05],\n",
              "       [1.85706019e-01],\n",
              "       [6.48713559e-02],\n",
              "       [9.99862790e-01],\n",
              "       [8.58814955e-01],\n",
              "       [1.15859546e-02],\n",
              "       [9.99708354e-01],\n",
              "       [1.23117618e-01],\n",
              "       [9.98917341e-01],\n",
              "       [1.23117618e-01],\n",
              "       [9.99780715e-01],\n",
              "       [4.43899189e-04],\n",
              "       [1.22844996e-02],\n",
              "       [1.29524313e-04],\n",
              "       [9.99791920e-01],\n",
              "       [1.30145596e-02],\n",
              "       [1.11542968e-02],\n",
              "       [2.67023919e-04],\n",
              "       [8.00135173e-03],\n",
              "       [4.22573695e-03],\n",
              "       [1.63153256e-03],\n",
              "       [4.99090403e-02],\n",
              "       [2.15408718e-03],\n",
              "       [7.87920039e-03],\n",
              "       [9.81086791e-01],\n",
              "       [6.41197851e-03],\n",
              "       [5.45357317e-02],\n",
              "       [7.06136692e-04],\n",
              "       [2.11903534e-04],\n",
              "       [1.85579777e-01],\n",
              "       [9.91168976e-01],\n",
              "       [1.16197551e-02],\n",
              "       [8.75445362e-03],\n",
              "       [3.16156596e-02],\n",
              "       [9.94991720e-01],\n",
              "       [9.99334633e-01],\n",
              "       [9.85102146e-04],\n",
              "       [3.52796109e-04],\n",
              "       [2.63524591e-04],\n",
              "       [4.79892442e-05],\n",
              "       [9.99575198e-01],\n",
              "       [2.11903534e-04],\n",
              "       [4.99712937e-02],\n",
              "       [9.99107063e-01],\n",
              "       [9.99614477e-01],\n",
              "       [9.99705374e-01],\n",
              "       [9.99924898e-01],\n",
              "       [9.99979496e-01],\n",
              "       [9.35499440e-04],\n",
              "       [4.19442338e-04],\n",
              "       [7.16192573e-02],\n",
              "       [9.55240309e-01],\n",
              "       [9.99769390e-01],\n",
              "       [9.83671606e-01],\n",
              "       [2.84511782e-03],\n",
              "       [9.95147765e-01],\n",
              "       [6.75195038e-01],\n",
              "       [1.13313887e-04],\n",
              "       [5.27965836e-04],\n",
              "       [1.24341743e-02],\n",
              "       [4.85795066e-02],\n",
              "       [1.25893654e-04],\n",
              "       [1.73250232e-02],\n",
              "       [9.97010827e-01],\n",
              "       [9.99896049e-01],\n",
              "       [8.24165938e-04],\n",
              "       [9.99587476e-01],\n",
              "       [8.40260088e-01],\n",
              "       [7.30947778e-02],\n",
              "       [2.82909535e-02],\n",
              "       [1.85713604e-01],\n",
              "       [6.92065299e-01],\n",
              "       [1.78595074e-02],\n",
              "       [4.29723470e-04]], dtype=float32)"
            ]
          },
          "metadata": {},
          "execution_count": 66
        }
      ],
      "source": [
        "# Make some predictions with our GRU model\n",
        "model_3_pred_probs = model_3.predict(val_sentences)\n",
        "model_3_pred_probs"
      ]
    },
    {
      "cell_type": "code",
      "execution_count": 67,
      "metadata": {
        "colab": {
          "base_uri": "https://localhost:8080/"
        },
        "id": "8MweIh2II2XY",
        "outputId": "fe63b289-a094-46e2-acef-dd68fb0f63ea"
      },
      "outputs": [
        {
          "output_type": "execute_result",
          "data": {
            "text/plain": [
              "<tf.Tensor: shape=(10,), dtype=float32, numpy=array([0., 1., 1., 0., 0., 1., 0., 1., 1., 1.], dtype=float32)>"
            ]
          },
          "metadata": {},
          "execution_count": 67
        }
      ],
      "source": [
        "# Convert model 3 pred probs to labels\n",
        "model_3_preds = tf.squeeze(tf.round(model_3_pred_probs))\n",
        "model_3_preds[:10]"
      ]
    },
    {
      "cell_type": "code",
      "execution_count": 68,
      "metadata": {
        "colab": {
          "base_uri": "https://localhost:8080/"
        },
        "id": "oHucrFCMJG4l",
        "outputId": "be32c188-962c-49d3-95f1-e81b8959fdbc"
      },
      "outputs": [
        {
          "output_type": "execute_result",
          "data": {
            "text/plain": [
              "{'accuracy': 77.16535433070865,\n",
              " 'precision': 0.7744533306963004,\n",
              " 'recall': 0.7716535433070866,\n",
              " 'f1': 0.7690403853056418}"
            ]
          },
          "metadata": {},
          "execution_count": 68
        }
      ],
      "source": [
        "# Calculate model 3 results\n",
        "model_3_results = calculate_results(y_true=val_labels,\n",
        "                                    y_pred=model_3_preds)\n",
        "model_3_results"
      ]
    },
    {
      "cell_type": "code",
      "execution_count": 69,
      "metadata": {
        "colab": {
          "base_uri": "https://localhost:8080/"
        },
        "id": "Wj0OsUm-JaNo",
        "outputId": "2d51fb69-a3ce-4c52-c5ff-a7c33eaf8d53"
      },
      "outputs": [
        {
          "output_type": "execute_result",
          "data": {
            "text/plain": [
              "{'accuracy': 79.26509186351706,\n",
              " 'precision': 0.8111390004213173,\n",
              " 'recall': 0.7926509186351706,\n",
              " 'f1': 0.7862189758049549}"
            ]
          },
          "metadata": {},
          "execution_count": 69
        }
      ],
      "source": [
        "# Baseline results\n",
        "baseline_results"
      ]
    },
    {
      "cell_type": "markdown",
      "metadata": {
        "id": "CoFVH9riLMVV"
      },
      "source": [
        "### Model 4: Bidirectional RNN\n",
        "\n",
        "Normal RNN's go from left to right (just like you'd read an English sentence) however, a bidirectional RNN goes from right to left as well as left to right"
      ]
    },
    {
      "cell_type": "code",
      "execution_count": 70,
      "metadata": {
        "id": "RukwncoGO8yo"
      },
      "outputs": [],
      "source": [
        "# Build a Bidirectional RNN in TensorFlow\n",
        "from tensorflow.keras import layers\n",
        "inputs = layers.Input(shape=(1,), dtype=\"string\")\n",
        "x = text_vectorizer(inputs)\n",
        "x = embedding(x)\n",
        "# x = layers.Bidirectional(layers.LSTM(32, return_sequences=True))(x)\n",
        "x = layers.Bidirectional(layers.LSTM(64))(x)\n",
        "outputs = layers.Dense(1, activation=\"sigmoid\")(x)\n",
        "model_4 = tf.keras.Model(inputs, outputs, name=\"model_4_bidirectional\")"
      ]
    },
    {
      "cell_type": "code",
      "execution_count": 71,
      "metadata": {
        "colab": {
          "base_uri": "https://localhost:8080/"
        },
        "id": "Q8O7UHy7Q2RN",
        "outputId": "0db6db05-5827-4e6f-9886-63a2202f1323"
      },
      "outputs": [
        {
          "output_type": "stream",
          "name": "stdout",
          "text": [
            "Model: \"model_4_bidirectional\"\n",
            "_________________________________________________________________\n",
            " Layer (type)                Output Shape              Param #   \n",
            "=================================================================\n",
            " input_4 (InputLayer)        [(None, 1)]               0         \n",
            "                                                                 \n",
            " text_vectorization_1 (Text  (None, 15)                0         \n",
            " Vectorization)                                                  \n",
            "                                                                 \n",
            " embedding (Embedding)       (None, 15, 128)           1280000   \n",
            "                                                                 \n",
            " bidirectional (Bidirection  (None, 128)               98816     \n",
            " al)                                                             \n",
            "                                                                 \n",
            " dense_4 (Dense)             (None, 1)                 129       \n",
            "                                                                 \n",
            "=================================================================\n",
            "Total params: 1378945 (5.26 MB)\n",
            "Trainable params: 1378945 (5.26 MB)\n",
            "Non-trainable params: 0 (0.00 Byte)\n",
            "_________________________________________________________________\n"
          ]
        }
      ],
      "source": [
        "# Get a summary\n",
        "model_4.summary()"
      ]
    },
    {
      "cell_type": "code",
      "execution_count": 72,
      "metadata": {
        "id": "mSfzJjAkROzQ"
      },
      "outputs": [],
      "source": [
        "# Compile the model\n",
        "model_4.compile(loss=\"binary_crossentropy\",\n",
        "                optimizer=tf.keras.optimizers.Adam(),\n",
        "                metrics=[\"accuracy\"])"
      ]
    },
    {
      "cell_type": "code",
      "execution_count": 73,
      "metadata": {
        "colab": {
          "base_uri": "https://localhost:8080/"
        },
        "id": "iNQpJPLfSU2P",
        "outputId": "688fa5ae-e233-42bd-cc10-e0932f6be6ba"
      },
      "outputs": [
        {
          "output_type": "stream",
          "name": "stdout",
          "text": [
            "Saving TensorBoard log files to: model_logs/model_4_biderectional/20231120-134347\n",
            "Epoch 1/5\n",
            "215/215 [==============================] - 14s 48ms/step - loss: 0.1120 - accuracy: 0.9631 - val_loss: 0.9169 - val_accuracy: 0.7677\n",
            "Epoch 2/5\n",
            "215/215 [==============================] - 3s 13ms/step - loss: 0.0541 - accuracy: 0.9769 - val_loss: 1.2603 - val_accuracy: 0.7651\n",
            "Epoch 3/5\n",
            "215/215 [==============================] - 2s 10ms/step - loss: 0.0491 - accuracy: 0.9781 - val_loss: 1.2519 - val_accuracy: 0.7703\n",
            "Epoch 4/5\n",
            "215/215 [==============================] - 2s 9ms/step - loss: 0.0449 - accuracy: 0.9793 - val_loss: 1.2762 - val_accuracy: 0.7638\n",
            "Epoch 5/5\n",
            "215/215 [==============================] - 2s 9ms/step - loss: 0.0421 - accuracy: 0.9807 - val_loss: 1.3603 - val_accuracy: 0.7664\n"
          ]
        }
      ],
      "source": [
        "# Fit the model\n",
        "model_4.history = model_4.fit(train_sentences,\n",
        "                              train_labels,\n",
        "                              epochs=5,\n",
        "                              validation_data=(val_sentences, val_labels),\n",
        "                              callbacks=[create_tensorboard_callback(SAVE_DIR,\n",
        "                                                                     \"model_4_biderectional\")])"
      ]
    },
    {
      "cell_type": "code",
      "execution_count": 74,
      "metadata": {
        "colab": {
          "base_uri": "https://localhost:8080/"
        },
        "id": "FGAPQkKqSrPV",
        "outputId": "626e2883-ce4e-456b-c06f-a8fc23daad1c"
      },
      "outputs": [
        {
          "output_type": "stream",
          "name": "stdout",
          "text": [
            "24/24 [==============================] - 1s 5ms/step\n"
          ]
        },
        {
          "output_type": "execute_result",
          "data": {
            "text/plain": [
              "array([[2.31618396e-04],\n",
              "       [5.64719737e-01],\n",
              "       [9.98976231e-01],\n",
              "       [6.73546717e-02],\n",
              "       [1.98738271e-05],\n",
              "       [9.95513856e-01],\n",
              "       [1.59880985e-02],\n",
              "       [9.99949336e-01],\n",
              "       [9.99898195e-01],\n",
              "       [2.40104839e-01],\n",
              "       [5.36007065e-05],\n",
              "       [5.38415015e-01],\n",
              "       [4.46409103e-05],\n",
              "       [2.51334846e-01],\n",
              "       [2.98926334e-05],\n",
              "       [1.90727864e-04],\n",
              "       [3.11358381e-05],\n",
              "       [2.32026305e-05],\n",
              "       [3.11955321e-03],\n",
              "       [9.98154104e-01],\n",
              "       [9.68006968e-01],\n",
              "       [3.25321234e-05],\n",
              "       [9.99717772e-01],\n",
              "       [1.06246851e-04],\n",
              "       [9.99620914e-01],\n",
              "       [9.99925256e-01],\n",
              "       [6.83432445e-05],\n",
              "       [4.31836233e-04],\n",
              "       [5.80988089e-05],\n",
              "       [2.26380855e-01],\n",
              "       [3.26780170e-01],\n",
              "       [1.88172387e-04],\n",
              "       [5.81496395e-04],\n",
              "       [2.07167381e-04],\n",
              "       [6.64726552e-03],\n",
              "       [1.70009091e-01],\n",
              "       [9.99805987e-01],\n",
              "       [6.32084832e-02],\n",
              "       [3.78531730e-03],\n",
              "       [9.99762833e-01],\n",
              "       [1.41568169e-01],\n",
              "       [1.71667198e-05],\n",
              "       [2.26138206e-03],\n",
              "       [2.07500361e-05],\n",
              "       [8.48119974e-01],\n",
              "       [9.99647141e-01],\n",
              "       [9.79600132e-01],\n",
              "       [9.36619937e-01],\n",
              "       [1.20051997e-03],\n",
              "       [2.04679891e-01],\n",
              "       [6.11933210e-05],\n",
              "       [4.14263934e-01],\n",
              "       [9.01761581e-04],\n",
              "       [1.63300967e-04],\n",
              "       [5.15022278e-01],\n",
              "       [2.11263614e-04],\n",
              "       [5.50098957e-05],\n",
              "       [9.99292612e-01],\n",
              "       [6.43294770e-05],\n",
              "       [2.43369504e-05],\n",
              "       [3.58566083e-02],\n",
              "       [9.99723732e-01],\n",
              "       [9.68894601e-01],\n",
              "       [3.24750581e-04],\n",
              "       [9.99777019e-01],\n",
              "       [9.99967098e-01],\n",
              "       [8.39336395e-01],\n",
              "       [4.85464279e-03],\n",
              "       [8.88557374e-01],\n",
              "       [5.07477112e-03],\n",
              "       [1.10172923e-03],\n",
              "       [2.93674935e-02],\n",
              "       [9.99633431e-01],\n",
              "       [9.47392837e-04],\n",
              "       [6.62931474e-03],\n",
              "       [9.29065943e-01],\n",
              "       [2.14997097e-03],\n",
              "       [9.99337494e-01],\n",
              "       [2.69224532e-02],\n",
              "       [9.52391978e-03],\n",
              "       [2.32793565e-04],\n",
              "       [4.32656482e-02],\n",
              "       [9.99952078e-01],\n",
              "       [7.30813117e-05],\n",
              "       [3.92328075e-05],\n",
              "       [7.88447214e-05],\n",
              "       [3.32755735e-05],\n",
              "       [4.45356309e-05],\n",
              "       [1.45353581e-04],\n",
              "       [9.99809802e-01],\n",
              "       [9.99849677e-01],\n",
              "       [3.27305679e-05],\n",
              "       [9.70827043e-01],\n",
              "       [4.65746270e-05],\n",
              "       [9.99858379e-01],\n",
              "       [5.03687203e-01],\n",
              "       [2.67158538e-01],\n",
              "       [9.99291897e-01],\n",
              "       [9.96674299e-01],\n",
              "       [9.82708812e-01],\n",
              "       [9.99947548e-01],\n",
              "       [2.40981550e-04],\n",
              "       [7.82733787e-06],\n",
              "       [4.41680133e-01],\n",
              "       [9.97564197e-01],\n",
              "       [8.47438932e-04],\n",
              "       [9.58556831e-01],\n",
              "       [9.99584973e-01],\n",
              "       [2.92085206e-05],\n",
              "       [9.72802222e-01],\n",
              "       [9.85456884e-01],\n",
              "       [9.68738241e-05],\n",
              "       [7.75942020e-03],\n",
              "       [2.25362397e-04],\n",
              "       [7.87937679e-05],\n",
              "       [1.33848470e-03],\n",
              "       [1.28796220e-01],\n",
              "       [9.67768312e-01],\n",
              "       [2.91477860e-04],\n",
              "       [3.44831496e-05],\n",
              "       [9.99967813e-01],\n",
              "       [2.18248188e-05],\n",
              "       [2.53987382e-05],\n",
              "       [1.88458562e-01],\n",
              "       [1.91037252e-04],\n",
              "       [2.98425526e-04],\n",
              "       [9.98499274e-01],\n",
              "       [1.09700786e-05],\n",
              "       [9.57833981e-05],\n",
              "       [9.21187282e-01],\n",
              "       [1.06477790e-04],\n",
              "       [9.99967813e-01],\n",
              "       [9.99960065e-01],\n",
              "       [9.99925256e-01],\n",
              "       [9.99759376e-01],\n",
              "       [2.71149529e-05],\n",
              "       [9.99787390e-01],\n",
              "       [2.81345863e-02],\n",
              "       [5.26193355e-04],\n",
              "       [1.22094818e-04],\n",
              "       [9.99933362e-01],\n",
              "       [4.60403264e-01],\n",
              "       [2.51334846e-01],\n",
              "       [9.98957992e-01],\n",
              "       [8.29398334e-02],\n",
              "       [9.82970698e-04],\n",
              "       [1.99246879e-05],\n",
              "       [1.06155867e-05],\n",
              "       [1.57685159e-03],\n",
              "       [9.98200774e-01],\n",
              "       [9.68199747e-05],\n",
              "       [6.89978851e-03],\n",
              "       [3.57878045e-03],\n",
              "       [8.25595707e-05],\n",
              "       [1.79261115e-04],\n",
              "       [9.99639750e-01],\n",
              "       [9.05330122e-01],\n",
              "       [9.58035758e-04],\n",
              "       [9.88502502e-01],\n",
              "       [2.94496149e-05],\n",
              "       [9.99129117e-01],\n",
              "       [7.43160548e-04],\n",
              "       [1.81181100e-03],\n",
              "       [9.99353707e-01],\n",
              "       [9.56573151e-03],\n",
              "       [2.95817645e-05],\n",
              "       [9.99921083e-01],\n",
              "       [9.65410902e-04],\n",
              "       [9.99869585e-01],\n",
              "       [6.18707016e-02],\n",
              "       [9.99786198e-01],\n",
              "       [9.35902238e-01],\n",
              "       [9.96258736e-01],\n",
              "       [5.28084565e-05],\n",
              "       [9.99903679e-01],\n",
              "       [7.90613340e-05],\n",
              "       [2.80499342e-03],\n",
              "       [1.99727551e-03],\n",
              "       [2.30743453e-01],\n",
              "       [9.99853373e-01],\n",
              "       [4.31277404e-05],\n",
              "       [9.92595494e-01],\n",
              "       [9.97771919e-01],\n",
              "       [9.99922991e-01],\n",
              "       [9.99741971e-01],\n",
              "       [2.65944000e-05],\n",
              "       [7.56146255e-05],\n",
              "       [9.99968529e-01],\n",
              "       [3.47461355e-05],\n",
              "       [2.46125746e-05],\n",
              "       [3.53041250e-04],\n",
              "       [1.43429786e-01],\n",
              "       [2.63821603e-05],\n",
              "       [2.24512132e-05],\n",
              "       [2.18494533e-05],\n",
              "       [6.93132533e-05],\n",
              "       [5.95287565e-05],\n",
              "       [1.18348500e-04],\n",
              "       [9.95728552e-01],\n",
              "       [1.53251996e-04],\n",
              "       [2.57697306e-03],\n",
              "       [9.99866724e-01],\n",
              "       [9.99588311e-01],\n",
              "       [4.23935801e-03],\n",
              "       [4.84969605e-05],\n",
              "       [9.99916434e-01],\n",
              "       [9.99401212e-01],\n",
              "       [9.99444067e-01],\n",
              "       [6.70732260e-01],\n",
              "       [9.97101605e-01],\n",
              "       [2.22644806e-02],\n",
              "       [9.99768436e-01],\n",
              "       [3.09297393e-05],\n",
              "       [7.10138178e-04],\n",
              "       [1.18328544e-05],\n",
              "       [1.19129963e-05],\n",
              "       [9.99635935e-01],\n",
              "       [5.13586521e-01],\n",
              "       [9.91300523e-01],\n",
              "       [1.44273251e-01],\n",
              "       [1.94377340e-02],\n",
              "       [2.01620904e-04],\n",
              "       [2.24736927e-04],\n",
              "       [3.53813783e-04],\n",
              "       [9.99788225e-01],\n",
              "       [2.11323965e-02],\n",
              "       [2.07731780e-03],\n",
              "       [9.99918103e-01],\n",
              "       [8.58383954e-01],\n",
              "       [1.77289441e-03],\n",
              "       [1.14015256e-05],\n",
              "       [1.44129925e-04],\n",
              "       [9.92632568e-01],\n",
              "       [1.26204640e-01],\n",
              "       [9.55707282e-02],\n",
              "       [7.84535892e-04],\n",
              "       [8.17030966e-02],\n",
              "       [6.03802036e-04],\n",
              "       [9.32965195e-05],\n",
              "       [1.31981433e-04],\n",
              "       [7.32059717e-01],\n",
              "       [3.18845909e-04],\n",
              "       [9.99920726e-01],\n",
              "       [9.99709308e-01],\n",
              "       [6.68382127e-05],\n",
              "       [1.77505972e-05],\n",
              "       [9.99489427e-01],\n",
              "       [4.83744225e-05],\n",
              "       [3.68991983e-04],\n",
              "       [1.07425012e-01],\n",
              "       [3.64899861e-05],\n",
              "       [9.98401701e-01],\n",
              "       [7.08348489e-06],\n",
              "       [2.12189159e-03],\n",
              "       [9.99739110e-01],\n",
              "       [2.36367360e-02],\n",
              "       [9.99777019e-01],\n",
              "       [9.99972343e-01],\n",
              "       [2.72467150e-03],\n",
              "       [2.16655772e-05],\n",
              "       [9.47678418e-05],\n",
              "       [4.47626589e-05],\n",
              "       [1.20906761e-05],\n",
              "       [9.99724209e-01],\n",
              "       [9.99851465e-01],\n",
              "       [4.47901757e-03],\n",
              "       [9.99034643e-01],\n",
              "       [3.65830529e-05],\n",
              "       [2.56890315e-04],\n",
              "       [3.63486615e-05],\n",
              "       [6.63291139e-05],\n",
              "       [5.80745982e-05],\n",
              "       [9.99858379e-01],\n",
              "       [2.27771234e-04],\n",
              "       [1.28103729e-05],\n",
              "       [9.99748886e-01],\n",
              "       [2.71156769e-05],\n",
              "       [8.46345065e-05],\n",
              "       [9.99215364e-01],\n",
              "       [7.36626025e-05],\n",
              "       [1.64819567e-03],\n",
              "       [1.61038643e-05],\n",
              "       [9.99813974e-01],\n",
              "       [8.08531463e-01],\n",
              "       [3.70240003e-01],\n",
              "       [2.04257779e-02],\n",
              "       [9.97650564e-01],\n",
              "       [3.12515098e-04],\n",
              "       [9.97247159e-01],\n",
              "       [1.14991702e-03],\n",
              "       [9.93281841e-01],\n",
              "       [9.86540377e-01],\n",
              "       [1.03289776e-01],\n",
              "       [2.84389651e-04],\n",
              "       [1.02267666e-04],\n",
              "       [2.25299090e-01],\n",
              "       [5.75780577e-04],\n",
              "       [2.74543912e-04],\n",
              "       [8.66414703e-05],\n",
              "       [1.34941109e-03],\n",
              "       [1.41897117e-05],\n",
              "       [5.62585228e-05],\n",
              "       [2.39076861e-03],\n",
              "       [9.99749601e-01],\n",
              "       [1.08666827e-04],\n",
              "       [1.11710019e-02],\n",
              "       [4.06712927e-02],\n",
              "       [3.52525711e-02],\n",
              "       [5.49441576e-03],\n",
              "       [1.03762148e-04],\n",
              "       [2.35352418e-05],\n",
              "       [9.91297126e-01],\n",
              "       [2.10821331e-02],\n",
              "       [3.09899837e-01],\n",
              "       [9.99969482e-01],\n",
              "       [4.03838749e-05],\n",
              "       [8.16551805e-01],\n",
              "       [8.90942104e-03],\n",
              "       [6.97125623e-04],\n",
              "       [3.80371511e-02],\n",
              "       [4.30697874e-05],\n",
              "       [8.53298116e-04],\n",
              "       [9.72029865e-01],\n",
              "       [4.59200144e-03],\n",
              "       [9.99855757e-01],\n",
              "       [1.88339293e-01],\n",
              "       [1.34578213e-05],\n",
              "       [9.99828458e-01],\n",
              "       [5.95004349e-05],\n",
              "       [9.99937892e-01],\n",
              "       [1.07525775e-04],\n",
              "       [1.37892552e-04],\n",
              "       [9.99794543e-01],\n",
              "       [5.99829218e-05],\n",
              "       [1.25436136e-05],\n",
              "       [9.98721898e-01],\n",
              "       [2.06287532e-05],\n",
              "       [1.02763581e-04],\n",
              "       [8.33186030e-01],\n",
              "       [9.99485135e-01],\n",
              "       [5.94450867e-05],\n",
              "       [2.60273460e-03],\n",
              "       [9.99813974e-01],\n",
              "       [9.99132335e-01],\n",
              "       [9.93052900e-01],\n",
              "       [5.27388453e-02],\n",
              "       [9.41744506e-01],\n",
              "       [9.85708833e-01],\n",
              "       [4.53986489e-04],\n",
              "       [3.12385637e-05],\n",
              "       [2.55710538e-03],\n",
              "       [3.54168890e-03],\n",
              "       [2.58305536e-05],\n",
              "       [1.61436312e-02],\n",
              "       [2.48541564e-01],\n",
              "       [2.60795823e-05],\n",
              "       [9.99595821e-01],\n",
              "       [9.99925256e-01],\n",
              "       [9.99904633e-01],\n",
              "       [7.23310004e-05],\n",
              "       [2.12544039e-01],\n",
              "       [4.88075987e-03],\n",
              "       [1.49965510e-02],\n",
              "       [9.77447510e-01],\n",
              "       [3.46088320e-01],\n",
              "       [3.43651300e-05],\n",
              "       [8.38112173e-05],\n",
              "       [8.93419201e-05],\n",
              "       [9.94113386e-01],\n",
              "       [2.50238427e-05],\n",
              "       [2.80612789e-04],\n",
              "       [4.09584682e-05],\n",
              "       [4.33560272e-05],\n",
              "       [1.22791119e-01],\n",
              "       [9.02334034e-01],\n",
              "       [2.31469851e-02],\n",
              "       [3.72379873e-05],\n",
              "       [6.91657886e-04],\n",
              "       [3.59785518e-05],\n",
              "       [9.99945641e-01],\n",
              "       [9.99475062e-01],\n",
              "       [2.14430436e-01],\n",
              "       [3.06789994e-01],\n",
              "       [9.12468568e-06],\n",
              "       [6.64907455e-01],\n",
              "       [9.99850631e-01],\n",
              "       [8.60649705e-01],\n",
              "       [1.08652189e-02],\n",
              "       [9.93542671e-01],\n",
              "       [1.00981444e-03],\n",
              "       [9.99796689e-01],\n",
              "       [2.66176439e-03],\n",
              "       [6.04972534e-04],\n",
              "       [1.69798002e-01],\n",
              "       [3.68280016e-04],\n",
              "       [9.99853134e-01],\n",
              "       [2.50987988e-02],\n",
              "       [1.78755763e-05],\n",
              "       [7.25706050e-05],\n",
              "       [3.46088320e-01],\n",
              "       [9.99930978e-01],\n",
              "       [1.83080992e-05],\n",
              "       [2.17886820e-01],\n",
              "       [9.99912858e-01],\n",
              "       [8.76385457e-06],\n",
              "       [9.99967813e-01],\n",
              "       [2.35153839e-05],\n",
              "       [1.02346108e-04],\n",
              "       [3.53772302e-05],\n",
              "       [9.77466643e-01],\n",
              "       [9.79448020e-01],\n",
              "       [8.36164327e-05],\n",
              "       [4.80154740e-05],\n",
              "       [9.58988190e-01],\n",
              "       [9.99843597e-01],\n",
              "       [5.65682709e-01],\n",
              "       [4.12106274e-05],\n",
              "       [3.26744950e-04],\n",
              "       [3.26354541e-02],\n",
              "       [3.20712970e-05],\n",
              "       [9.99917030e-01],\n",
              "       [1.27140926e-02],\n",
              "       [9.99920011e-01],\n",
              "       [9.99818742e-01],\n",
              "       [4.05143335e-04],\n",
              "       [2.13817805e-02],\n",
              "       [4.94517808e-05],\n",
              "       [9.98590887e-01],\n",
              "       [7.93227851e-01],\n",
              "       [9.06456232e-01],\n",
              "       [5.90501644e-04],\n",
              "       [1.48448278e-04],\n",
              "       [4.48739556e-05],\n",
              "       [2.05941378e-05],\n",
              "       [5.55014471e-04],\n",
              "       [8.76381237e-04],\n",
              "       [4.38473493e-01],\n",
              "       [2.67428491e-04],\n",
              "       [9.99957919e-01],\n",
              "       [9.99815047e-01],\n",
              "       [1.36904040e-04],\n",
              "       [5.64719737e-01],\n",
              "       [2.69870477e-04],\n",
              "       [9.81536868e-05],\n",
              "       [2.01887190e-01],\n",
              "       [9.92212057e-01],\n",
              "       [8.68073141e-04],\n",
              "       [6.18786504e-03],\n",
              "       [1.14817904e-05],\n",
              "       [4.26584011e-04],\n",
              "       [3.15529942e-05],\n",
              "       [9.99672413e-01],\n",
              "       [9.97684002e-01],\n",
              "       [9.99836445e-01],\n",
              "       [4.49122667e-01],\n",
              "       [3.65662664e-01],\n",
              "       [4.11916408e-04],\n",
              "       [2.26644606e-05],\n",
              "       [9.65015888e-01],\n",
              "       [9.98093307e-01],\n",
              "       [9.99871135e-01],\n",
              "       [3.30804833e-05],\n",
              "       [5.56834333e-04],\n",
              "       [4.53559369e-05],\n",
              "       [9.99898314e-01],\n",
              "       [9.99930263e-01],\n",
              "       [5.65682894e-05],\n",
              "       [1.72612054e-04],\n",
              "       [9.99934435e-01],\n",
              "       [1.57933799e-04],\n",
              "       [6.69056142e-04],\n",
              "       [9.99281466e-01],\n",
              "       [1.12457565e-04],\n",
              "       [3.69545487e-05],\n",
              "       [9.88479793e-01],\n",
              "       [7.95057118e-02],\n",
              "       [1.49920499e-02],\n",
              "       [9.99926567e-01],\n",
              "       [3.73040966e-05],\n",
              "       [7.68403115e-05],\n",
              "       [1.77625207e-05],\n",
              "       [2.28292593e-05],\n",
              "       [4.04532548e-05],\n",
              "       [9.99856830e-01],\n",
              "       [3.90539681e-05],\n",
              "       [4.76239145e-01],\n",
              "       [8.45240772e-01],\n",
              "       [1.29104974e-02],\n",
              "       [1.06350519e-02],\n",
              "       [2.23421121e-05],\n",
              "       [1.60322321e-04],\n",
              "       [9.99904513e-01],\n",
              "       [9.99755919e-01],\n",
              "       [2.92582059e-04],\n",
              "       [1.03272643e-04],\n",
              "       [5.73424622e-05],\n",
              "       [8.26333708e-05],\n",
              "       [9.99121726e-01],\n",
              "       [2.75146649e-05],\n",
              "       [9.96887982e-01],\n",
              "       [9.39028561e-01],\n",
              "       [1.58553883e-01],\n",
              "       [8.75059724e-01],\n",
              "       [9.50624980e-03],\n",
              "       [2.67747557e-03],\n",
              "       [1.68641171e-04],\n",
              "       [3.71879525e-02],\n",
              "       [6.72688246e-01],\n",
              "       [5.45900986e-02],\n",
              "       [4.78020944e-02],\n",
              "       [2.35047060e-04],\n",
              "       [2.45192896e-05],\n",
              "       [8.32860242e-05],\n",
              "       [7.72763917e-04],\n",
              "       [6.57038158e-03],\n",
              "       [6.64086044e-02],\n",
              "       [9.99922037e-01],\n",
              "       [9.99524117e-01],\n",
              "       [5.03687203e-01],\n",
              "       [9.99513507e-01],\n",
              "       [2.66665500e-03],\n",
              "       [8.70190415e-05],\n",
              "       [9.99263465e-01],\n",
              "       [1.89512575e-04],\n",
              "       [9.36291326e-05],\n",
              "       [2.90292680e-01],\n",
              "       [9.90180850e-01],\n",
              "       [1.14270297e-05],\n",
              "       [8.32056999e-01],\n",
              "       [6.87557042e-01],\n",
              "       [9.74922240e-01],\n",
              "       [9.99355733e-01],\n",
              "       [2.96968414e-04],\n",
              "       [7.54862325e-03],\n",
              "       [4.32035476e-01],\n",
              "       [2.78441166e-05],\n",
              "       [2.20607850e-03],\n",
              "       [8.86526763e-01],\n",
              "       [9.97281551e-01],\n",
              "       [3.51754338e-01],\n",
              "       [8.10545462e-05],\n",
              "       [5.21329130e-05],\n",
              "       [2.03011706e-01],\n",
              "       [7.70506740e-05],\n",
              "       [1.45144571e-04],\n",
              "       [5.66643903e-05],\n",
              "       [2.52356797e-01],\n",
              "       [9.99953389e-01],\n",
              "       [9.98235822e-01],\n",
              "       [3.33831122e-04],\n",
              "       [9.99892712e-01],\n",
              "       [9.99879122e-01],\n",
              "       [3.13608252e-05],\n",
              "       [9.99830127e-01],\n",
              "       [2.06548702e-02],\n",
              "       [6.29356861e-01],\n",
              "       [3.92814018e-02],\n",
              "       [4.47586295e-04],\n",
              "       [8.32641017e-05],\n",
              "       [1.62323398e-04],\n",
              "       [1.15548210e-04],\n",
              "       [4.89741687e-05],\n",
              "       [5.43332919e-02],\n",
              "       [1.59942123e-04],\n",
              "       [9.99819100e-01],\n",
              "       [9.99198382e-05],\n",
              "       [9.27853525e-01],\n",
              "       [9.84434225e-03],\n",
              "       [9.22847175e-05],\n",
              "       [3.05809881e-05],\n",
              "       [9.99945641e-01],\n",
              "       [9.15774508e-05],\n",
              "       [9.99466717e-01],\n",
              "       [2.97149539e-01],\n",
              "       [1.80755567e-04],\n",
              "       [7.21040508e-03],\n",
              "       [2.19501249e-04],\n",
              "       [4.92155040e-03],\n",
              "       [9.99879122e-01],\n",
              "       [1.09030780e-05],\n",
              "       [4.14307033e-05],\n",
              "       [7.20259559e-04],\n",
              "       [9.99901533e-01],\n",
              "       [1.16298755e-03],\n",
              "       [5.11990802e-05],\n",
              "       [9.69898462e-01],\n",
              "       [6.71324378e-05],\n",
              "       [6.01538522e-05],\n",
              "       [1.83728858e-04],\n",
              "       [6.28466159e-03],\n",
              "       [9.09477967e-05],\n",
              "       [3.70601714e-01],\n",
              "       [4.65132901e-03],\n",
              "       [3.52145056e-04],\n",
              "       [2.84959206e-05],\n",
              "       [6.42199675e-03],\n",
              "       [2.51108613e-05],\n",
              "       [9.97129858e-01],\n",
              "       [9.36987698e-01],\n",
              "       [3.97661142e-03],\n",
              "       [2.22274593e-05],\n",
              "       [1.76952046e-04],\n",
              "       [9.99898076e-01],\n",
              "       [7.90361226e-01],\n",
              "       [9.99926448e-01],\n",
              "       [8.13176157e-05],\n",
              "       [8.68227124e-01],\n",
              "       [1.22929981e-04],\n",
              "       [9.66184378e-01],\n",
              "       [7.95725405e-01],\n",
              "       [2.11497627e-05],\n",
              "       [9.99796569e-01],\n",
              "       [4.94960230e-04],\n",
              "       [9.98877943e-01],\n",
              "       [9.99924302e-01],\n",
              "       [9.01768042e-04],\n",
              "       [3.57600438e-05],\n",
              "       [2.28345394e-02],\n",
              "       [2.27740475e-05],\n",
              "       [7.64239230e-04],\n",
              "       [9.99916434e-01],\n",
              "       [2.84437805e-01],\n",
              "       [9.77701128e-01],\n",
              "       [1.79478861e-02],\n",
              "       [9.99683738e-01],\n",
              "       [2.67385870e-01],\n",
              "       [2.12297007e-03],\n",
              "       [3.98106495e-05],\n",
              "       [8.43095183e-01],\n",
              "       [2.31655522e-05],\n",
              "       [1.57809451e-01],\n",
              "       [9.99813139e-01],\n",
              "       [9.98620510e-01],\n",
              "       [9.99955893e-01],\n",
              "       [9.97803152e-01],\n",
              "       [2.40444243e-02],\n",
              "       [7.57937074e-01],\n",
              "       [7.29408130e-05],\n",
              "       [1.58558503e-01],\n",
              "       [9.85510349e-01],\n",
              "       [9.99113619e-01],\n",
              "       [4.65146113e-05],\n",
              "       [8.95832241e-01],\n",
              "       [9.99630332e-01],\n",
              "       [5.19654946e-04],\n",
              "       [5.66249073e-04],\n",
              "       [4.78020944e-02],\n",
              "       [1.39457625e-04],\n",
              "       [3.41949433e-01],\n",
              "       [6.67080104e-01],\n",
              "       [9.99866486e-01],\n",
              "       [1.74127592e-04],\n",
              "       [1.16522497e-05],\n",
              "       [2.53944982e-05],\n",
              "       [1.14305437e-01],\n",
              "       [3.46642977e-04],\n",
              "       [1.43702433e-03],\n",
              "       [9.78775799e-01],\n",
              "       [8.75381374e-06],\n",
              "       [2.01325849e-01],\n",
              "       [5.43292263e-04],\n",
              "       [4.31378547e-04],\n",
              "       [9.99437273e-01],\n",
              "       [3.42659769e-04],\n",
              "       [1.63105011e-01],\n",
              "       [3.94256233e-04],\n",
              "       [1.27362964e-05],\n",
              "       [6.89364679e-05],\n",
              "       [9.99935985e-01],\n",
              "       [3.49177897e-01],\n",
              "       [1.53926085e-05],\n",
              "       [3.63256782e-02],\n",
              "       [2.67424863e-02],\n",
              "       [7.79233324e-06],\n",
              "       [9.99743760e-01],\n",
              "       [6.31820585e-05],\n",
              "       [2.58232772e-01],\n",
              "       [9.78893973e-03],\n",
              "       [5.97039725e-05],\n",
              "       [1.98261887e-01],\n",
              "       [2.37940680e-02],\n",
              "       [3.00909684e-04],\n",
              "       [9.82268572e-01],\n",
              "       [3.70147708e-03],\n",
              "       [8.38161074e-03],\n",
              "       [9.98101771e-01],\n",
              "       [3.08553934e-01],\n",
              "       [3.38285882e-03],\n",
              "       [1.14270297e-05],\n",
              "       [1.48305327e-01],\n",
              "       [4.24651575e-04],\n",
              "       [9.99967813e-01],\n",
              "       [1.49066793e-02],\n",
              "       [3.88317567e-04],\n",
              "       [9.99793351e-01],\n",
              "       [2.49405667e-01],\n",
              "       [9.90846932e-01],\n",
              "       [2.49405667e-01],\n",
              "       [9.99952435e-01],\n",
              "       [2.05355191e-05],\n",
              "       [3.86055122e-04],\n",
              "       [2.39380006e-05],\n",
              "       [9.99967575e-01],\n",
              "       [3.04793968e-04],\n",
              "       [1.04940002e-04],\n",
              "       [2.93337125e-05],\n",
              "       [7.43292112e-05],\n",
              "       [2.80277774e-04],\n",
              "       [3.66551285e-05],\n",
              "       [4.45636269e-03],\n",
              "       [5.30955331e-05],\n",
              "       [1.02967701e-04],\n",
              "       [9.89342213e-01],\n",
              "       [1.36316550e-04],\n",
              "       [1.14361302e-03],\n",
              "       [6.28982598e-05],\n",
              "       [8.73448425e-06],\n",
              "       [1.87375508e-02],\n",
              "       [9.75049555e-01],\n",
              "       [2.87719857e-04],\n",
              "       [2.53984646e-04],\n",
              "       [6.85489387e-04],\n",
              "       [9.78043735e-01],\n",
              "       [9.99764621e-01],\n",
              "       [3.05882459e-05],\n",
              "       [1.37036459e-05],\n",
              "       [5.63704925e-05],\n",
              "       [1.27830353e-05],\n",
              "       [9.99421597e-01],\n",
              "       [8.73448425e-06],\n",
              "       [1.24094367e-03],\n",
              "       [9.98780549e-01],\n",
              "       [9.99884486e-01],\n",
              "       [9.99928713e-01],\n",
              "       [9.99951601e-01],\n",
              "       [9.99969959e-01],\n",
              "       [4.10975226e-05],\n",
              "       [7.41589320e-05],\n",
              "       [2.25526653e-02],\n",
              "       [4.27385092e-01],\n",
              "       [9.99883175e-01],\n",
              "       [9.63770270e-01],\n",
              "       [1.21410420e-04],\n",
              "       [9.82373476e-01],\n",
              "       [4.03083444e-01],\n",
              "       [1.94476852e-05],\n",
              "       [1.13835995e-05],\n",
              "       [3.76630342e-04],\n",
              "       [7.82552757e-04],\n",
              "       [2.89408435e-05],\n",
              "       [4.42108460e-04],\n",
              "       [9.88019049e-01],\n",
              "       [9.99945164e-01],\n",
              "       [4.20561555e-05],\n",
              "       [9.99767840e-01],\n",
              "       [4.63971376e-01],\n",
              "       [1.35568820e-03],\n",
              "       [8.50615092e-04],\n",
              "       [5.92360098e-04],\n",
              "       [4.83031541e-01],\n",
              "       [1.01281170e-04],\n",
              "       [3.18396051e-05]], dtype=float32)"
            ]
          },
          "metadata": {},
          "execution_count": 74
        }
      ],
      "source": [
        "# Make predictions with our bidirectional model\n",
        "model_4_pred_probs = model_4.predict(val_sentences)\n",
        "model_4_pred_probs"
      ]
    },
    {
      "cell_type": "code",
      "execution_count": 75,
      "metadata": {
        "colab": {
          "base_uri": "https://localhost:8080/"
        },
        "id": "0ou2j3B_TNom",
        "outputId": "bdec2354-e103-4a3a-c0e8-5e38cafef94c"
      },
      "outputs": [
        {
          "output_type": "execute_result",
          "data": {
            "text/plain": [
              "<tf.Tensor: shape=(10,), dtype=float32, numpy=array([0., 1., 1., 0., 0., 1., 0., 1., 1., 0.], dtype=float32)>"
            ]
          },
          "metadata": {},
          "execution_count": 75
        }
      ],
      "source": [
        "# Convert pred probs to pred labels\n",
        "model_4_preds = tf.squeeze(tf.round(model_4_pred_probs))\n",
        "model_4_preds[:10]"
      ]
    },
    {
      "cell_type": "code",
      "execution_count": 76,
      "metadata": {
        "colab": {
          "base_uri": "https://localhost:8080/"
        },
        "id": "tQybC_jvZoND",
        "outputId": "d6d940c2-32eb-4177-a943-a45b373ecf84"
      },
      "outputs": [
        {
          "output_type": "execute_result",
          "data": {
            "text/plain": [
              "{'accuracy': 76.64041994750657,\n",
              " 'precision': 0.7783363904795991,\n",
              " 'recall': 0.7664041994750657,\n",
              " 'f1': 0.7602935808520623}"
            ]
          },
          "metadata": {},
          "execution_count": 76
        }
      ],
      "source": [
        "# Calculate the results of our bidirectional model\n",
        "model_4_results = calculate_results(y_true=val_labels,\n",
        "                                    y_pred=model_4_preds)\n",
        "model_4_results"
      ]
    },
    {
      "cell_type": "code",
      "execution_count": 77,
      "metadata": {
        "colab": {
          "base_uri": "https://localhost:8080/"
        },
        "id": "578BNw1ZZ5fS",
        "outputId": "a6f44fe1-ed2c-45d3-b239-73b52ce7e559"
      },
      "outputs": [
        {
          "output_type": "execute_result",
          "data": {
            "text/plain": [
              "{'accuracy': 77.16535433070865,\n",
              " 'precision': 0.7744533306963004,\n",
              " 'recall': 0.7716535433070866,\n",
              " 'f1': 0.7690403853056418}"
            ]
          },
          "metadata": {},
          "execution_count": 77
        }
      ],
      "source": [
        "model_3_results"
      ]
    },
    {
      "cell_type": "markdown",
      "metadata": {
        "id": "QcUhoK-4Z82N"
      },
      "source": [
        "## Convolution Neural Networks for Text (and other types of sequences)\n",
        "\n",
        "We've used CNNs for images but images are typically 2D (height x width)... however, our text data is 1D.\n",
        "\n",
        "Previously we've used Conv2D for our image data but now we're going to use Conv1D.\n",
        "\n",
        "The typical structure of a Conv1D model for sequences (in our case, text):\n",
        "\n",
        "```\n",
        "Inputs (text) -> Tokenization -> Embedding -> Layer(s) (Conv 1D + pooling) -> Outputs (class probabilities)\n",
        "```"
      ]
    },
    {
      "cell_type": "markdown",
      "metadata": {
        "id": "9Zef21tdGD33"
      },
      "source": [
        "### Model 5: Conv 1D\n",
        "\n",
        "For different explanations of parameters see:\n",
        "* https://poloclub.github.io/cnn-explainer/ (this if for 2d but can relate to 1D data)\n",
        "Difference between `same` and `valid` padding : https://poloclub.github.io/cnn-explainer/"
      ]
    },
    {
      "cell_type": "code",
      "execution_count": 78,
      "metadata": {
        "colab": {
          "base_uri": "https://localhost:8080/"
        },
        "id": "ii0XLtOSHG8Z",
        "outputId": "fef3dfec-5ed1-4d39-ce30-1ae65a6aa05a"
      },
      "outputs": [
        {
          "output_type": "execute_result",
          "data": {
            "text/plain": [
              "(TensorShape([1, 15, 128]), TensorShape([1, 11, 32]), TensorShape([1, 32]))"
            ]
          },
          "metadata": {},
          "execution_count": 78
        }
      ],
      "source": [
        "# Test out our embedding layer, Conv1D layer and max pooling\n",
        "embedding_test = embedding(text_vectorizer([\"this is a test sentence\"])) # turn target sequence into embedding\n",
        "conv_1d = layers.Conv1D(filters=32,\n",
        "                        kernel_size=5, # this is aslo referrred to as an ngram of 5 (meaning it looks at 5 words at a time)\n",
        "                        strides=1, #default\n",
        "                        activation=\"relu\",\n",
        "                        padding=\"valid\")\n",
        "conv_1d_output = conv_1d(embedding_test) # pass test embedding trhough conv1d layer\n",
        "max_pool = layers.GlobalMaxPool1D()\n",
        "max_pool_output = max_pool(conv_1d_output) # equivalent to \"get the most important feature\" or \"get the feature with the highest value\"\n",
        "\n",
        "embedding_test.shape, conv_1d_output.shape, max_pool_output.shape"
      ]
    },
    {
      "cell_type": "code",
      "execution_count": 79,
      "metadata": {
        "colab": {
          "base_uri": "https://localhost:8080/"
        },
        "id": "EO-ELnQWKAOK",
        "outputId": "2b9206af-1283-4b64-c17d-85d0c9536f9f"
      },
      "outputs": [
        {
          "output_type": "execute_result",
          "data": {
            "text/plain": [
              "<tf.Tensor: shape=(1, 15, 128), dtype=float32, numpy=\n",
              "array([[[-0.02399122, -0.00418737, -0.00924377, ..., -0.01106575,\n",
              "         -0.05042478,  0.01650778],\n",
              "        [ 0.00060994,  0.03605498, -0.07373267, ...,  0.01863747,\n",
              "         -0.03868329,  0.01542549],\n",
              "        [-0.06506418,  0.03447106, -0.0318083 , ...,  0.03701816,\n",
              "         -0.0109197 , -0.09772877],\n",
              "        ...,\n",
              "        [ 0.00214903,  0.00766806, -0.02972949, ..., -0.00678044,\n",
              "          0.02463214, -0.00620318],\n",
              "        [ 0.00214903,  0.00766806, -0.02972949, ..., -0.00678044,\n",
              "          0.02463214, -0.00620318],\n",
              "        [ 0.00214903,  0.00766806, -0.02972949, ..., -0.00678044,\n",
              "          0.02463214, -0.00620318]]], dtype=float32)>"
            ]
          },
          "metadata": {},
          "execution_count": 79
        }
      ],
      "source": [
        "embedding_test"
      ]
    },
    {
      "cell_type": "code",
      "execution_count": 80,
      "metadata": {
        "colab": {
          "base_uri": "https://localhost:8080/"
        },
        "id": "MS0xz_hWLzEj",
        "outputId": "38c16d31-3449-49d2-e102-52cf3c16e901"
      },
      "outputs": [
        {
          "output_type": "execute_result",
          "data": {
            "text/plain": [
              "<tf.Tensor: shape=(1, 11, 32), dtype=float32, numpy=\n",
              "array([[[0.        , 0.        , 0.        , 0.        , 0.11875384,\n",
              "         0.        , 0.03200752, 0.        , 0.09945697, 0.        ,\n",
              "         0.14472023, 0.        , 0.        , 0.        , 0.        ,\n",
              "         0.05365952, 0.04403648, 0.0557378 , 0.04779866, 0.        ,\n",
              "         0.03121698, 0.05682524, 0.0053913 , 0.        , 0.        ,\n",
              "         0.00132212, 0.03668038, 0.03027233, 0.        , 0.09369071,\n",
              "         0.        , 0.        ],\n",
              "        [0.01704284, 0.        , 0.        , 0.        , 0.        ,\n",
              "         0.00412348, 0.        , 0.        , 0.02539436, 0.        ,\n",
              "         0.04885029, 0.02799805, 0.        , 0.        , 0.        ,\n",
              "         0.        , 0.04461746, 0.03251384, 0.02517263, 0.        ,\n",
              "         0.0099565 , 0.03144819, 0.02515585, 0.        , 0.03178549,\n",
              "         0.01436399, 0.        , 0.        , 0.        , 0.07664824,\n",
              "         0.01076768, 0.03358907],\n",
              "        [0.04103778, 0.0045876 , 0.        , 0.        , 0.05520092,\n",
              "         0.        , 0.06273318, 0.        , 0.05110898, 0.        ,\n",
              "         0.        , 0.00238383, 0.        , 0.00846239, 0.        ,\n",
              "         0.        , 0.        , 0.00559322, 0.        , 0.01763056,\n",
              "         0.        , 0.        , 0.        , 0.        , 0.01733907,\n",
              "         0.        , 0.00463886, 0.        , 0.00947499, 0.05113857,\n",
              "         0.        , 0.02620499],\n",
              "        [0.        , 0.        , 0.        , 0.        , 0.06922069,\n",
              "         0.        , 0.01514353, 0.        , 0.06327309, 0.        ,\n",
              "         0.        , 0.        , 0.01744596, 0.0148239 , 0.        ,\n",
              "         0.        , 0.        , 0.00835052, 0.05492964, 0.00948969,\n",
              "         0.0149876 , 0.0134146 , 0.        , 0.        , 0.00391607,\n",
              "         0.04331847, 0.04509638, 0.00176981, 0.00427167, 0.09115425,\n",
              "         0.07134377, 0.        ],\n",
              "        [0.00918823, 0.        , 0.00799425, 0.        , 0.08710542,\n",
              "         0.        , 0.        , 0.0138122 , 0.03863249, 0.        ,\n",
              "         0.        , 0.        , 0.03619655, 0.00676682, 0.03540109,\n",
              "         0.        , 0.        , 0.0237051 , 0.03043259, 0.00272132,\n",
              "         0.01584348, 0.        , 0.03633725, 0.        , 0.        ,\n",
              "         0.        , 0.07211864, 0.02840177, 0.05417666, 0.00038943,\n",
              "         0.04012197, 0.        ],\n",
              "        [0.00879617, 0.        , 0.        , 0.        , 0.05537001,\n",
              "         0.        , 0.        , 0.01788033, 0.04340214, 0.00261826,\n",
              "         0.        , 0.        , 0.00678121, 0.00371947, 0.03057859,\n",
              "         0.        , 0.        , 0.        , 0.02261413, 0.00311904,\n",
              "         0.02221397, 0.        , 0.04008577, 0.00911333, 0.00105285,\n",
              "         0.        , 0.06141327, 0.0297839 , 0.03026638, 0.        ,\n",
              "         0.05885898, 0.        ],\n",
              "        [0.00879617, 0.        , 0.        , 0.        , 0.05537001,\n",
              "         0.        , 0.        , 0.01788033, 0.04340214, 0.00261826,\n",
              "         0.        , 0.        , 0.00678121, 0.00371947, 0.03057859,\n",
              "         0.        , 0.        , 0.        , 0.02261413, 0.00311904,\n",
              "         0.02221397, 0.        , 0.04008577, 0.00911333, 0.00105285,\n",
              "         0.        , 0.06141327, 0.0297839 , 0.03026638, 0.        ,\n",
              "         0.05885898, 0.        ],\n",
              "        [0.00879617, 0.        , 0.        , 0.        , 0.05537001,\n",
              "         0.        , 0.        , 0.01788033, 0.04340214, 0.00261826,\n",
              "         0.        , 0.        , 0.00678121, 0.00371947, 0.03057859,\n",
              "         0.        , 0.        , 0.        , 0.02261413, 0.00311904,\n",
              "         0.02221397, 0.        , 0.04008577, 0.00911333, 0.00105285,\n",
              "         0.        , 0.06141327, 0.0297839 , 0.03026638, 0.        ,\n",
              "         0.05885898, 0.        ],\n",
              "        [0.00879617, 0.        , 0.        , 0.        , 0.05537001,\n",
              "         0.        , 0.        , 0.01788033, 0.04340214, 0.00261826,\n",
              "         0.        , 0.        , 0.00678121, 0.00371947, 0.03057859,\n",
              "         0.        , 0.        , 0.        , 0.02261413, 0.00311904,\n",
              "         0.02221397, 0.        , 0.04008577, 0.00911333, 0.00105285,\n",
              "         0.        , 0.06141327, 0.0297839 , 0.03026638, 0.        ,\n",
              "         0.05885898, 0.        ],\n",
              "        [0.00879617, 0.        , 0.        , 0.        , 0.05537001,\n",
              "         0.        , 0.        , 0.01788033, 0.04340214, 0.00261826,\n",
              "         0.        , 0.        , 0.00678121, 0.00371947, 0.03057859,\n",
              "         0.        , 0.        , 0.        , 0.02261413, 0.00311904,\n",
              "         0.02221397, 0.        , 0.04008577, 0.00911333, 0.00105285,\n",
              "         0.        , 0.06141327, 0.0297839 , 0.03026638, 0.        ,\n",
              "         0.05885898, 0.        ],\n",
              "        [0.00879617, 0.        , 0.        , 0.        , 0.05537001,\n",
              "         0.        , 0.        , 0.01788033, 0.04340214, 0.00261826,\n",
              "         0.        , 0.        , 0.00678121, 0.00371947, 0.03057859,\n",
              "         0.        , 0.        , 0.        , 0.02261413, 0.00311904,\n",
              "         0.02221397, 0.        , 0.04008577, 0.00911333, 0.00105285,\n",
              "         0.        , 0.06141327, 0.0297839 , 0.03026638, 0.        ,\n",
              "         0.05885898, 0.        ]]], dtype=float32)>"
            ]
          },
          "metadata": {},
          "execution_count": 80
        }
      ],
      "source": [
        "conv_1d_output"
      ]
    },
    {
      "cell_type": "code",
      "execution_count": 81,
      "metadata": {
        "colab": {
          "base_uri": "https://localhost:8080/"
        },
        "id": "nKJ5nCmZL0Zp",
        "outputId": "ea55b39e-1acc-4a30-a101-571ada6a1ead"
      },
      "outputs": [
        {
          "output_type": "execute_result",
          "data": {
            "text/plain": [
              "<tf.Tensor: shape=(1, 32), dtype=float32, numpy=\n",
              "array([[0.04103778, 0.0045876 , 0.00799425, 0.        , 0.11875384,\n",
              "        0.00412348, 0.06273318, 0.01788033, 0.09945697, 0.00261826,\n",
              "        0.14472023, 0.02799805, 0.03619655, 0.0148239 , 0.03540109,\n",
              "        0.05365952, 0.04461746, 0.0557378 , 0.05492964, 0.01763056,\n",
              "        0.03121698, 0.05682524, 0.04008577, 0.00911333, 0.03178549,\n",
              "        0.04331847, 0.07211864, 0.03027233, 0.05417666, 0.09369071,\n",
              "        0.07134377, 0.03358907]], dtype=float32)>"
            ]
          },
          "metadata": {},
          "execution_count": 81
        }
      ],
      "source": [
        "max_pool_output"
      ]
    },
    {
      "cell_type": "code",
      "execution_count": 82,
      "metadata": {
        "id": "vbzMYdlyL_2H"
      },
      "outputs": [],
      "source": [
        "# Create 1-dimensional Convolutional Neural Networks\n",
        "from tensorflow.keras import layers\n",
        "inputs = layers.Input(shape=(1,), dtype=tf.string)\n",
        "x = text_vectorizer(inputs)\n",
        "x = embedding(x)\n",
        "x = layers.Conv1D(filters=64, kernel_size=5, strides=1, activation=\"relu\", padding=\"valid\")(x)\n",
        "x = layers.GlobalMaxPool1D()(x)\n",
        "# x = layers.Dense(64, activation=\"relu\")(x)\n",
        "outputs = layers.Dense(1, activation=\"sigmoid\")(x)\n",
        "model_5 = tf.keras.Model(inputs, outputs, name=\"model_5_Conv1D\")"
      ]
    },
    {
      "cell_type": "code",
      "execution_count": 83,
      "metadata": {
        "id": "x5OiB7OAODnU"
      },
      "outputs": [],
      "source": [
        "# Compile Conv1D\n",
        "model_5.compile(loss=\"binary_crossentropy\",\n",
        "                optimizer=tf.keras.optimizers.Adam(),\n",
        "                metrics=[\"accuracy\"])"
      ]
    },
    {
      "cell_type": "code",
      "execution_count": 84,
      "metadata": {
        "colab": {
          "base_uri": "https://localhost:8080/"
        },
        "id": "LQSHNiQOO-2W",
        "outputId": "831140f5-dc21-41af-8870-3a243d8184ad"
      },
      "outputs": [
        {
          "output_type": "stream",
          "name": "stdout",
          "text": [
            "Model: \"model_5_Conv1D\"\n",
            "_________________________________________________________________\n",
            " Layer (type)                Output Shape              Param #   \n",
            "=================================================================\n",
            " input_5 (InputLayer)        [(None, 1)]               0         \n",
            "                                                                 \n",
            " text_vectorization_1 (Text  (None, 15)                0         \n",
            " Vectorization)                                                  \n",
            "                                                                 \n",
            " embedding (Embedding)       (None, 15, 128)           1280000   \n",
            "                                                                 \n",
            " conv1d_1 (Conv1D)           (None, 11, 64)            41024     \n",
            "                                                                 \n",
            " global_max_pooling1d_1 (Gl  (None, 64)                0         \n",
            " obalMaxPooling1D)                                               \n",
            "                                                                 \n",
            " dense_5 (Dense)             (None, 1)                 65        \n",
            "                                                                 \n",
            "=================================================================\n",
            "Total params: 1321089 (5.04 MB)\n",
            "Trainable params: 1321089 (5.04 MB)\n",
            "Non-trainable params: 0 (0.00 Byte)\n",
            "_________________________________________________________________\n"
          ]
        }
      ],
      "source": [
        "# Get a summary of our Conv1D model\n",
        "model_5.summary()"
      ]
    },
    {
      "cell_type": "code",
      "execution_count": 85,
      "metadata": {
        "colab": {
          "base_uri": "https://localhost:8080/"
        },
        "id": "EE06xiFOPDI2",
        "outputId": "4b357fcf-07bd-4d55-9b45-06b604233588"
      },
      "outputs": [
        {
          "output_type": "stream",
          "name": "stdout",
          "text": [
            "Saving TensorBoard log files to: model_logs/Conv1D/20231120-134415\n",
            "Epoch 1/5\n",
            "215/215 [==============================] - 14s 56ms/step - loss: 0.1154 - accuracy: 0.9619 - val_loss: 0.9486 - val_accuracy: 0.7677\n",
            "Epoch 2/5\n",
            "215/215 [==============================] - 5s 23ms/step - loss: 0.0718 - accuracy: 0.9733 - val_loss: 1.0662 - val_accuracy: 0.7677\n",
            "Epoch 3/5\n",
            "215/215 [==============================] - 3s 15ms/step - loss: 0.0599 - accuracy: 0.9765 - val_loss: 1.1651 - val_accuracy: 0.7612\n",
            "Epoch 4/5\n",
            "215/215 [==============================] - 4s 16ms/step - loss: 0.0542 - accuracy: 0.9752 - val_loss: 1.2646 - val_accuracy: 0.7559\n",
            "Epoch 5/5\n",
            "215/215 [==============================] - 2s 9ms/step - loss: 0.0509 - accuracy: 0.9783 - val_loss: 1.2937 - val_accuracy: 0.7598\n"
          ]
        }
      ],
      "source": [
        "# Fit the model\n",
        "model_5_history = model_5.fit(train_sentences,\n",
        "                              train_labels,\n",
        "                              epochs=5,\n",
        "                              validation_data=(val_sentences, val_labels),\n",
        "                              callbacks=[create_tensorboard_callback(SAVE_DIR,\n",
        "                                                                     \"Conv1D\")])"
      ]
    },
    {
      "cell_type": "code",
      "execution_count": 86,
      "metadata": {
        "colab": {
          "base_uri": "https://localhost:8080/"
        },
        "id": "cPBllGtJPeLJ",
        "outputId": "f8e4f7d3-7807-4474-86a4-e50b31fa5c1b"
      },
      "outputs": [
        {
          "output_type": "stream",
          "name": "stdout",
          "text": [
            "24/24 [==============================] - 0s 3ms/step\n"
          ]
        },
        {
          "output_type": "execute_result",
          "data": {
            "text/plain": [
              "array([[1.2936765e-01],\n",
              "       [7.8233719e-01],\n",
              "       [9.9985838e-01],\n",
              "       [2.6523937e-02],\n",
              "       [1.5571317e-07],\n",
              "       [9.9540979e-01],\n",
              "       [9.5394403e-01],\n",
              "       [9.9995339e-01],\n",
              "       [9.9999952e-01],\n",
              "       [4.4751343e-01]], dtype=float32)"
            ]
          },
          "metadata": {},
          "execution_count": 86
        }
      ],
      "source": [
        "# Make some predictions with our Conv1D model\n",
        "model_5_pred_probs = model_5.predict(val_sentences)\n",
        "model_5_pred_probs[:10]"
      ]
    },
    {
      "cell_type": "code",
      "execution_count": 87,
      "metadata": {
        "colab": {
          "base_uri": "https://localhost:8080/"
        },
        "id": "PH45oKhYPu8u",
        "outputId": "02136b8b-581c-4efb-f43b-94c9e7ebe64f"
      },
      "outputs": [
        {
          "output_type": "execute_result",
          "data": {
            "text/plain": [
              "<tf.Tensor: shape=(762,), dtype=float32, numpy=\n",
              "array([0., 1., 1., 0., 0., 1., 1., 1., 1., 0., 0., 1., 0., 0., 0., 0., 0.,\n",
              "       0., 0., 1., 1., 0., 1., 0., 1., 1., 0., 0., 0., 1., 0., 0., 0., 0.,\n",
              "       0., 1., 1., 0., 0., 1., 0., 0., 0., 0., 1., 1., 1., 1., 0., 0., 0.,\n",
              "       1., 0., 0., 1., 0., 0., 1., 0., 0., 0., 1., 1., 0., 1., 1., 1., 0.,\n",
              "       1., 0., 0., 0., 1., 0., 1., 1., 0., 1., 0., 0., 0., 0., 1., 0., 0.,\n",
              "       0., 0., 0., 0., 1., 1., 0., 1., 0., 1., 1., 1., 1., 1., 1., 1., 0.,\n",
              "       0., 1., 1., 0., 1., 1., 0., 1., 1., 0., 1., 0., 0., 0., 0., 1., 0.,\n",
              "       0., 1., 0., 0., 1., 1., 0., 1., 0., 0., 1., 0., 1., 1., 1., 1., 0.,\n",
              "       1., 1., 0., 0., 1., 1., 0., 1., 0., 0., 0., 0., 0., 1., 0., 0., 0.,\n",
              "       0., 0., 1., 1., 0., 1., 0., 1., 0., 0., 1., 0., 0., 1., 0., 1., 1.,\n",
              "       1., 1., 1., 0., 1., 0., 0., 0., 1., 1., 0., 1., 1., 1., 1., 0., 0.,\n",
              "       1., 0., 0., 0., 0., 0., 0., 0., 0., 0., 0., 1., 0., 0., 1., 1., 0.,\n",
              "       0., 1., 1., 1., 1., 1., 0., 1., 0., 0., 0., 0., 1., 1., 1., 1., 0.,\n",
              "       0., 0., 0., 1., 0., 0., 1., 1., 1., 0., 0., 1., 0., 0., 0., 0., 0.,\n",
              "       0., 0., 0., 0., 1., 1., 0., 0., 1., 0., 0., 0., 0., 1., 0., 0., 1.,\n",
              "       0., 1., 1., 0., 0., 0., 0., 0., 1., 1., 1., 1., 0., 0., 0., 0., 0.,\n",
              "       1., 0., 0., 1., 0., 0., 1., 0., 0., 0., 1., 1., 1., 0., 1., 0., 1.,\n",
              "       0., 1., 1., 0., 0., 0., 1., 0., 0., 0., 0., 0., 0., 0., 1., 0., 0.,\n",
              "       1., 0., 0., 0., 0., 1., 0., 0., 1., 0., 1., 0., 0., 0., 0., 0., 1.,\n",
              "       0., 1., 0., 0., 1., 0., 1., 0., 0., 1., 0., 0., 1., 0., 0., 1., 1.,\n",
              "       0., 0., 1., 1., 1., 0., 1., 1., 0., 0., 0., 0., 0., 1., 0., 0., 1.,\n",
              "       1., 1., 0., 0., 0., 0., 1., 0., 0., 0., 0., 1., 0., 0., 0., 0., 0.,\n",
              "       1., 0., 0., 0., 0., 1., 1., 0., 1., 0., 1., 1., 0., 0., 1., 0., 1.,\n",
              "       0., 0., 1., 0., 1., 0., 0., 0., 0., 1., 0., 0., 1., 0., 1., 0., 0.,\n",
              "       0., 1., 1., 0., 0., 0., 1., 1., 0., 0., 0., 0., 1., 0., 1., 1., 0.,\n",
              "       1., 0., 1., 1., 1., 0., 0., 0., 0., 0., 0., 1., 0., 1., 1., 0., 1.,\n",
              "       0., 0., 0., 1., 0., 0., 0., 0., 0., 1., 1., 1., 0., 1., 0., 0., 0.,\n",
              "       1., 1., 0., 0., 0., 1., 1., 0., 0., 1., 0., 0., 1., 0., 0., 1., 0.,\n",
              "       1., 1., 0., 0., 0., 0., 0., 1., 0., 1., 1., 0., 0., 0., 0., 1., 1.,\n",
              "       0., 0., 0., 0., 1., 0., 1., 1., 1., 1., 0., 0., 0., 0., 1., 1., 0.,\n",
              "       0., 0., 0., 0., 0., 0., 1., 1., 1., 1., 0., 0., 1., 1., 0., 0., 1.,\n",
              "       0., 1., 1., 1., 1., 0., 0., 1., 0., 0., 1., 1., 1., 0., 0., 1., 0.,\n",
              "       0., 0., 0., 1., 1., 0., 1., 1., 0., 1., 0., 1., 0., 0., 0., 0., 0.,\n",
              "       0., 1., 0., 1., 0., 1., 1., 0., 0., 1., 0., 1., 0., 0., 0., 0., 0.,\n",
              "       1., 0., 0., 0., 1., 0., 0., 1., 0., 0., 0., 0., 0., 0., 0., 0., 0.,\n",
              "       0., 0., 1., 1., 1., 0., 0., 1., 1., 1., 0., 1., 0., 1., 1., 0., 1.,\n",
              "       0., 1., 1., 0., 0., 0., 0., 0., 1., 0., 1., 0., 1., 1., 0., 0., 1.,\n",
              "       0., 0., 1., 1., 1., 1., 1., 1., 0., 1., 1., 1., 0., 1., 1., 0., 0.,\n",
              "       0., 0., 1., 1., 1., 0., 0., 0., 0., 0., 0., 1., 0., 1., 0., 1., 1.,\n",
              "       0., 1., 0., 0., 0., 1., 0., 0., 0., 1., 0., 1., 0., 1., 0., 0., 0.,\n",
              "       0., 0., 1., 0., 0., 1., 1., 0., 0., 0., 0., 1., 1., 0., 1., 0., 1.,\n",
              "       0., 1., 0., 0., 0., 1., 0., 0., 0., 0., 0., 0., 0., 0., 0., 1., 0.,\n",
              "       0., 0., 0., 0., 1., 0., 0., 0., 1., 1., 0., 0., 0., 0., 1., 0., 0.,\n",
              "       1., 1., 1., 1., 1., 0., 0., 1., 0., 1., 1., 1., 1., 1., 0., 0., 0.,\n",
              "       0., 0., 0., 1., 1., 0., 1., 1., 0., 0., 1., 0., 0., 0.],\n",
              "      dtype=float32)>"
            ]
          },
          "metadata": {},
          "execution_count": 87
        }
      ],
      "source": [
        "# Convert model 5 pred probs to labels\n",
        "model_5_preds = tf.squeeze(tf.round(model_5_pred_probs))\n",
        "model_5_preds"
      ]
    },
    {
      "cell_type": "code",
      "execution_count": 88,
      "metadata": {
        "colab": {
          "base_uri": "https://localhost:8080/"
        },
        "id": "-Q-S7XYUQ-mL",
        "outputId": "c5d45191-32d1-4af2-a2fa-329398c869fd"
      },
      "outputs": [
        {
          "output_type": "execute_result",
          "data": {
            "text/plain": [
              "{'accuracy': 75.98425196850394,\n",
              " 'precision': 0.760844531051619,\n",
              " 'recall': 0.7598425196850394,\n",
              " 'f1': 0.7578634561555269}"
            ]
          },
          "metadata": {},
          "execution_count": 88
        }
      ],
      "source": [
        "# Evaluate model 5 predictions\n",
        "model_5_results = calculate_results(y_true=val_labels,\n",
        "                                    y_pred=model_5_preds)\n",
        "model_5_results"
      ]
    },
    {
      "cell_type": "code",
      "execution_count": 89,
      "metadata": {
        "colab": {
          "base_uri": "https://localhost:8080/"
        },
        "id": "6aPbTEhfRXDa",
        "outputId": "6c80bd81-ec3c-4d67-c4ae-ffeadd15f2cd"
      },
      "outputs": [
        {
          "output_type": "execute_result",
          "data": {
            "text/plain": [
              "{'accuracy': 79.26509186351706,\n",
              " 'precision': 0.8111390004213173,\n",
              " 'recall': 0.7926509186351706,\n",
              " 'f1': 0.7862189758049549}"
            ]
          },
          "metadata": {},
          "execution_count": 89
        }
      ],
      "source": [
        "# Baseline Results\n",
        "baseline_results"
      ]
    },
    {
      "cell_type": "markdown",
      "metadata": {
        "id": "SXOEuinhbkEO"
      },
      "source": [
        "## Model 6: TensorFlow Hub Pretrained Sentence Encoder\n",
        "\n",
        "Now we've built a few of our models, let's try and use transfer learning for NLP, specifically using TensorFlow Hub's Universal Sentence Encoder: https://tfhub.dev/google/universal-sentence-encoder/4\n",
        "\n",
        "See how the USE was created here: https://arxiv.org/abs/1803.11175\n"
      ]
    },
    {
      "cell_type": "code",
      "execution_count": 90,
      "metadata": {
        "colab": {
          "base_uri": "https://localhost:8080/",
          "height": 35
        },
        "id": "KuwuAm0bdFQc",
        "outputId": "6a541546-1498-4e04-df0a-2307a0903ab6"
      },
      "outputs": [
        {
          "output_type": "execute_result",
          "data": {
            "text/plain": [
              "\"There's a flood in my street!\""
            ],
            "application/vnd.google.colaboratory.intrinsic+json": {
              "type": "string"
            }
          },
          "metadata": {},
          "execution_count": 90
        }
      ],
      "source": [
        "sample_sentence"
      ]
    },
    {
      "cell_type": "code",
      "execution_count": 91,
      "metadata": {
        "colab": {
          "base_uri": "https://localhost:8080/"
        },
        "id": "FkHk_EJnRaeZ",
        "outputId": "cdf5649f-32c2-4730-fe86-3d269a7890d7"
      },
      "outputs": [
        {
          "output_type": "stream",
          "name": "stdout",
          "text": [
            "tf.Tensor(\n",
            "[-0.01157028  0.0248591   0.02878048 -0.012715    0.03971538  0.0882776\n",
            "  0.02680984  0.05589836 -0.0106873  -0.00597291  0.00639323 -0.01819518\n",
            "  0.00030813  0.09105888  0.05874644 -0.03180628  0.01512474 -0.05162929\n",
            "  0.00991367 -0.06865347 -0.04209306  0.02678981  0.03011006  0.00321069\n",
            " -0.00337973 -0.04787357  0.0226672  -0.00985925 -0.04063613 -0.01292092\n",
            " -0.04666384  0.05630299 -0.03949255  0.00517686  0.02495829 -0.0701444\n",
            "  0.02871508  0.04947684 -0.00633979 -0.08960192  0.02807118 -0.00808364\n",
            " -0.01360602  0.0599865  -0.10361787 -0.05195374  0.00232954 -0.02332531\n",
            " -0.03758105  0.03327728], shape=(50,), dtype=float32)\n"
          ]
        }
      ],
      "source": [
        "import tensorflow_hub as hub\n",
        "embed = hub.load(\"https://tfhub.dev/google/universal-sentence-encoder/4\")\n",
        "embed_samples = embed([sample_sentence,\n",
        "                       \"When you call the universal sentence encoder on a sentence, it turns it into numbers.\"])\n",
        "print(embed_samples[0][:50])"
      ]
    },
    {
      "cell_type": "code",
      "execution_count": 92,
      "metadata": {
        "colab": {
          "base_uri": "https://localhost:8080/"
        },
        "id": "8YFJXfTcchl0",
        "outputId": "f661f753-e871-4e51-899b-532128e928b9"
      },
      "outputs": [
        {
          "output_type": "execute_result",
          "data": {
            "text/plain": [
              "TensorShape([512])"
            ]
          },
          "metadata": {},
          "execution_count": 92
        }
      ],
      "source": [
        "embed_samples[0].shape"
      ]
    },
    {
      "cell_type": "code",
      "execution_count": 93,
      "metadata": {
        "id": "xbSCUnVideYc"
      },
      "outputs": [],
      "source": [
        "# Create a Keras Layer using the USE pretrained layer from tensorflow hub\n",
        "sentence_encoder_layer = hub.KerasLayer(\"https://tfhub.dev/google/universal-sentence-encoder/4\",\n",
        "                                        input_shape=[],\n",
        "                                        dtype=tf.string,\n",
        "                                        trainable=False,\n",
        "                                        name=\"USE\")"
      ]
    },
    {
      "cell_type": "code",
      "execution_count": 94,
      "metadata": {
        "id": "u6d1nYbqe69X"
      },
      "outputs": [],
      "source": [
        "# Create model using the Sequential API\n",
        "from tensorflow.keras import layers\n",
        "model_6 = tf.keras.Sequential([\n",
        "    sentence_encoder_layer,\n",
        "    layers.Dense(64, activation=\"relu\"),\n",
        "    layers.Dense(1, activation=\"sigmoid\")\n",
        "], name=\"model_6_USE\")"
      ]
    },
    {
      "cell_type": "code",
      "execution_count": 95,
      "metadata": {
        "id": "TT0X5-5cfimj"
      },
      "outputs": [],
      "source": [
        "# Compile the model\n",
        "model_6.compile(loss=\"binary_crossentropy\",\n",
        "                optimizer=tf.keras.optimizers.Adam(),\n",
        "                metrics=[\"accuracy\"])"
      ]
    },
    {
      "cell_type": "code",
      "execution_count": 96,
      "metadata": {
        "colab": {
          "base_uri": "https://localhost:8080/"
        },
        "id": "hO-ieP9of37D",
        "outputId": "910529bd-8e87-42cd-c0a0-92c2abd873c3"
      },
      "outputs": [
        {
          "output_type": "stream",
          "name": "stdout",
          "text": [
            "Model: \"model_6_USE\"\n",
            "_________________________________________________________________\n",
            " Layer (type)                Output Shape              Param #   \n",
            "=================================================================\n",
            " USE (KerasLayer)            (None, 512)               256797824 \n",
            "                                                                 \n",
            " dense_6 (Dense)             (None, 64)                32832     \n",
            "                                                                 \n",
            " dense_7 (Dense)             (None, 1)                 65        \n",
            "                                                                 \n",
            "=================================================================\n",
            "Total params: 256830721 (979.73 MB)\n",
            "Trainable params: 32897 (128.50 KB)\n",
            "Non-trainable params: 256797824 (979.61 MB)\n",
            "_________________________________________________________________\n"
          ]
        }
      ],
      "source": [
        "# Summary\n",
        "model_6.summary()"
      ]
    },
    {
      "cell_type": "code",
      "execution_count": 97,
      "metadata": {
        "colab": {
          "base_uri": "https://localhost:8080/"
        },
        "id": "IVGJl0LYf6hQ",
        "outputId": "72b4a738-4930-41ba-fea8-56eba4578b54"
      },
      "outputs": [
        {
          "output_type": "stream",
          "name": "stdout",
          "text": [
            "Saving TensorBoard log files to: model_logs/tf_hub_sentence_encoder/20231120-134518\n",
            "Epoch 1/5\n",
            "215/215 [==============================] - 7s 17ms/step - loss: 0.5012 - accuracy: 0.7885 - val_loss: 0.4505 - val_accuracy: 0.7979\n",
            "Epoch 2/5\n",
            "215/215 [==============================] - 3s 13ms/step - loss: 0.4136 - accuracy: 0.8158 - val_loss: 0.4389 - val_accuracy: 0.8071\n",
            "Epoch 3/5\n",
            "215/215 [==============================] - 3s 14ms/step - loss: 0.4005 - accuracy: 0.8232 - val_loss: 0.4353 - val_accuracy: 0.8084\n",
            "Epoch 4/5\n",
            "215/215 [==============================] - 4s 20ms/step - loss: 0.3920 - accuracy: 0.8270 - val_loss: 0.4280 - val_accuracy: 0.8084\n",
            "Epoch 5/5\n",
            "215/215 [==============================] - 3s 15ms/step - loss: 0.3862 - accuracy: 0.8294 - val_loss: 0.4317 - val_accuracy: 0.8136\n"
          ]
        }
      ],
      "source": [
        "# Train a classifier on top of USE pretrained embeddings\n",
        "model_6_history = model_6.fit(train_sentences,\n",
        "                              train_labels,\n",
        "                              epochs=5,\n",
        "                              validation_data=(val_sentences, val_labels),\n",
        "                              callbacks=[create_tensorboard_callback(SAVE_DIR,\n",
        "                                                                     \"tf_hub_sentence_encoder\")])"
      ]
    },
    {
      "cell_type": "code",
      "execution_count": 98,
      "metadata": {
        "colab": {
          "base_uri": "https://localhost:8080/"
        },
        "id": "FkT1wzshgms4",
        "outputId": "3f19e05e-9f30-4dbd-be06-e0ef54a159f4"
      },
      "outputs": [
        {
          "output_type": "stream",
          "name": "stdout",
          "text": [
            "24/24 [==============================] - 1s 11ms/step\n"
          ]
        },
        {
          "output_type": "execute_result",
          "data": {
            "text/plain": [
              "array([[0.1371174 ],\n",
              "       [0.764261  ],\n",
              "       [0.9851016 ],\n",
              "       [0.19283867],\n",
              "       [0.67010957],\n",
              "       [0.6809294 ],\n",
              "       [0.9736742 ],\n",
              "       [0.97436154],\n",
              "       [0.93528074],\n",
              "       [0.09898002],\n",
              "       [0.611379  ],\n",
              "       [0.41886255],\n",
              "       [0.13858664],\n",
              "       [0.4637879 ],\n",
              "       [0.25549576],\n",
              "       [0.02571461],\n",
              "       [0.3844975 ],\n",
              "       [0.5691841 ],\n",
              "       [0.34816194],\n",
              "       [0.32791865],\n",
              "       [0.89335793],\n",
              "       [0.13547336],\n",
              "       [0.38687214],\n",
              "       [0.02930588],\n",
              "       [0.8563909 ],\n",
              "       [0.961241  ],\n",
              "       [0.05561884],\n",
              "       [0.10438645],\n",
              "       [0.09727207],\n",
              "       [0.33669364],\n",
              "       [0.5372299 ],\n",
              "       [0.91215444],\n",
              "       [0.32736006],\n",
              "       [0.25395173],\n",
              "       [0.45872307],\n",
              "       [0.09334274],\n",
              "       [0.9737888 ],\n",
              "       [0.05213817],\n",
              "       [0.03527829],\n",
              "       [0.97786385],\n",
              "       [0.0684559 ],\n",
              "       [0.22597812],\n",
              "       [0.480829  ],\n",
              "       [0.4947049 ],\n",
              "       [0.28383714],\n",
              "       [0.94440556],\n",
              "       [0.39553457],\n",
              "       [0.9550306 ],\n",
              "       [0.6146854 ],\n",
              "       [0.83125204],\n",
              "       [0.05687808],\n",
              "       [0.6160645 ],\n",
              "       [0.17227943],\n",
              "       [0.07105408],\n",
              "       [0.09631481],\n",
              "       [0.03539957],\n",
              "       [0.09919663],\n",
              "       [0.8745444 ],\n",
              "       [0.10208453],\n",
              "       [0.05378395],\n",
              "       [0.08688344],\n",
              "       [0.9700398 ],\n",
              "       [0.9678045 ],\n",
              "       [0.08951292],\n",
              "       [0.8964015 ],\n",
              "       [0.95049727],\n",
              "       [0.6867146 ],\n",
              "       [0.16535357],\n",
              "       [0.05942243],\n",
              "       [0.45682102],\n",
              "       [0.13204667],\n",
              "       [0.07056732],\n",
              "       [0.72602546],\n",
              "       [0.0491379 ],\n",
              "       [0.02706061],\n",
              "       [0.47248712],\n",
              "       [0.17611444],\n",
              "       [0.2608876 ],\n",
              "       [0.06978928],\n",
              "       [0.7282603 ],\n",
              "       [0.7491625 ],\n",
              "       [0.44657016],\n",
              "       [0.91860205],\n",
              "       [0.07942524],\n",
              "       [0.6075446 ],\n",
              "       [0.54583895],\n",
              "       [0.07411478],\n",
              "       [0.17798144],\n",
              "       [0.98244804],\n",
              "       [0.8675674 ],\n",
              "       [0.9951981 ],\n",
              "       [0.0378709 ],\n",
              "       [0.08596463],\n",
              "       [0.01949248],\n",
              "       [0.95823   ],\n",
              "       [0.74335206],\n",
              "       [0.94788086],\n",
              "       [0.8553399 ],\n",
              "       [0.97757494],\n",
              "       [0.9141046 ],\n",
              "       [0.94489   ],\n",
              "       [0.17124543],\n",
              "       [0.18331468],\n",
              "       [0.98544854],\n",
              "       [0.96690947],\n",
              "       [0.03436661],\n",
              "       [0.82712066],\n",
              "       [0.725782  ],\n",
              "       [0.13829255],\n",
              "       [0.79874635],\n",
              "       [0.09551241],\n",
              "       [0.04277075],\n",
              "       [0.20953475],\n",
              "       [0.26115236],\n",
              "       [0.15000299],\n",
              "       [0.15464033],\n",
              "       [0.41642   ],\n",
              "       [0.5712301 ],\n",
              "       [0.7310103 ],\n",
              "       [0.7070494 ],\n",
              "       [0.89194036],\n",
              "       [0.12826918],\n",
              "       [0.57204103],\n",
              "       [0.76450115],\n",
              "       [0.55852354],\n",
              "       [0.3745226 ],\n",
              "       [0.15864794],\n",
              "       [0.10514804],\n",
              "       [0.13363548],\n",
              "       [0.3333601 ],\n",
              "       [0.09920023],\n",
              "       [0.92098737],\n",
              "       [0.95012265],\n",
              "       [0.96104556],\n",
              "       [0.7194129 ],\n",
              "       [0.19338484],\n",
              "       [0.94774556],\n",
              "       [0.41159987],\n",
              "       [0.45237067],\n",
              "       [0.13138475],\n",
              "       [0.9693853 ],\n",
              "       [0.10311451],\n",
              "       [0.44015446],\n",
              "       [0.47186014],\n",
              "       [0.7657602 ],\n",
              "       [0.41937014],\n",
              "       [0.03758112],\n",
              "       [0.08199178],\n",
              "       [0.14660932],\n",
              "       [0.8531151 ],\n",
              "       [0.34486753],\n",
              "       [0.05006559],\n",
              "       [0.4537794 ],\n",
              "       [0.05864846],\n",
              "       [0.41680342],\n",
              "       [0.77288   ],\n",
              "       [0.68166894],\n",
              "       [0.0801159 ],\n",
              "       [0.937545  ],\n",
              "       [0.15246868],\n",
              "       [0.89096296],\n",
              "       [0.0708809 ],\n",
              "       [0.16791123],\n",
              "       [0.93105   ],\n",
              "       [0.04976679],\n",
              "       [0.03597278],\n",
              "       [0.9922792 ],\n",
              "       [0.14959843],\n",
              "       [0.88320047],\n",
              "       [0.1740328 ],\n",
              "       [0.9803026 ],\n",
              "       [0.35921156],\n",
              "       [0.9569225 ],\n",
              "       [0.05093998],\n",
              "       [0.9485457 ],\n",
              "       [0.03700496],\n",
              "       [0.7839807 ],\n",
              "       [0.446379  ],\n",
              "       [0.57358956],\n",
              "       [0.9928451 ],\n",
              "       [0.04725293],\n",
              "       [0.6148873 ],\n",
              "       [0.37193096],\n",
              "       [0.83440065],\n",
              "       [0.9044479 ],\n",
              "       [0.28125414],\n",
              "       [0.1594613 ],\n",
              "       [0.9735084 ],\n",
              "       [0.26775816],\n",
              "       [0.08542593],\n",
              "       [0.29221386],\n",
              "       [0.95032024],\n",
              "       [0.0702381 ],\n",
              "       [0.13986304],\n",
              "       [0.1204358 ],\n",
              "       [0.08586315],\n",
              "       [0.11985269],\n",
              "       [0.20621721],\n",
              "       [0.07778843],\n",
              "       [0.05327084],\n",
              "       [0.14146033],\n",
              "       [0.9452709 ],\n",
              "       [0.79712814],\n",
              "       [0.2141889 ],\n",
              "       [0.10309722],\n",
              "       [0.98453146],\n",
              "       [0.27654836],\n",
              "       [0.79681647],\n",
              "       [0.8929597 ],\n",
              "       [0.81290454],\n",
              "       [0.03370441],\n",
              "       [0.9673309 ],\n",
              "       [0.0629015 ],\n",
              "       [0.09150454],\n",
              "       [0.02889641],\n",
              "       [0.04318411],\n",
              "       [0.8875268 ],\n",
              "       [0.8813051 ],\n",
              "       [0.6095045 ],\n",
              "       [0.05849377],\n",
              "       [0.5283646 ],\n",
              "       [0.05157527],\n",
              "       [0.09222194],\n",
              "       [0.19188501],\n",
              "       [0.983165  ],\n",
              "       [0.12966518],\n",
              "       [0.2174794 ],\n",
              "       [0.9534757 ],\n",
              "       [0.67406994],\n",
              "       [0.25446817],\n",
              "       [0.74078584],\n",
              "       [0.19613303],\n",
              "       [0.9305036 ],\n",
              "       [0.05223132],\n",
              "       [0.35755938],\n",
              "       [0.51486135],\n",
              "       [0.32358244],\n",
              "       [0.58678114],\n",
              "       [0.9784953 ],\n",
              "       [0.04014335],\n",
              "       [0.6163724 ],\n",
              "       [0.23495364],\n",
              "       [0.9693062 ],\n",
              "       [0.917011  ],\n",
              "       [0.03504184],\n",
              "       [0.19600123],\n",
              "       [0.8844478 ],\n",
              "       [0.18790573],\n",
              "       [0.10931116],\n",
              "       [0.6593843 ],\n",
              "       [0.11084037],\n",
              "       [0.80931926],\n",
              "       [0.02797171],\n",
              "       [0.5109182 ],\n",
              "       [0.84872144],\n",
              "       [0.22939311],\n",
              "       [0.7571666 ],\n",
              "       [0.9918887 ],\n",
              "       [0.37140337],\n",
              "       [0.10935406],\n",
              "       [0.9350494 ],\n",
              "       [0.09565157],\n",
              "       [0.13399829],\n",
              "       [0.93134475],\n",
              "       [0.8417182 ],\n",
              "       [0.7272037 ],\n",
              "       [0.91164005],\n",
              "       [0.08102619],\n",
              "       [0.13100041],\n",
              "       [0.06841493],\n",
              "       [0.10125303],\n",
              "       [0.3604366 ],\n",
              "       [0.8929425 ],\n",
              "       [0.09348696],\n",
              "       [0.33447933],\n",
              "       [0.93238604],\n",
              "       [0.14482121],\n",
              "       [0.07236147],\n",
              "       [0.9725601 ],\n",
              "       [0.42189533],\n",
              "       [0.10227579],\n",
              "       [0.09578228],\n",
              "       [0.96600026],\n",
              "       [0.3217006 ],\n",
              "       [0.19539787],\n",
              "       [0.58050805],\n",
              "       [0.7160679 ],\n",
              "       [0.14947636],\n",
              "       [0.81104285],\n",
              "       [0.03477326],\n",
              "       [0.77471447],\n",
              "       [0.5581176 ],\n",
              "       [0.27852458],\n",
              "       [0.6813915 ],\n",
              "       [0.05729729],\n",
              "       [0.82009363],\n",
              "       [0.23633602],\n",
              "       [0.9778972 ],\n",
              "       [0.06879757],\n",
              "       [0.4840222 ],\n",
              "       [0.32894295],\n",
              "       [0.09998947],\n",
              "       [0.06463607],\n",
              "       [0.6778629 ],\n",
              "       [0.20094067],\n",
              "       [0.14546667],\n",
              "       [0.0911101 ],\n",
              "       [0.6853003 ],\n",
              "       [0.04933382],\n",
              "       [0.02784954],\n",
              "       [0.0981662 ],\n",
              "       [0.9489217 ],\n",
              "       [0.61414945],\n",
              "       [0.18029815],\n",
              "       [0.96832216],\n",
              "       [0.06319708],\n",
              "       [0.88935065],\n",
              "       [0.5936583 ],\n",
              "       [0.02381939],\n",
              "       [0.2751412 ],\n",
              "       [0.09158511],\n",
              "       [0.13586308],\n",
              "       [0.96408534],\n",
              "       [0.06300363],\n",
              "       [0.67349845],\n",
              "       [0.05184606],\n",
              "       [0.19776046],\n",
              "       [0.8450647 ],\n",
              "       [0.0536945 ],\n",
              "       [0.82352704],\n",
              "       [0.83556634],\n",
              "       [0.1052463 ],\n",
              "       [0.9277494 ],\n",
              "       [0.19316588],\n",
              "       [0.19432513],\n",
              "       [0.5439    ],\n",
              "       [0.04749674],\n",
              "       [0.3580856 ],\n",
              "       [0.44447643],\n",
              "       [0.510341  ],\n",
              "       [0.11151849],\n",
              "       [0.15227532],\n",
              "       [0.8914602 ],\n",
              "       [0.9559163 ],\n",
              "       [0.70203465],\n",
              "       [0.17791855],\n",
              "       [0.30121315],\n",
              "       [0.10419571],\n",
              "       [0.06119765],\n",
              "       [0.14589252],\n",
              "       [0.21665895],\n",
              "       [0.34632295],\n",
              "       [0.09376528],\n",
              "       [0.06666631],\n",
              "       [0.49599114],\n",
              "       [0.03497804],\n",
              "       [0.9566245 ],\n",
              "       [0.94847137],\n",
              "       [0.7462755 ],\n",
              "       [0.6541603 ],\n",
              "       [0.3633428 ],\n",
              "       [0.07394174],\n",
              "       [0.9443442 ],\n",
              "       [0.50875956],\n",
              "       [0.29557544],\n",
              "       [0.04866533],\n",
              "       [0.15654568],\n",
              "       [0.06392773],\n",
              "       [0.16476199],\n",
              "       [0.02444962],\n",
              "       [0.7245044 ],\n",
              "       [0.03063   ],\n",
              "       [0.13769712],\n",
              "       [0.18257779],\n",
              "       [0.08196274],\n",
              "       [0.08129519],\n",
              "       [0.12210859],\n",
              "       [0.11288264],\n",
              "       [0.13174003],\n",
              "       [0.37173098],\n",
              "       [0.9269049 ],\n",
              "       [0.73556435],\n",
              "       [0.13619554],\n",
              "       [0.20355935],\n",
              "       [0.58591324],\n",
              "       [0.948231  ],\n",
              "       [0.387461  ],\n",
              "       [0.29026863],\n",
              "       [0.98815364],\n",
              "       [0.21535385],\n",
              "       [0.12922049],\n",
              "       [0.42640287],\n",
              "       [0.05057823],\n",
              "       [0.8204853 ],\n",
              "       [0.6579764 ],\n",
              "       [0.9868412 ],\n",
              "       [0.10958754],\n",
              "       [0.6886465 ],\n",
              "       [0.23894888],\n",
              "       [0.27892667],\n",
              "       [0.96257985],\n",
              "       [0.14547524],\n",
              "       [0.5881056 ],\n",
              "       [0.90837955],\n",
              "       [0.07211939],\n",
              "       [0.9269122 ],\n",
              "       [0.2473658 ],\n",
              "       [0.7091854 ],\n",
              "       [0.05230714],\n",
              "       [0.23250793],\n",
              "       [0.82522154],\n",
              "       [0.04180013],\n",
              "       [0.08384027],\n",
              "       [0.49871668],\n",
              "       [0.93150204],\n",
              "       [0.6756081 ],\n",
              "       [0.21766941],\n",
              "       [0.9564451 ],\n",
              "       [0.18417715],\n",
              "       [0.08508322],\n",
              "       [0.95660436],\n",
              "       [0.8449524 ],\n",
              "       [0.69721687],\n",
              "       [0.7149578 ],\n",
              "       [0.03493686],\n",
              "       [0.517156  ],\n",
              "       [0.12215949],\n",
              "       [0.80914855],\n",
              "       [0.4682075 ],\n",
              "       [0.91660374],\n",
              "       [0.07480005],\n",
              "       [0.06430589],\n",
              "       [0.12029172],\n",
              "       [0.6017583 ],\n",
              "       [0.23884647],\n",
              "       [0.28610358],\n",
              "       [0.46295205],\n",
              "       [0.30599457],\n",
              "       [0.98165673],\n",
              "       [0.6790512 ],\n",
              "       [0.56528324],\n",
              "       [0.74071854],\n",
              "       [0.30860004],\n",
              "       [0.09819262],\n",
              "       [0.15225506],\n",
              "       [0.6669007 ],\n",
              "       [0.04514116],\n",
              "       [0.04805876],\n",
              "       [0.1790019 ],\n",
              "       [0.17616965],\n",
              "       [0.03582992],\n",
              "       [0.87304443],\n",
              "       [0.92525804],\n",
              "       [0.84141195],\n",
              "       [0.9597309 ],\n",
              "       [0.9779573 ],\n",
              "       [0.05117088],\n",
              "       [0.1695835 ],\n",
              "       [0.36318836],\n",
              "       [0.8157485 ],\n",
              "       [0.9800356 ],\n",
              "       [0.07243273],\n",
              "       [0.09448219],\n",
              "       [0.35386515],\n",
              "       [0.9876793 ],\n",
              "       [0.922003  ],\n",
              "       [0.16171825],\n",
              "       [0.18456271],\n",
              "       [0.9131662 ],\n",
              "       [0.0324685 ],\n",
              "       [0.1733902 ],\n",
              "       [0.8952277 ],\n",
              "       [0.518731  ],\n",
              "       [0.25551572],\n",
              "       [0.75284684],\n",
              "       [0.47841242],\n",
              "       [0.8078798 ],\n",
              "       [0.97775024],\n",
              "       [0.09377051],\n",
              "       [0.05101242],\n",
              "       [0.14448543],\n",
              "       [0.05582352],\n",
              "       [0.3450132 ],\n",
              "       [0.87241876],\n",
              "       [0.04897827],\n",
              "       [0.5344451 ],\n",
              "       [0.07605621],\n",
              "       [0.09201901],\n",
              "       [0.26751617],\n",
              "       [0.43046838],\n",
              "       [0.32577512],\n",
              "       [0.94970363],\n",
              "       [0.19915281],\n",
              "       [0.06443933],\n",
              "       [0.10402894],\n",
              "       [0.11704122],\n",
              "       [0.42078   ],\n",
              "       [0.79765064],\n",
              "       [0.10555609],\n",
              "       [0.858331  ],\n",
              "       [0.9487123 ],\n",
              "       [0.04012845],\n",
              "       [0.35564733],\n",
              "       [0.8116862 ],\n",
              "       [0.1794799 ],\n",
              "       [0.6048591 ],\n",
              "       [0.08733135],\n",
              "       [0.9452562 ],\n",
              "       [0.18944131],\n",
              "       [0.18330598],\n",
              "       [0.12467197],\n",
              "       [0.05768009],\n",
              "       [0.14477614],\n",
              "       [0.61880124],\n",
              "       [0.951825  ],\n",
              "       [0.15253492],\n",
              "       [0.97111076],\n",
              "       [0.6152662 ],\n",
              "       [0.63466734],\n",
              "       [0.9778788 ],\n",
              "       [0.4714626 ],\n",
              "       [0.37096506],\n",
              "       [0.7933634 ],\n",
              "       [0.9398591 ],\n",
              "       [0.05688861],\n",
              "       [0.18515915],\n",
              "       [0.0664107 ],\n",
              "       [0.20755345],\n",
              "       [0.28921393],\n",
              "       [0.9145311 ],\n",
              "       [0.7443218 ],\n",
              "       [0.9581816 ],\n",
              "       [0.07037009],\n",
              "       [0.03903451],\n",
              "       [0.85279536],\n",
              "       [0.08664399],\n",
              "       [0.06266876],\n",
              "       [0.05469467],\n",
              "       [0.10995141],\n",
              "       [0.4369621 ],\n",
              "       [0.22671178],\n",
              "       [0.49697942],\n",
              "       [0.21634045],\n",
              "       [0.13161452],\n",
              "       [0.10083333],\n",
              "       [0.1578035 ],\n",
              "       [0.3208484 ],\n",
              "       [0.9360022 ],\n",
              "       [0.72547245],\n",
              "       [0.6891024 ],\n",
              "       [0.9021463 ],\n",
              "       [0.93505055],\n",
              "       [0.05013366],\n",
              "       [0.77304584],\n",
              "       [0.05898583],\n",
              "       [0.97507143],\n",
              "       [0.05588221],\n",
              "       [0.18277149],\n",
              "       [0.2190296 ],\n",
              "       [0.04458032],\n",
              "       [0.17996626],\n",
              "       [0.23954004],\n",
              "       [0.937534  ],\n",
              "       [0.8257423 ],\n",
              "       [0.82679325],\n",
              "       [0.07930562],\n",
              "       [0.7170686 ],\n",
              "       [0.7092558 ],\n",
              "       [0.07632108],\n",
              "       [0.2159485 ],\n",
              "       [0.8142002 ],\n",
              "       [0.6038942 ],\n",
              "       [0.9801189 ],\n",
              "       [0.22680245],\n",
              "       [0.12152632],\n",
              "       [0.5691807 ],\n",
              "       [0.07514764],\n",
              "       [0.6955012 ],\n",
              "       [0.9001369 ],\n",
              "       [0.22550128],\n",
              "       [0.05636163],\n",
              "       [0.06376858],\n",
              "       [0.93762696],\n",
              "       [0.16751038],\n",
              "       [0.06936181],\n",
              "       [0.966325  ],\n",
              "       [0.13513374],\n",
              "       [0.07971201],\n",
              "       [0.6932177 ],\n",
              "       [0.02038173],\n",
              "       [0.21469279],\n",
              "       [0.34988114],\n",
              "       [0.542733  ],\n",
              "       [0.0117235 ],\n",
              "       [0.2642891 ],\n",
              "       [0.942929  ],\n",
              "       [0.12219197],\n",
              "       [0.9197577 ],\n",
              "       [0.9811621 ],\n",
              "       [0.05569005],\n",
              "       [0.05296928],\n",
              "       [0.04796977],\n",
              "       [0.9249785 ],\n",
              "       [0.47430485],\n",
              "       [0.9780171 ],\n",
              "       [0.08810609],\n",
              "       [0.23642258],\n",
              "       [0.09480076],\n",
              "       [0.04462852],\n",
              "       [0.75285655],\n",
              "       [0.1383834 ],\n",
              "       [0.91909516],\n",
              "       [0.07433319],\n",
              "       [0.19179054],\n",
              "       [0.98086953],\n",
              "       [0.27889884],\n",
              "       [0.05297675],\n",
              "       [0.3687828 ],\n",
              "       [0.0346653 ],\n",
              "       [0.5538176 ],\n",
              "       [0.98427236],\n",
              "       [0.05916316],\n",
              "       [0.98238224],\n",
              "       [0.22702418],\n",
              "       [0.7840239 ],\n",
              "       [0.12869689],\n",
              "       [0.37412357],\n",
              "       [0.2634126 ],\n",
              "       [0.83408535],\n",
              "       [0.03112692],\n",
              "       [0.37843603],\n",
              "       [0.9075892 ],\n",
              "       [0.65928507],\n",
              "       [0.6304073 ],\n",
              "       [0.89861107],\n",
              "       [0.05697439],\n",
              "       [0.7164461 ],\n",
              "       [0.08194873],\n",
              "       [0.6984569 ],\n",
              "       [0.16824415],\n",
              "       [0.91744393],\n",
              "       [0.3985352 ],\n",
              "       [0.60130996],\n",
              "       [0.20431408],\n",
              "       [0.05285871],\n",
              "       [0.63945496],\n",
              "       [0.12989332],\n",
              "       [0.14217338],\n",
              "       [0.59781957],\n",
              "       [0.9607598 ],\n",
              "       [0.98554766],\n",
              "       [0.07452612],\n",
              "       [0.06100024],\n",
              "       [0.06146752],\n",
              "       [0.09850982],\n",
              "       [0.2545558 ],\n",
              "       [0.06266212],\n",
              "       [0.9670469 ],\n",
              "       [0.11345795],\n",
              "       [0.38569072],\n",
              "       [0.087888  ],\n",
              "       [0.11786163],\n",
              "       [0.85018086],\n",
              "       [0.09173694],\n",
              "       [0.08004583],\n",
              "       [0.27767038],\n",
              "       [0.08543506],\n",
              "       [0.37719333],\n",
              "       [0.9790912 ],\n",
              "       [0.46062756],\n",
              "       [0.04271429],\n",
              "       [0.17176504],\n",
              "       [0.11105063],\n",
              "       [0.03161222],\n",
              "       [0.90624744],\n",
              "       [0.18830855],\n",
              "       [0.6199327 ],\n",
              "       [0.40543878],\n",
              "       [0.10907339],\n",
              "       [0.35080037],\n",
              "       [0.3057599 ],\n",
              "       [0.06255787],\n",
              "       [0.13429286],\n",
              "       [0.8140577 ],\n",
              "       [0.13567424],\n",
              "       [0.92488766],\n",
              "       [0.05595137],\n",
              "       [0.15588868],\n",
              "       [0.20755345],\n",
              "       [0.04505696],\n",
              "       [0.8022398 ],\n",
              "       [0.9367279 ],\n",
              "       [0.247871  ],\n",
              "       [0.06880588],\n",
              "       [0.9725629 ],\n",
              "       [0.7287928 ],\n",
              "       [0.7983777 ],\n",
              "       [0.57126004],\n",
              "       [0.75149053],\n",
              "       [0.08752245],\n",
              "       [0.17203815],\n",
              "       [0.20012222],\n",
              "       [0.77587956],\n",
              "       [0.07771863],\n",
              "       [0.38042352],\n",
              "       [0.18900923],\n",
              "       [0.32068947],\n",
              "       [0.05967946],\n",
              "       [0.07291663],\n",
              "       [0.11301036],\n",
              "       [0.21239357],\n",
              "       [0.22938742],\n",
              "       [0.48223194],\n",
              "       [0.01768387],\n",
              "       [0.10111994],\n",
              "       [0.17585869],\n",
              "       [0.20015427],\n",
              "       [0.02340283],\n",
              "       [0.6062991 ],\n",
              "       [0.02933136],\n",
              "       [0.61147845],\n",
              "       [0.12654378],\n",
              "       [0.24035206],\n",
              "       [0.8905095 ],\n",
              "       [0.04885715],\n",
              "       [0.35406983],\n",
              "       [0.10225303],\n",
              "       [0.06677625],\n",
              "       [0.9467464 ],\n",
              "       [0.18672343],\n",
              "       [0.17834596],\n",
              "       [0.84062916],\n",
              "       [0.9247789 ],\n",
              "       [0.8588328 ],\n",
              "       [0.9860136 ],\n",
              "       [0.9571656 ],\n",
              "       [0.1707445 ],\n",
              "       [0.15816946],\n",
              "       [0.04290589],\n",
              "       [0.6987607 ],\n",
              "       [0.87295157],\n",
              "       [0.5328406 ],\n",
              "       [0.35105133],\n",
              "       [0.04032227],\n",
              "       [0.3812346 ],\n",
              "       [0.31109685],\n",
              "       [0.1168937 ],\n",
              "       [0.16610105],\n",
              "       [0.13566746],\n",
              "       [0.07737948],\n",
              "       [0.14251223],\n",
              "       [0.30945337],\n",
              "       [0.9171574 ],\n",
              "       [0.08985852],\n",
              "       [0.92689663],\n",
              "       [0.646592  ],\n",
              "       [0.06386329],\n",
              "       [0.12186658],\n",
              "       [0.11536269],\n",
              "       [0.8739926 ],\n",
              "       [0.6712585 ],\n",
              "       [0.08759907]], dtype=float32)"
            ]
          },
          "metadata": {},
          "execution_count": 98
        }
      ],
      "source": [
        "# Make predictions with USE TF hub Model\n",
        "model_6_pred_probs = model_6.predict(val_sentences)\n",
        "model_6_pred_probs"
      ]
    },
    {
      "cell_type": "code",
      "execution_count": 99,
      "metadata": {
        "colab": {
          "base_uri": "https://localhost:8080/"
        },
        "id": "A6DKzIt_hFzU",
        "outputId": "965d4668-ada0-40fb-e286-02a9a472874c"
      },
      "outputs": [
        {
          "output_type": "execute_result",
          "data": {
            "text/plain": [
              "<tf.Tensor: shape=(10,), dtype=float32, numpy=array([0., 1., 1., 0., 1., 1., 1., 1., 1., 0.], dtype=float32)>"
            ]
          },
          "metadata": {},
          "execution_count": 99
        }
      ],
      "source": [
        "# Convert predictions probabilities to labels\n",
        "model_6_preds = tf.squeeze(tf.round(model_6_pred_probs))\n",
        "model_6_preds[:10]"
      ]
    },
    {
      "cell_type": "code",
      "execution_count": 100,
      "metadata": {
        "colab": {
          "base_uri": "https://localhost:8080/"
        },
        "id": "yxyyEjL0hQzb",
        "outputId": "b3d5244a-65cc-4ec4-87c2-dad0e130c703"
      },
      "outputs": [
        {
          "output_type": "execute_result",
          "data": {
            "text/plain": [
              "{'accuracy': 81.36482939632546,\n",
              " 'precision': 0.8170954157228842,\n",
              " 'recall': 0.8136482939632546,\n",
              " 'f1': 0.8117426826050925}"
            ]
          },
          "metadata": {},
          "execution_count": 100
        }
      ],
      "source": [
        "# Calculate model 6 performance metrics\n",
        "model_6_results = calculate_results(y_true=val_labels,\n",
        "                                    y_pred=model_6_preds)\n",
        "model_6_results"
      ]
    },
    {
      "cell_type": "code",
      "execution_count": 101,
      "metadata": {
        "colab": {
          "base_uri": "https://localhost:8080/"
        },
        "id": "aNiJYbrQhgnt",
        "outputId": "d0924afd-c08f-4611-d435-33351717fd21"
      },
      "outputs": [
        {
          "output_type": "execute_result",
          "data": {
            "text/plain": [
              "{'accuracy': 79.26509186351706,\n",
              " 'precision': 0.8111390004213173,\n",
              " 'recall': 0.7926509186351706,\n",
              " 'f1': 0.7862189758049549}"
            ]
          },
          "metadata": {},
          "execution_count": 101
        }
      ],
      "source": [
        "baseline_results"
      ]
    },
    {
      "cell_type": "markdown",
      "metadata": {
        "id": "UVpjNfwQhrJw"
      },
      "source": [
        "## Model 7: TF Hub Pretrained USE but with 10% of the training data\n",
        "\n",
        "Transfer Learning really helps when you don't have a large dataset.\n",
        "\n",
        "To see how our model performs on a smaller dataset, let's replicate `model_6` except we'll train it on 10% of the data."
      ]
    },
    {
      "cell_type": "code",
      "execution_count": 102,
      "metadata": {
        "id": "3-k655rB_iKi"
      },
      "outputs": [],
      "source": [
        "# ## Note: Making data splits like below leads to data leakage (model_7 trained on 10% data, outperforms model_6 trained on 100% data)\n",
        "# ## DO NOT MAKE DATA SPLITS WHICH LEAK DATA FROM VALIDATION/TEST INTO TRAINING SET\n",
        "\n",
        "# # Create subsets of 10% of the training data\n",
        "# train_10_percent = train_df_shuffled[[\"text\", \"target\"]].sample(frac=0.1, random_state=42)\n",
        "# # train_10_percent.head(), len(train_10_percent\n",
        "# train_sentences_10_percent = train_10_percent[\"text\"].to_list()\n",
        "# train_labels_10_percent = train_10_percent[\"target\"].to_list()\n",
        "# len(train_sentences_10_percent), len(train_labels_10_percent)"
      ]
    },
    {
      "cell_type": "markdown",
      "source": [
        "⭐ **Note:** Be *very* careful when creating training / val / test splits that you dont leak data across the datasets, otherwise your model evaluation metrics will be wrong. If something looks too good to be true (a model trained on 10% of data outperforming the same model trained on 100% data trust your gut and go back to through to find where the error may lie."
      ],
      "metadata": {
        "id": "xzozZ97uXHer"
      }
    },
    {
      "cell_type": "code",
      "source": [
        "# Making a better dataset split (no data leakage)\n",
        "train_10_percent_split = int(0.1* len(train_sentences))\n",
        "train_sentences_10_percent = train_sentences[:train_10_percent_split]\n",
        "train_labels_10_percent = train_labels[:train_10_percent_split]"
      ],
      "metadata": {
        "id": "IJrupgO1VoVj"
      },
      "execution_count": 103,
      "outputs": []
    },
    {
      "cell_type": "code",
      "execution_count": 104,
      "metadata": {
        "id": "ci5B5uxe_5jS"
      },
      "outputs": [],
      "source": [
        "# Check the number of targets in our subset of data\n",
        "# train_labels_10_percent[\"target\"].value_counts()"
      ]
    },
    {
      "cell_type": "code",
      "source": [
        "import numpy as np"
      ],
      "metadata": {
        "id": "Fr53maBJWjUd"
      },
      "execution_count": 105,
      "outputs": []
    },
    {
      "cell_type": "code",
      "source": [
        "# Check the number of each labels in the updated training data subset\n",
        "pd.Series(np.array(train_labels_10_percent)).value_counts()"
      ],
      "metadata": {
        "colab": {
          "base_uri": "https://localhost:8080/"
        },
        "id": "KFqI1EtIWbt5",
        "outputId": "0f584f1b-e4cd-4d6b-925c-68a1e298affe"
      },
      "execution_count": 106,
      "outputs": [
        {
          "output_type": "execute_result",
          "data": {
            "text/plain": [
              "0    406\n",
              "1    279\n",
              "dtype: int64"
            ]
          },
          "metadata": {},
          "execution_count": 106
        }
      ]
    },
    {
      "cell_type": "code",
      "execution_count": 107,
      "metadata": {
        "colab": {
          "base_uri": "https://localhost:8080/"
        },
        "id": "yEDeD-vJHMgs",
        "outputId": "18c716f0-0722-4e73-e5af-fedcb59acc6b"
      },
      "outputs": [
        {
          "output_type": "execute_result",
          "data": {
            "text/plain": [
              "0    4342\n",
              "1    3271\n",
              "Name: target, dtype: int64"
            ]
          },
          "metadata": {},
          "execution_count": 107
        }
      ],
      "source": [
        "train_df_shuffled[\"target\"].value_counts()"
      ]
    },
    {
      "cell_type": "markdown",
      "metadata": {
        "id": "OGlBBgV0JJq_"
      },
      "source": [
        "To recreate a model the same as a previous model we've created you can use the `tf.keras.model_clone_model()` method, see more here: https://www.tensorflow.org/api_docs/python/tf/keras/models/clone_model"
      ]
    },
    {
      "cell_type": "code",
      "execution_count": 108,
      "metadata": {
        "colab": {
          "base_uri": "https://localhost:8080/"
        },
        "id": "eeUaJtwoHQod",
        "outputId": "6f17fed7-326f-42d4-be69-700f8d9f64d8"
      },
      "outputs": [
        {
          "output_type": "stream",
          "name": "stdout",
          "text": [
            "Model: \"model_7_USE\"\n",
            "_________________________________________________________________\n",
            " Layer (type)                Output Shape              Param #   \n",
            "=================================================================\n",
            " USE (KerasLayer)            (None, 512)               256797824 \n",
            "                                                                 \n",
            " dense_8 (Dense)             (None, 64)                32832     \n",
            "                                                                 \n",
            " dense_9 (Dense)             (None, 1)                 65        \n",
            "                                                                 \n",
            "=================================================================\n",
            "Total params: 256830721 (979.73 MB)\n",
            "Trainable params: 32897 (128.50 KB)\n",
            "Non-trainable params: 256797824 (979.61 MB)\n",
            "_________________________________________________________________\n"
          ]
        }
      ],
      "source": [
        "# Let's build a model the same as model 6\n",
        "# model_7 = tf.keras.models.clone_model(model_6)\n",
        "\n",
        "from tensorflow.keras import layers\n",
        "model_7 = tf.keras.Sequential([\n",
        "    sentence_encoder_layer,\n",
        "    layers.Dense(64, activation=\"relu\"),\n",
        "    layers.Dense(1, activation=\"sigmoid\")\n",
        "], name=\"model_7_USE\")\n",
        "\n",
        "# Compile Model\n",
        "model_7.compile(loss=\"binary_crossentropy\",\n",
        "                optimizer=tf.keras.optimizers.Adam(),\n",
        "                metrics=[\"accuracy\"])\n",
        "\n",
        "# Get a summary (will be same as model_6)\n",
        "model_7.summary()"
      ]
    },
    {
      "cell_type": "code",
      "execution_count": 109,
      "metadata": {
        "colab": {
          "base_uri": "https://localhost:8080/"
        },
        "id": "QVkV7lruKDpv",
        "outputId": "43defbf8-f208-4f90-a11b-ce829aa8e250"
      },
      "outputs": [
        {
          "output_type": "stream",
          "name": "stdout",
          "text": [
            "Saving TensorBoard log files to: model_logs/tf_hub_sentence_encoder_10_percent_correct_split/20231120-134540\n",
            "Epoch 1/5\n",
            "22/22 [==============================] - 3s 50ms/step - loss: 0.6737 - accuracy: 0.6715 - val_loss: 0.6537 - val_accuracy: 0.7060\n",
            "Epoch 2/5\n",
            "22/22 [==============================] - 1s 29ms/step - loss: 0.6063 - accuracy: 0.8058 - val_loss: 0.5934 - val_accuracy: 0.7625\n",
            "Epoch 3/5\n",
            "22/22 [==============================] - 1s 28ms/step - loss: 0.5285 - accuracy: 0.8146 - val_loss: 0.5395 - val_accuracy: 0.7703\n",
            "Epoch 4/5\n",
            "22/22 [==============================] - 1s 27ms/step - loss: 0.4666 - accuracy: 0.8234 - val_loss: 0.5051 - val_accuracy: 0.7795\n",
            "Epoch 5/5\n",
            "22/22 [==============================] - 1s 29ms/step - loss: 0.4235 - accuracy: 0.8263 - val_loss: 0.4863 - val_accuracy: 0.7795\n"
          ]
        }
      ],
      "source": [
        "# Fit the model to the 10% of training data subsets\n",
        "model_7_history = model_7.fit(train_sentences_10_percent,\n",
        "                              train_labels_10_percent,\n",
        "                              epochs=5,\n",
        "                              validation_data=(val_sentences, val_labels),\n",
        "                              callbacks=[create_tensorboard_callback(SAVE_DIR,\n",
        "                                                                     \"tf_hub_sentence_encoder_10_percent_correct_split\")])"
      ]
    },
    {
      "cell_type": "code",
      "execution_count": 110,
      "metadata": {
        "colab": {
          "base_uri": "https://localhost:8080/"
        },
        "id": "q0ihwvvILO_U",
        "outputId": "a68eab5e-8a35-424c-882f-44656f2d29f6"
      },
      "outputs": [
        {
          "output_type": "stream",
          "name": "stdout",
          "text": [
            "24/24 [==============================] - 1s 21ms/step\n"
          ]
        },
        {
          "output_type": "execute_result",
          "data": {
            "text/plain": [
              "array([[0.21568368],\n",
              "       [0.6209603 ],\n",
              "       [0.9352576 ],\n",
              "       [0.34219846],\n",
              "       [0.5354118 ],\n",
              "       [0.70339286],\n",
              "       [0.9158954 ],\n",
              "       [0.84672016],\n",
              "       [0.8720154 ],\n",
              "       [0.17597693],\n",
              "       [0.5105881 ],\n",
              "       [0.51546884],\n",
              "       [0.3133627 ],\n",
              "       [0.35038453],\n",
              "       [0.54481477],\n",
              "       [0.18974729],\n",
              "       [0.27595487],\n",
              "       [0.6260614 ],\n",
              "       [0.5097886 ],\n",
              "       [0.3077462 ],\n",
              "       [0.57641417],\n",
              "       [0.42932454],\n",
              "       [0.3193009 ],\n",
              "       [0.13392909],\n",
              "       [0.5615982 ],\n",
              "       [0.86885715],\n",
              "       [0.24198663],\n",
              "       [0.39521882],\n",
              "       [0.13278878],\n",
              "       [0.3754304 ],\n",
              "       [0.60439986],\n",
              "       [0.8192113 ],\n",
              "       [0.43869796],\n",
              "       [0.38133648],\n",
              "       [0.5756979 ],\n",
              "       [0.18558748],\n",
              "       [0.8906323 ],\n",
              "       [0.12085929],\n",
              "       [0.1478373 ],\n",
              "       [0.9136704 ],\n",
              "       [0.1817218 ],\n",
              "       [0.2558876 ],\n",
              "       [0.61053544],\n",
              "       [0.5116697 ],\n",
              "       [0.27776256],\n",
              "       [0.8400884 ],\n",
              "       [0.33696318],\n",
              "       [0.9089135 ],\n",
              "       [0.48327443],\n",
              "       [0.9019866 ],\n",
              "       [0.13581601],\n",
              "       [0.56972396],\n",
              "       [0.4445303 ],\n",
              "       [0.152216  ],\n",
              "       [0.17314313],\n",
              "       [0.07477596],\n",
              "       [0.19162628],\n",
              "       [0.71348155],\n",
              "       [0.21260677],\n",
              "       [0.21349557],\n",
              "       [0.10042997],\n",
              "       [0.80357355],\n",
              "       [0.898335  ],\n",
              "       [0.20148978],\n",
              "       [0.7542984 ],\n",
              "       [0.84099996],\n",
              "       [0.3755021 ],\n",
              "       [0.38743407],\n",
              "       [0.1523291 ],\n",
              "       [0.4276681 ],\n",
              "       [0.15769064],\n",
              "       [0.16823097],\n",
              "       [0.47612822],\n",
              "       [0.08735205],\n",
              "       [0.06110521],\n",
              "       [0.63125473],\n",
              "       [0.2820033 ],\n",
              "       [0.33407974],\n",
              "       [0.1623471 ],\n",
              "       [0.5372736 ],\n",
              "       [0.8099918 ],\n",
              "       [0.5776439 ],\n",
              "       [0.7183578 ],\n",
              "       [0.28230867],\n",
              "       [0.4645852 ],\n",
              "       [0.5296533 ],\n",
              "       [0.14940536],\n",
              "       [0.23798533],\n",
              "       [0.9290027 ],\n",
              "       [0.61929697],\n",
              "       [0.9398855 ],\n",
              "       [0.10455234],\n",
              "       [0.13241346],\n",
              "       [0.11705347],\n",
              "       [0.8814992 ],\n",
              "       [0.58204514],\n",
              "       [0.8373636 ],\n",
              "       [0.7076062 ],\n",
              "       [0.93951154],\n",
              "       [0.7130619 ],\n",
              "       [0.88302326],\n",
              "       [0.16328484],\n",
              "       [0.08065715],\n",
              "       [0.9176624 ],\n",
              "       [0.7962605 ],\n",
              "       [0.13779365],\n",
              "       [0.6707151 ],\n",
              "       [0.3298858 ],\n",
              "       [0.1445337 ],\n",
              "       [0.5803951 ],\n",
              "       [0.5263323 ],\n",
              "       [0.22231753],\n",
              "       [0.3224903 ],\n",
              "       [0.4029558 ],\n",
              "       [0.2820978 ],\n",
              "       [0.61555004],\n",
              "       [0.4291851 ],\n",
              "       [0.74142206],\n",
              "       [0.6121018 ],\n",
              "       [0.69155294],\n",
              "       [0.8047819 ],\n",
              "       [0.2510937 ],\n",
              "       [0.34317893],\n",
              "       [0.7391447 ],\n",
              "       [0.5170323 ],\n",
              "       [0.48495498],\n",
              "       [0.18526532],\n",
              "       [0.13922909],\n",
              "       [0.11902508],\n",
              "       [0.60898095],\n",
              "       [0.32954732],\n",
              "       [0.8066234 ],\n",
              "       [0.7519303 ],\n",
              "       [0.87250614],\n",
              "       [0.6661946 ],\n",
              "       [0.40291467],\n",
              "       [0.8477097 ],\n",
              "       [0.34789932],\n",
              "       [0.35521474],\n",
              "       [0.13568835],\n",
              "       [0.8887513 ],\n",
              "       [0.1620919 ],\n",
              "       [0.3627379 ],\n",
              "       [0.5054541 ],\n",
              "       [0.5612025 ],\n",
              "       [0.13047461],\n",
              "       [0.08958803],\n",
              "       [0.20635745],\n",
              "       [0.18606748],\n",
              "       [0.83922035],\n",
              "       [0.45174313],\n",
              "       [0.19503786],\n",
              "       [0.66430485],\n",
              "       [0.23623182],\n",
              "       [0.18772806],\n",
              "       [0.8344758 ],\n",
              "       [0.6515942 ],\n",
              "       [0.17506751],\n",
              "       [0.8727258 ],\n",
              "       [0.31857023],\n",
              "       [0.77659506],\n",
              "       [0.21436253],\n",
              "       [0.18896095],\n",
              "       [0.9100332 ],\n",
              "       [0.19191341],\n",
              "       [0.20112297],\n",
              "       [0.9439175 ],\n",
              "       [0.5177148 ],\n",
              "       [0.688352  ],\n",
              "       [0.12442373],\n",
              "       [0.9287286 ],\n",
              "       [0.71843934],\n",
              "       [0.83436704],\n",
              "       [0.23521505],\n",
              "       [0.79945976],\n",
              "       [0.121261  ],\n",
              "       [0.74970883],\n",
              "       [0.4474939 ],\n",
              "       [0.5086657 ],\n",
              "       [0.9456207 ],\n",
              "       [0.09735071],\n",
              "       [0.7045969 ],\n",
              "       [0.5491754 ],\n",
              "       [0.8028932 ],\n",
              "       [0.7846083 ],\n",
              "       [0.25418016],\n",
              "       [0.24910522],\n",
              "       [0.8842399 ],\n",
              "       [0.39506102],\n",
              "       [0.3443618 ],\n",
              "       [0.26904884],\n",
              "       [0.7998528 ],\n",
              "       [0.41010997],\n",
              "       [0.3583855 ],\n",
              "       [0.28352538],\n",
              "       [0.31024495],\n",
              "       [0.3480809 ],\n",
              "       [0.3480022 ],\n",
              "       [0.43328455],\n",
              "       [0.19558138],\n",
              "       [0.1694818 ],\n",
              "       [0.7587039 ],\n",
              "       [0.80842   ],\n",
              "       [0.151723  ],\n",
              "       [0.48767716],\n",
              "       [0.9337164 ],\n",
              "       [0.5551279 ],\n",
              "       [0.5962925 ],\n",
              "       [0.86697096],\n",
              "       [0.7811353 ],\n",
              "       [0.12351679],\n",
              "       [0.8177896 ],\n",
              "       [0.18844752],\n",
              "       [0.3481256 ],\n",
              "       [0.11463063],\n",
              "       [0.18601115],\n",
              "       [0.64603406],\n",
              "       [0.62113065],\n",
              "       [0.53975874],\n",
              "       [0.20022514],\n",
              "       [0.43958908],\n",
              "       [0.16265212],\n",
              "       [0.13961065],\n",
              "       [0.17702965],\n",
              "       [0.86393034],\n",
              "       [0.2936954 ],\n",
              "       [0.4376779 ],\n",
              "       [0.89597845],\n",
              "       [0.41479772],\n",
              "       [0.54275244],\n",
              "       [0.6991064 ],\n",
              "       [0.12572445],\n",
              "       [0.7745184 ],\n",
              "       [0.13897665],\n",
              "       [0.65070903],\n",
              "       [0.45690078],\n",
              "       [0.2864926 ],\n",
              "       [0.24297382],\n",
              "       [0.89056534],\n",
              "       [0.14128013],\n",
              "       [0.47147524],\n",
              "       [0.42864245],\n",
              "       [0.89101434],\n",
              "       [0.7390704 ],\n",
              "       [0.12255807],\n",
              "       [0.528403  ],\n",
              "       [0.65804243],\n",
              "       [0.19600816],\n",
              "       [0.14580764],\n",
              "       [0.52341765],\n",
              "       [0.16714464],\n",
              "       [0.60725963],\n",
              "       [0.08875567],\n",
              "       [0.32221168],\n",
              "       [0.65444887],\n",
              "       [0.16993569],\n",
              "       [0.8085651 ],\n",
              "       [0.93817866],\n",
              "       [0.11893169],\n",
              "       [0.2254596 ],\n",
              "       [0.7488786 ],\n",
              "       [0.2026943 ],\n",
              "       [0.29700744],\n",
              "       [0.84269166],\n",
              "       [0.6404288 ],\n",
              "       [0.7556252 ],\n",
              "       [0.8556397 ],\n",
              "       [0.16345164],\n",
              "       [0.15221377],\n",
              "       [0.10078645],\n",
              "       [0.3675096 ],\n",
              "       [0.4940707 ],\n",
              "       [0.7925745 ],\n",
              "       [0.13123485],\n",
              "       [0.47446975],\n",
              "       [0.8957432 ],\n",
              "       [0.71251255],\n",
              "       [0.13340333],\n",
              "       [0.90205467],\n",
              "       [0.49170384],\n",
              "       [0.26390064],\n",
              "       [0.1780384 ],\n",
              "       [0.8338581 ],\n",
              "       [0.44414794],\n",
              "       [0.19798978],\n",
              "       [0.67687666],\n",
              "       [0.53063095],\n",
              "       [0.26065496],\n",
              "       [0.41213715],\n",
              "       [0.20459916],\n",
              "       [0.6088902 ],\n",
              "       [0.4795957 ],\n",
              "       [0.5022942 ],\n",
              "       [0.5025587 ],\n",
              "       [0.20653567],\n",
              "       [0.83620083],\n",
              "       [0.28121254],\n",
              "       [0.9127815 ],\n",
              "       [0.09237979],\n",
              "       [0.6735511 ],\n",
              "       [0.59534127],\n",
              "       [0.19367772],\n",
              "       [0.19959557],\n",
              "       [0.72295296],\n",
              "       [0.38374314],\n",
              "       [0.28090426],\n",
              "       [0.23145063],\n",
              "       [0.6277916 ],\n",
              "       [0.22593202],\n",
              "       [0.0683354 ],\n",
              "       [0.17484455],\n",
              "       [0.72271425],\n",
              "       [0.47241017],\n",
              "       [0.25868276],\n",
              "       [0.87457   ],\n",
              "       [0.12482201],\n",
              "       [0.8099782 ],\n",
              "       [0.49382097],\n",
              "       [0.17572175],\n",
              "       [0.5080694 ],\n",
              "       [0.15240858],\n",
              "       [0.19317228],\n",
              "       [0.85454947],\n",
              "       [0.11267392],\n",
              "       [0.5656599 ],\n",
              "       [0.23392305],\n",
              "       [0.17520468],\n",
              "       [0.780597  ],\n",
              "       [0.18728672],\n",
              "       [0.88555133],\n",
              "       [0.5093973 ],\n",
              "       [0.10049599],\n",
              "       [0.82291466],\n",
              "       [0.26982293],\n",
              "       [0.16622624],\n",
              "       [0.57300305],\n",
              "       [0.08672234],\n",
              "       [0.48685053],\n",
              "       [0.23047721],\n",
              "       [0.35983068],\n",
              "       [0.17875274],\n",
              "       [0.19655097],\n",
              "       [0.8716177 ],\n",
              "       [0.6911769 ],\n",
              "       [0.53215873],\n",
              "       [0.20813102],\n",
              "       [0.24981232],\n",
              "       [0.2505107 ],\n",
              "       [0.09857277],\n",
              "       [0.27636093],\n",
              "       [0.37907863],\n",
              "       [0.5751878 ],\n",
              "       [0.15312932],\n",
              "       [0.27641454],\n",
              "       [0.45586714],\n",
              "       [0.11164164],\n",
              "       [0.8485896 ],\n",
              "       [0.85367954],\n",
              "       [0.71578133],\n",
              "       [0.47566295],\n",
              "       [0.50761676],\n",
              "       [0.15488651],\n",
              "       [0.6612505 ],\n",
              "       [0.55557346],\n",
              "       [0.71509194],\n",
              "       [0.12368384],\n",
              "       [0.25640166],\n",
              "       [0.22996086],\n",
              "       [0.37724417],\n",
              "       [0.1411732 ],\n",
              "       [0.46504974],\n",
              "       [0.11688132],\n",
              "       [0.07774523],\n",
              "       [0.49947643],\n",
              "       [0.1324382 ],\n",
              "       [0.18762735],\n",
              "       [0.19734482],\n",
              "       [0.31288195],\n",
              "       [0.28485483],\n",
              "       [0.33338255],\n",
              "       [0.8194085 ],\n",
              "       [0.8052342 ],\n",
              "       [0.11069749],\n",
              "       [0.6883217 ],\n",
              "       [0.4373963 ],\n",
              "       [0.6972749 ],\n",
              "       [0.48998353],\n",
              "       [0.2129967 ],\n",
              "       [0.93088025],\n",
              "       [0.38696682],\n",
              "       [0.13208044],\n",
              "       [0.33983383],\n",
              "       [0.1090072 ],\n",
              "       [0.7894886 ],\n",
              "       [0.61008316],\n",
              "       [0.9085426 ],\n",
              "       [0.12908281],\n",
              "       [0.49802148],\n",
              "       [0.44406292],\n",
              "       [0.72578496],\n",
              "       [0.8328236 ],\n",
              "       [0.13251598],\n",
              "       [0.65918076],\n",
              "       [0.76993924],\n",
              "       [0.48978445],\n",
              "       [0.8037406 ],\n",
              "       [0.28261366],\n",
              "       [0.51709443],\n",
              "       [0.11432454],\n",
              "       [0.4335671 ],\n",
              "       [0.8208754 ],\n",
              "       [0.0716465 ],\n",
              "       [0.16729   ],\n",
              "       [0.18848741],\n",
              "       [0.8393288 ],\n",
              "       [0.6966857 ],\n",
              "       [0.49585393],\n",
              "       [0.86028826],\n",
              "       [0.19626863],\n",
              "       [0.20080861],\n",
              "       [0.85584295],\n",
              "       [0.8241958 ],\n",
              "       [0.66011596],\n",
              "       [0.7453392 ],\n",
              "       [0.15340173],\n",
              "       [0.72013986],\n",
              "       [0.13886529],\n",
              "       [0.72186714],\n",
              "       [0.18022038],\n",
              "       [0.7783046 ],\n",
              "       [0.10845885],\n",
              "       [0.18926546],\n",
              "       [0.15069471],\n",
              "       [0.800572  ],\n",
              "       [0.26356855],\n",
              "       [0.31250715],\n",
              "       [0.2262439 ],\n",
              "       [0.51812154],\n",
              "       [0.9001151 ],\n",
              "       [0.65969616],\n",
              "       [0.6937722 ],\n",
              "       [0.59997004],\n",
              "       [0.48582667],\n",
              "       [0.2693186 ],\n",
              "       [0.21030152],\n",
              "       [0.7736128 ],\n",
              "       [0.22034268],\n",
              "       [0.15803914],\n",
              "       [0.40485215],\n",
              "       [0.15975004],\n",
              "       [0.16120292],\n",
              "       [0.7681824 ],\n",
              "       [0.79137784],\n",
              "       [0.7147546 ],\n",
              "       [0.9333322 ],\n",
              "       [0.8501058 ],\n",
              "       [0.10755634],\n",
              "       [0.39505368],\n",
              "       [0.56298816],\n",
              "       [0.84093094],\n",
              "       [0.86610043],\n",
              "       [0.11924631],\n",
              "       [0.26424044],\n",
              "       [0.4653831 ],\n",
              "       [0.940067  ],\n",
              "       [0.9153486 ],\n",
              "       [0.36433685],\n",
              "       [0.23689406],\n",
              "       [0.84935534],\n",
              "       [0.15154912],\n",
              "       [0.11565033],\n",
              "       [0.82334447],\n",
              "       [0.46642414],\n",
              "       [0.4466483 ],\n",
              "       [0.44652224],\n",
              "       [0.67089766],\n",
              "       [0.8748074 ],\n",
              "       [0.92647475],\n",
              "       [0.14426598],\n",
              "       [0.12184227],\n",
              "       [0.42667076],\n",
              "       [0.22894937],\n",
              "       [0.2706635 ],\n",
              "       [0.83921635],\n",
              "       [0.07614253],\n",
              "       [0.52803403],\n",
              "       [0.25005332],\n",
              "       [0.15727626],\n",
              "       [0.3533677 ],\n",
              "       [0.3249511 ],\n",
              "       [0.54379433],\n",
              "       [0.75771284],\n",
              "       [0.18904124],\n",
              "       [0.38910675],\n",
              "       [0.5194428 ],\n",
              "       [0.26379973],\n",
              "       [0.44979566],\n",
              "       [0.71836954],\n",
              "       [0.27950275],\n",
              "       [0.65624326],\n",
              "       [0.9196188 ],\n",
              "       [0.12603723],\n",
              "       [0.41479707],\n",
              "       [0.7913859 ],\n",
              "       [0.17199749],\n",
              "       [0.77824986],\n",
              "       [0.22964929],\n",
              "       [0.886927  ],\n",
              "       [0.26267684],\n",
              "       [0.2973931 ],\n",
              "       [0.09871811],\n",
              "       [0.1449462 ],\n",
              "       [0.27699742],\n",
              "       [0.56120425],\n",
              "       [0.81579643],\n",
              "       [0.20792232],\n",
              "       [0.85195553],\n",
              "       [0.583013  ],\n",
              "       [0.5621575 ],\n",
              "       [0.8043343 ],\n",
              "       [0.53686416],\n",
              "       [0.23130286],\n",
              "       [0.6281483 ],\n",
              "       [0.8605531 ],\n",
              "       [0.10311224],\n",
              "       [0.59165746],\n",
              "       [0.22047305],\n",
              "       [0.18857922],\n",
              "       [0.76191074],\n",
              "       [0.8456085 ],\n",
              "       [0.6388659 ],\n",
              "       [0.8599707 ],\n",
              "       [0.12582482],\n",
              "       [0.20708935],\n",
              "       [0.45933247],\n",
              "       [0.2602933 ],\n",
              "       [0.14639014],\n",
              "       [0.28202567],\n",
              "       [0.18484496],\n",
              "       [0.44829515],\n",
              "       [0.24207926],\n",
              "       [0.4906746 ],\n",
              "       [0.4038461 ],\n",
              "       [0.3255917 ],\n",
              "       [0.2628782 ],\n",
              "       [0.5189644 ],\n",
              "       [0.5294773 ],\n",
              "       [0.88163465],\n",
              "       [0.7939184 ],\n",
              "       [0.60536814],\n",
              "       [0.76399016],\n",
              "       [0.518604  ],\n",
              "       [0.2773715 ],\n",
              "       [0.6932066 ],\n",
              "       [0.08423806],\n",
              "       [0.8713774 ],\n",
              "       [0.13727082],\n",
              "       [0.44438428],\n",
              "       [0.5623493 ],\n",
              "       [0.09314856],\n",
              "       [0.1350275 ],\n",
              "       [0.511771  ],\n",
              "       [0.89687836],\n",
              "       [0.8745285 ],\n",
              "       [0.6442261 ],\n",
              "       [0.19802202],\n",
              "       [0.72786677],\n",
              "       [0.44389582],\n",
              "       [0.14927554],\n",
              "       [0.2842913 ],\n",
              "       [0.60829204],\n",
              "       [0.6535868 ],\n",
              "       [0.916516  ],\n",
              "       [0.37204254],\n",
              "       [0.28413707],\n",
              "       [0.28155023],\n",
              "       [0.30278656],\n",
              "       [0.5968426 ],\n",
              "       [0.43265796],\n",
              "       [0.6801588 ],\n",
              "       [0.25268227],\n",
              "       [0.14690936],\n",
              "       [0.78171057],\n",
              "       [0.1541273 ],\n",
              "       [0.11091205],\n",
              "       [0.88468283],\n",
              "       [0.33113444],\n",
              "       [0.11852282],\n",
              "       [0.6160442 ],\n",
              "       [0.11285845],\n",
              "       [0.33696023],\n",
              "       [0.6107205 ],\n",
              "       [0.4902991 ],\n",
              "       [0.18954162],\n",
              "       [0.4969418 ],\n",
              "       [0.80914736],\n",
              "       [0.26429167],\n",
              "       [0.7526349 ],\n",
              "       [0.85578287],\n",
              "       [0.10260569],\n",
              "       [0.17567538],\n",
              "       [0.20321426],\n",
              "       [0.79862374],\n",
              "       [0.45938358],\n",
              "       [0.847322  ],\n",
              "       [0.25091937],\n",
              "       [0.40361452],\n",
              "       [0.23368293],\n",
              "       [0.13709041],\n",
              "       [0.5849733 ],\n",
              "       [0.21713936],\n",
              "       [0.85565937],\n",
              "       [0.16403452],\n",
              "       [0.1809173 ],\n",
              "       [0.88021773],\n",
              "       [0.3923922 ],\n",
              "       [0.13815202],\n",
              "       [0.5371539 ],\n",
              "       [0.11700276],\n",
              "       [0.5389567 ],\n",
              "       [0.93206686],\n",
              "       [0.34403196],\n",
              "       [0.90906215],\n",
              "       [0.33667243],\n",
              "       [0.5511305 ],\n",
              "       [0.19114262],\n",
              "       [0.5126004 ],\n",
              "       [0.40145373],\n",
              "       [0.5854608 ],\n",
              "       [0.17240822],\n",
              "       [0.7942918 ],\n",
              "       [0.79139805],\n",
              "       [0.5679523 ],\n",
              "       [0.6391963 ],\n",
              "       [0.8378136 ],\n",
              "       [0.12359869],\n",
              "       [0.69833326],\n",
              "       [0.4079898 ],\n",
              "       [0.6447756 ],\n",
              "       [0.18776493],\n",
              "       [0.5982667 ],\n",
              "       [0.32022473],\n",
              "       [0.6773142 ],\n",
              "       [0.211739  ],\n",
              "       [0.40118176],\n",
              "       [0.3003377 ],\n",
              "       [0.15834266],\n",
              "       [0.4882357 ],\n",
              "       [0.2299359 ],\n",
              "       [0.7875811 ],\n",
              "       [0.9184178 ],\n",
              "       [0.18060282],\n",
              "       [0.24608336],\n",
              "       [0.1649215 ],\n",
              "       [0.22290611],\n",
              "       [0.23818508],\n",
              "       [0.15442632],\n",
              "       [0.8055496 ],\n",
              "       [0.1389734 ],\n",
              "       [0.23978297],\n",
              "       [0.17852403],\n",
              "       [0.18125324],\n",
              "       [0.75488806],\n",
              "       [0.25409108],\n",
              "       [0.16529106],\n",
              "       [0.16094789],\n",
              "       [0.386555  ],\n",
              "       [0.34366098],\n",
              "       [0.87108487],\n",
              "       [0.45366967],\n",
              "       [0.20930952],\n",
              "       [0.2781015 ],\n",
              "       [0.21655123],\n",
              "       [0.06057259],\n",
              "       [0.87477434],\n",
              "       [0.43384677],\n",
              "       [0.7348491 ],\n",
              "       [0.63473356],\n",
              "       [0.15751699],\n",
              "       [0.43052608],\n",
              "       [0.49319136],\n",
              "       [0.1153635 ],\n",
              "       [0.36541963],\n",
              "       [0.5900571 ],\n",
              "       [0.27824497],\n",
              "       [0.91087997],\n",
              "       [0.08544893],\n",
              "       [0.3867118 ],\n",
              "       [0.18857919],\n",
              "       [0.16163652],\n",
              "       [0.8529545 ],\n",
              "       [0.80901456],\n",
              "       [0.20646326],\n",
              "       [0.20995715],\n",
              "       [0.8893966 ],\n",
              "       [0.67979777],\n",
              "       [0.60416204],\n",
              "       [0.630616  ],\n",
              "       [0.76857483],\n",
              "       [0.5174571 ],\n",
              "       [0.4059211 ],\n",
              "       [0.38177758],\n",
              "       [0.86203575],\n",
              "       [0.2569738 ],\n",
              "       [0.25642705],\n",
              "       [0.35677713],\n",
              "       [0.49401245],\n",
              "       [0.19765165],\n",
              "       [0.28998798],\n",
              "       [0.29937622],\n",
              "       [0.15169182],\n",
              "       [0.36333293],\n",
              "       [0.6276604 ],\n",
              "       [0.1291073 ],\n",
              "       [0.13632464],\n",
              "       [0.15273581],\n",
              "       [0.38373494],\n",
              "       [0.18219824],\n",
              "       [0.6537129 ],\n",
              "       [0.11433511],\n",
              "       [0.57507837],\n",
              "       [0.15142156],\n",
              "       [0.14380036],\n",
              "       [0.56129676],\n",
              "       [0.26993522],\n",
              "       [0.2369477 ],\n",
              "       [0.17454214],\n",
              "       [0.17866987],\n",
              "       [0.8494363 ],\n",
              "       [0.37905854],\n",
              "       [0.24309716],\n",
              "       [0.88955003],\n",
              "       [0.71376866],\n",
              "       [0.7001767 ],\n",
              "       [0.9445977 ],\n",
              "       [0.8685431 ],\n",
              "       [0.18208039],\n",
              "       [0.25724965],\n",
              "       [0.16588525],\n",
              "       [0.541651  ],\n",
              "       [0.72745997],\n",
              "       [0.3585975 ],\n",
              "       [0.4620339 ],\n",
              "       [0.2277676 ],\n",
              "       [0.7015639 ],\n",
              "       [0.39715844],\n",
              "       [0.5986307 ],\n",
              "       [0.26113978],\n",
              "       [0.3680743 ],\n",
              "       [0.18271622],\n",
              "       [0.17892738],\n",
              "       [0.5893738 ],\n",
              "       [0.7019965 ],\n",
              "       [0.1826261 ],\n",
              "       [0.81259936],\n",
              "       [0.6409036 ],\n",
              "       [0.1739745 ],\n",
              "       [0.23130344],\n",
              "       [0.2565982 ],\n",
              "       [0.61930263],\n",
              "       [0.63557005],\n",
              "       [0.28630182]], dtype=float32)"
            ]
          },
          "metadata": {},
          "execution_count": 110
        }
      ],
      "source": [
        "# Make predictions with the model trained on 10% of the data\n",
        "model_7_pred_probs = model_7.predict(val_sentences)\n",
        "model_7_pred_probs"
      ]
    },
    {
      "cell_type": "code",
      "execution_count": 111,
      "metadata": {
        "colab": {
          "base_uri": "https://localhost:8080/"
        },
        "id": "C676TR4vLhO9",
        "outputId": "dcd2f030-2972-4357-da81-5a89fdee4e98"
      },
      "outputs": [
        {
          "output_type": "execute_result",
          "data": {
            "text/plain": [
              "<tf.Tensor: shape=(762,), dtype=float32, numpy=\n",
              "array([0., 1., 1., 0., 1., 1., 1., 1., 1., 0., 1., 1., 0., 0., 1., 0., 0.,\n",
              "       1., 1., 0., 1., 0., 0., 0., 1., 1., 0., 0., 0., 0., 1., 1., 0., 0.,\n",
              "       1., 0., 1., 0., 0., 1., 0., 0., 1., 1., 0., 1., 0., 1., 0., 1., 0.,\n",
              "       1., 0., 0., 0., 0., 0., 1., 0., 0., 0., 1., 1., 0., 1., 1., 0., 0.,\n",
              "       0., 0., 0., 0., 0., 0., 0., 1., 0., 0., 0., 1., 1., 1., 1., 0., 0.,\n",
              "       1., 0., 0., 1., 1., 1., 0., 0., 0., 1., 1., 1., 1., 1., 1., 1., 0.,\n",
              "       0., 1., 1., 0., 1., 0., 0., 1., 1., 0., 0., 0., 0., 1., 0., 1., 1.,\n",
              "       1., 1., 0., 0., 1., 1., 0., 0., 0., 0., 1., 0., 1., 1., 1., 1., 0.,\n",
              "       1., 0., 0., 0., 1., 0., 0., 1., 1., 0., 0., 0., 0., 1., 0., 0., 1.,\n",
              "       0., 0., 1., 1., 0., 1., 0., 1., 0., 0., 1., 0., 0., 1., 1., 1., 0.,\n",
              "       1., 1., 1., 0., 1., 0., 1., 0., 1., 1., 0., 1., 1., 1., 1., 0., 0.,\n",
              "       1., 0., 0., 0., 1., 0., 0., 0., 0., 0., 0., 0., 0., 0., 1., 1., 0.,\n",
              "       0., 1., 1., 1., 1., 1., 0., 1., 0., 0., 0., 0., 1., 1., 1., 0., 0.,\n",
              "       0., 0., 0., 1., 0., 0., 1., 0., 1., 1., 0., 1., 0., 1., 0., 0., 0.,\n",
              "       1., 0., 0., 0., 1., 1., 0., 1., 1., 0., 0., 1., 0., 1., 0., 0., 1.,\n",
              "       0., 1., 1., 0., 0., 1., 0., 0., 1., 1., 1., 1., 0., 0., 0., 0., 0.,\n",
              "       1., 0., 0., 1., 1., 0., 1., 0., 0., 0., 1., 0., 0., 1., 1., 0., 0.,\n",
              "       0., 1., 0., 1., 1., 0., 1., 0., 1., 0., 1., 1., 0., 0., 1., 0., 0.,\n",
              "       0., 1., 0., 0., 0., 1., 0., 0., 1., 0., 1., 0., 0., 1., 0., 0., 1.,\n",
              "       0., 1., 0., 0., 1., 0., 1., 1., 0., 1., 0., 0., 1., 0., 0., 0., 0.,\n",
              "       0., 0., 1., 1., 1., 0., 0., 0., 0., 0., 0., 1., 0., 0., 0., 0., 1.,\n",
              "       1., 1., 0., 1., 0., 1., 1., 1., 0., 0., 0., 0., 0., 0., 0., 0., 0.,\n",
              "       0., 0., 0., 0., 0., 0., 1., 1., 0., 1., 0., 1., 0., 0., 1., 0., 0.,\n",
              "       0., 0., 1., 1., 1., 0., 0., 0., 1., 1., 0., 1., 1., 0., 1., 0., 1.,\n",
              "       0., 0., 1., 0., 0., 0., 1., 1., 0., 1., 0., 0., 1., 1., 1., 1., 0.,\n",
              "       1., 0., 1., 0., 1., 0., 0., 0., 1., 0., 0., 0., 1., 1., 1., 1., 1.,\n",
              "       0., 0., 0., 1., 0., 0., 0., 0., 0., 1., 1., 1., 1., 1., 0., 0., 1.,\n",
              "       1., 1., 0., 0., 0., 1., 1., 0., 0., 1., 0., 0., 1., 0., 0., 0., 1.,\n",
              "       1., 1., 0., 0., 0., 0., 0., 1., 0., 1., 0., 0., 0., 0., 1., 1., 0.,\n",
              "       0., 1., 0., 0., 1., 0., 1., 1., 0., 0., 1., 0., 1., 0., 1., 0., 0.,\n",
              "       0., 0., 0., 1., 1., 0., 1., 1., 1., 1., 1., 0., 1., 1., 0., 1., 0.,\n",
              "       0., 1., 1., 1., 1., 0., 0., 0., 0., 0., 0., 0., 0., 0., 0., 0., 0.,\n",
              "       0., 1., 1., 1., 1., 1., 1., 1., 0., 1., 0., 1., 0., 0., 1., 0., 0.,\n",
              "       1., 1., 1., 1., 0., 1., 0., 0., 0., 1., 1., 1., 0., 0., 0., 0., 1.,\n",
              "       0., 1., 0., 0., 1., 0., 0., 1., 0., 0., 1., 0., 0., 1., 0., 0., 0.,\n",
              "       1., 0., 1., 1., 0., 0., 0., 1., 0., 1., 0., 0., 0., 0., 1., 0., 1.,\n",
              "       0., 0., 1., 0., 0., 1., 0., 1., 1., 0., 1., 0., 1., 0., 1., 0., 1.,\n",
              "       0., 1., 1., 1., 1., 1., 0., 1., 0., 1., 0., 1., 0., 1., 0., 0., 0.,\n",
              "       0., 0., 0., 1., 1., 0., 0., 0., 0., 0., 0., 1., 0., 0., 0., 0., 1.,\n",
              "       0., 0., 0., 0., 0., 1., 0., 0., 0., 0., 0., 1., 0., 1., 1., 0., 0.,\n",
              "       0., 0., 0., 1., 0., 1., 0., 0., 0., 0., 1., 1., 0., 0., 1., 1., 1.,\n",
              "       1., 1., 1., 0., 0., 1., 0., 0., 0., 0., 0., 0., 0., 0., 0., 1., 0.,\n",
              "       0., 0., 0., 0., 1., 0., 1., 0., 0., 1., 0., 0., 0., 0., 1., 0., 0.,\n",
              "       1., 1., 1., 1., 1., 0., 0., 0., 1., 1., 0., 0., 0., 1., 0., 1., 0.,\n",
              "       0., 0., 0., 1., 1., 0., 1., 1., 0., 0., 0., 1., 1., 0.],\n",
              "      dtype=float32)>"
            ]
          },
          "metadata": {},
          "execution_count": 111
        }
      ],
      "source": [
        "# Turn pred probs into labels\n",
        "model_7_preds = tf.squeeze(tf.round(model_7_pred_probs))\n",
        "model_7_preds"
      ]
    },
    {
      "cell_type": "code",
      "execution_count": 112,
      "metadata": {
        "colab": {
          "base_uri": "https://localhost:8080/"
        },
        "id": "oVXs0KkuMLAz",
        "outputId": "c88099bb-7094-4503-dc8e-f761a5aa0e24"
      },
      "outputs": [
        {
          "output_type": "execute_result",
          "data": {
            "text/plain": [
              "{'accuracy': 77.95275590551181,\n",
              " 'precision': 0.7796366729611287,\n",
              " 'recall': 0.7795275590551181,\n",
              " 'f1': 0.7785127368340807}"
            ]
          },
          "metadata": {},
          "execution_count": 112
        }
      ],
      "source": [
        "# Evaluate model 7 predictions\n",
        "model_7_results = calculate_results(y_true=val_labels,\n",
        "                                    y_pred=model_7_preds)\n",
        "model_7_results"
      ]
    },
    {
      "cell_type": "code",
      "execution_count": 113,
      "metadata": {
        "colab": {
          "base_uri": "https://localhost:8080/"
        },
        "id": "BGVGePV8Mgk6",
        "outputId": "fe5cd0cf-b0aa-48ec-91e5-a6e5e97f975e"
      },
      "outputs": [
        {
          "output_type": "execute_result",
          "data": {
            "text/plain": [
              "{'accuracy': 81.36482939632546,\n",
              " 'precision': 0.8170954157228842,\n",
              " 'recall': 0.8136482939632546,\n",
              " 'f1': 0.8117426826050925}"
            ]
          },
          "metadata": {},
          "execution_count": 113
        }
      ],
      "source": [
        "model_6_results"
      ]
    },
    {
      "cell_type": "markdown",
      "source": [
        "## Comparing the performance of each of our models"
      ],
      "metadata": {
        "id": "dSgjYVjnMl_b"
      }
    },
    {
      "cell_type": "code",
      "source": [
        "# Combine model results into a DataFrame\n",
        "all_model_results = pd.DataFrame({\"0_baseline\": baseline_results,\n",
        "                                  \"1_simple_dense\": model_1_results,\n",
        "                                  \"2_lstm\": model_2_results,\n",
        "                                  \"3_gru\": model_3_results,\n",
        "                                  \"4_bidirectional\": model_4_results,\n",
        "                                  \"5_conv1d\": model_5_results,\n",
        "                                  \"6_tf_hub_use_encoder\": model_6_results,\n",
        "                                  \"7_tf_hub_use_encoder_10_percent\": model_7_results})\n",
        "all_model_results = all_model_results.transpose()\n",
        "all_model_results"
      ],
      "metadata": {
        "colab": {
          "base_uri": "https://localhost:8080/",
          "height": 300
        },
        "id": "gldI5Iu_YcXB",
        "outputId": "a980dbb4-0837-43cb-b3fc-f9133b0c79ee"
      },
      "execution_count": 114,
      "outputs": [
        {
          "output_type": "execute_result",
          "data": {
            "text/plain": [
              "                                  accuracy  precision    recall        f1\n",
              "0_baseline                       79.265092   0.811139  0.792651  0.786219\n",
              "1_simple_dense                   78.608924   0.790739  0.786089  0.783154\n",
              "2_lstm                           77.559055   0.785966  0.775591  0.770427\n",
              "3_gru                            77.165354   0.774453  0.771654  0.769040\n",
              "4_bidirectional                  76.640420   0.778336  0.766404  0.760294\n",
              "5_conv1d                         75.984252   0.760845  0.759843  0.757863\n",
              "6_tf_hub_use_encoder             81.364829   0.817095  0.813648  0.811743\n",
              "7_tf_hub_use_encoder_10_percent  77.952756   0.779637  0.779528  0.778513"
            ],
            "text/html": [
              "\n",
              "  <div id=\"df-36bccce2-7f71-4d7e-91d3-cce7611854e0\" class=\"colab-df-container\">\n",
              "    <div>\n",
              "<style scoped>\n",
              "    .dataframe tbody tr th:only-of-type {\n",
              "        vertical-align: middle;\n",
              "    }\n",
              "\n",
              "    .dataframe tbody tr th {\n",
              "        vertical-align: top;\n",
              "    }\n",
              "\n",
              "    .dataframe thead th {\n",
              "        text-align: right;\n",
              "    }\n",
              "</style>\n",
              "<table border=\"1\" class=\"dataframe\">\n",
              "  <thead>\n",
              "    <tr style=\"text-align: right;\">\n",
              "      <th></th>\n",
              "      <th>accuracy</th>\n",
              "      <th>precision</th>\n",
              "      <th>recall</th>\n",
              "      <th>f1</th>\n",
              "    </tr>\n",
              "  </thead>\n",
              "  <tbody>\n",
              "    <tr>\n",
              "      <th>0_baseline</th>\n",
              "      <td>79.265092</td>\n",
              "      <td>0.811139</td>\n",
              "      <td>0.792651</td>\n",
              "      <td>0.786219</td>\n",
              "    </tr>\n",
              "    <tr>\n",
              "      <th>1_simple_dense</th>\n",
              "      <td>78.608924</td>\n",
              "      <td>0.790739</td>\n",
              "      <td>0.786089</td>\n",
              "      <td>0.783154</td>\n",
              "    </tr>\n",
              "    <tr>\n",
              "      <th>2_lstm</th>\n",
              "      <td>77.559055</td>\n",
              "      <td>0.785966</td>\n",
              "      <td>0.775591</td>\n",
              "      <td>0.770427</td>\n",
              "    </tr>\n",
              "    <tr>\n",
              "      <th>3_gru</th>\n",
              "      <td>77.165354</td>\n",
              "      <td>0.774453</td>\n",
              "      <td>0.771654</td>\n",
              "      <td>0.769040</td>\n",
              "    </tr>\n",
              "    <tr>\n",
              "      <th>4_bidirectional</th>\n",
              "      <td>76.640420</td>\n",
              "      <td>0.778336</td>\n",
              "      <td>0.766404</td>\n",
              "      <td>0.760294</td>\n",
              "    </tr>\n",
              "    <tr>\n",
              "      <th>5_conv1d</th>\n",
              "      <td>75.984252</td>\n",
              "      <td>0.760845</td>\n",
              "      <td>0.759843</td>\n",
              "      <td>0.757863</td>\n",
              "    </tr>\n",
              "    <tr>\n",
              "      <th>6_tf_hub_use_encoder</th>\n",
              "      <td>81.364829</td>\n",
              "      <td>0.817095</td>\n",
              "      <td>0.813648</td>\n",
              "      <td>0.811743</td>\n",
              "    </tr>\n",
              "    <tr>\n",
              "      <th>7_tf_hub_use_encoder_10_percent</th>\n",
              "      <td>77.952756</td>\n",
              "      <td>0.779637</td>\n",
              "      <td>0.779528</td>\n",
              "      <td>0.778513</td>\n",
              "    </tr>\n",
              "  </tbody>\n",
              "</table>\n",
              "</div>\n",
              "    <div class=\"colab-df-buttons\">\n",
              "\n",
              "  <div class=\"colab-df-container\">\n",
              "    <button class=\"colab-df-convert\" onclick=\"convertToInteractive('df-36bccce2-7f71-4d7e-91d3-cce7611854e0')\"\n",
              "            title=\"Convert this dataframe to an interactive table.\"\n",
              "            style=\"display:none;\">\n",
              "\n",
              "  <svg xmlns=\"http://www.w3.org/2000/svg\" height=\"24px\" viewBox=\"0 -960 960 960\">\n",
              "    <path d=\"M120-120v-720h720v720H120Zm60-500h600v-160H180v160Zm220 220h160v-160H400v160Zm0 220h160v-160H400v160ZM180-400h160v-160H180v160Zm440 0h160v-160H620v160ZM180-180h160v-160H180v160Zm440 0h160v-160H620v160Z\"/>\n",
              "  </svg>\n",
              "    </button>\n",
              "\n",
              "  <style>\n",
              "    .colab-df-container {\n",
              "      display:flex;\n",
              "      gap: 12px;\n",
              "    }\n",
              "\n",
              "    .colab-df-convert {\n",
              "      background-color: #E8F0FE;\n",
              "      border: none;\n",
              "      border-radius: 50%;\n",
              "      cursor: pointer;\n",
              "      display: none;\n",
              "      fill: #1967D2;\n",
              "      height: 32px;\n",
              "      padding: 0 0 0 0;\n",
              "      width: 32px;\n",
              "    }\n",
              "\n",
              "    .colab-df-convert:hover {\n",
              "      background-color: #E2EBFA;\n",
              "      box-shadow: 0px 1px 2px rgba(60, 64, 67, 0.3), 0px 1px 3px 1px rgba(60, 64, 67, 0.15);\n",
              "      fill: #174EA6;\n",
              "    }\n",
              "\n",
              "    .colab-df-buttons div {\n",
              "      margin-bottom: 4px;\n",
              "    }\n",
              "\n",
              "    [theme=dark] .colab-df-convert {\n",
              "      background-color: #3B4455;\n",
              "      fill: #D2E3FC;\n",
              "    }\n",
              "\n",
              "    [theme=dark] .colab-df-convert:hover {\n",
              "      background-color: #434B5C;\n",
              "      box-shadow: 0px 1px 3px 1px rgba(0, 0, 0, 0.15);\n",
              "      filter: drop-shadow(0px 1px 2px rgba(0, 0, 0, 0.3));\n",
              "      fill: #FFFFFF;\n",
              "    }\n",
              "  </style>\n",
              "\n",
              "    <script>\n",
              "      const buttonEl =\n",
              "        document.querySelector('#df-36bccce2-7f71-4d7e-91d3-cce7611854e0 button.colab-df-convert');\n",
              "      buttonEl.style.display =\n",
              "        google.colab.kernel.accessAllowed ? 'block' : 'none';\n",
              "\n",
              "      async function convertToInteractive(key) {\n",
              "        const element = document.querySelector('#df-36bccce2-7f71-4d7e-91d3-cce7611854e0');\n",
              "        const dataTable =\n",
              "          await google.colab.kernel.invokeFunction('convertToInteractive',\n",
              "                                                    [key], {});\n",
              "        if (!dataTable) return;\n",
              "\n",
              "        const docLinkHtml = 'Like what you see? Visit the ' +\n",
              "          '<a target=\"_blank\" href=https://colab.research.google.com/notebooks/data_table.ipynb>data table notebook</a>'\n",
              "          + ' to learn more about interactive tables.';\n",
              "        element.innerHTML = '';\n",
              "        dataTable['output_type'] = 'display_data';\n",
              "        await google.colab.output.renderOutput(dataTable, element);\n",
              "        const docLink = document.createElement('div');\n",
              "        docLink.innerHTML = docLinkHtml;\n",
              "        element.appendChild(docLink);\n",
              "      }\n",
              "    </script>\n",
              "  </div>\n",
              "\n",
              "\n",
              "<div id=\"df-e2cf2a7f-d85f-4073-8dda-e41e5f40a241\">\n",
              "  <button class=\"colab-df-quickchart\" onclick=\"quickchart('df-e2cf2a7f-d85f-4073-8dda-e41e5f40a241')\"\n",
              "            title=\"Suggest charts\"\n",
              "            style=\"display:none;\">\n",
              "\n",
              "<svg xmlns=\"http://www.w3.org/2000/svg\" height=\"24px\"viewBox=\"0 0 24 24\"\n",
              "     width=\"24px\">\n",
              "    <g>\n",
              "        <path d=\"M19 3H5c-1.1 0-2 .9-2 2v14c0 1.1.9 2 2 2h14c1.1 0 2-.9 2-2V5c0-1.1-.9-2-2-2zM9 17H7v-7h2v7zm4 0h-2V7h2v10zm4 0h-2v-4h2v4z\"/>\n",
              "    </g>\n",
              "</svg>\n",
              "  </button>\n",
              "\n",
              "<style>\n",
              "  .colab-df-quickchart {\n",
              "      --bg-color: #E8F0FE;\n",
              "      --fill-color: #1967D2;\n",
              "      --hover-bg-color: #E2EBFA;\n",
              "      --hover-fill-color: #174EA6;\n",
              "      --disabled-fill-color: #AAA;\n",
              "      --disabled-bg-color: #DDD;\n",
              "  }\n",
              "\n",
              "  [theme=dark] .colab-df-quickchart {\n",
              "      --bg-color: #3B4455;\n",
              "      --fill-color: #D2E3FC;\n",
              "      --hover-bg-color: #434B5C;\n",
              "      --hover-fill-color: #FFFFFF;\n",
              "      --disabled-bg-color: #3B4455;\n",
              "      --disabled-fill-color: #666;\n",
              "  }\n",
              "\n",
              "  .colab-df-quickchart {\n",
              "    background-color: var(--bg-color);\n",
              "    border: none;\n",
              "    border-radius: 50%;\n",
              "    cursor: pointer;\n",
              "    display: none;\n",
              "    fill: var(--fill-color);\n",
              "    height: 32px;\n",
              "    padding: 0;\n",
              "    width: 32px;\n",
              "  }\n",
              "\n",
              "  .colab-df-quickchart:hover {\n",
              "    background-color: var(--hover-bg-color);\n",
              "    box-shadow: 0 1px 2px rgba(60, 64, 67, 0.3), 0 1px 3px 1px rgba(60, 64, 67, 0.15);\n",
              "    fill: var(--button-hover-fill-color);\n",
              "  }\n",
              "\n",
              "  .colab-df-quickchart-complete:disabled,\n",
              "  .colab-df-quickchart-complete:disabled:hover {\n",
              "    background-color: var(--disabled-bg-color);\n",
              "    fill: var(--disabled-fill-color);\n",
              "    box-shadow: none;\n",
              "  }\n",
              "\n",
              "  .colab-df-spinner {\n",
              "    border: 2px solid var(--fill-color);\n",
              "    border-color: transparent;\n",
              "    border-bottom-color: var(--fill-color);\n",
              "    animation:\n",
              "      spin 1s steps(1) infinite;\n",
              "  }\n",
              "\n",
              "  @keyframes spin {\n",
              "    0% {\n",
              "      border-color: transparent;\n",
              "      border-bottom-color: var(--fill-color);\n",
              "      border-left-color: var(--fill-color);\n",
              "    }\n",
              "    20% {\n",
              "      border-color: transparent;\n",
              "      border-left-color: var(--fill-color);\n",
              "      border-top-color: var(--fill-color);\n",
              "    }\n",
              "    30% {\n",
              "      border-color: transparent;\n",
              "      border-left-color: var(--fill-color);\n",
              "      border-top-color: var(--fill-color);\n",
              "      border-right-color: var(--fill-color);\n",
              "    }\n",
              "    40% {\n",
              "      border-color: transparent;\n",
              "      border-right-color: var(--fill-color);\n",
              "      border-top-color: var(--fill-color);\n",
              "    }\n",
              "    60% {\n",
              "      border-color: transparent;\n",
              "      border-right-color: var(--fill-color);\n",
              "    }\n",
              "    80% {\n",
              "      border-color: transparent;\n",
              "      border-right-color: var(--fill-color);\n",
              "      border-bottom-color: var(--fill-color);\n",
              "    }\n",
              "    90% {\n",
              "      border-color: transparent;\n",
              "      border-bottom-color: var(--fill-color);\n",
              "    }\n",
              "  }\n",
              "</style>\n",
              "\n",
              "  <script>\n",
              "    async function quickchart(key) {\n",
              "      const quickchartButtonEl =\n",
              "        document.querySelector('#' + key + ' button');\n",
              "      quickchartButtonEl.disabled = true;  // To prevent multiple clicks.\n",
              "      quickchartButtonEl.classList.add('colab-df-spinner');\n",
              "      try {\n",
              "        const charts = await google.colab.kernel.invokeFunction(\n",
              "            'suggestCharts', [key], {});\n",
              "      } catch (error) {\n",
              "        console.error('Error during call to suggestCharts:', error);\n",
              "      }\n",
              "      quickchartButtonEl.classList.remove('colab-df-spinner');\n",
              "      quickchartButtonEl.classList.add('colab-df-quickchart-complete');\n",
              "    }\n",
              "    (() => {\n",
              "      let quickchartButtonEl =\n",
              "        document.querySelector('#df-e2cf2a7f-d85f-4073-8dda-e41e5f40a241 button');\n",
              "      quickchartButtonEl.style.display =\n",
              "        google.colab.kernel.accessAllowed ? 'block' : 'none';\n",
              "    })();\n",
              "  </script>\n",
              "</div>\n",
              "    </div>\n",
              "  </div>\n"
            ]
          },
          "metadata": {},
          "execution_count": 114
        }
      ]
    },
    {
      "cell_type": "code",
      "source": [
        "# Reduce the accuracy to the same scale as other metrics\n",
        "all_model_results[\"accuracy\"] = all_model_results[\"accuracy\"] / 100\n",
        "all_model_results"
      ],
      "metadata": {
        "colab": {
          "base_uri": "https://localhost:8080/",
          "height": 300
        },
        "id": "gRM6UrBbYxQr",
        "outputId": "32486c52-21a6-4d40-9c92-5bcef36f8b1c"
      },
      "execution_count": 115,
      "outputs": [
        {
          "output_type": "execute_result",
          "data": {
            "text/plain": [
              "                                 accuracy  precision    recall        f1\n",
              "0_baseline                       0.792651   0.811139  0.792651  0.786219\n",
              "1_simple_dense                   0.786089   0.790739  0.786089  0.783154\n",
              "2_lstm                           0.775591   0.785966  0.775591  0.770427\n",
              "3_gru                            0.771654   0.774453  0.771654  0.769040\n",
              "4_bidirectional                  0.766404   0.778336  0.766404  0.760294\n",
              "5_conv1d                         0.759843   0.760845  0.759843  0.757863\n",
              "6_tf_hub_use_encoder             0.813648   0.817095  0.813648  0.811743\n",
              "7_tf_hub_use_encoder_10_percent  0.779528   0.779637  0.779528  0.778513"
            ],
            "text/html": [
              "\n",
              "  <div id=\"df-88e16f81-2e68-4214-9a90-d054e735e15c\" class=\"colab-df-container\">\n",
              "    <div>\n",
              "<style scoped>\n",
              "    .dataframe tbody tr th:only-of-type {\n",
              "        vertical-align: middle;\n",
              "    }\n",
              "\n",
              "    .dataframe tbody tr th {\n",
              "        vertical-align: top;\n",
              "    }\n",
              "\n",
              "    .dataframe thead th {\n",
              "        text-align: right;\n",
              "    }\n",
              "</style>\n",
              "<table border=\"1\" class=\"dataframe\">\n",
              "  <thead>\n",
              "    <tr style=\"text-align: right;\">\n",
              "      <th></th>\n",
              "      <th>accuracy</th>\n",
              "      <th>precision</th>\n",
              "      <th>recall</th>\n",
              "      <th>f1</th>\n",
              "    </tr>\n",
              "  </thead>\n",
              "  <tbody>\n",
              "    <tr>\n",
              "      <th>0_baseline</th>\n",
              "      <td>0.792651</td>\n",
              "      <td>0.811139</td>\n",
              "      <td>0.792651</td>\n",
              "      <td>0.786219</td>\n",
              "    </tr>\n",
              "    <tr>\n",
              "      <th>1_simple_dense</th>\n",
              "      <td>0.786089</td>\n",
              "      <td>0.790739</td>\n",
              "      <td>0.786089</td>\n",
              "      <td>0.783154</td>\n",
              "    </tr>\n",
              "    <tr>\n",
              "      <th>2_lstm</th>\n",
              "      <td>0.775591</td>\n",
              "      <td>0.785966</td>\n",
              "      <td>0.775591</td>\n",
              "      <td>0.770427</td>\n",
              "    </tr>\n",
              "    <tr>\n",
              "      <th>3_gru</th>\n",
              "      <td>0.771654</td>\n",
              "      <td>0.774453</td>\n",
              "      <td>0.771654</td>\n",
              "      <td>0.769040</td>\n",
              "    </tr>\n",
              "    <tr>\n",
              "      <th>4_bidirectional</th>\n",
              "      <td>0.766404</td>\n",
              "      <td>0.778336</td>\n",
              "      <td>0.766404</td>\n",
              "      <td>0.760294</td>\n",
              "    </tr>\n",
              "    <tr>\n",
              "      <th>5_conv1d</th>\n",
              "      <td>0.759843</td>\n",
              "      <td>0.760845</td>\n",
              "      <td>0.759843</td>\n",
              "      <td>0.757863</td>\n",
              "    </tr>\n",
              "    <tr>\n",
              "      <th>6_tf_hub_use_encoder</th>\n",
              "      <td>0.813648</td>\n",
              "      <td>0.817095</td>\n",
              "      <td>0.813648</td>\n",
              "      <td>0.811743</td>\n",
              "    </tr>\n",
              "    <tr>\n",
              "      <th>7_tf_hub_use_encoder_10_percent</th>\n",
              "      <td>0.779528</td>\n",
              "      <td>0.779637</td>\n",
              "      <td>0.779528</td>\n",
              "      <td>0.778513</td>\n",
              "    </tr>\n",
              "  </tbody>\n",
              "</table>\n",
              "</div>\n",
              "    <div class=\"colab-df-buttons\">\n",
              "\n",
              "  <div class=\"colab-df-container\">\n",
              "    <button class=\"colab-df-convert\" onclick=\"convertToInteractive('df-88e16f81-2e68-4214-9a90-d054e735e15c')\"\n",
              "            title=\"Convert this dataframe to an interactive table.\"\n",
              "            style=\"display:none;\">\n",
              "\n",
              "  <svg xmlns=\"http://www.w3.org/2000/svg\" height=\"24px\" viewBox=\"0 -960 960 960\">\n",
              "    <path d=\"M120-120v-720h720v720H120Zm60-500h600v-160H180v160Zm220 220h160v-160H400v160Zm0 220h160v-160H400v160ZM180-400h160v-160H180v160Zm440 0h160v-160H620v160ZM180-180h160v-160H180v160Zm440 0h160v-160H620v160Z\"/>\n",
              "  </svg>\n",
              "    </button>\n",
              "\n",
              "  <style>\n",
              "    .colab-df-container {\n",
              "      display:flex;\n",
              "      gap: 12px;\n",
              "    }\n",
              "\n",
              "    .colab-df-convert {\n",
              "      background-color: #E8F0FE;\n",
              "      border: none;\n",
              "      border-radius: 50%;\n",
              "      cursor: pointer;\n",
              "      display: none;\n",
              "      fill: #1967D2;\n",
              "      height: 32px;\n",
              "      padding: 0 0 0 0;\n",
              "      width: 32px;\n",
              "    }\n",
              "\n",
              "    .colab-df-convert:hover {\n",
              "      background-color: #E2EBFA;\n",
              "      box-shadow: 0px 1px 2px rgba(60, 64, 67, 0.3), 0px 1px 3px 1px rgba(60, 64, 67, 0.15);\n",
              "      fill: #174EA6;\n",
              "    }\n",
              "\n",
              "    .colab-df-buttons div {\n",
              "      margin-bottom: 4px;\n",
              "    }\n",
              "\n",
              "    [theme=dark] .colab-df-convert {\n",
              "      background-color: #3B4455;\n",
              "      fill: #D2E3FC;\n",
              "    }\n",
              "\n",
              "    [theme=dark] .colab-df-convert:hover {\n",
              "      background-color: #434B5C;\n",
              "      box-shadow: 0px 1px 3px 1px rgba(0, 0, 0, 0.15);\n",
              "      filter: drop-shadow(0px 1px 2px rgba(0, 0, 0, 0.3));\n",
              "      fill: #FFFFFF;\n",
              "    }\n",
              "  </style>\n",
              "\n",
              "    <script>\n",
              "      const buttonEl =\n",
              "        document.querySelector('#df-88e16f81-2e68-4214-9a90-d054e735e15c button.colab-df-convert');\n",
              "      buttonEl.style.display =\n",
              "        google.colab.kernel.accessAllowed ? 'block' : 'none';\n",
              "\n",
              "      async function convertToInteractive(key) {\n",
              "        const element = document.querySelector('#df-88e16f81-2e68-4214-9a90-d054e735e15c');\n",
              "        const dataTable =\n",
              "          await google.colab.kernel.invokeFunction('convertToInteractive',\n",
              "                                                    [key], {});\n",
              "        if (!dataTable) return;\n",
              "\n",
              "        const docLinkHtml = 'Like what you see? Visit the ' +\n",
              "          '<a target=\"_blank\" href=https://colab.research.google.com/notebooks/data_table.ipynb>data table notebook</a>'\n",
              "          + ' to learn more about interactive tables.';\n",
              "        element.innerHTML = '';\n",
              "        dataTable['output_type'] = 'display_data';\n",
              "        await google.colab.output.renderOutput(dataTable, element);\n",
              "        const docLink = document.createElement('div');\n",
              "        docLink.innerHTML = docLinkHtml;\n",
              "        element.appendChild(docLink);\n",
              "      }\n",
              "    </script>\n",
              "  </div>\n",
              "\n",
              "\n",
              "<div id=\"df-fe6cddfe-94a9-41a1-9346-825d85f3e58d\">\n",
              "  <button class=\"colab-df-quickchart\" onclick=\"quickchart('df-fe6cddfe-94a9-41a1-9346-825d85f3e58d')\"\n",
              "            title=\"Suggest charts\"\n",
              "            style=\"display:none;\">\n",
              "\n",
              "<svg xmlns=\"http://www.w3.org/2000/svg\" height=\"24px\"viewBox=\"0 0 24 24\"\n",
              "     width=\"24px\">\n",
              "    <g>\n",
              "        <path d=\"M19 3H5c-1.1 0-2 .9-2 2v14c0 1.1.9 2 2 2h14c1.1 0 2-.9 2-2V5c0-1.1-.9-2-2-2zM9 17H7v-7h2v7zm4 0h-2V7h2v10zm4 0h-2v-4h2v4z\"/>\n",
              "    </g>\n",
              "</svg>\n",
              "  </button>\n",
              "\n",
              "<style>\n",
              "  .colab-df-quickchart {\n",
              "      --bg-color: #E8F0FE;\n",
              "      --fill-color: #1967D2;\n",
              "      --hover-bg-color: #E2EBFA;\n",
              "      --hover-fill-color: #174EA6;\n",
              "      --disabled-fill-color: #AAA;\n",
              "      --disabled-bg-color: #DDD;\n",
              "  }\n",
              "\n",
              "  [theme=dark] .colab-df-quickchart {\n",
              "      --bg-color: #3B4455;\n",
              "      --fill-color: #D2E3FC;\n",
              "      --hover-bg-color: #434B5C;\n",
              "      --hover-fill-color: #FFFFFF;\n",
              "      --disabled-bg-color: #3B4455;\n",
              "      --disabled-fill-color: #666;\n",
              "  }\n",
              "\n",
              "  .colab-df-quickchart {\n",
              "    background-color: var(--bg-color);\n",
              "    border: none;\n",
              "    border-radius: 50%;\n",
              "    cursor: pointer;\n",
              "    display: none;\n",
              "    fill: var(--fill-color);\n",
              "    height: 32px;\n",
              "    padding: 0;\n",
              "    width: 32px;\n",
              "  }\n",
              "\n",
              "  .colab-df-quickchart:hover {\n",
              "    background-color: var(--hover-bg-color);\n",
              "    box-shadow: 0 1px 2px rgba(60, 64, 67, 0.3), 0 1px 3px 1px rgba(60, 64, 67, 0.15);\n",
              "    fill: var(--button-hover-fill-color);\n",
              "  }\n",
              "\n",
              "  .colab-df-quickchart-complete:disabled,\n",
              "  .colab-df-quickchart-complete:disabled:hover {\n",
              "    background-color: var(--disabled-bg-color);\n",
              "    fill: var(--disabled-fill-color);\n",
              "    box-shadow: none;\n",
              "  }\n",
              "\n",
              "  .colab-df-spinner {\n",
              "    border: 2px solid var(--fill-color);\n",
              "    border-color: transparent;\n",
              "    border-bottom-color: var(--fill-color);\n",
              "    animation:\n",
              "      spin 1s steps(1) infinite;\n",
              "  }\n",
              "\n",
              "  @keyframes spin {\n",
              "    0% {\n",
              "      border-color: transparent;\n",
              "      border-bottom-color: var(--fill-color);\n",
              "      border-left-color: var(--fill-color);\n",
              "    }\n",
              "    20% {\n",
              "      border-color: transparent;\n",
              "      border-left-color: var(--fill-color);\n",
              "      border-top-color: var(--fill-color);\n",
              "    }\n",
              "    30% {\n",
              "      border-color: transparent;\n",
              "      border-left-color: var(--fill-color);\n",
              "      border-top-color: var(--fill-color);\n",
              "      border-right-color: var(--fill-color);\n",
              "    }\n",
              "    40% {\n",
              "      border-color: transparent;\n",
              "      border-right-color: var(--fill-color);\n",
              "      border-top-color: var(--fill-color);\n",
              "    }\n",
              "    60% {\n",
              "      border-color: transparent;\n",
              "      border-right-color: var(--fill-color);\n",
              "    }\n",
              "    80% {\n",
              "      border-color: transparent;\n",
              "      border-right-color: var(--fill-color);\n",
              "      border-bottom-color: var(--fill-color);\n",
              "    }\n",
              "    90% {\n",
              "      border-color: transparent;\n",
              "      border-bottom-color: var(--fill-color);\n",
              "    }\n",
              "  }\n",
              "</style>\n",
              "\n",
              "  <script>\n",
              "    async function quickchart(key) {\n",
              "      const quickchartButtonEl =\n",
              "        document.querySelector('#' + key + ' button');\n",
              "      quickchartButtonEl.disabled = true;  // To prevent multiple clicks.\n",
              "      quickchartButtonEl.classList.add('colab-df-spinner');\n",
              "      try {\n",
              "        const charts = await google.colab.kernel.invokeFunction(\n",
              "            'suggestCharts', [key], {});\n",
              "      } catch (error) {\n",
              "        console.error('Error during call to suggestCharts:', error);\n",
              "      }\n",
              "      quickchartButtonEl.classList.remove('colab-df-spinner');\n",
              "      quickchartButtonEl.classList.add('colab-df-quickchart-complete');\n",
              "    }\n",
              "    (() => {\n",
              "      let quickchartButtonEl =\n",
              "        document.querySelector('#df-fe6cddfe-94a9-41a1-9346-825d85f3e58d button');\n",
              "      quickchartButtonEl.style.display =\n",
              "        google.colab.kernel.accessAllowed ? 'block' : 'none';\n",
              "    })();\n",
              "  </script>\n",
              "</div>\n",
              "    </div>\n",
              "  </div>\n"
            ]
          },
          "metadata": {},
          "execution_count": 115
        }
      ]
    },
    {
      "cell_type": "code",
      "source": [
        "# Plot and compare all of the model results\n",
        "all_model_results.plot(kind=\"bar\", figsize=(10, 7)).legend(bbox_to_anchor=(1.0, 1.0));"
      ],
      "metadata": {
        "colab": {
          "base_uri": "https://localhost:8080/",
          "height": 825
        },
        "id": "1N_2LTCxaE20",
        "outputId": "c677f3b9-7a28-46ee-97d9-df65c1e58a37"
      },
      "execution_count": 116,
      "outputs": [
        {
          "output_type": "display_data",
          "data": {
            "text/plain": [
              "<Figure size 1000x700 with 1 Axes>"
            ],
            "image/png": "[encoded data removed]"
          },
          "metadata": {}
        }
      ]
    },
    {
      "cell_type": "code",
      "source": [
        "# Sort model results by f1-score\n",
        "all_model_results.sort_values(\"f1\", ascending=False)[\"f1\"].plot(kind=\"bar\", figsize=(10, 7));"
      ],
      "metadata": {
        "colab": {
          "base_uri": "https://localhost:8080/",
          "height": 825
        },
        "id": "NxhCuaPLakdr",
        "outputId": "a935b042-38c9-462b-faab-5fe2ec29e709"
      },
      "execution_count": 117,
      "outputs": [
        {
          "output_type": "display_data",
          "data": {
            "text/plain": [
              "<Figure size 1000x700 with 1 Axes>"
            ],
            "image/png": "[encoded data removed]"
          },
          "metadata": {}
        }
      ]
    },
    {
      "cell_type": "markdown",
      "source": [
        "## Uploading our model training logs to TensorBoard.dev\n",
        "We can further inspect our model's performance using TensorBoard.dev: https://tensorboard.dev/"
      ],
      "metadata": {
        "id": "ThrWpccTbP0O"
      }
    },
    {
      "cell_type": "code",
      "source": [
        "# View TensorBoard logs of transfer learning modelling experiments (plus all of our other models)\n",
        "# Upload TensorBoard dev records\n",
        "\n",
        "!tensorboard dev upload --logdir ./model_logs/ \\\n",
        "  --name \"NLP Modelling Experiments\" \\\n",
        "  --description \"Comparing multiple different types of model architectures on the Kaggle Tweets text classfication dataset\" \\\n",
        "  --one_shot # exit the uploader once uploading is finished"
      ],
      "metadata": {
        "colab": {
          "base_uri": "https://localhost:8080/"
        },
        "id": "Z1g_4F4lPMGR",
        "outputId": "9122c50a-ae7d-4ae6-e718-df4da54384fd"
      },
      "execution_count": 118,
      "outputs": [
        {
          "output_type": "stream",
          "name": "stdout",
          "text": [
            "2023-11-20 13:45:50.369358: E tensorflow/compiler/xla/stream_executor/cuda/cuda_dnn.cc:9342] Unable to register cuDNN factory: Attempting to register factory for plugin cuDNN when one has already been registered\n",
            "2023-11-20 13:45:50.369416: E tensorflow/compiler/xla/stream_executor/cuda/cuda_fft.cc:609] Unable to register cuFFT factory: Attempting to register factory for plugin cuFFT when one has already been registered\n",
            "2023-11-20 13:45:50.369463: E tensorflow/compiler/xla/stream_executor/cuda/cuda_blas.cc:1518] Unable to register cuBLAS factory: Attempting to register factory for plugin cuBLAS when one has already been registered\n",
            "2023-11-20 13:45:51.529793: W tensorflow/compiler/tf2tensorrt/utils/py_utils.cc:38] TF-TRT Warning: Could not find TensorRT\n",
            "\n",
            "***** TensorBoard Uploader *****\n",
            "\n",
            "This will upload your TensorBoard logs to https://tensorboard.dev/ from\n",
            "the following directory:\n",
            "\n",
            "./model_logs/\n",
            "\n",
            "This TensorBoard will be visible to everyone. Do not upload sensitive\n",
            "data.\n",
            "\n",
            "Your use of this service is subject to Google's Terms of Service\n",
            "<https://policies.google.com/terms> and Privacy Policy\n",
            "<https://policies.google.com/privacy>, and TensorBoard.dev's Terms of Service\n",
            "<https://tensorboard.dev/policy/terms/>.\n",
            "\n",
            "This notice will not be shown again while you are logged into the uploader.\n",
            "To log out, run `tensorboard dev auth revoke`.\n",
            "\n",
            "Continue? (yes/NO) yes\n",
            "\n",
            "To sign in with the TensorBoard uploader:\n",
            "\n",
            "1. On your computer or phone, visit:\n",
            "\n",
            "   https://www.google.com/device\n",
            "\n",
            "2. Sign in with your Google account, then enter:\n",
            "\n",
            "   ZMQ-CXJ-QHT\n",
            "\n",
            "    ZMQ-CXJ-QHT\n",
            "Traceback (most recent call last):\n",
            "  File \"/usr/local/lib/python3.10/dist-packages/absl/app.py\", line 308, in run\n",
            "    _run_main(main, args)\n",
            "  File \"/usr/local/lib/python3.10/dist-packages/absl/app.py\", line 254, in _run_main\n",
            "    sys.exit(main(argv))\n",
            "  File \"/usr/local/lib/python3.10/dist-packages/tensorboard/program.py\", line 276, in main\n",
            "    return runner(self.flags) or 0\n",
            "  File \"/usr/local/lib/python3.10/dist-packages/tensorboard/uploader/uploader_subcommand.py\", line 691, in run\n",
            "    return _run(flags, self._experiment_url_callback)\n",
            "  File \"/usr/local/lib/python3.10/dist-packages/tensorboard/uploader/uploader_subcommand.py\", line 94, in _run\n",
            "    credentials = auth.authenticate_user(\n",
            "  File \"/usr/local/lib/python3.10/dist-packages/tensorboard/uploader/auth.py\", line 243, in authenticate_user\n",
            "    return flow.run()\n",
            "  File \"/usr/local/lib/python3.10/dist-packages/tensorboard/uploader/auth.py\", line 277, in run\n",
            "    auth_response = self._poll_for_auth_token(\n",
            "  File \"/usr/local/lib/python3.10/dist-packages/tensorboard/uploader/auth.py\", line 319, in _poll_for_auth_token\n",
            "    time.sleep(polling_interval)\n",
            "KeyboardInterrupt\n",
            "\n",
            "During handling of the above exception, another exception occurred:\n",
            "\n",
            "Traceback (most recent call last):\n",
            "  File \"/usr/local/bin/tensorboard\", line 8, in <module>\n",
            "    sys.exit(run_main())\n",
            "  File \"/usr/local/lib/python3.10/dist-packages/tensorboard/main.py\", line 46, in run_main\n",
            "    app.run(tensorboard.main, flags_parser=tensorboard.configure)\n",
            "  File \"/usr/local/lib/python3.10/dist-packages/absl/app.py\", line 321, in run\n",
            "    if FLAGS.pdb_post_mortem and sys.stdout.isatty():\n",
            "  File \"/usr/local/lib/python3.10/dist-packages/absl/flags/_flagvalues.py\", line 470, in __getattr__\n",
            "    def __getattr__(self, name):\n",
            "KeyboardInterrupt\n",
            "^C\n"
          ]
        }
      ]
    },
    {
      "cell_type": "markdown",
      "source": [
        "## Saving and loading a trained model\n",
        "\n",
        "There are two main formats to save a model to in TensorFlow:\n",
        "1. The HDF5 format\n",
        "2. The `SavedModel` format (this is the default when using TensorFlow)\n",
        "\n"
      ],
      "metadata": {
        "id": "ib0MH6toRNGU"
      }
    },
    {
      "cell_type": "code",
      "source": [
        "# Save TF Hub Sentence Encoder model to HDF5 format\n",
        "model_6.save(\"model_6.h5\")"
      ],
      "metadata": {
        "colab": {
          "base_uri": "https://localhost:8080/"
        },
        "id": "7CngZcn2SZRh",
        "outputId": "11792711-dda7-4057-fb94-e8a46f352ca1"
      },
      "execution_count": 119,
      "outputs": [
        {
          "output_type": "stream",
          "name": "stderr",
          "text": [
            "/usr/local/lib/python3.10/dist-packages/keras/src/engine/training.py:3079: UserWarning: You are saving your model as an HDF5 file via `model.save()`. This file format is considered legacy. We recommend using instead the native Keras format, e.g. `model.save('my_model.keras')`.\n",
            "  saving_api.save_model(\n"
          ]
        }
      ]
    },
    {
      "cell_type": "code",
      "source": [
        "# Load model with custom Hub Layer (required HDF5 format)\n",
        "import tensorflow_hub as hub\n",
        "loaded_model_6 = tf.keras.models.load_model(\"model_6.h5\",\n",
        "                                            custom_objects={\"KerasLayer\": hub.KerasLayer})"
      ],
      "metadata": {
        "id": "oo41RdoQTgoo"
      },
      "execution_count": 120,
      "outputs": []
    },
    {
      "cell_type": "code",
      "source": [
        "# How does our loaded model perform?\n",
        "loaded_model_6.evaluate(val_sentences, val_labels)"
      ],
      "metadata": {
        "colab": {
          "base_uri": "https://localhost:8080/"
        },
        "id": "8wZQn3g9Tyeu",
        "outputId": "2832deee-1860-4201-fe9a-f6b8b77a0e6f"
      },
      "execution_count": 121,
      "outputs": [
        {
          "output_type": "stream",
          "name": "stdout",
          "text": [
            "24/24 [==============================] - 1s 11ms/step - loss: 0.4317 - accuracy: 0.8136\n"
          ]
        },
        {
          "output_type": "execute_result",
          "data": {
            "text/plain": [
              "[0.43165749311447144, 0.8136482834815979]"
            ]
          },
          "metadata": {},
          "execution_count": 121
        }
      ]
    },
    {
      "cell_type": "code",
      "source": [
        "model_6_results"
      ],
      "metadata": {
        "colab": {
          "base_uri": "https://localhost:8080/"
        },
        "id": "S-5-_LyLUY6B",
        "outputId": "a6baf480-9180-4862-d53c-1bcb72ff9d0d"
      },
      "execution_count": 122,
      "outputs": [
        {
          "output_type": "execute_result",
          "data": {
            "text/plain": [
              "{'accuracy': 81.36482939632546,\n",
              " 'precision': 0.8170954157228842,\n",
              " 'recall': 0.8136482939632546,\n",
              " 'f1': 0.8117426826050925}"
            ]
          },
          "metadata": {},
          "execution_count": 122
        }
      ]
    },
    {
      "cell_type": "markdown",
      "source": [
        "Now let's save to the `SavedModel` format... (see more on this here: https://www.tensorflow.org/tutorials/keras/save_and_load)"
      ],
      "metadata": {
        "id": "h001TVQ5UeUB"
      }
    },
    {
      "cell_type": "code",
      "source": [
        "# Save TF Hub Sentence Encoder model to SavedModel format (default)\n",
        "model_6.save(\"model_6_SavedModel_format\")"
      ],
      "metadata": {
        "id": "RAtkhonaVIY8"
      },
      "execution_count": 123,
      "outputs": []
    },
    {
      "cell_type": "code",
      "source": [
        "# Load in a model from the SavedModel_format\n",
        "loaded_model_6_SavedModel_format = tf.keras.models.load_model(\"model_6_SavedModel_format\")"
      ],
      "metadata": {
        "id": "6Mn6F-5ZVcOa"
      },
      "execution_count": 124,
      "outputs": []
    },
    {
      "cell_type": "code",
      "source": [
        "# Evaluate model in SavedModel format\n",
        "loaded_model_6_SavedModel_format.evaluate(val_sentences, val_labels)"
      ],
      "metadata": {
        "colab": {
          "base_uri": "https://localhost:8080/"
        },
        "id": "hs_utoNzVtOj",
        "outputId": "274e4dd8-a237-47f1-8a95-bf9f7d63af36"
      },
      "execution_count": 125,
      "outputs": [
        {
          "output_type": "stream",
          "name": "stdout",
          "text": [
            "24/24 [==============================] - 1s 19ms/step - loss: 0.4317 - accuracy: 0.8136\n"
          ]
        },
        {
          "output_type": "execute_result",
          "data": {
            "text/plain": [
              "[0.43165743350982666, 0.8136482834815979]"
            ]
          },
          "metadata": {},
          "execution_count": 125
        }
      ]
    },
    {
      "cell_type": "markdown",
      "source": [
        "## Finding the most wrong examples\n",
        "\n",
        "* If our best model still isn't perfect, what examples is it getting wrong?\n",
        "* And of these wrong examples which ones is it getting most wrong (those will prediction probabilities closest to the opposite class)\n",
        "\n",
        "For example if a sample should have a label of 0 but our model predicts a prediction probabilities of 0.9999 (really close to 1) and vice versa.\n"
      ],
      "metadata": {
        "id": "09tx3S4WWEMT"
      }
    },
    {
      "cell_type": "code",
      "source": [
        "# Download a pretrained model from Google Storage\n",
        "!wget https://storage.googleapis.com/ztm_tf_course/08_model_6_USE_feature_extractor.zip\n",
        "!unzip 08_model_6_USE_feature_extractor.zip"
      ],
      "metadata": {
        "colab": {
          "base_uri": "https://localhost:8080/"
        },
        "id": "JGZHOeJsXeN1",
        "outputId": "dd2f8fa2-3ac9-4fd8-e7fa-e37ef9fa4e9f"
      },
      "execution_count": 126,
      "outputs": [
        {
          "output_type": "stream",
          "name": "stdout",
          "text": [
            "--2023-11-20 13:51:28--  https://storage.googleapis.com/ztm_tf_course/08_model_6_USE_feature_extractor.zip\n",
            "Resolving storage.googleapis.com (storage.googleapis.com)... 74.125.137.207, 142.251.2.207, 2607:f8b0:4023:c0d::cf, ...\n",
            "Connecting to storage.googleapis.com (storage.googleapis.com)|74.125.137.207|:443... connected.\n",
            "HTTP request sent, awaiting response... 200 OK\n",
            "Length: 960779165 (916M) [application/zip]\n",
            "Saving to: ‘08_model_6_USE_feature_extractor.zip’\n",
            "\n",
            "08_model_6_USE_feat 100%[===================>] 916.27M  50.2MB/s    in 14s     \n",
            "\n",
            "2023-11-20 13:51:42 (66.1 MB/s) - ‘08_model_6_USE_feature_extractor.zip’ saved [960779165/960779165]\n",
            "\n",
            "Archive:  08_model_6_USE_feature_extractor.zip\n",
            "   creating: 08_model_6_USE_feature_extractor/\n",
            "   creating: 08_model_6_USE_feature_extractor/assets/\n",
            "   creating: 08_model_6_USE_feature_extractor/variables/\n",
            "  inflating: 08_model_6_USE_feature_extractor/variables/variables.data-00000-of-00001  \n",
            "  inflating: 08_model_6_USE_feature_extractor/variables/variables.index  \n",
            "  inflating: 08_model_6_USE_feature_extractor/saved_model.pb  \n"
          ]
        }
      ]
    },
    {
      "cell_type": "code",
      "source": [
        "# Import previously trained model from Google Storage\n",
        "model_6_pretrained = tf.keras.models.load_model(\"08_model_6_USE_feature_extractor\")\n",
        "model_6_pretrained.evaluate(val_sentences, val_labels)"
      ],
      "metadata": {
        "colab": {
          "base_uri": "https://localhost:8080/"
        },
        "id": "ZyZKYL1KXwtG",
        "outputId": "8b469b29-f854-41d0-ec03-e0dfbf82f681"
      },
      "execution_count": 127,
      "outputs": [
        {
          "output_type": "stream",
          "name": "stderr",
          "text": [
            "WARNING:tensorflow:SavedModel saved prior to TF 2.5 detected when loading Keras model. Please ensure that you are saving the model with model.save() or tf.keras.models.save_model(), *NOT* tf.saved_model.save(). To confirm, there should be a file named \"keras_metadata.pb\" in the SavedModel directory.\n"
          ]
        },
        {
          "output_type": "stream",
          "name": "stdout",
          "text": [
            "24/24 [==============================] - 1s 20ms/step - loss: 0.4272 - accuracy: 0.8163\n"
          ]
        },
        {
          "output_type": "execute_result",
          "data": {
            "text/plain": [
              "[0.42723122239112854, 0.8162729740142822]"
            ]
          },
          "metadata": {},
          "execution_count": 127
        }
      ]
    },
    {
      "cell_type": "code",
      "source": [
        "# Make prediction witht the loaded model from GS\n",
        "model_6_pretrained_pred_probs = model_6_pretrained.predict(val_sentences)\n",
        "model_6_pretrained_preds = tf.squeeze(tf.round(model_6_pretrained_pred_probs))\n",
        "model_6_pretrained_preds[:10] # these should be in label format"
      ],
      "metadata": {
        "colab": {
          "base_uri": "https://localhost:8080/"
        },
        "id": "sYXZONg-YTXI",
        "outputId": "af62ade9-e3d8-4c26-8ec5-06152157fe71"
      },
      "execution_count": 128,
      "outputs": [
        {
          "output_type": "stream",
          "name": "stdout",
          "text": [
            "24/24 [==============================] - 1s 12ms/step\n"
          ]
        },
        {
          "output_type": "execute_result",
          "data": {
            "text/plain": [
              "<tf.Tensor: shape=(10,), dtype=float32, numpy=array([0., 1., 1., 0., 1., 1., 1., 1., 1., 0.], dtype=float32)>"
            ]
          },
          "metadata": {},
          "execution_count": 128
        }
      ]
    },
    {
      "cell_type": "code",
      "source": [
        "# Create DataFrame with validation sentences, validation labels and best performing model predictions labels + probabilities\n",
        "val_df = pd.DataFrame({\"text\": val_sentences,\n",
        "                       \"target\": val_labels,\n",
        "                       \"pred\": model_6_pretrained_preds,\n",
        "                       \"pred_prob\": tf.squeeze(model_6_pretrained_pred_probs)})\n",
        "val_df.head()"
      ],
      "metadata": {
        "colab": {
          "base_uri": "https://localhost:8080/",
          "height": 206
        },
        "id": "LO85XUX8W_WK",
        "outputId": "c3d6d7df-53c9-4d3b-f1ff-937956ac049c"
      },
      "execution_count": 129,
      "outputs": [
        {
          "output_type": "execute_result",
          "data": {
            "text/plain": [
              "                                                text  target  pred  pred_prob\n",
              "0  DFR EP016 Monthly Meltdown - On Dnbheaven 2015...       0   0.0   0.159757\n",
              "1  FedEx no longer to transport bioterror germs i...       0   1.0   0.747162\n",
              "2  Gunmen kill four in El Salvador bus attack: Su...       1   1.0   0.988749\n",
              "3  @camilacabello97 Internally and externally scr...       1   0.0   0.196229\n",
              "4  Radiation emergency #preparedness starts with ...       1   1.0   0.707808"
            ],
            "text/html": [
              "\n",
              "  <div id=\"df-0725bc73-23fb-417d-a3eb-4908dea276f7\" class=\"colab-df-container\">\n",
              "    <div>\n",
              "<style scoped>\n",
              "    .dataframe tbody tr th:only-of-type {\n",
              "        vertical-align: middle;\n",
              "    }\n",
              "\n",
              "    .dataframe tbody tr th {\n",
              "        vertical-align: top;\n",
              "    }\n",
              "\n",
              "    .dataframe thead th {\n",
              "        text-align: right;\n",
              "    }\n",
              "</style>\n",
              "<table border=\"1\" class=\"dataframe\">\n",
              "  <thead>\n",
              "    <tr style=\"text-align: right;\">\n",
              "      <th></th>\n",
              "      <th>text</th>\n",
              "      <th>target</th>\n",
              "      <th>pred</th>\n",
              "      <th>pred_prob</th>\n",
              "    </tr>\n",
              "  </thead>\n",
              "  <tbody>\n",
              "    <tr>\n",
              "      <th>0</th>\n",
              "      <td>DFR EP016 Monthly Meltdown - On Dnbheaven 2015...</td>\n",
              "      <td>0</td>\n",
              "      <td>0.0</td>\n",
              "      <td>0.159757</td>\n",
              "    </tr>\n",
              "    <tr>\n",
              "      <th>1</th>\n",
              "      <td>FedEx no longer to transport bioterror germs i...</td>\n",
              "      <td>0</td>\n",
              "      <td>1.0</td>\n",
              "      <td>0.747162</td>\n",
              "    </tr>\n",
              "    <tr>\n",
              "      <th>2</th>\n",
              "      <td>Gunmen kill four in El Salvador bus attack: Su...</td>\n",
              "      <td>1</td>\n",
              "      <td>1.0</td>\n",
              "      <td>0.988749</td>\n",
              "    </tr>\n",
              "    <tr>\n",
              "      <th>3</th>\n",
              "      <td>@camilacabello97 Internally and externally scr...</td>\n",
              "      <td>1</td>\n",
              "      <td>0.0</td>\n",
              "      <td>0.196229</td>\n",
              "    </tr>\n",
              "    <tr>\n",
              "      <th>4</th>\n",
              "      <td>Radiation emergency #preparedness starts with ...</td>\n",
              "      <td>1</td>\n",
              "      <td>1.0</td>\n",
              "      <td>0.707808</td>\n",
              "    </tr>\n",
              "  </tbody>\n",
              "</table>\n",
              "</div>\n",
              "    <div class=\"colab-df-buttons\">\n",
              "\n",
              "  <div class=\"colab-df-container\">\n",
              "    <button class=\"colab-df-convert\" onclick=\"convertToInteractive('df-0725bc73-23fb-417d-a3eb-4908dea276f7')\"\n",
              "            title=\"Convert this dataframe to an interactive table.\"\n",
              "            style=\"display:none;\">\n",
              "\n",
              "  <svg xmlns=\"http://www.w3.org/2000/svg\" height=\"24px\" viewBox=\"0 -960 960 960\">\n",
              "    <path d=\"M120-120v-720h720v720H120Zm60-500h600v-160H180v160Zm220 220h160v-160H400v160Zm0 220h160v-160H400v160ZM180-400h160v-160H180v160Zm440 0h160v-160H620v160ZM180-180h160v-160H180v160Zm440 0h160v-160H620v160Z\"/>\n",
              "  </svg>\n",
              "    </button>\n",
              "\n",
              "  <style>\n",
              "    .colab-df-container {\n",
              "      display:flex;\n",
              "      gap: 12px;\n",
              "    }\n",
              "\n",
              "    .colab-df-convert {\n",
              "      background-color: #E8F0FE;\n",
              "      border: none;\n",
              "      border-radius: 50%;\n",
              "      cursor: pointer;\n",
              "      display: none;\n",
              "      fill: #1967D2;\n",
              "      height: 32px;\n",
              "      padding: 0 0 0 0;\n",
              "      width: 32px;\n",
              "    }\n",
              "\n",
              "    .colab-df-convert:hover {\n",
              "      background-color: #E2EBFA;\n",
              "      box-shadow: 0px 1px 2px rgba(60, 64, 67, 0.3), 0px 1px 3px 1px rgba(60, 64, 67, 0.15);\n",
              "      fill: #174EA6;\n",
              "    }\n",
              "\n",
              "    .colab-df-buttons div {\n",
              "      margin-bottom: 4px;\n",
              "    }\n",
              "\n",
              "    [theme=dark] .colab-df-convert {\n",
              "      background-color: #3B4455;\n",
              "      fill: #D2E3FC;\n",
              "    }\n",
              "\n",
              "    [theme=dark] .colab-df-convert:hover {\n",
              "      background-color: #434B5C;\n",
              "      box-shadow: 0px 1px 3px 1px rgba(0, 0, 0, 0.15);\n",
              "      filter: drop-shadow(0px 1px 2px rgba(0, 0, 0, 0.3));\n",
              "      fill: #FFFFFF;\n",
              "    }\n",
              "  </style>\n",
              "\n",
              "    <script>\n",
              "      const buttonEl =\n",
              "        document.querySelector('#df-0725bc73-23fb-417d-a3eb-4908dea276f7 button.colab-df-convert');\n",
              "      buttonEl.style.display =\n",
              "        google.colab.kernel.accessAllowed ? 'block' : 'none';\n",
              "\n",
              "      async function convertToInteractive(key) {\n",
              "        const element = document.querySelector('#df-0725bc73-23fb-417d-a3eb-4908dea276f7');\n",
              "        const dataTable =\n",
              "          await google.colab.kernel.invokeFunction('convertToInteractive',\n",
              "                                                    [key], {});\n",
              "        if (!dataTable) return;\n",
              "\n",
              "        const docLinkHtml = 'Like what you see? Visit the ' +\n",
              "          '<a target=\"_blank\" href=https://colab.research.google.com/notebooks/data_table.ipynb>data table notebook</a>'\n",
              "          + ' to learn more about interactive tables.';\n",
              "        element.innerHTML = '';\n",
              "        dataTable['output_type'] = 'display_data';\n",
              "        await google.colab.output.renderOutput(dataTable, element);\n",
              "        const docLink = document.createElement('div');\n",
              "        docLink.innerHTML = docLinkHtml;\n",
              "        element.appendChild(docLink);\n",
              "      }\n",
              "    </script>\n",
              "  </div>\n",
              "\n",
              "\n",
              "<div id=\"df-2edfa153-c005-468c-b68b-5cca06cdfafa\">\n",
              "  <button class=\"colab-df-quickchart\" onclick=\"quickchart('df-2edfa153-c005-468c-b68b-5cca06cdfafa')\"\n",
              "            title=\"Suggest charts\"\n",
              "            style=\"display:none;\">\n",
              "\n",
              "<svg xmlns=\"http://www.w3.org/2000/svg\" height=\"24px\"viewBox=\"0 0 24 24\"\n",
              "     width=\"24px\">\n",
              "    <g>\n",
              "        <path d=\"M19 3H5c-1.1 0-2 .9-2 2v14c0 1.1.9 2 2 2h14c1.1 0 2-.9 2-2V5c0-1.1-.9-2-2-2zM9 17H7v-7h2v7zm4 0h-2V7h2v10zm4 0h-2v-4h2v4z\"/>\n",
              "    </g>\n",
              "</svg>\n",
              "  </button>\n",
              "\n",
              "<style>\n",
              "  .colab-df-quickchart {\n",
              "      --bg-color: #E8F0FE;\n",
              "      --fill-color: #1967D2;\n",
              "      --hover-bg-color: #E2EBFA;\n",
              "      --hover-fill-color: #174EA6;\n",
              "      --disabled-fill-color: #AAA;\n",
              "      --disabled-bg-color: #DDD;\n",
              "  }\n",
              "\n",
              "  [theme=dark] .colab-df-quickchart {\n",
              "      --bg-color: #3B4455;\n",
              "      --fill-color: #D2E3FC;\n",
              "      --hover-bg-color: #434B5C;\n",
              "      --hover-fill-color: #FFFFFF;\n",
              "      --disabled-bg-color: #3B4455;\n",
              "      --disabled-fill-color: #666;\n",
              "  }\n",
              "\n",
              "  .colab-df-quickchart {\n",
              "    background-color: var(--bg-color);\n",
              "    border: none;\n",
              "    border-radius: 50%;\n",
              "    cursor: pointer;\n",
              "    display: none;\n",
              "    fill: var(--fill-color);\n",
              "    height: 32px;\n",
              "    padding: 0;\n",
              "    width: 32px;\n",
              "  }\n",
              "\n",
              "  .colab-df-quickchart:hover {\n",
              "    background-color: var(--hover-bg-color);\n",
              "    box-shadow: 0 1px 2px rgba(60, 64, 67, 0.3), 0 1px 3px 1px rgba(60, 64, 67, 0.15);\n",
              "    fill: var(--button-hover-fill-color);\n",
              "  }\n",
              "\n",
              "  .colab-df-quickchart-complete:disabled,\n",
              "  .colab-df-quickchart-complete:disabled:hover {\n",
              "    background-color: var(--disabled-bg-color);\n",
              "    fill: var(--disabled-fill-color);\n",
              "    box-shadow: none;\n",
              "  }\n",
              "\n",
              "  .colab-df-spinner {\n",
              "    border: 2px solid var(--fill-color);\n",
              "    border-color: transparent;\n",
              "    border-bottom-color: var(--fill-color);\n",
              "    animation:\n",
              "      spin 1s steps(1) infinite;\n",
              "  }\n",
              "\n",
              "  @keyframes spin {\n",
              "    0% {\n",
              "      border-color: transparent;\n",
              "      border-bottom-color: var(--fill-color);\n",
              "      border-left-color: var(--fill-color);\n",
              "    }\n",
              "    20% {\n",
              "      border-color: transparent;\n",
              "      border-left-color: var(--fill-color);\n",
              "      border-top-color: var(--fill-color);\n",
              "    }\n",
              "    30% {\n",
              "      border-color: transparent;\n",
              "      border-left-color: var(--fill-color);\n",
              "      border-top-color: var(--fill-color);\n",
              "      border-right-color: var(--fill-color);\n",
              "    }\n",
              "    40% {\n",
              "      border-color: transparent;\n",
              "      border-right-color: var(--fill-color);\n",
              "      border-top-color: var(--fill-color);\n",
              "    }\n",
              "    60% {\n",
              "      border-color: transparent;\n",
              "      border-right-color: var(--fill-color);\n",
              "    }\n",
              "    80% {\n",
              "      border-color: transparent;\n",
              "      border-right-color: var(--fill-color);\n",
              "      border-bottom-color: var(--fill-color);\n",
              "    }\n",
              "    90% {\n",
              "      border-color: transparent;\n",
              "      border-bottom-color: var(--fill-color);\n",
              "    }\n",
              "  }\n",
              "</style>\n",
              "\n",
              "  <script>\n",
              "    async function quickchart(key) {\n",
              "      const quickchartButtonEl =\n",
              "        document.querySelector('#' + key + ' button');\n",
              "      quickchartButtonEl.disabled = true;  // To prevent multiple clicks.\n",
              "      quickchartButtonEl.classList.add('colab-df-spinner');\n",
              "      try {\n",
              "        const charts = await google.colab.kernel.invokeFunction(\n",
              "            'suggestCharts', [key], {});\n",
              "      } catch (error) {\n",
              "        console.error('Error during call to suggestCharts:', error);\n",
              "      }\n",
              "      quickchartButtonEl.classList.remove('colab-df-spinner');\n",
              "      quickchartButtonEl.classList.add('colab-df-quickchart-complete');\n",
              "    }\n",
              "    (() => {\n",
              "      let quickchartButtonEl =\n",
              "        document.querySelector('#df-2edfa153-c005-468c-b68b-5cca06cdfafa button');\n",
              "      quickchartButtonEl.style.display =\n",
              "        google.colab.kernel.accessAllowed ? 'block' : 'none';\n",
              "    })();\n",
              "  </script>\n",
              "</div>\n",
              "    </div>\n",
              "  </div>\n"
            ]
          },
          "metadata": {},
          "execution_count": 129
        }
      ]
    },
    {
      "cell_type": "code",
      "source": [
        "# Find the wrong predictions and sort by prediction probabilities\n",
        "most_wrong = val_df[val_df[\"target\"] != val_df[\"pred\"]].sort_values(\"pred_prob\", ascending=False)\n",
        "most_wrong[:10]"
      ],
      "metadata": {
        "colab": {
          "base_uri": "https://localhost:8080/",
          "height": 363
        },
        "id": "S4C76wQ1ZJXL",
        "outputId": "68df7e27-b3b5-43ed-9647-d95317ba789d"
      },
      "execution_count": 130,
      "outputs": [
        {
          "output_type": "execute_result",
          "data": {
            "text/plain": [
              "                                                  text  target  pred  \\\n",
              "31   ? High Skies - Burning Buildings ? http://t.co...       0   1.0   \n",
              "759  FedEx will no longer transport bioterror patho...       0   1.0   \n",
              "628  @noah_anyname That's where the concentration c...       0   1.0   \n",
              "209  Ashes 2015: AustraliaÛªs collapse at Trent Br...       0   1.0   \n",
              "251  @AshGhebranious civil rights continued in the ...       0   1.0   \n",
              "393  @SonofLiberty357 all illuminated by the bright...       0   1.0   \n",
              "109  [55436] 1950 LIONEL TRAINS SMOKE LOCOMOTIVES W...       0   1.0   \n",
              "49   @madonnamking RSPCA site multiple 7 story high...       0   1.0   \n",
              "119  @freefromwolves GodsLove &amp; #thankU brother...       0   1.0   \n",
              "344  Air Group is here to the rescue! We have 24/7 ...       0   1.0   \n",
              "\n",
              "     pred_prob  \n",
              "31    0.910196  \n",
              "759   0.876982  \n",
              "628   0.852300  \n",
              "209   0.835454  \n",
              "251   0.827213  \n",
              "393   0.814816  \n",
              "109   0.810840  \n",
              "49    0.803122  \n",
              "119   0.766901  \n",
              "344   0.766625  "
            ],
            "text/html": [
              "\n",
              "  <div id=\"df-2f40fe9d-8a4d-4651-b5cc-234ae514fdce\" class=\"colab-df-container\">\n",
              "    <div>\n",
              "<style scoped>\n",
              "    .dataframe tbody tr th:only-of-type {\n",
              "        vertical-align: middle;\n",
              "    }\n",
              "\n",
              "    .dataframe tbody tr th {\n",
              "        vertical-align: top;\n",
              "    }\n",
              "\n",
              "    .dataframe thead th {\n",
              "        text-align: right;\n",
              "    }\n",
              "</style>\n",
              "<table border=\"1\" class=\"dataframe\">\n",
              "  <thead>\n",
              "    <tr style=\"text-align: right;\">\n",
              "      <th></th>\n",
              "      <th>text</th>\n",
              "      <th>target</th>\n",
              "      <th>pred</th>\n",
              "      <th>pred_prob</th>\n",
              "    </tr>\n",
              "  </thead>\n",
              "  <tbody>\n",
              "    <tr>\n",
              "      <th>31</th>\n",
              "      <td>? High Skies - Burning Buildings ? http://t.co...</td>\n",
              "      <td>0</td>\n",
              "      <td>1.0</td>\n",
              "      <td>0.910196</td>\n",
              "    </tr>\n",
              "    <tr>\n",
              "      <th>759</th>\n",
              "      <td>FedEx will no longer transport bioterror patho...</td>\n",
              "      <td>0</td>\n",
              "      <td>1.0</td>\n",
              "      <td>0.876982</td>\n",
              "    </tr>\n",
              "    <tr>\n",
              "      <th>628</th>\n",
              "      <td>@noah_anyname That's where the concentration c...</td>\n",
              "      <td>0</td>\n",
              "      <td>1.0</td>\n",
              "      <td>0.852300</td>\n",
              "    </tr>\n",
              "    <tr>\n",
              "      <th>209</th>\n",
              "      <td>Ashes 2015: AustraliaÛªs collapse at Trent Br...</td>\n",
              "      <td>0</td>\n",
              "      <td>1.0</td>\n",
              "      <td>0.835454</td>\n",
              "    </tr>\n",
              "    <tr>\n",
              "      <th>251</th>\n",
              "      <td>@AshGhebranious civil rights continued in the ...</td>\n",
              "      <td>0</td>\n",
              "      <td>1.0</td>\n",
              "      <td>0.827213</td>\n",
              "    </tr>\n",
              "    <tr>\n",
              "      <th>393</th>\n",
              "      <td>@SonofLiberty357 all illuminated by the bright...</td>\n",
              "      <td>0</td>\n",
              "      <td>1.0</td>\n",
              "      <td>0.814816</td>\n",
              "    </tr>\n",
              "    <tr>\n",
              "      <th>109</th>\n",
              "      <td>[55436] 1950 LIONEL TRAINS SMOKE LOCOMOTIVES W...</td>\n",
              "      <td>0</td>\n",
              "      <td>1.0</td>\n",
              "      <td>0.810840</td>\n",
              "    </tr>\n",
              "    <tr>\n",
              "      <th>49</th>\n",
              "      <td>@madonnamking RSPCA site multiple 7 story high...</td>\n",
              "      <td>0</td>\n",
              "      <td>1.0</td>\n",
              "      <td>0.803122</td>\n",
              "    </tr>\n",
              "    <tr>\n",
              "      <th>119</th>\n",
              "      <td>@freefromwolves GodsLove &amp;amp; #thankU brother...</td>\n",
              "      <td>0</td>\n",
              "      <td>1.0</td>\n",
              "      <td>0.766901</td>\n",
              "    </tr>\n",
              "    <tr>\n",
              "      <th>344</th>\n",
              "      <td>Air Group is here to the rescue! We have 24/7 ...</td>\n",
              "      <td>0</td>\n",
              "      <td>1.0</td>\n",
              "      <td>0.766625</td>\n",
              "    </tr>\n",
              "  </tbody>\n",
              "</table>\n",
              "</div>\n",
              "    <div class=\"colab-df-buttons\">\n",
              "\n",
              "  <div class=\"colab-df-container\">\n",
              "    <button class=\"colab-df-convert\" onclick=\"convertToInteractive('df-2f40fe9d-8a4d-4651-b5cc-234ae514fdce')\"\n",
              "            title=\"Convert this dataframe to an interactive table.\"\n",
              "            style=\"display:none;\">\n",
              "\n",
              "  <svg xmlns=\"http://www.w3.org/2000/svg\" height=\"24px\" viewBox=\"0 -960 960 960\">\n",
              "    <path d=\"M120-120v-720h720v720H120Zm60-500h600v-160H180v160Zm220 220h160v-160H400v160Zm0 220h160v-160H400v160ZM180-400h160v-160H180v160Zm440 0h160v-160H620v160ZM180-180h160v-160H180v160Zm440 0h160v-160H620v160Z\"/>\n",
              "  </svg>\n",
              "    </button>\n",
              "\n",
              "  <style>\n",
              "    .colab-df-container {\n",
              "      display:flex;\n",
              "      gap: 12px;\n",
              "    }\n",
              "\n",
              "    .colab-df-convert {\n",
              "      background-color: #E8F0FE;\n",
              "      border: none;\n",
              "      border-radius: 50%;\n",
              "      cursor: pointer;\n",
              "      display: none;\n",
              "      fill: #1967D2;\n",
              "      height: 32px;\n",
              "      padding: 0 0 0 0;\n",
              "      width: 32px;\n",
              "    }\n",
              "\n",
              "    .colab-df-convert:hover {\n",
              "      background-color: #E2EBFA;\n",
              "      box-shadow: 0px 1px 2px rgba(60, 64, 67, 0.3), 0px 1px 3px 1px rgba(60, 64, 67, 0.15);\n",
              "      fill: #174EA6;\n",
              "    }\n",
              "\n",
              "    .colab-df-buttons div {\n",
              "      margin-bottom: 4px;\n",
              "    }\n",
              "\n",
              "    [theme=dark] .colab-df-convert {\n",
              "      background-color: #3B4455;\n",
              "      fill: #D2E3FC;\n",
              "    }\n",
              "\n",
              "    [theme=dark] .colab-df-convert:hover {\n",
              "      background-color: #434B5C;\n",
              "      box-shadow: 0px 1px 3px 1px rgba(0, 0, 0, 0.15);\n",
              "      filter: drop-shadow(0px 1px 2px rgba(0, 0, 0, 0.3));\n",
              "      fill: #FFFFFF;\n",
              "    }\n",
              "  </style>\n",
              "\n",
              "    <script>\n",
              "      const buttonEl =\n",
              "        document.querySelector('#df-2f40fe9d-8a4d-4651-b5cc-234ae514fdce button.colab-df-convert');\n",
              "      buttonEl.style.display =\n",
              "        google.colab.kernel.accessAllowed ? 'block' : 'none';\n",
              "\n",
              "      async function convertToInteractive(key) {\n",
              "        const element = document.querySelector('#df-2f40fe9d-8a4d-4651-b5cc-234ae514fdce');\n",
              "        const dataTable =\n",
              "          await google.colab.kernel.invokeFunction('convertToInteractive',\n",
              "                                                    [key], {});\n",
              "        if (!dataTable) return;\n",
              "\n",
              "        const docLinkHtml = 'Like what you see? Visit the ' +\n",
              "          '<a target=\"_blank\" href=https://colab.research.google.com/notebooks/data_table.ipynb>data table notebook</a>'\n",
              "          + ' to learn more about interactive tables.';\n",
              "        element.innerHTML = '';\n",
              "        dataTable['output_type'] = 'display_data';\n",
              "        await google.colab.output.renderOutput(dataTable, element);\n",
              "        const docLink = document.createElement('div');\n",
              "        docLink.innerHTML = docLinkHtml;\n",
              "        element.appendChild(docLink);\n",
              "      }\n",
              "    </script>\n",
              "  </div>\n",
              "\n",
              "\n",
              "<div id=\"df-c89f3d75-b91c-406e-8648-d869c36646c8\">\n",
              "  <button class=\"colab-df-quickchart\" onclick=\"quickchart('df-c89f3d75-b91c-406e-8648-d869c36646c8')\"\n",
              "            title=\"Suggest charts\"\n",
              "            style=\"display:none;\">\n",
              "\n",
              "<svg xmlns=\"http://www.w3.org/2000/svg\" height=\"24px\"viewBox=\"0 0 24 24\"\n",
              "     width=\"24px\">\n",
              "    <g>\n",
              "        <path d=\"M19 3H5c-1.1 0-2 .9-2 2v14c0 1.1.9 2 2 2h14c1.1 0 2-.9 2-2V5c0-1.1-.9-2-2-2zM9 17H7v-7h2v7zm4 0h-2V7h2v10zm4 0h-2v-4h2v4z\"/>\n",
              "    </g>\n",
              "</svg>\n",
              "  </button>\n",
              "\n",
              "<style>\n",
              "  .colab-df-quickchart {\n",
              "      --bg-color: #E8F0FE;\n",
              "      --fill-color: #1967D2;\n",
              "      --hover-bg-color: #E2EBFA;\n",
              "      --hover-fill-color: #174EA6;\n",
              "      --disabled-fill-color: #AAA;\n",
              "      --disabled-bg-color: #DDD;\n",
              "  }\n",
              "\n",
              "  [theme=dark] .colab-df-quickchart {\n",
              "      --bg-color: #3B4455;\n",
              "      --fill-color: #D2E3FC;\n",
              "      --hover-bg-color: #434B5C;\n",
              "      --hover-fill-color: #FFFFFF;\n",
              "      --disabled-bg-color: #3B4455;\n",
              "      --disabled-fill-color: #666;\n",
              "  }\n",
              "\n",
              "  .colab-df-quickchart {\n",
              "    background-color: var(--bg-color);\n",
              "    border: none;\n",
              "    border-radius: 50%;\n",
              "    cursor: pointer;\n",
              "    display: none;\n",
              "    fill: var(--fill-color);\n",
              "    height: 32px;\n",
              "    padding: 0;\n",
              "    width: 32px;\n",
              "  }\n",
              "\n",
              "  .colab-df-quickchart:hover {\n",
              "    background-color: var(--hover-bg-color);\n",
              "    box-shadow: 0 1px 2px rgba(60, 64, 67, 0.3), 0 1px 3px 1px rgba(60, 64, 67, 0.15);\n",
              "    fill: var(--button-hover-fill-color);\n",
              "  }\n",
              "\n",
              "  .colab-df-quickchart-complete:disabled,\n",
              "  .colab-df-quickchart-complete:disabled:hover {\n",
              "    background-color: var(--disabled-bg-color);\n",
              "    fill: var(--disabled-fill-color);\n",
              "    box-shadow: none;\n",
              "  }\n",
              "\n",
              "  .colab-df-spinner {\n",
              "    border: 2px solid var(--fill-color);\n",
              "    border-color: transparent;\n",
              "    border-bottom-color: var(--fill-color);\n",
              "    animation:\n",
              "      spin 1s steps(1) infinite;\n",
              "  }\n",
              "\n",
              "  @keyframes spin {\n",
              "    0% {\n",
              "      border-color: transparent;\n",
              "      border-bottom-color: var(--fill-color);\n",
              "      border-left-color: var(--fill-color);\n",
              "    }\n",
              "    20% {\n",
              "      border-color: transparent;\n",
              "      border-left-color: var(--fill-color);\n",
              "      border-top-color: var(--fill-color);\n",
              "    }\n",
              "    30% {\n",
              "      border-color: transparent;\n",
              "      border-left-color: var(--fill-color);\n",
              "      border-top-color: var(--fill-color);\n",
              "      border-right-color: var(--fill-color);\n",
              "    }\n",
              "    40% {\n",
              "      border-color: transparent;\n",
              "      border-right-color: var(--fill-color);\n",
              "      border-top-color: var(--fill-color);\n",
              "    }\n",
              "    60% {\n",
              "      border-color: transparent;\n",
              "      border-right-color: var(--fill-color);\n",
              "    }\n",
              "    80% {\n",
              "      border-color: transparent;\n",
              "      border-right-color: var(--fill-color);\n",
              "      border-bottom-color: var(--fill-color);\n",
              "    }\n",
              "    90% {\n",
              "      border-color: transparent;\n",
              "      border-bottom-color: var(--fill-color);\n",
              "    }\n",
              "  }\n",
              "</style>\n",
              "\n",
              "  <script>\n",
              "    async function quickchart(key) {\n",
              "      const quickchartButtonEl =\n",
              "        document.querySelector('#' + key + ' button');\n",
              "      quickchartButtonEl.disabled = true;  // To prevent multiple clicks.\n",
              "      quickchartButtonEl.classList.add('colab-df-spinner');\n",
              "      try {\n",
              "        const charts = await google.colab.kernel.invokeFunction(\n",
              "            'suggestCharts', [key], {});\n",
              "      } catch (error) {\n",
              "        console.error('Error during call to suggestCharts:', error);\n",
              "      }\n",
              "      quickchartButtonEl.classList.remove('colab-df-spinner');\n",
              "      quickchartButtonEl.classList.add('colab-df-quickchart-complete');\n",
              "    }\n",
              "    (() => {\n",
              "      let quickchartButtonEl =\n",
              "        document.querySelector('#df-c89f3d75-b91c-406e-8648-d869c36646c8 button');\n",
              "      quickchartButtonEl.style.display =\n",
              "        google.colab.kernel.accessAllowed ? 'block' : 'none';\n",
              "    })();\n",
              "  </script>\n",
              "</div>\n",
              "    </div>\n",
              "  </div>\n"
            ]
          },
          "metadata": {},
          "execution_count": 130
        }
      ]
    },
    {
      "cell_type": "markdown",
      "source": [
        "Let's remind ourselves of the target labels....\n",
        "\n",
        "* `0` = not disaster\n",
        "* `1` = disaster"
      ],
      "metadata": {
        "id": "iDRav8r-bp1H"
      }
    },
    {
      "cell_type": "code",
      "source": [
        "most_wrong.tail()"
      ],
      "metadata": {
        "colab": {
          "base_uri": "https://localhost:8080/",
          "height": 206
        },
        "id": "6HyVRgajbJVt",
        "outputId": "4dd8221b-8fc6-4161-b6bf-829bedcc2130"
      },
      "execution_count": 131,
      "outputs": [
        {
          "output_type": "execute_result",
          "data": {
            "text/plain": [
              "                                                  text  target  pred  \\\n",
              "411  @SoonerMagic_ I mean I'm a fan but I don't nee...       1   0.0   \n",
              "233                    I get to smoke my shit in peace       1   0.0   \n",
              "38   Why are you deluged with low self-image? Take ...       1   0.0   \n",
              "244  Reddit Will Now QuarantineÛ_ http://t.co/pkUA...       1   0.0   \n",
              "23   Ron &amp; Fez - Dave's High School Crush https...       1   0.0   \n",
              "\n",
              "     pred_prob  \n",
              "411   0.043918  \n",
              "233   0.042087  \n",
              "38    0.038998  \n",
              "244   0.038949  \n",
              "23    0.037186  "
            ],
            "text/html": [
              "\n",
              "  <div id=\"df-464fb1ec-e20b-4202-bffe-32dd01c163d2\" class=\"colab-df-container\">\n",
              "    <div>\n",
              "<style scoped>\n",
              "    .dataframe tbody tr th:only-of-type {\n",
              "        vertical-align: middle;\n",
              "    }\n",
              "\n",
              "    .dataframe tbody tr th {\n",
              "        vertical-align: top;\n",
              "    }\n",
              "\n",
              "    .dataframe thead th {\n",
              "        text-align: right;\n",
              "    }\n",
              "</style>\n",
              "<table border=\"1\" class=\"dataframe\">\n",
              "  <thead>\n",
              "    <tr style=\"text-align: right;\">\n",
              "      <th></th>\n",
              "      <th>text</th>\n",
              "      <th>target</th>\n",
              "      <th>pred</th>\n",
              "      <th>pred_prob</th>\n",
              "    </tr>\n",
              "  </thead>\n",
              "  <tbody>\n",
              "    <tr>\n",
              "      <th>411</th>\n",
              "      <td>@SoonerMagic_ I mean I'm a fan but I don't nee...</td>\n",
              "      <td>1</td>\n",
              "      <td>0.0</td>\n",
              "      <td>0.043918</td>\n",
              "    </tr>\n",
              "    <tr>\n",
              "      <th>233</th>\n",
              "      <td>I get to smoke my shit in peace</td>\n",
              "      <td>1</td>\n",
              "      <td>0.0</td>\n",
              "      <td>0.042087</td>\n",
              "    </tr>\n",
              "    <tr>\n",
              "      <th>38</th>\n",
              "      <td>Why are you deluged with low self-image? Take ...</td>\n",
              "      <td>1</td>\n",
              "      <td>0.0</td>\n",
              "      <td>0.038998</td>\n",
              "    </tr>\n",
              "    <tr>\n",
              "      <th>244</th>\n",
              "      <td>Reddit Will Now QuarantineÛ_ http://t.co/pkUA...</td>\n",
              "      <td>1</td>\n",
              "      <td>0.0</td>\n",
              "      <td>0.038949</td>\n",
              "    </tr>\n",
              "    <tr>\n",
              "      <th>23</th>\n",
              "      <td>Ron &amp;amp; Fez - Dave's High School Crush https...</td>\n",
              "      <td>1</td>\n",
              "      <td>0.0</td>\n",
              "      <td>0.037186</td>\n",
              "    </tr>\n",
              "  </tbody>\n",
              "</table>\n",
              "</div>\n",
              "    <div class=\"colab-df-buttons\">\n",
              "\n",
              "  <div class=\"colab-df-container\">\n",
              "    <button class=\"colab-df-convert\" onclick=\"convertToInteractive('df-464fb1ec-e20b-4202-bffe-32dd01c163d2')\"\n",
              "            title=\"Convert this dataframe to an interactive table.\"\n",
              "            style=\"display:none;\">\n",
              "\n",
              "  <svg xmlns=\"http://www.w3.org/2000/svg\" height=\"24px\" viewBox=\"0 -960 960 960\">\n",
              "    <path d=\"M120-120v-720h720v720H120Zm60-500h600v-160H180v160Zm220 220h160v-160H400v160Zm0 220h160v-160H400v160ZM180-400h160v-160H180v160Zm440 0h160v-160H620v160ZM180-180h160v-160H180v160Zm440 0h160v-160H620v160Z\"/>\n",
              "  </svg>\n",
              "    </button>\n",
              "\n",
              "  <style>\n",
              "    .colab-df-container {\n",
              "      display:flex;\n",
              "      gap: 12px;\n",
              "    }\n",
              "\n",
              "    .colab-df-convert {\n",
              "      background-color: #E8F0FE;\n",
              "      border: none;\n",
              "      border-radius: 50%;\n",
              "      cursor: pointer;\n",
              "      display: none;\n",
              "      fill: #1967D2;\n",
              "      height: 32px;\n",
              "      padding: 0 0 0 0;\n",
              "      width: 32px;\n",
              "    }\n",
              "\n",
              "    .colab-df-convert:hover {\n",
              "      background-color: #E2EBFA;\n",
              "      box-shadow: 0px 1px 2px rgba(60, 64, 67, 0.3), 0px 1px 3px 1px rgba(60, 64, 67, 0.15);\n",
              "      fill: #174EA6;\n",
              "    }\n",
              "\n",
              "    .colab-df-buttons div {\n",
              "      margin-bottom: 4px;\n",
              "    }\n",
              "\n",
              "    [theme=dark] .colab-df-convert {\n",
              "      background-color: #3B4455;\n",
              "      fill: #D2E3FC;\n",
              "    }\n",
              "\n",
              "    [theme=dark] .colab-df-convert:hover {\n",
              "      background-color: #434B5C;\n",
              "      box-shadow: 0px 1px 3px 1px rgba(0, 0, 0, 0.15);\n",
              "      filter: drop-shadow(0px 1px 2px rgba(0, 0, 0, 0.3));\n",
              "      fill: #FFFFFF;\n",
              "    }\n",
              "  </style>\n",
              "\n",
              "    <script>\n",
              "      const buttonEl =\n",
              "        document.querySelector('#df-464fb1ec-e20b-4202-bffe-32dd01c163d2 button.colab-df-convert');\n",
              "      buttonEl.style.display =\n",
              "        google.colab.kernel.accessAllowed ? 'block' : 'none';\n",
              "\n",
              "      async function convertToInteractive(key) {\n",
              "        const element = document.querySelector('#df-464fb1ec-e20b-4202-bffe-32dd01c163d2');\n",
              "        const dataTable =\n",
              "          await google.colab.kernel.invokeFunction('convertToInteractive',\n",
              "                                                    [key], {});\n",
              "        if (!dataTable) return;\n",
              "\n",
              "        const docLinkHtml = 'Like what you see? Visit the ' +\n",
              "          '<a target=\"_blank\" href=https://colab.research.google.com/notebooks/data_table.ipynb>data table notebook</a>'\n",
              "          + ' to learn more about interactive tables.';\n",
              "        element.innerHTML = '';\n",
              "        dataTable['output_type'] = 'display_data';\n",
              "        await google.colab.output.renderOutput(dataTable, element);\n",
              "        const docLink = document.createElement('div');\n",
              "        docLink.innerHTML = docLinkHtml;\n",
              "        element.appendChild(docLink);\n",
              "      }\n",
              "    </script>\n",
              "  </div>\n",
              "\n",
              "\n",
              "<div id=\"df-03e12f8e-7177-4a41-9f1b-9a664798e96e\">\n",
              "  <button class=\"colab-df-quickchart\" onclick=\"quickchart('df-03e12f8e-7177-4a41-9f1b-9a664798e96e')\"\n",
              "            title=\"Suggest charts\"\n",
              "            style=\"display:none;\">\n",
              "\n",
              "<svg xmlns=\"http://www.w3.org/2000/svg\" height=\"24px\"viewBox=\"0 0 24 24\"\n",
              "     width=\"24px\">\n",
              "    <g>\n",
              "        <path d=\"M19 3H5c-1.1 0-2 .9-2 2v14c0 1.1.9 2 2 2h14c1.1 0 2-.9 2-2V5c0-1.1-.9-2-2-2zM9 17H7v-7h2v7zm4 0h-2V7h2v10zm4 0h-2v-4h2v4z\"/>\n",
              "    </g>\n",
              "</svg>\n",
              "  </button>\n",
              "\n",
              "<style>\n",
              "  .colab-df-quickchart {\n",
              "      --bg-color: #E8F0FE;\n",
              "      --fill-color: #1967D2;\n",
              "      --hover-bg-color: #E2EBFA;\n",
              "      --hover-fill-color: #174EA6;\n",
              "      --disabled-fill-color: #AAA;\n",
              "      --disabled-bg-color: #DDD;\n",
              "  }\n",
              "\n",
              "  [theme=dark] .colab-df-quickchart {\n",
              "      --bg-color: #3B4455;\n",
              "      --fill-color: #D2E3FC;\n",
              "      --hover-bg-color: #434B5C;\n",
              "      --hover-fill-color: #FFFFFF;\n",
              "      --disabled-bg-color: #3B4455;\n",
              "      --disabled-fill-color: #666;\n",
              "  }\n",
              "\n",
              "  .colab-df-quickchart {\n",
              "    background-color: var(--bg-color);\n",
              "    border: none;\n",
              "    border-radius: 50%;\n",
              "    cursor: pointer;\n",
              "    display: none;\n",
              "    fill: var(--fill-color);\n",
              "    height: 32px;\n",
              "    padding: 0;\n",
              "    width: 32px;\n",
              "  }\n",
              "\n",
              "  .colab-df-quickchart:hover {\n",
              "    background-color: var(--hover-bg-color);\n",
              "    box-shadow: 0 1px 2px rgba(60, 64, 67, 0.3), 0 1px 3px 1px rgba(60, 64, 67, 0.15);\n",
              "    fill: var(--button-hover-fill-color);\n",
              "  }\n",
              "\n",
              "  .colab-df-quickchart-complete:disabled,\n",
              "  .colab-df-quickchart-complete:disabled:hover {\n",
              "    background-color: var(--disabled-bg-color);\n",
              "    fill: var(--disabled-fill-color);\n",
              "    box-shadow: none;\n",
              "  }\n",
              "\n",
              "  .colab-df-spinner {\n",
              "    border: 2px solid var(--fill-color);\n",
              "    border-color: transparent;\n",
              "    border-bottom-color: var(--fill-color);\n",
              "    animation:\n",
              "      spin 1s steps(1) infinite;\n",
              "  }\n",
              "\n",
              "  @keyframes spin {\n",
              "    0% {\n",
              "      border-color: transparent;\n",
              "      border-bottom-color: var(--fill-color);\n",
              "      border-left-color: var(--fill-color);\n",
              "    }\n",
              "    20% {\n",
              "      border-color: transparent;\n",
              "      border-left-color: var(--fill-color);\n",
              "      border-top-color: var(--fill-color);\n",
              "    }\n",
              "    30% {\n",
              "      border-color: transparent;\n",
              "      border-left-color: var(--fill-color);\n",
              "      border-top-color: var(--fill-color);\n",
              "      border-right-color: var(--fill-color);\n",
              "    }\n",
              "    40% {\n",
              "      border-color: transparent;\n",
              "      border-right-color: var(--fill-color);\n",
              "      border-top-color: var(--fill-color);\n",
              "    }\n",
              "    60% {\n",
              "      border-color: transparent;\n",
              "      border-right-color: var(--fill-color);\n",
              "    }\n",
              "    80% {\n",
              "      border-color: transparent;\n",
              "      border-right-color: var(--fill-color);\n",
              "      border-bottom-color: var(--fill-color);\n",
              "    }\n",
              "    90% {\n",
              "      border-color: transparent;\n",
              "      border-bottom-color: var(--fill-color);\n",
              "    }\n",
              "  }\n",
              "</style>\n",
              "\n",
              "  <script>\n",
              "    async function quickchart(key) {\n",
              "      const quickchartButtonEl =\n",
              "        document.querySelector('#' + key + ' button');\n",
              "      quickchartButtonEl.disabled = true;  // To prevent multiple clicks.\n",
              "      quickchartButtonEl.classList.add('colab-df-spinner');\n",
              "      try {\n",
              "        const charts = await google.colab.kernel.invokeFunction(\n",
              "            'suggestCharts', [key], {});\n",
              "      } catch (error) {\n",
              "        console.error('Error during call to suggestCharts:', error);\n",
              "      }\n",
              "      quickchartButtonEl.classList.remove('colab-df-spinner');\n",
              "      quickchartButtonEl.classList.add('colab-df-quickchart-complete');\n",
              "    }\n",
              "    (() => {\n",
              "      let quickchartButtonEl =\n",
              "        document.querySelector('#df-03e12f8e-7177-4a41-9f1b-9a664798e96e button');\n",
              "      quickchartButtonEl.style.display =\n",
              "        google.colab.kernel.accessAllowed ? 'block' : 'none';\n",
              "    })();\n",
              "  </script>\n",
              "</div>\n",
              "    </div>\n",
              "  </div>\n"
            ]
          },
          "metadata": {},
          "execution_count": 131
        }
      ]
    },
    {
      "cell_type": "code",
      "source": [
        "# Check the false positives (model predicted '1' when should've been '0')\n",
        "for row in most_wrong[:10].itertuples():\n",
        "  _, text, target, pred, pred_prob = row\n",
        "  print(f\"Target: {target}, Pred: {pred}, Prob: {pred_prob}\")\n",
        "  print(f\"Text: \\n {text} \\n\")\n",
        "  print(\"----\\n\")"
      ],
      "metadata": {
        "colab": {
          "base_uri": "https://localhost:8080/"
        },
        "id": "sRE4b6b5-a1N",
        "outputId": "0153c723-f204-4033-b9d7-6982b9188f2e"
      },
      "execution_count": 132,
      "outputs": [
        {
          "output_type": "stream",
          "name": "stdout",
          "text": [
            "Target: 0, Pred: 1.0, Prob: 0.9101957678794861\n",
            "Text: \n",
            " ? High Skies - Burning Buildings ? http://t.co/uVq41i3Kx2 #nowplaying \n",
            "\n",
            "----\n",
            "\n",
            "Target: 0, Pred: 1.0, Prob: 0.8769821524620056\n",
            "Text: \n",
            " FedEx will no longer transport bioterror pathogens in wake of anthrax lab mishaps http://t.co/lHpgxc4b8J \n",
            "\n",
            "----\n",
            "\n",
            "Target: 0, Pred: 1.0, Prob: 0.8523001074790955\n",
            "Text: \n",
            " @noah_anyname That's where the concentration camps and mass murder come in. \n",
            " \n",
            "EVERY. FUCKING. TIME. \n",
            "\n",
            "----\n",
            "\n",
            "Target: 0, Pred: 1.0, Prob: 0.8354544639587402\n",
            "Text: \n",
            " Ashes 2015: AustraliaÛªs collapse at Trent Bridge among worst in history: England bundled out Australia for 60 ... http://t.co/t5TrhjUAU0 \n",
            "\n",
            "----\n",
            "\n",
            "Target: 0, Pred: 1.0, Prob: 0.8272132277488708\n",
            "Text: \n",
            " @AshGhebranious civil rights continued in the 60s. And what about trans-generational trauma? if anything we should listen to the Americans. \n",
            "\n",
            "----\n",
            "\n",
            "Target: 0, Pred: 1.0, Prob: 0.814815878868103\n",
            "Text: \n",
            " @SonofLiberty357 all illuminated by the brightly burning buildings all around the town! \n",
            "\n",
            "----\n",
            "\n",
            "Target: 0, Pred: 1.0, Prob: 0.8108396530151367\n",
            "Text: \n",
            " [55436] 1950 LIONEL TRAINS SMOKE LOCOMOTIVES WITH MAGNE-TRACTION INSTRUCTIONS http://t.co/xEZBs3sq0y http://t.co/C2x0QoKGlY \n",
            "\n",
            "----\n",
            "\n",
            "Target: 0, Pred: 1.0, Prob: 0.8031218647956848\n",
            "Text: \n",
            " @madonnamking RSPCA site multiple 7 story high rise buildings next to low density character residential in an area that floods \n",
            "\n",
            "----\n",
            "\n",
            "Target: 0, Pred: 1.0, Prob: 0.7669008374214172\n",
            "Text: \n",
            " @freefromwolves GodsLove &amp; #thankU brother Danny for RT of NEW VIDEO http://t.co/cybKsXHF7d The Coming Apocalyptic US Earthquake &amp; Tsunami \n",
            "\n",
            "----\n",
            "\n",
            "Target: 0, Pred: 1.0, Prob: 0.7666252255439758\n",
            "Text: \n",
            " Air Group is here to the rescue! We have 24/7 Emergency Service! Learn more about it here - http://t.co/9lyx7zMtHE http://t.co/5PbC96rTMJ \n",
            "\n",
            "----\n",
            "\n"
          ]
        }
      ]
    },
    {
      "cell_type": "code",
      "source": [
        "# Check the false negatives (model predicted '0' when should've been '1')\n",
        "for row in most_wrong[-10:].itertuples():\n",
        "  _, text, target, pred, pred_prob = row\n",
        "  print(f\"Target: {target}, Pred: {pred}, Prob: {pred_prob}\")\n",
        "  print(f\"Text: \\n {text} \\n\")\n",
        "  print(\"----\\n\")"
      ],
      "metadata": {
        "id": "b1evnkQub4Y_"
      },
      "execution_count": 131,
      "outputs": []
    },
    {
      "cell_type": "code",
      "source": [
        "test_df"
      ],
      "metadata": {
        "colab": {
          "base_uri": "https://localhost:8080/",
          "height": 423
        },
        "id": "rzgjoHaa_dE2",
        "outputId": "8653bff4-acc1-465a-9688-c846e64ba270"
      },
      "execution_count": 133,
      "outputs": [
        {
          "output_type": "execute_result",
          "data": {
            "text/plain": [
              "         id keyword location  \\\n",
              "0         0     NaN      NaN   \n",
              "1         2     NaN      NaN   \n",
              "2         3     NaN      NaN   \n",
              "3         9     NaN      NaN   \n",
              "4        11     NaN      NaN   \n",
              "...     ...     ...      ...   \n",
              "3258  10861     NaN      NaN   \n",
              "3259  10865     NaN      NaN   \n",
              "3260  10868     NaN      NaN   \n",
              "3261  10874     NaN      NaN   \n",
              "3262  10875     NaN      NaN   \n",
              "\n",
              "                                                   text  \n",
              "0                    Just happened a terrible car crash  \n",
              "1     Heard about #earthquake is different cities, s...  \n",
              "2     there is a forest fire at spot pond, geese are...  \n",
              "3              Apocalypse lighting. #Spokane #wildfires  \n",
              "4         Typhoon Soudelor kills 28 in China and Taiwan  \n",
              "...                                                 ...  \n",
              "3258  EARTHQUAKE SAFETY LOS ANGELES ÛÒ SAFETY FASTE...  \n",
              "3259  Storm in RI worse than last hurricane. My city...  \n",
              "3260  Green Line derailment in Chicago http://t.co/U...  \n",
              "3261  MEG issues Hazardous Weather Outlook (HWO) htt...  \n",
              "3262  #CityofCalgary has activated its Municipal Eme...  \n",
              "\n",
              "[3263 rows x 4 columns]"
            ],
            "text/html": [
              "\n",
              "  <div id=\"df-9e9ec596-db77-4263-aad3-8c708915d0fc\" class=\"colab-df-container\">\n",
              "    <div>\n",
              "<style scoped>\n",
              "    .dataframe tbody tr th:only-of-type {\n",
              "        vertical-align: middle;\n",
              "    }\n",
              "\n",
              "    .dataframe tbody tr th {\n",
              "        vertical-align: top;\n",
              "    }\n",
              "\n",
              "    .dataframe thead th {\n",
              "        text-align: right;\n",
              "    }\n",
              "</style>\n",
              "<table border=\"1\" class=\"dataframe\">\n",
              "  <thead>\n",
              "    <tr style=\"text-align: right;\">\n",
              "      <th></th>\n",
              "      <th>id</th>\n",
              "      <th>keyword</th>\n",
              "      <th>location</th>\n",
              "      <th>text</th>\n",
              "    </tr>\n",
              "  </thead>\n",
              "  <tbody>\n",
              "    <tr>\n",
              "      <th>0</th>\n",
              "      <td>0</td>\n",
              "      <td>NaN</td>\n",
              "      <td>NaN</td>\n",
              "      <td>Just happened a terrible car crash</td>\n",
              "    </tr>\n",
              "    <tr>\n",
              "      <th>1</th>\n",
              "      <td>2</td>\n",
              "      <td>NaN</td>\n",
              "      <td>NaN</td>\n",
              "      <td>Heard about #earthquake is different cities, s...</td>\n",
              "    </tr>\n",
              "    <tr>\n",
              "      <th>2</th>\n",
              "      <td>3</td>\n",
              "      <td>NaN</td>\n",
              "      <td>NaN</td>\n",
              "      <td>there is a forest fire at spot pond, geese are...</td>\n",
              "    </tr>\n",
              "    <tr>\n",
              "      <th>3</th>\n",
              "      <td>9</td>\n",
              "      <td>NaN</td>\n",
              "      <td>NaN</td>\n",
              "      <td>Apocalypse lighting. #Spokane #wildfires</td>\n",
              "    </tr>\n",
              "    <tr>\n",
              "      <th>4</th>\n",
              "      <td>11</td>\n",
              "      <td>NaN</td>\n",
              "      <td>NaN</td>\n",
              "      <td>Typhoon Soudelor kills 28 in China and Taiwan</td>\n",
              "    </tr>\n",
              "    <tr>\n",
              "      <th>...</th>\n",
              "      <td>...</td>\n",
              "      <td>...</td>\n",
              "      <td>...</td>\n",
              "      <td>...</td>\n",
              "    </tr>\n",
              "    <tr>\n",
              "      <th>3258</th>\n",
              "      <td>10861</td>\n",
              "      <td>NaN</td>\n",
              "      <td>NaN</td>\n",
              "      <td>EARTHQUAKE SAFETY LOS ANGELES ÛÒ SAFETY FASTE...</td>\n",
              "    </tr>\n",
              "    <tr>\n",
              "      <th>3259</th>\n",
              "      <td>10865</td>\n",
              "      <td>NaN</td>\n",
              "      <td>NaN</td>\n",
              "      <td>Storm in RI worse than last hurricane. My city...</td>\n",
              "    </tr>\n",
              "    <tr>\n",
              "      <th>3260</th>\n",
              "      <td>10868</td>\n",
              "      <td>NaN</td>\n",
              "      <td>NaN</td>\n",
              "      <td>Green Line derailment in Chicago http://t.co/U...</td>\n",
              "    </tr>\n",
              "    <tr>\n",
              "      <th>3261</th>\n",
              "      <td>10874</td>\n",
              "      <td>NaN</td>\n",
              "      <td>NaN</td>\n",
              "      <td>MEG issues Hazardous Weather Outlook (HWO) htt...</td>\n",
              "    </tr>\n",
              "    <tr>\n",
              "      <th>3262</th>\n",
              "      <td>10875</td>\n",
              "      <td>NaN</td>\n",
              "      <td>NaN</td>\n",
              "      <td>#CityofCalgary has activated its Municipal Eme...</td>\n",
              "    </tr>\n",
              "  </tbody>\n",
              "</table>\n",
              "<p>3263 rows × 4 columns</p>\n",
              "</div>\n",
              "    <div class=\"colab-df-buttons\">\n",
              "\n",
              "  <div class=\"colab-df-container\">\n",
              "    <button class=\"colab-df-convert\" onclick=\"convertToInteractive('df-9e9ec596-db77-4263-aad3-8c708915d0fc')\"\n",
              "            title=\"Convert this dataframe to an interactive table.\"\n",
              "            style=\"display:none;\">\n",
              "\n",
              "  <svg xmlns=\"http://www.w3.org/2000/svg\" height=\"24px\" viewBox=\"0 -960 960 960\">\n",
              "    <path d=\"M120-120v-720h720v720H120Zm60-500h600v-160H180v160Zm220 220h160v-160H400v160Zm0 220h160v-160H400v160ZM180-400h160v-160H180v160Zm440 0h160v-160H620v160ZM180-180h160v-160H180v160Zm440 0h160v-160H620v160Z\"/>\n",
              "  </svg>\n",
              "    </button>\n",
              "\n",
              "  <style>\n",
              "    .colab-df-container {\n",
              "      display:flex;\n",
              "      gap: 12px;\n",
              "    }\n",
              "\n",
              "    .colab-df-convert {\n",
              "      background-color: #E8F0FE;\n",
              "      border: none;\n",
              "      border-radius: 50%;\n",
              "      cursor: pointer;\n",
              "      display: none;\n",
              "      fill: #1967D2;\n",
              "      height: 32px;\n",
              "      padding: 0 0 0 0;\n",
              "      width: 32px;\n",
              "    }\n",
              "\n",
              "    .colab-df-convert:hover {\n",
              "      background-color: #E2EBFA;\n",
              "      box-shadow: 0px 1px 2px rgba(60, 64, 67, 0.3), 0px 1px 3px 1px rgba(60, 64, 67, 0.15);\n",
              "      fill: #174EA6;\n",
              "    }\n",
              "\n",
              "    .colab-df-buttons div {\n",
              "      margin-bottom: 4px;\n",
              "    }\n",
              "\n",
              "    [theme=dark] .colab-df-convert {\n",
              "      background-color: #3B4455;\n",
              "      fill: #D2E3FC;\n",
              "    }\n",
              "\n",
              "    [theme=dark] .colab-df-convert:hover {\n",
              "      background-color: #434B5C;\n",
              "      box-shadow: 0px 1px 3px 1px rgba(0, 0, 0, 0.15);\n",
              "      filter: drop-shadow(0px 1px 2px rgba(0, 0, 0, 0.3));\n",
              "      fill: #FFFFFF;\n",
              "    }\n",
              "  </style>\n",
              "\n",
              "    <script>\n",
              "      const buttonEl =\n",
              "        document.querySelector('#df-9e9ec596-db77-4263-aad3-8c708915d0fc button.colab-df-convert');\n",
              "      buttonEl.style.display =\n",
              "        google.colab.kernel.accessAllowed ? 'block' : 'none';\n",
              "\n",
              "      async function convertToInteractive(key) {\n",
              "        const element = document.querySelector('#df-9e9ec596-db77-4263-aad3-8c708915d0fc');\n",
              "        const dataTable =\n",
              "          await google.colab.kernel.invokeFunction('convertToInteractive',\n",
              "                                                    [key], {});\n",
              "        if (!dataTable) return;\n",
              "\n",
              "        const docLinkHtml = 'Like what you see? Visit the ' +\n",
              "          '<a target=\"_blank\" href=https://colab.research.google.com/notebooks/data_table.ipynb>data table notebook</a>'\n",
              "          + ' to learn more about interactive tables.';\n",
              "        element.innerHTML = '';\n",
              "        dataTable['output_type'] = 'display_data';\n",
              "        await google.colab.output.renderOutput(dataTable, element);\n",
              "        const docLink = document.createElement('div');\n",
              "        docLink.innerHTML = docLinkHtml;\n",
              "        element.appendChild(docLink);\n",
              "      }\n",
              "    </script>\n",
              "  </div>\n",
              "\n",
              "\n",
              "<div id=\"df-66555dc2-f764-4111-a318-3d80225eb199\">\n",
              "  <button class=\"colab-df-quickchart\" onclick=\"quickchart('df-66555dc2-f764-4111-a318-3d80225eb199')\"\n",
              "            title=\"Suggest charts\"\n",
              "            style=\"display:none;\">\n",
              "\n",
              "<svg xmlns=\"http://www.w3.org/2000/svg\" height=\"24px\"viewBox=\"0 0 24 24\"\n",
              "     width=\"24px\">\n",
              "    <g>\n",
              "        <path d=\"M19 3H5c-1.1 0-2 .9-2 2v14c0 1.1.9 2 2 2h14c1.1 0 2-.9 2-2V5c0-1.1-.9-2-2-2zM9 17H7v-7h2v7zm4 0h-2V7h2v10zm4 0h-2v-4h2v4z\"/>\n",
              "    </g>\n",
              "</svg>\n",
              "  </button>\n",
              "\n",
              "<style>\n",
              "  .colab-df-quickchart {\n",
              "      --bg-color: #E8F0FE;\n",
              "      --fill-color: #1967D2;\n",
              "      --hover-bg-color: #E2EBFA;\n",
              "      --hover-fill-color: #174EA6;\n",
              "      --disabled-fill-color: #AAA;\n",
              "      --disabled-bg-color: #DDD;\n",
              "  }\n",
              "\n",
              "  [theme=dark] .colab-df-quickchart {\n",
              "      --bg-color: #3B4455;\n",
              "      --fill-color: #D2E3FC;\n",
              "      --hover-bg-color: #434B5C;\n",
              "      --hover-fill-color: #FFFFFF;\n",
              "      --disabled-bg-color: #3B4455;\n",
              "      --disabled-fill-color: #666;\n",
              "  }\n",
              "\n",
              "  .colab-df-quickchart {\n",
              "    background-color: var(--bg-color);\n",
              "    border: none;\n",
              "    border-radius: 50%;\n",
              "    cursor: pointer;\n",
              "    display: none;\n",
              "    fill: var(--fill-color);\n",
              "    height: 32px;\n",
              "    padding: 0;\n",
              "    width: 32px;\n",
              "  }\n",
              "\n",
              "  .colab-df-quickchart:hover {\n",
              "    background-color: var(--hover-bg-color);\n",
              "    box-shadow: 0 1px 2px rgba(60, 64, 67, 0.3), 0 1px 3px 1px rgba(60, 64, 67, 0.15);\n",
              "    fill: var(--button-hover-fill-color);\n",
              "  }\n",
              "\n",
              "  .colab-df-quickchart-complete:disabled,\n",
              "  .colab-df-quickchart-complete:disabled:hover {\n",
              "    background-color: var(--disabled-bg-color);\n",
              "    fill: var(--disabled-fill-color);\n",
              "    box-shadow: none;\n",
              "  }\n",
              "\n",
              "  .colab-df-spinner {\n",
              "    border: 2px solid var(--fill-color);\n",
              "    border-color: transparent;\n",
              "    border-bottom-color: var(--fill-color);\n",
              "    animation:\n",
              "      spin 1s steps(1) infinite;\n",
              "  }\n",
              "\n",
              "  @keyframes spin {\n",
              "    0% {\n",
              "      border-color: transparent;\n",
              "      border-bottom-color: var(--fill-color);\n",
              "      border-left-color: var(--fill-color);\n",
              "    }\n",
              "    20% {\n",
              "      border-color: transparent;\n",
              "      border-left-color: var(--fill-color);\n",
              "      border-top-color: var(--fill-color);\n",
              "    }\n",
              "    30% {\n",
              "      border-color: transparent;\n",
              "      border-left-color: var(--fill-color);\n",
              "      border-top-color: var(--fill-color);\n",
              "      border-right-color: var(--fill-color);\n",
              "    }\n",
              "    40% {\n",
              "      border-color: transparent;\n",
              "      border-right-color: var(--fill-color);\n",
              "      border-top-color: var(--fill-color);\n",
              "    }\n",
              "    60% {\n",
              "      border-color: transparent;\n",
              "      border-right-color: var(--fill-color);\n",
              "    }\n",
              "    80% {\n",
              "      border-color: transparent;\n",
              "      border-right-color: var(--fill-color);\n",
              "      border-bottom-color: var(--fill-color);\n",
              "    }\n",
              "    90% {\n",
              "      border-color: transparent;\n",
              "      border-bottom-color: var(--fill-color);\n",
              "    }\n",
              "  }\n",
              "</style>\n",
              "\n",
              "  <script>\n",
              "    async function quickchart(key) {\n",
              "      const quickchartButtonEl =\n",
              "        document.querySelector('#' + key + ' button');\n",
              "      quickchartButtonEl.disabled = true;  // To prevent multiple clicks.\n",
              "      quickchartButtonEl.classList.add('colab-df-spinner');\n",
              "      try {\n",
              "        const charts = await google.colab.kernel.invokeFunction(\n",
              "            'suggestCharts', [key], {});\n",
              "      } catch (error) {\n",
              "        console.error('Error during call to suggestCharts:', error);\n",
              "      }\n",
              "      quickchartButtonEl.classList.remove('colab-df-spinner');\n",
              "      quickchartButtonEl.classList.add('colab-df-quickchart-complete');\n",
              "    }\n",
              "    (() => {\n",
              "      let quickchartButtonEl =\n",
              "        document.querySelector('#df-66555dc2-f764-4111-a318-3d80225eb199 button');\n",
              "      quickchartButtonEl.style.display =\n",
              "        google.colab.kernel.accessAllowed ? 'block' : 'none';\n",
              "    })();\n",
              "  </script>\n",
              "</div>\n",
              "    </div>\n",
              "  </div>\n"
            ]
          },
          "metadata": {},
          "execution_count": 133
        }
      ]
    },
    {
      "cell_type": "markdown",
      "source": [
        "## Making Predictions on the test dataset"
      ],
      "metadata": {
        "id": "b10YkABnAS0e"
      }
    },
    {
      "cell_type": "code",
      "source": [
        "# Making predictions on the test dataset and visualising them\n",
        "test_sentences = test_df[\"text\"].to_list()\n",
        "test_samples = random.sample(test_sentences, 10)\n",
        "for test_samples in test_samples:\n",
        "  pred_prob = tf.squeeze(model_6_pretrained.predict([test_samples])) # our model expects a list as input\n",
        "  pred = tf.round(pred_prob)\n",
        "  print(f\"Pred: {int(pred)}, Prob: {pred_prob}\")\n",
        "  print(f\"Text: \\n {test_samples} \\n\")\n",
        "  print(\"-----\\n\")"
      ],
      "metadata": {
        "colab": {
          "base_uri": "https://localhost:8080/"
        },
        "id": "j5TAFUFvADaj",
        "outputId": "5c30debf-eb50-493f-adc9-e186dfae49a2"
      },
      "execution_count": 137,
      "outputs": [
        {
          "output_type": "stream",
          "name": "stdout",
          "text": [
            "1/1 [==============================] - 0s 70ms/step\n",
            "Pred: 1, Prob: 0.9855485558509827\n",
            "Text: \n",
            " Three Israeli soldiers wounded in West Bank terrorist attack - Haaretz http://t.co/Mwd1iPMoWT #world \n",
            "\n",
            "-----\n",
            "\n",
            "1/1 [==============================] - 0s 60ms/step\n",
            "Pred: 0, Prob: 0.12515640258789062\n",
            "Text: \n",
            " Eric is 18 trapped in a 48 year olds buddy \n",
            "\n",
            "-----\n",
            "\n",
            "1/1 [==============================] - 0s 65ms/step\n",
            "Pred: 1, Prob: 0.8119937181472778\n",
            "Text: \n",
            " Southeast Regional is in a lightning delay. Buckle up folks this is gonna take awhile. \n",
            "\n",
            "-----\n",
            "\n",
            "1/1 [==============================] - 0s 86ms/step\n",
            "Pred: 0, Prob: 0.19342252612113953\n",
            "Text: \n",
            " since  it    is  a righteous thing with God to repay with tribulation those who trouble you https://t.co/YLTKaWHf9o \n",
            "\n",
            "-----\n",
            "\n",
            "1/1 [==============================] - 0s 67ms/step\n",
            "Pred: 0, Prob: 0.45556923747062683\n",
            "Text: \n",
            " iBliz140: Breaking news! Unconfirmed! I just heard a loud bang nearby. in what appears to be a blast of wind from my neighbour's ass. \n",
            "\n",
            "-----\n",
            "\n",
            "1/1 [==============================] - 0s 93ms/step\n",
            "Pred: 0, Prob: 0.0596226267516613\n",
            "Text: \n",
            " @LadyShaxx That is freaking awesome! \n",
            "\n",
            "-----\n",
            "\n",
            "1/1 [==============================] - 0s 117ms/step\n",
            "Pred: 0, Prob: 0.39311909675598145\n",
            "Text: \n",
            " Survived my first #tubestrike thanks to @Citymapper \n",
            "\n",
            "-----\n",
            "\n",
            "1/1 [==============================] - 0s 72ms/step\n",
            "Pred: 1, Prob: 0.612590491771698\n",
            "Text: \n",
            " HitchBot travels Europe and greeted with open arms. Gets destroyed after two weeks in america. There's a lesson to be learned here. \n",
            "\n",
            "-----\n",
            "\n",
            "1/1 [==============================] - 0s 60ms/step\n",
            "Pred: 0, Prob: 0.07590905576944351\n",
            "Text: \n",
            " The Hobbit: The Desolation of Smaug (#dvd 2014 2-Disc Set Digital Copy) http://t.co/000siJjL3t http://t.co/JlUJsHCvoA \n",
            "\n",
            "-----\n",
            "\n",
            "1/1 [==============================] - 0s 62ms/step\n",
            "Pred: 0, Prob: 0.09239912033081055\n",
            "Text: \n",
            " Big 30?? Hanging Out NO CURFEW \n",
            "\n",
            "-----\n",
            "\n"
          ]
        }
      ]
    },
    {
      "cell_type": "markdown",
      "source": [
        "## The Speed / Score tradeoff"
      ],
      "metadata": {
        "id": "QAf6dQ9oF2_-"
      }
    },
    {
      "cell_type": "code",
      "source": [
        "# Let's make a function to measure the time of prediction\n",
        "import time\n",
        "def pred_timer(model, samples):\n",
        "  \"\"\"\n",
        "  Times how long a model takes to make predictions on samples.\n",
        "  \"\"\"\n",
        "\n",
        "  start_time = time.perf_counter() # get start time\n",
        "  model.predict(samples) # make predictions\n",
        "  end_time = time.perf_counter() # get finish time\n",
        "  total_time = end_time-start_time # calculate how long predictions took to make\n",
        "  time_per_pred = total_time / len(samples)\n",
        "  return total_time, time_per_pred"
      ],
      "metadata": {
        "id": "fXkGMTJxAhXq"
      },
      "execution_count": 138,
      "outputs": []
    },
    {
      "cell_type": "code",
      "source": [
        "# Calculate TF Hub Sentence Encoder time per pred\n",
        "model_6_total_pred_time, model_6_time_per_pred = pred_timer(model=model_6_pretrained,\n",
        "                                                            samples=val_sentences)\n",
        "model_6_total_pred_time, model_6_time_per_pred"
      ],
      "metadata": {
        "colab": {
          "base_uri": "https://localhost:8080/"
        },
        "id": "VxcQpNy2DKc3",
        "outputId": "756b167a-ab05-4196-cf9b-1f2fc2602064"
      },
      "execution_count": 139,
      "outputs": [
        {
          "output_type": "stream",
          "name": "stdout",
          "text": [
            "24/24 [==============================] - 0s 19ms/step\n"
          ]
        },
        {
          "output_type": "execute_result",
          "data": {
            "text/plain": [
              "(0.721695408999949, 0.0009471068359579384)"
            ]
          },
          "metadata": {},
          "execution_count": 139
        }
      ]
    },
    {
      "cell_type": "code",
      "source": [
        "# Calculate our baseline model times per pred\n",
        "baseline_total_pred_time, baseline_time_per_pred = pred_timer(model_0, val_sentences)\n",
        "baseline_total_pred_time, baseline_time_per_pred"
      ],
      "metadata": {
        "colab": {
          "base_uri": "https://localhost:8080/"
        },
        "id": "2xPSC0tCDq1e",
        "outputId": "0af93373-58f4-4a2c-f599-57444c88857e"
      },
      "execution_count": 140,
      "outputs": [
        {
          "output_type": "execute_result",
          "data": {
            "text/plain": [
              "(0.0939051080003992, 0.00012323504986929028)"
            ]
          },
          "metadata": {},
          "execution_count": 140
        }
      ]
    },
    {
      "cell_type": "code",
      "source": [
        "# Get results for pretrained GS model\n",
        "model_6_pretrained_results = calculate_results(y_true=val_labels,\n",
        "                                               y_pred=model_6_pretrained_preds)\n",
        "model_6_pretrained_results"
      ],
      "metadata": {
        "colab": {
          "base_uri": "https://localhost:8080/"
        },
        "id": "o2NpO7wzEY8V",
        "outputId": "d885eeea-516d-493a-b126-dd66b4d70497"
      },
      "execution_count": 141,
      "outputs": [
        {
          "output_type": "execute_result",
          "data": {
            "text/plain": [
              "{'accuracy': 81.62729658792651,\n",
              " 'precision': 0.818446310697231,\n",
              " 'recall': 0.8162729658792651,\n",
              " 'f1': 0.8148082644367335}"
            ]
          },
          "metadata": {},
          "execution_count": 141
        }
      ]
    },
    {
      "cell_type": "code",
      "source": [
        "import matplotlib.pyplot as plt\n",
        "\n",
        "plt.figure(figsize=(10,7))\n",
        "plt.scatter(baseline_time_per_pred, baseline_results[\"f1\"], label=\"baseline\")\n",
        "plt.scatter(model_6_time_per_pred, model_6_results[\"f1\"], label=\"tf_hub_sentence_encoder\")\n",
        "plt.legend()\n",
        "plt.title(\"F1-score versus time per prediction\")\n",
        "plt.xlabel(\"Time per prediction\")\n",
        "plt.ylabel(\"F1-score\");"
      ],
      "metadata": {
        "colab": {
          "base_uri": "https://localhost:8080/",
          "height": 641
        },
        "id": "Yxp5R0VlEQ9n",
        "outputId": "0b232089-0ee7-4756-e387-cee56c690c43"
      },
      "execution_count": 143,
      "outputs": [
        {
          "output_type": "display_data",
          "data": {
            "text/plain": [
              "<Figure size 1000x700 with 1 Axes>"
            ],
            "image/png": "[encoded data removed]"
          },
          "metadata": {}
        }
      ]
    },
    {
      "cell_type": "code",
      "source": [],
      "metadata": {
        "id": "3lZx7LrRFcde"
      },
      "execution_count": null,
      "outputs": []
    }
  ],
  "metadata": {
    "accelerator": "GPU",
    "colab": {
      "provenance": []
    },
    "kernelspec": {
      "display_name": "Python 3",
      "name": "python3"
    },
    "language_info": {
      "name": "python"
    }
  },
  "nbformat": 4,
  "nbformat_minor": 0
}